{
 "cells": [
  {
   "cell_type": "code",
   "execution_count": 32,
   "metadata": {},
   "outputs": [],
   "source": [
    "import pandas as pd\n",
    "import pickle\n",
    "import xarray as xr\n",
    "import numpy as np\n",
    "import boto3\n",
    "import geopandas\n",
    "from shapely.geometry import Point\n",
    "import pyarrow"
   ]
  },
  {
   "cell_type": "code",
   "execution_count": 2,
   "metadata": {},
   "outputs": [],
   "source": [
    "burned = xr.open_mfdataset('../../finalproj_data/time_slice/MCD64A1.006_500m_aid0001.nc', combine = 'by_coords')\n",
    "burnt = burned.sel(time = slice('2019-11-01','2019-11-01'))"
   ]
  },
  {
   "cell_type": "code",
   "execution_count": 3,
   "metadata": {},
   "outputs": [],
   "source": [
    "# burnt['crs']\n",
    "# Attributes:\n",
    "#     grid_mapping_name:            latitude_longitude\n",
    "#     _CoordinateAxisTypes:         GeoX GeoY\n",
    "#     epsg_code:                    4326\n",
    "#     horizontal_datum_name:        WGS84\n",
    "#     semi_major_axis:              6378137\n",
    "#     inverse_flattening:           298.257223563\n",
    "#     longitude_of_prime_meridian:  0.0"
   ]
  },
  {
   "cell_type": "code",
   "execution_count": 3,
   "metadata": {},
   "outputs": [],
   "source": [
    "burnt = burnt.drop_vars(['Burn_Date_Uncertainty', 'First_Day', 'Last_Day','crs'])"
   ]
  },
  {
   "cell_type": "code",
   "execution_count": 4,
   "metadata": {},
   "outputs": [],
   "source": [
    "burnt = burnt.squeeze('time')"
   ]
  },
  {
   "cell_type": "code",
   "execution_count": 31,
   "metadata": {},
   "outputs": [
    {
     "data": {
      "text/plain": [
       "4.360416666276038"
      ]
     },
     "execution_count": 31,
     "metadata": {},
     "output_type": "execute_result"
    }
   ],
   "source": [
    "burnt['lat'].values[0]"
   ]
  },
  {
   "cell_type": "code",
   "execution_count": 5,
   "metadata": {},
   "outputs": [
    {
     "data": {
      "text/plain": [
       "(12623, 12623)"
      ]
     },
     "execution_count": 5,
     "metadata": {},
     "output_type": "execute_result"
    }
   ],
   "source": [
    "len(burnt['Burn_Date']), len(burnt['QA'])"
   ]
  },
  {
   "cell_type": "code",
   "execution_count": 7,
   "metadata": {},
   "outputs": [],
   "source": [
    "# burnt = burnt.to_dataframe()\n",
    "# burnt.reset_index(inplace = True)"
   ]
  },
  {
   "cell_type": "code",
   "execution_count": 8,
   "metadata": {},
   "outputs": [],
   "source": [
    "# burnt.drop('time', axis = 1, inplace = True)"
   ]
  },
  {
   "cell_type": "code",
   "execution_count": 7,
   "metadata": {},
   "outputs": [],
   "source": [
    "# burnt"
   ]
  },
  {
   "cell_type": "code",
   "execution_count": 19,
   "metadata": {},
   "outputs": [],
   "source": [
    "# burnt.to_parquet('../../finalproj_data/parquet/burnt.parquet')"
   ]
  },
  {
   "cell_type": "code",
   "execution_count": null,
   "metadata": {},
   "outputs": [],
   "source": [
    "# Compare lat/lon of burnt to lat/lon of ONE"
   ]
  },
  {
   "cell_type": "code",
   "execution_count": 15,
   "metadata": {},
   "outputs": [
    {
     "name": "stdout",
     "output_type": "stream",
     "text": [
      "-48.23124999567919 -48.23124999567919\n"
     ]
    }
   ],
   "source": [
    "print(burnt['lat'].max(), ONE['lat'].max())"
   ]
  },
  {
   "cell_type": "markdown",
   "metadata": {},
   "source": [
    "Unique values:\n",
    "    array([  0.,  nan,  -2., 305., 307., 322., 327., 320., 323., 326., 328.,\n",
    "       324., 321., 319., 329., 313., 316., 306., 308., 309., 317., 312.,\n",
    "       311., 333., 334., 332., 331., 310., 325., 318., 314., 315., 330.] <br>\n",
    "14.6% of 210,892,461 data points are null values. <br>\n",
    "0 is unburned, -2 is water, other values are days"
   ]
  },
  {
   "cell_type": "markdown",
   "metadata": {},
   "source": [
    "### Save as Parquet: other data"
   ]
  },
  {
   "cell_type": "code",
   "execution_count": 14,
   "metadata": {},
   "outputs": [],
   "source": [
    "ONE = xr.open_mfdataset('../../finalproj_data/time_slice/MOD16A2.006_500m_aid0001.nc', combine='by_coords') \n",
    "# (lat: 12623, lon: 16707, time: 1)\n",
    "# 1.687374337 GB\n",
    "\n",
    "TWO = xr.open_mfdataset('../../finalproj_data/time_slice/VNP13A2.001_1km_aid0001.nc', combine = 'by_coords') #  (lat: 6312, lon: 8354, time: 1)\n",
    "# Slice by time dimension so that this dataset is 1 dimension in time. \n",
    "TWO = TWO.sel(time = slice('2019-12-11', '2019-12-11'))\n",
    "#2.953022425\n",
    "\n",
    "THREE = xr.open_mfdataset('../../finalproj_data/time_slice/VNP14A1.001_1km_aid0001.nc', combine = 'by_coords') # (lat: 6312, lon: 8354, time: 1)\n",
    "#1.054726297 GB"
   ]
  },
  {
   "cell_type": "code",
   "execution_count": 33,
   "metadata": {},
   "outputs": [],
   "source": [
    "# GFWD - FWI --> Dataset labels to identify \"high risk of fire\" based on FWI calculations.\n",
    "# Convension to label DataSet in caps and DataArray in lowercase\n",
    "\n",
    "#Use xarray to open .nc file, combining by coordinates. \n",
    "FWI = xr.open_mfdataset(\"../../finalproj_data/satellitedata/GFWD/FWI.GEOS-5.Monthly.Default.201912.nc\", combine = 'by_coords')"
   ]
  },
  {
   "cell_type": "markdown",
   "metadata": {},
   "source": [
    "### Clean this Data"
   ]
  },
  {
   "cell_type": "code",
   "execution_count": 16,
   "metadata": {},
   "outputs": [],
   "source": [
    "# <xarray.DataArray 'crs' ()>\n",
    "# array(-127, dtype=int8)\n",
    "# Coordinates:\n",
    "#     time     object 2019-12-11 00:00:00\n",
    "# Attributes:\n",
    "#     grid_mapping_name:            latitude_longitude\n",
    "#     _CoordinateAxisTypes:         GeoX GeoY\n",
    "#     epsg_code:                    4326\n",
    "#     horizontal_datum_name:        WGS84\n",
    "#     semi_major_axis:              6378137\n",
    "#     inverse_flattening:           298.257223563\n",
    "#     longitude_of_prime_meridian:  0.0\n",
    "ONE = ONE.drop_vars(['crs'])\n",
    "ONE = ONE.squeeze('time')"
   ]
  },
  {
   "cell_type": "code",
   "execution_count": 19,
   "metadata": {},
   "outputs": [
    {
     "data": {
      "text/plain": [
       "(12623, 12623)"
      ]
     },
     "execution_count": 19,
     "metadata": {},
     "output_type": "execute_result"
    }
   ],
   "source": [
    "len(ONE['ET_500m']), len(ONE['ET_QC_500m'])"
   ]
  },
  {
   "cell_type": "code",
   "execution_count": null,
   "metadata": {},
   "outputs": [],
   "source": [
    "ONE = ONE.to_dataframe()\n",
    "ONE.reset_index(inplace = True)"
   ]
  },
  {
   "cell_type": "code",
   "execution_count": null,
   "metadata": {},
   "outputs": [],
   "source": [
    "ONE.drop('time', axis = 1, inplace = True)"
   ]
  },
  {
   "cell_type": "code",
   "execution_count": 25,
   "metadata": {},
   "outputs": [],
   "source": [
    "# ONE.to_parquet('../../finalproj_data/parquet/modis.parquet')"
   ]
  },
  {
   "cell_type": "code",
   "execution_count": 26,
   "metadata": {},
   "outputs": [],
   "source": [
    "# TWO\n",
    "# <xarray.DataArray 'crs' ()>\n",
    "# array(-127, dtype=int8)\n",
    "# Attributes:\n",
    "#     grid_mapping_name:            latitude_longitude\n",
    "#     _CoordinateAxisTypes:         GeoX GeoY\n",
    "#     epsg_code:                    4326\n",
    "#     horizontal_datum_name:        WGS84\n",
    "#     semi_major_axis:              6378137\n",
    "#     inverse_flattening:           298.257223563\n",
    "#     longitude_of_prime_meridian:  0.0"
   ]
  },
  {
   "cell_type": "code",
   "execution_count": 20,
   "metadata": {},
   "outputs": [],
   "source": [
    "TWO = TWO.drop_vars(['crs'])\n",
    "TWO = TWO.squeeze('time')"
   ]
  },
  {
   "cell_type": "code",
   "execution_count": 25,
   "metadata": {},
   "outputs": [
    {
     "data": {
      "text/plain": [
       "6312"
      ]
     },
     "execution_count": 25,
     "metadata": {},
     "output_type": "execute_result"
    }
   ],
   "source": [
    "len(TWO['_1_km_16_days_EVI'])"
   ]
  },
  {
   "cell_type": "code",
   "execution_count": 28,
   "metadata": {},
   "outputs": [],
   "source": [
    "# TWO = TWO.to_dataframe()\n",
    "# TWO.reset_index(inplace = True)"
   ]
  },
  {
   "cell_type": "code",
   "execution_count": 29,
   "metadata": {},
   "outputs": [],
   "source": [
    "TWO.drop('time', axis = 1, inplace = True)"
   ]
  },
  {
   "cell_type": "code",
   "execution_count": 30,
   "metadata": {},
   "outputs": [],
   "source": [
    "TWO.to_parquet('../../finalproj_data/parquet/vnp13.parquet')"
   ]
  },
  {
   "cell_type": "code",
   "execution_count": 31,
   "metadata": {},
   "outputs": [],
   "source": [
    "# THREE\n",
    "# <xarray.DataArray 'crs' ()>\n",
    "# array(-127, dtype=int8)\n",
    "# Attributes:\n",
    "#     grid_mapping_name:            latitude_longitude\n",
    "#     _CoordinateAxisTypes:         GeoX GeoY\n",
    "#     epsg_code:                    4326\n",
    "#     horizontal_datum_name:        WGS84\n",
    "#     semi_major_axis:              6378137\n",
    "#     inverse_flattening:           298.257223563\n",
    "#     longitude_of_prime_meridian:  0.0"
   ]
  },
  {
   "cell_type": "code",
   "execution_count": 32,
   "metadata": {},
   "outputs": [],
   "source": [
    "THREE = THREE.drop_vars(['crs'])\n",
    "THREE = THREE.squeeze('time')"
   ]
  },
  {
   "cell_type": "code",
   "execution_count": 33,
   "metadata": {},
   "outputs": [],
   "source": [
    "THREE = THREE.to_dataframe()\n",
    "THREE.reset_index(inplace = True)"
   ]
  },
  {
   "cell_type": "code",
   "execution_count": 34,
   "metadata": {},
   "outputs": [],
   "source": [
    "THREE.drop('time', axis = 1, inplace = True)\n",
    "THREE.drop('sample', axis = 1, inplace = True)"
   ]
  },
  {
   "cell_type": "code",
   "execution_count": 35,
   "metadata": {},
   "outputs": [],
   "source": [
    "THREE.to_parquet('../../finalproj_data/parquet/vnp14.parquet')"
   ]
  },
  {
   "cell_type": "code",
   "execution_count": 35,
   "metadata": {},
   "outputs": [],
   "source": [
    "FWI = FWI.squeeze('time')"
   ]
  },
  {
   "cell_type": "code",
   "execution_count": 36,
   "metadata": {},
   "outputs": [
    {
     "name": "stderr",
     "output_type": "stream",
     "text": [
      "C:\\Users\\allis\\Anaconda3\\envs\\merging\\lib\\site-packages\\xarray\\coding\\variables.py:141: FutureWarning: elementwise comparison failed; returning scalar instead, but in the future will perform elementwise comparison\n",
      "  condition |= data == fv\n",
      "C:\\Users\\allis\\Anaconda3\\envs\\merging\\lib\\site-packages\\xarray\\coding\\variables.py:141: FutureWarning: elementwise comparison failed; returning scalar instead, but in the future will perform elementwise comparison\n",
      "  condition |= data == fv\n",
      "C:\\Users\\allis\\Anaconda3\\envs\\merging\\lib\\site-packages\\xarray\\coding\\variables.py:141: FutureWarning: elementwise comparison failed; returning scalar instead, but in the future will perform elementwise comparison\n",
      "  condition |= data == fv\n",
      "C:\\Users\\allis\\Anaconda3\\envs\\merging\\lib\\site-packages\\xarray\\coding\\variables.py:141: FutureWarning: elementwise comparison failed; returning scalar instead, but in the future will perform elementwise comparison\n",
      "  condition |= data == fv\n",
      "C:\\Users\\allis\\Anaconda3\\envs\\merging\\lib\\site-packages\\xarray\\coding\\variables.py:141: FutureWarning: elementwise comparison failed; returning scalar instead, but in the future will perform elementwise comparison\n",
      "  condition |= data == fv\n",
      "C:\\Users\\allis\\Anaconda3\\envs\\merging\\lib\\site-packages\\xarray\\coding\\variables.py:141: FutureWarning: elementwise comparison failed; returning scalar instead, but in the future will perform elementwise comparison\n",
      "  condition |= data == fv\n",
      "C:\\Users\\allis\\Anaconda3\\envs\\merging\\lib\\site-packages\\xarray\\coding\\variables.py:141: FutureWarning: elementwise comparison failed; returning scalar instead, but in the future will perform elementwise comparison\n",
      "  condition |= data == fv\n"
     ]
    }
   ],
   "source": [
    "FWI = FWI.to_dataframe()\n",
    "FWI.reset_index(inplace = True)"
   ]
  },
  {
   "cell_type": "code",
   "execution_count": 40,
   "metadata": {},
   "outputs": [],
   "source": [
    "FWI.drop('time', axis = 1, inplace = True)"
   ]
  },
  {
   "cell_type": "code",
   "execution_count": 42,
   "metadata": {},
   "outputs": [],
   "source": [
    "FWI.to_parquet('../../finalproj_data/parquet/fwi.parquet')"
   ]
  },
  {
   "cell_type": "code",
   "execution_count": null,
   "metadata": {},
   "outputs": [],
   "source": []
  },
  {
   "cell_type": "code",
   "execution_count": null,
   "metadata": {},
   "outputs": [],
   "source": [
    "# Check on a plot to see what it looks like\n",
    "\n",
    "world = geopandas.read_file(geopandas.datasets.get_path('naturalearth_lowres'))\n",
    "\n",
    "# We restrict to Australia\n",
    "ax = world[world.continent == 'Australia'].plot(\n",
    "    color='white', edgecolor='black')\n",
    "\n",
    "# We can now plot our ``GeoDataFrame``.\n",
    "gdf.plot(ax=ax, color='red')\n",
    "\n",
    "plt.show()"
   ]
  }
 ],
 "metadata": {
  "kernelspec": {
   "display_name": "Python (geospatial)",
   "language": "python",
   "name": "merging"
  },
  "language_info": {
   "codemirror_mode": {
    "name": "ipython",
    "version": 3
   },
   "file_extension": ".py",
   "mimetype": "text/x-python",
   "name": "python",
   "nbconvert_exporter": "python",
   "pygments_lexer": "ipython3",
   "version": "3.7.5"
  }
 },
 "nbformat": 4,
 "nbformat_minor": 4
}
