{
 "cells": [
  {
   "cell_type": "code",
   "execution_count": 1,
   "metadata": {},
   "outputs": [],
   "source": [
    "import pandas as pd\n",
    "import xarray as xr\n",
    "import numpy as np\n",
    "import scipy.interpolate\n",
    "from netCDF4 import Dataset\n",
    "import bottleneck\n",
    "import pyarrow\n",
    "import scipy.ndimage as ndimage\n",
    "import geopandas\n",
    "\n",
    "import matplotlib.pyplot as plt"
   ]
  },
  {
   "cell_type": "markdown",
   "metadata": {},
   "source": [
    "# Reading in the Data"
   ]
  },
  {
   "cell_type": "code",
   "execution_count": 2,
   "metadata": {},
   "outputs": [],
   "source": [
    "# Import Merged Data from Notebook in Cloud\n",
    "data = pd.read_parquet('../../finalproj_data/ds_df.parquet', engine = 'pyarrow')"
   ]
  },
  {
   "cell_type": "code",
   "execution_count": 3,
   "metadata": {},
   "outputs": [
    {
     "data": {
      "text/plain": [
       "(1034376, 50)"
      ]
     },
     "execution_count": 3,
     "metadata": {},
     "output_type": "execute_result"
    }
   ],
   "source": [
    "data.shape"
   ]
  },
  {
   "cell_type": "code",
   "execution_count": 4,
   "metadata": {},
   "outputs": [
    {
     "data": {
      "text/html": [
       "<div>\n",
       "<style scoped>\n",
       "    .dataframe tbody tr th:only-of-type {\n",
       "        vertical-align: middle;\n",
       "    }\n",
       "\n",
       "    .dataframe tbody tr th {\n",
       "        vertical-align: top;\n",
       "    }\n",
       "\n",
       "    .dataframe thead th {\n",
       "        text-align: right;\n",
       "    }\n",
       "</style>\n",
       "<table border=\"1\" class=\"dataframe\">\n",
       "  <thead>\n",
       "    <tr style=\"text-align: right;\">\n",
       "      <th></th>\n",
       "      <th>lat</th>\n",
       "      <th>lon</th>\n",
       "      <th>firemask</th>\n",
       "      <th>MaxFRP</th>\n",
       "      <th>gaugeQualityInfo</th>\n",
       "      <th>hourlyPrecipRate</th>\n",
       "      <th>hourlyPrecipRateGC</th>\n",
       "      <th>observationTimeFlag</th>\n",
       "      <th>satelliteInfoFlag</th>\n",
       "      <th>Albedo_inst</th>\n",
       "      <th>...</th>\n",
       "      <th>Swnet_tavg</th>\n",
       "      <th>Tair_f_inst</th>\n",
       "      <th>Tveg_tavg</th>\n",
       "      <th>Wind_f_inst</th>\n",
       "      <th>BurnDate</th>\n",
       "      <th>Uncertainty</th>\n",
       "      <th>QA</th>\n",
       "      <th>FirstDay</th>\n",
       "      <th>LastDay</th>\n",
       "      <th>FWI</th>\n",
       "    </tr>\n",
       "  </thead>\n",
       "  <tbody>\n",
       "    <tr>\n",
       "      <th>0</th>\n",
       "      <td>-4.98565</td>\n",
       "      <td>106.360530</td>\n",
       "      <td>3.0</td>\n",
       "      <td>NaN</td>\n",
       "      <td>0.0</td>\n",
       "      <td>0.0</td>\n",
       "      <td>0.415</td>\n",
       "      <td>-1.0</td>\n",
       "      <td>0.0</td>\n",
       "      <td>NaN</td>\n",
       "      <td>...</td>\n",
       "      <td>NaN</td>\n",
       "      <td>NaN</td>\n",
       "      <td>NaN</td>\n",
       "      <td>NaN</td>\n",
       "      <td>NaN</td>\n",
       "      <td>NaN</td>\n",
       "      <td>0.0</td>\n",
       "      <td>NaN</td>\n",
       "      <td>NaN</td>\n",
       "      <td>NaN</td>\n",
       "    </tr>\n",
       "    <tr>\n",
       "      <th>1</th>\n",
       "      <td>-4.98565</td>\n",
       "      <td>106.405485</td>\n",
       "      <td>3.0</td>\n",
       "      <td>NaN</td>\n",
       "      <td>0.0</td>\n",
       "      <td>0.0</td>\n",
       "      <td>0.415</td>\n",
       "      <td>-1.0</td>\n",
       "      <td>0.0</td>\n",
       "      <td>NaN</td>\n",
       "      <td>...</td>\n",
       "      <td>NaN</td>\n",
       "      <td>NaN</td>\n",
       "      <td>NaN</td>\n",
       "      <td>NaN</td>\n",
       "      <td>NaN</td>\n",
       "      <td>NaN</td>\n",
       "      <td>0.0</td>\n",
       "      <td>NaN</td>\n",
       "      <td>NaN</td>\n",
       "      <td>NaN</td>\n",
       "    </tr>\n",
       "    <tr>\n",
       "      <th>2</th>\n",
       "      <td>-4.98565</td>\n",
       "      <td>106.450441</td>\n",
       "      <td>3.0</td>\n",
       "      <td>NaN</td>\n",
       "      <td>0.0</td>\n",
       "      <td>0.0</td>\n",
       "      <td>0.415</td>\n",
       "      <td>-1.0</td>\n",
       "      <td>0.0</td>\n",
       "      <td>NaN</td>\n",
       "      <td>...</td>\n",
       "      <td>NaN</td>\n",
       "      <td>NaN</td>\n",
       "      <td>NaN</td>\n",
       "      <td>NaN</td>\n",
       "      <td>NaN</td>\n",
       "      <td>NaN</td>\n",
       "      <td>0.0</td>\n",
       "      <td>NaN</td>\n",
       "      <td>NaN</td>\n",
       "      <td>NaN</td>\n",
       "    </tr>\n",
       "    <tr>\n",
       "      <th>3</th>\n",
       "      <td>-4.98565</td>\n",
       "      <td>106.495396</td>\n",
       "      <td>3.0</td>\n",
       "      <td>NaN</td>\n",
       "      <td>0.0</td>\n",
       "      <td>0.0</td>\n",
       "      <td>0.415</td>\n",
       "      <td>-1.0</td>\n",
       "      <td>0.0</td>\n",
       "      <td>NaN</td>\n",
       "      <td>...</td>\n",
       "      <td>NaN</td>\n",
       "      <td>NaN</td>\n",
       "      <td>NaN</td>\n",
       "      <td>NaN</td>\n",
       "      <td>NaN</td>\n",
       "      <td>NaN</td>\n",
       "      <td>0.0</td>\n",
       "      <td>NaN</td>\n",
       "      <td>NaN</td>\n",
       "      <td>NaN</td>\n",
       "    </tr>\n",
       "    <tr>\n",
       "      <th>4</th>\n",
       "      <td>-4.98565</td>\n",
       "      <td>106.540352</td>\n",
       "      <td>3.0</td>\n",
       "      <td>NaN</td>\n",
       "      <td>0.0</td>\n",
       "      <td>0.0</td>\n",
       "      <td>0.415</td>\n",
       "      <td>-1.0</td>\n",
       "      <td>0.0</td>\n",
       "      <td>NaN</td>\n",
       "      <td>...</td>\n",
       "      <td>NaN</td>\n",
       "      <td>NaN</td>\n",
       "      <td>NaN</td>\n",
       "      <td>NaN</td>\n",
       "      <td>NaN</td>\n",
       "      <td>NaN</td>\n",
       "      <td>0.0</td>\n",
       "      <td>NaN</td>\n",
       "      <td>NaN</td>\n",
       "      <td>NaN</td>\n",
       "    </tr>\n",
       "  </tbody>\n",
       "</table>\n",
       "<p>5 rows × 50 columns</p>\n",
       "</div>"
      ],
      "text/plain": [
       "       lat         lon  firemask  MaxFRP  gaugeQualityInfo  hourlyPrecipRate  \\\n",
       "0 -4.98565  106.360530       3.0     NaN               0.0               0.0   \n",
       "1 -4.98565  106.405485       3.0     NaN               0.0               0.0   \n",
       "2 -4.98565  106.450441       3.0     NaN               0.0               0.0   \n",
       "3 -4.98565  106.495396       3.0     NaN               0.0               0.0   \n",
       "4 -4.98565  106.540352       3.0     NaN               0.0               0.0   \n",
       "\n",
       "   hourlyPrecipRateGC  observationTimeFlag  satelliteInfoFlag  Albedo_inst  \\\n",
       "0               0.415                 -1.0                0.0          NaN   \n",
       "1               0.415                 -1.0                0.0          NaN   \n",
       "2               0.415                 -1.0                0.0          NaN   \n",
       "3               0.415                 -1.0                0.0          NaN   \n",
       "4               0.415                 -1.0                0.0          NaN   \n",
       "\n",
       "   ...  Swnet_tavg  Tair_f_inst  Tveg_tavg  Wind_f_inst  BurnDate  \\\n",
       "0  ...         NaN          NaN        NaN          NaN       NaN   \n",
       "1  ...         NaN          NaN        NaN          NaN       NaN   \n",
       "2  ...         NaN          NaN        NaN          NaN       NaN   \n",
       "3  ...         NaN          NaN        NaN          NaN       NaN   \n",
       "4  ...         NaN          NaN        NaN          NaN       NaN   \n",
       "\n",
       "   Uncertainty   QA  FirstDay  LastDay  FWI  \n",
       "0          NaN  0.0       NaN      NaN  NaN  \n",
       "1          NaN  0.0       NaN      NaN  NaN  \n",
       "2          NaN  0.0       NaN      NaN  NaN  \n",
       "3          NaN  0.0       NaN      NaN  NaN  \n",
       "4          NaN  0.0       NaN      NaN  NaN  \n",
       "\n",
       "[5 rows x 50 columns]"
      ]
     },
     "execution_count": 4,
     "metadata": {},
     "output_type": "execute_result"
    }
   ],
   "source": [
    "data.head()"
   ]
  },
  {
   "cell_type": "code",
   "execution_count": 5,
   "metadata": {},
   "outputs": [
    {
     "data": {
      "text/plain": [
       "Index(['lat', 'lon', 'firemask', 'MaxFRP', 'gaugeQualityInfo',\n",
       "       'hourlyPrecipRate', 'hourlyPrecipRateGC', 'observationTimeFlag',\n",
       "       'satelliteInfoFlag', 'Albedo_inst', 'AvgSurfT_inst', 'CanopInt_inst',\n",
       "       'ECanop_tavg', 'ESoil_tavg', 'Evap_tavg', 'LWdown_f_tavg', 'Lwnet_tavg',\n",
       "       'PotEvap_tavg', 'Psurf_f_inst', 'Qair_f_inst', 'Qg_tavg', 'Qh_tavg',\n",
       "       'Qle_tavg', 'Qs_acc', 'Qsb_acc', 'Qsm_acc', 'Rainf_f_tavg',\n",
       "       'RootMoist_inst', 'SWE_inst', 'SWdown_f_tavg', 'SnowDepth_inst',\n",
       "       'Snowf_tavg', 'SoilMoi100_200cm_inst', 'SoilMoi10_40cm_inst',\n",
       "       'SoilMoi40_100cm_inst', 'SoilTMP0_10cm_inst', 'SoilMoi0_10cm_inst',\n",
       "       'SoilTMP100_200cm_inst', 'SoilTMP10_40cm_inst', 'SoilTMP40_100cm_inst',\n",
       "       'Swnet_tavg', 'Tair_f_inst', 'Tveg_tavg', 'Wind_f_inst', 'BurnDate',\n",
       "       'Uncertainty', 'QA', 'FirstDay', 'LastDay', 'FWI'],\n",
       "      dtype='object')"
      ]
     },
     "execution_count": 5,
     "metadata": {},
     "output_type": "execute_result"
    }
   ],
   "source": [
    "data.columns"
   ]
  },
  {
   "cell_type": "code",
   "execution_count": 6,
   "metadata": {},
   "outputs": [],
   "source": [
    "# Drop columns that were not deemed important features\n",
    "less_than_onepercent = [\n",
    " 'gaugeQualityInfo',\n",
    " 'observationTimeFlag',\n",
    " 'satelliteInfoFlag',\n",
    " 'ECanop_tavg',\n",
    " 'Qg_tavg',\n",
    " 'Qh_tavg',\n",
    " 'Qs_acc',\n",
    " 'Qsm_acc',\n",
    " 'SWE_inst',\n",
    " 'SWdown_f_tavg',\n",
    " 'SnowDepth_inst',\n",
    " 'Snowf_tavg',\n",
    " 'SoilMoi40_100cm_inst',\n",
    " 'SoilTMP10_40cm_inst',\n",
    " 'Tveg_tavg',\n",
    " 'Uncertainty']\n",
    "\n",
    "data.drop(less_than_onepercent, axis = 1, inplace = True)"
   ]
  },
  {
   "cell_type": "code",
   "execution_count": 35,
   "metadata": {},
   "outputs": [
    {
     "data": {
      "text/plain": [
       "count    386189.000000\n",
       "mean         58.663441\n",
       "std          25.820683\n",
       "min           0.010949\n",
       "25%          45.882980\n",
       "50%          67.859268\n",
       "75%          78.003860\n",
       "max          96.014587\n",
       "Name: FWI, dtype: float64"
      ]
     },
     "execution_count": 35,
     "metadata": {},
     "output_type": "execute_result"
    }
   ],
   "source": [
    "data['FWI'].describe()"
   ]
  },
  {
   "cell_type": "markdown",
   "metadata": {},
   "source": [
    "# Exploring the Data"
   ]
  },
  {
   "cell_type": "code",
   "execution_count": 21,
   "metadata": {},
   "outputs": [],
   "source": [
    "d = data.astype('float')"
   ]
  },
  {
   "cell_type": "code",
   "execution_count": 22,
   "metadata": {},
   "outputs": [
    {
     "data": {
      "text/plain": [
       "3.0    360887\n",
       "5.0    339477\n",
       "4.0     87932\n",
       "9.0        81\n",
       "8.0        57\n",
       "6.0        19\n",
       "7.0        16\n",
       "Name: firemask, dtype: int64"
      ]
     },
     "execution_count": 22,
     "metadata": {},
     "output_type": "execute_result"
    }
   ],
   "source": [
    "d['firemask'].value_counts()"
   ]
  },
  {
   "cell_type": "code",
   "execution_count": 23,
   "metadata": {},
   "outputs": [],
   "source": [
    "# d.info()"
   ]
  },
  {
   "cell_type": "code",
   "execution_count": 24,
   "metadata": {},
   "outputs": [],
   "source": [
    "# MAJOR ASSUMPTION: Fill all nulls with 0\n",
    "d.fillna(0, inplace = True)"
   ]
  },
  {
   "cell_type": "markdown",
   "metadata": {},
   "source": [
    "# Create Target Categories"
   ]
  },
  {
   "cell_type": "code",
   "execution_count": 40,
   "metadata": {},
   "outputs": [],
   "source": [
    "# Start with all the values in FireMask\n",
    "d['label'] = d['firemask']"
   ]
  },
  {
   "cell_type": "code",
   "execution_count": 41,
   "metadata": {},
   "outputs": [
    {
     "data": {
      "text/plain": [
       "3.0    360887\n",
       "5.0    339477\n",
       "0.0    245907\n",
       "4.0     87932\n",
       "9.0        81\n",
       "8.0        57\n",
       "6.0        19\n",
       "7.0        16\n",
       "Name: label, dtype: int64"
      ]
     },
     "execution_count": 41,
     "metadata": {},
     "output_type": "execute_result"
    }
   ],
   "source": [
    "d['label'].value_counts()"
   ]
  },
  {
   "cell_type": "code",
   "execution_count": 42,
   "metadata": {},
   "outputs": [],
   "source": [
    "# Create categorical values for active fire pixels\n",
    "# FireMask\n",
    "# 3 = water, non-fire\n",
    "# 4 = cloud (land or water)\n",
    "# 5 = land, non-fire\n",
    "# 6 = unknown (land or water)\n",
    "# 7 = low confidence fire pixel - classified as land\n",
    "# 8, 9 = fire (nominal and high confidence fire pixels - classified as fire\n",
    "\n",
    "d.loc[d['firemask'] == 3, 'label'] = 'water'\n",
    "d.loc[(d['firemask'] == 5) | (d['firemask'] == 7), 'label'] = 'land'\n",
    "d.loc[(d['firemask'] == 9) | (d['firemask'] == 8), 'label'] = 'active_fire'\n",
    "\n",
    "# 4, 6, and zero are unknown right now - we will fill those in later. \n",
    "d.loc[d['firemask'] == 0, 'label'] = 'unknown'\n",
    "d.loc[d['firemask'] == 4, 'label'] = 'unknown'\n",
    "d.loc[d['firemask'] == 6, 'label'] = 'unknown'"
   ]
  },
  {
   "cell_type": "code",
   "execution_count": 43,
   "metadata": {},
   "outputs": [],
   "source": [
    "# If burn date is earlier than December 21 (day 344), mark as burned\n",
    "d.loc[(d['BurnDate'] < 344) & (d['BurnDate'] > 0), 'label'] = 'burned'\n",
    "\n",
    "# Note: Max value of BurnDate is day 334"
   ]
  },
  {
   "cell_type": "code",
   "execution_count": 44,
   "metadata": {},
   "outputs": [],
   "source": [
    "# Using the other datasets, let's determine whether unknown pixels are land or water\n",
    "\n",
    "# If there is a FWI value for the pixel, it is land\n",
    "d.loc[(d['label']=='unknown') & (d['FWI'] > 0), 'label'] = 'land'\n",
    "\n",
    "#If there is no (zero) FWI value, it is water\n",
    "d.loc[(d['label']=='unknown') & (d['FWI'] == 0), 'label'] = 'water'"
   ]
  },
  {
   "cell_type": "code",
   "execution_count": 45,
   "metadata": {},
   "outputs": [
    {
     "data": {
      "text/plain": [
       "water          661027\n",
       "land           370977\n",
       "burned           2234\n",
       "active_fire       138\n",
       "Name: label, dtype: int64"
      ]
     },
     "execution_count": 45,
     "metadata": {},
     "output_type": "execute_result"
    }
   ],
   "source": [
    "d['label'].value_counts()"
   ]
  },
  {
   "cell_type": "code",
   "execution_count": 46,
   "metadata": {},
   "outputs": [],
   "source": [
    "# For \"land\" areas, create consolidated categories from FWI numerical\n",
    "# based on the ranges appropriate for Australia\n",
    "# just used extreme category\n",
    "\n",
    "d.loc[(d['FWI'] > 64) & (d['label'] == 'land'), 'label'] = 'fwi_veryhigh'"
   ]
  },
  {
   "attachments": {
    "fire_thresholds.png": {
     "image/png": "[encoded data removed]"
    }
   },
   "cell_type": "markdown",
   "metadata": {},
   "source": [
    "Source: https://www.bushfirecrc.com/sites/default/files/managed/resource/dowdy_and_mills-fwi.pdf![fire_thresholds.png](attachment:fire_thresholds.png)"
   ]
  },
  {
   "cell_type": "code",
   "execution_count": 47,
   "metadata": {},
   "outputs": [
    {
     "data": {
      "text/plain": [
       "water           661027\n",
       "fwi_veryhigh    217468\n",
       "land            153509\n",
       "burned            2234\n",
       "active_fire        138\n",
       "Name: label, dtype: int64"
      ]
     },
     "execution_count": 47,
     "metadata": {},
     "output_type": "execute_result"
    }
   ],
   "source": [
    "d['label'].value_counts()"
   ]
  },
  {
   "cell_type": "markdown",
   "metadata": {},
   "source": [
    "# Drop columns that were used to create labels"
   ]
  },
  {
   "cell_type": "code",
   "execution_count": 65,
   "metadata": {},
   "outputs": [
    {
     "data": {
      "text/plain": [
       "Index(['lat', 'lon', 'firemask', 'MaxFRP', 'hourlyPrecipRate',\n",
       "       'hourlyPrecipRateGC', 'Albedo_inst', 'AvgSurfT_inst', 'CanopInt_inst',\n",
       "       'ESoil_tavg', 'Evap_tavg', 'LWdown_f_tavg', 'Lwnet_tavg',\n",
       "       'PotEvap_tavg', 'Psurf_f_inst', 'Qair_f_inst', 'Qle_tavg', 'Qsb_acc',\n",
       "       'Rainf_f_tavg', 'RootMoist_inst', 'SoilMoi100_200cm_inst',\n",
       "       'SoilMoi10_40cm_inst', 'SoilTMP0_10cm_inst', 'SoilMoi0_10cm_inst',\n",
       "       'SoilTMP100_200cm_inst', 'SoilTMP40_100cm_inst', 'Swnet_tavg',\n",
       "       'Tair_f_inst', 'Wind_f_inst', 'BurnDate', 'QA', 'FirstDay', 'LastDay',\n",
       "       'FWI', 'label'],\n",
       "      dtype='object')"
      ]
     },
     "execution_count": 65,
     "metadata": {},
     "output_type": "execute_result"
    }
   ],
   "source": [
    "d.columns"
   ]
  },
  {
   "cell_type": "code",
   "execution_count": 66,
   "metadata": {},
   "outputs": [],
   "source": [
    "# Drop all variables that were used to create the label columns. \n",
    "data_v3 = d.drop(['firemask', 'MaxFRP','BurnDate', 'FirstDay', 'LastDay', 'FWI'], axis = 1)"
   ]
  },
  {
   "cell_type": "markdown",
   "metadata": {},
   "source": [
    "### Check that data is aligned properly"
   ]
  },
  {
   "cell_type": "code",
   "execution_count": null,
   "metadata": {},
   "outputs": [],
   "source": []
  },
  {
   "cell_type": "code",
   "execution_count": 67,
   "metadata": {},
   "outputs": [],
   "source": [
    "# Export data as clean parquet gzip file\n",
    "data_v3.to_parquet('../../finalproj_data/input_data/data_v3.parquet')"
   ]
  },
  {
   "cell_type": "code",
   "execution_count": 68,
   "metadata": {},
   "outputs": [
    {
     "data": {
      "text/plain": [
       "water          661027\n",
       "fwi_extreme    326049\n",
       "land            35977\n",
       "fwi_high         8951\n",
       "burned           2234\n",
       "active_fire       138\n",
       "Name: label, dtype: int64"
      ]
     },
     "execution_count": 68,
     "metadata": {},
     "output_type": "execute_result"
    }
   ],
   "source": [
    "data_v3['label'].value_counts()"
   ]
  },
  {
   "cell_type": "code",
   "execution_count": null,
   "metadata": {},
   "outputs": [],
   "source": []
  }
 ],
 "metadata": {
  "kernelspec": {
   "display_name": "Python (geospatial)",
   "language": "python",
   "name": "merging"
  },
  "language_info": {
   "codemirror_mode": {
    "name": "ipython",
    "version": 3
   },
   "file_extension": ".py",
   "mimetype": "text/x-python",
   "name": "python",
   "nbconvert_exporter": "python",
   "pygments_lexer": "ipython3",
   "version": "3.7.5"
  }
 },
 "nbformat": 4,
 "nbformat_minor": 4
}
