{
 "cells": [
  {
   "cell_type": "code",
   "execution_count": 1,
   "metadata": {},
   "outputs": [],
   "source": [
    "import pandas as pd\n",
    "import xarray as xr\n",
    "import numpy as np\n",
    "import scipy.interpolate\n",
    "from netCDF4 import Dataset\n",
    "import bottleneck\n",
    "import pyarrow\n",
    "import scipy.ndimage as ndimage\n",
    "\n",
    "import matplotlib.pyplot as plt\n",
    "%run ../pyfiles/data_cleaning.py"
   ]
  },
  {
   "cell_type": "markdown",
   "metadata": {},
   "source": [
    "# Reading in the Data"
   ]
  },
  {
   "cell_type": "code",
   "execution_count": 2,
   "metadata": {},
   "outputs": [
    {
     "name": "stdout",
     "output_type": "stream",
     "text": [
      "-rw-r--r-- 1 jupyter jupyter 228M Jan 17 14:44 final_parquet.parquet.gzip\n"
     ]
    }
   ],
   "source": [
    "!ls -lh final_parquet.parquet.gzip"
   ]
  },
  {
   "cell_type": "code",
   "execution_count": 55,
   "metadata": {},
   "outputs": [],
   "source": [
    "# Import Merged Data from Notebook in Cloud\n",
    "data = pd.read_parquet('final_parquet.parquet.gzip', engine = 'pyarrow')"
   ]
  },
  {
   "cell_type": "code",
   "execution_count": 56,
   "metadata": {},
   "outputs": [],
   "source": [
    "data.reset_index(inplace = True)"
   ]
  },
  {
   "cell_type": "code",
   "execution_count": 39,
   "metadata": {},
   "outputs": [
    {
     "data": {
      "text/html": [
       "<div>\n",
       "<style scoped>\n",
       "    .dataframe tbody tr th:only-of-type {\n",
       "        vertical-align: middle;\n",
       "    }\n",
       "\n",
       "    .dataframe tbody tr th {\n",
       "        vertical-align: top;\n",
       "    }\n",
       "\n",
       "    .dataframe thead th {\n",
       "        text-align: right;\n",
       "    }\n",
       "</style>\n",
       "<table border=\"1\" class=\"dataframe\">\n",
       "  <thead>\n",
       "    <tr style=\"text-align: right;\">\n",
       "      <th></th>\n",
       "      <th>lat</th>\n",
       "      <th>lon</th>\n",
       "      <th>FireMask</th>\n",
       "      <th>MaxFRP</th>\n",
       "      <th>burned</th>\n",
       "      <th>et_500m</th>\n",
       "      <th>_1_km_16_days_EVI</th>\n",
       "      <th>_1_km_16_days_EVI2</th>\n",
       "      <th>_1_km_16_days_NDVI</th>\n",
       "      <th>_1_km_16_days_NIR_reflectance</th>\n",
       "      <th>...</th>\n",
       "      <th>_1_km_16_days_red_reflectance</th>\n",
       "      <th>_1_km_16_days_VI_Quality</th>\n",
       "      <th>_1_km_16_days_pixel_reliability</th>\n",
       "      <th>_DC</th>\n",
       "      <th>_DMC</th>\n",
       "      <th>_FFMC</th>\n",
       "      <th>_ISI</th>\n",
       "      <th>_BUI</th>\n",
       "      <th>_FWI</th>\n",
       "      <th>_DSR</th>\n",
       "    </tr>\n",
       "  </thead>\n",
       "  <tbody>\n",
       "    <tr>\n",
       "      <th>0</th>\n",
       "      <td>4.3625</td>\n",
       "      <td>96.329167</td>\n",
       "      <td>5.0</td>\n",
       "      <td>NaN</td>\n",
       "      <td>0.0</td>\n",
       "      <td>3276.500000</td>\n",
       "      <td>0.6110</td>\n",
       "      <td>0.6071</td>\n",
       "      <td>0.8460</td>\n",
       "      <td>0.3885</td>\n",
       "      <td>...</td>\n",
       "      <td>0.0324</td>\n",
       "      <td>2257.0</td>\n",
       "      <td>6.0</td>\n",
       "      <td>6.153957</td>\n",
       "      <td>1.339365</td>\n",
       "      <td>43.675632</td>\n",
       "      <td>0.137625</td>\n",
       "      <td>1.721346</td>\n",
       "      <td>0.042499</td>\n",
       "      <td>0.000183</td>\n",
       "    </tr>\n",
       "    <tr>\n",
       "      <th>1</th>\n",
       "      <td>4.3625</td>\n",
       "      <td>96.337500</td>\n",
       "      <td>5.0</td>\n",
       "      <td>NaN</td>\n",
       "      <td>0.0</td>\n",
       "      <td>3276.500000</td>\n",
       "      <td>0.5452</td>\n",
       "      <td>0.5392</td>\n",
       "      <td>0.8948</td>\n",
       "      <td>0.3081</td>\n",
       "      <td>...</td>\n",
       "      <td>0.0171</td>\n",
       "      <td>2185.0</td>\n",
       "      <td>2.0</td>\n",
       "      <td>6.153957</td>\n",
       "      <td>1.339365</td>\n",
       "      <td>43.675632</td>\n",
       "      <td>0.137625</td>\n",
       "      <td>1.721346</td>\n",
       "      <td>0.042499</td>\n",
       "      <td>0.000183</td>\n",
       "    </tr>\n",
       "    <tr>\n",
       "      <th>2</th>\n",
       "      <td>4.3625</td>\n",
       "      <td>96.345833</td>\n",
       "      <td>5.0</td>\n",
       "      <td>NaN</td>\n",
       "      <td>0.0</td>\n",
       "      <td>3276.500000</td>\n",
       "      <td>0.4867</td>\n",
       "      <td>0.4878</td>\n",
       "      <td>0.6774</td>\n",
       "      <td>0.3734</td>\n",
       "      <td>...</td>\n",
       "      <td>0.0718</td>\n",
       "      <td>2257.0</td>\n",
       "      <td>6.0</td>\n",
       "      <td>6.153957</td>\n",
       "      <td>1.339365</td>\n",
       "      <td>43.675632</td>\n",
       "      <td>0.137625</td>\n",
       "      <td>1.721346</td>\n",
       "      <td>0.042499</td>\n",
       "      <td>0.000183</td>\n",
       "    </tr>\n",
       "    <tr>\n",
       "      <th>3</th>\n",
       "      <td>4.3625</td>\n",
       "      <td>96.354167</td>\n",
       "      <td>5.0</td>\n",
       "      <td>NaN</td>\n",
       "      <td>0.0</td>\n",
       "      <td>33.700001</td>\n",
       "      <td>0.6779</td>\n",
       "      <td>0.6552</td>\n",
       "      <td>0.9191</td>\n",
       "      <td>0.3916</td>\n",
       "      <td>...</td>\n",
       "      <td>0.0165</td>\n",
       "      <td>35297.0</td>\n",
       "      <td>7.0</td>\n",
       "      <td>6.153957</td>\n",
       "      <td>1.339365</td>\n",
       "      <td>43.675632</td>\n",
       "      <td>0.137625</td>\n",
       "      <td>1.721346</td>\n",
       "      <td>0.042499</td>\n",
       "      <td>0.000183</td>\n",
       "    </tr>\n",
       "    <tr>\n",
       "      <th>4</th>\n",
       "      <td>4.3625</td>\n",
       "      <td>96.362500</td>\n",
       "      <td>5.0</td>\n",
       "      <td>NaN</td>\n",
       "      <td>0.0</td>\n",
       "      <td>27.000000</td>\n",
       "      <td>0.6779</td>\n",
       "      <td>0.6552</td>\n",
       "      <td>0.9191</td>\n",
       "      <td>0.3916</td>\n",
       "      <td>...</td>\n",
       "      <td>0.0165</td>\n",
       "      <td>35297.0</td>\n",
       "      <td>7.0</td>\n",
       "      <td>6.153957</td>\n",
       "      <td>1.339365</td>\n",
       "      <td>43.675632</td>\n",
       "      <td>0.137625</td>\n",
       "      <td>1.721346</td>\n",
       "      <td>0.042499</td>\n",
       "      <td>0.000183</td>\n",
       "    </tr>\n",
       "  </tbody>\n",
       "</table>\n",
       "<p>5 rows × 26 columns</p>\n",
       "</div>"
      ],
      "text/plain": [
       "      lat        lon  FireMask  MaxFRP  burned      et_500m  \\\n",
       "0  4.3625  96.329167       5.0     NaN     0.0  3276.500000   \n",
       "1  4.3625  96.337500       5.0     NaN     0.0  3276.500000   \n",
       "2  4.3625  96.345833       5.0     NaN     0.0  3276.500000   \n",
       "3  4.3625  96.354167       5.0     NaN     0.0    33.700001   \n",
       "4  4.3625  96.362500       5.0     NaN     0.0    27.000000   \n",
       "\n",
       "   _1_km_16_days_EVI  _1_km_16_days_EVI2  _1_km_16_days_NDVI  \\\n",
       "0             0.6110              0.6071              0.8460   \n",
       "1             0.5452              0.5392              0.8948   \n",
       "2             0.4867              0.4878              0.6774   \n",
       "3             0.6779              0.6552              0.9191   \n",
       "4             0.6779              0.6552              0.9191   \n",
       "\n",
       "   _1_km_16_days_NIR_reflectance  ...  _1_km_16_days_red_reflectance  \\\n",
       "0                         0.3885  ...                         0.0324   \n",
       "1                         0.3081  ...                         0.0171   \n",
       "2                         0.3734  ...                         0.0718   \n",
       "3                         0.3916  ...                         0.0165   \n",
       "4                         0.3916  ...                         0.0165   \n",
       "\n",
       "   _1_km_16_days_VI_Quality  _1_km_16_days_pixel_reliability       _DC  \\\n",
       "0                    2257.0                              6.0  6.153957   \n",
       "1                    2185.0                              2.0  6.153957   \n",
       "2                    2257.0                              6.0  6.153957   \n",
       "3                   35297.0                              7.0  6.153957   \n",
       "4                   35297.0                              7.0  6.153957   \n",
       "\n",
       "       _DMC      _FFMC      _ISI      _BUI      _FWI      _DSR  \n",
       "0  1.339365  43.675632  0.137625  1.721346  0.042499  0.000183  \n",
       "1  1.339365  43.675632  0.137625  1.721346  0.042499  0.000183  \n",
       "2  1.339365  43.675632  0.137625  1.721346  0.042499  0.000183  \n",
       "3  1.339365  43.675632  0.137625  1.721346  0.042499  0.000183  \n",
       "4  1.339365  43.675632  0.137625  1.721346  0.042499  0.000183  \n",
       "\n",
       "[5 rows x 26 columns]"
      ]
     },
     "execution_count": 39,
     "metadata": {},
     "output_type": "execute_result"
    }
   ],
   "source": [
    "data.head()"
   ]
  },
  {
   "cell_type": "markdown",
   "metadata": {},
   "source": [
    "# Exploring the Data"
   ]
  },
  {
   "cell_type": "code",
   "execution_count": 21,
   "metadata": {},
   "outputs": [
    {
     "data": {
      "text/plain": [
       "-2.0      32127631\n",
       " 0.0      12789227\n",
       " 312.0        4550\n",
       " 323.0        2967\n",
       " 325.0        2881\n",
       " 321.0        2856\n",
       " 314.0        2793\n",
       " 316.0        2761\n",
       " 313.0        2719\n",
       " 311.0        2459\n",
       " 324.0        2307\n",
       " 309.0        2280\n",
       " 320.0        2227\n",
       " 317.0        2141\n",
       " 328.0        2135\n",
       " 318.0        2121\n",
       " 329.0        2092\n",
       " 330.0        2067\n",
       " 322.0        2029\n",
       " 319.0        2021\n",
       " 333.0        1973\n",
       " 315.0        1901\n",
       " 327.0        1843\n",
       " 334.0        1787\n",
       " 332.0        1669\n",
       " 310.0        1635\n",
       " 331.0        1628\n",
       " 326.0        1577\n",
       " 307.0        1557\n",
       " 308.0        1361\n",
       " 306.0        1292\n",
       " 305.0        1047\n",
       "Name: burned, dtype: int64"
      ]
     },
     "execution_count": 21,
     "metadata": {},
     "output_type": "execute_result"
    }
   ],
   "source": [
    "# data['burned'].value_counts()"
   ]
  },
  {
   "cell_type": "code",
   "execution_count": 16,
   "metadata": {},
   "outputs": [
    {
     "data": {
      "text/plain": [
       "3.0    29361362\n",
       "5.0    11297991\n",
       "4.0     4485529\n",
       "8.0         757\n",
       "9.0         516\n",
       "7.0          80\n",
       "6.0          80\n",
       "Name: FireMask, dtype: int64"
      ]
     },
     "execution_count": 16,
     "metadata": {},
     "output_type": "execute_result"
    }
   ],
   "source": [
    "# data['FireMask'].value_counts()"
   ]
  },
  {
   "cell_type": "code",
   "execution_count": 51,
   "metadata": {},
   "outputs": [
    {
     "data": {
      "text/plain": [
       "lat                                               0\n",
       "lon                                               0\n",
       "FireMask                                    7584133\n",
       "MaxFRP                                     52729095\n",
       "burned                                      7748914\n",
       "et_500m                                     7586147\n",
       "_1_km_16_days_EVI                          39586885\n",
       "_1_km_16_days_EVI2                         39586885\n",
       "_1_km_16_days_NDVI                         39586820\n",
       "_1_km_16_days_NIR_reflectance              39586820\n",
       "_1_km_16_days_SWIR1_reflectance            39586838\n",
       "_1_km_16_days_SWIR2_reflectance            39586971\n",
       "_1_km_16_days_SWIR3_reflectance            39586978\n",
       "_1_km_16_days_blue_reflectance             39620597\n",
       "_1_km_16_days_composite_day_of_the_year    39586820\n",
       "_1_km_16_days_green_reflectance            39595518\n",
       "_1_km_16_days_red_reflectance              39586820\n",
       "_1_km_16_days_VI_Quality                    7584133\n",
       "_1_km_16_days_pixel_reliability            39586820\n",
       "_DC                                        38933888\n",
       "_DMC                                       38933888\n",
       "_FFMC                                      38933888\n",
       "_ISI                                       38933888\n",
       "_BUI                                       38933888\n",
       "_FWI                                       38933888\n",
       "_DSR                                       38933888\n",
       "label                                             0\n",
       "dtype: int64"
      ]
     },
     "execution_count": 51,
     "metadata": {},
     "output_type": "execute_result"
    }
   ],
   "source": [
    "# data.isna().sum()"
   ]
  },
  {
   "cell_type": "markdown",
   "metadata": {},
   "source": [
    "# Create Target Categories"
   ]
  },
  {
   "cell_type": "code",
   "execution_count": 57,
   "metadata": {},
   "outputs": [],
   "source": [
    "# Start with all the values in FireMask\n",
    "data['label'] = data['FireMask']"
   ]
  },
  {
   "cell_type": "code",
   "execution_count": 58,
   "metadata": {},
   "outputs": [
    {
     "data": {
      "text/plain": [
       "3.0    29361362\n",
       "5.0    11297991\n",
       "4.0     4485529\n",
       "8.0         757\n",
       "9.0         516\n",
       "7.0          80\n",
       "6.0          80\n",
       "Name: label, dtype: int64"
      ]
     },
     "execution_count": 58,
     "metadata": {},
     "output_type": "execute_result"
    }
   ],
   "source": [
    "data['label'].value_counts()"
   ]
  },
  {
   "cell_type": "code",
   "execution_count": 59,
   "metadata": {},
   "outputs": [],
   "source": [
    "# Create categorical values for active fire pixels\n",
    "# FireMask\n",
    "# 3 = water, non-fire\n",
    "# 4 = cloud (land or water)\n",
    "# 5 = land, non-fire\n",
    "# 6 = unknown (land or water)\n",
    "# 7, 8, 9 = fire (low, nominal and high confidence)\n",
    "\n",
    "data.loc[(data['FireMask'] == 9) | (data['FireMask'] == 8) | (data['FireMask'] == 7), 'label'] = 'active_fire'"
   ]
  },
  {
   "cell_type": "code",
   "execution_count": 60,
   "metadata": {},
   "outputs": [],
   "source": [
    "# Create categorical values from FWI numerical, only for areas that are not active fire\n",
    "data.loc[(data['_FWI'] < 5) & (data['label'] != 'active_fire'), 'label'] = 'fwi_low'\n",
    "data.loc[(data['_FWI'] >= 5) & (data['_FWI'] < 8) & (data['label'] != 'active_fire'), 'label'] = 'fwi_moderate'\n",
    "data.loc[(data['_FWI'] >= 8) & (data['_FWI'] < 16) & (data['label'] != 'active_fire'), 'label'] = 'fwi_high'\n",
    "data.loc[(data['_FWI'] >= 16) & (data['_FWI'] < 29) & (data['label'] != 'active_fire'), 'label'] = 'fwi_veryhigh'\n",
    "data.loc[(data['_FWI'] >= 29) & (data['label'] != 'active_fire'), 'label'] = 'fwi_extreme'"
   ]
  },
  {
   "cell_type": "code",
   "execution_count": 61,
   "metadata": {},
   "outputs": [],
   "source": [
    "# Create categorical values for burned pixels, only for areas that are not active fire\n",
    "# burned\n",
    "# 0.0 = unburned\n",
    "# -2.0 = water\n",
    "\n",
    "data.loc[(data['burned'] != 0.) & (data['burned'] != -2.) & (data['label'] != 'active_fire'), 'label'] = 'burned'"
   ]
  },
  {
   "cell_type": "code",
   "execution_count": 62,
   "metadata": {},
   "outputs": [
    {
     "data": {
      "text/plain": [
       "3.0             28197889\n",
       "fwi_extreme      9308511\n",
       "burned           7813581\n",
       "fwi_low          3031671\n",
       "4.0              2826233\n",
       "fwi_veryhigh      610905\n",
       "fwi_high          410397\n",
       "5.0               318870\n",
       "fwi_moderate      211015\n",
       "active_fire         1353\n",
       "6.0                   23\n",
       "Name: label, dtype: int64"
      ]
     },
     "execution_count": 62,
     "metadata": {},
     "output_type": "execute_result"
    }
   ],
   "source": [
    "data['label'].value_counts()"
   ]
  },
  {
   "cell_type": "code",
   "execution_count": 66,
   "metadata": {},
   "outputs": [],
   "source": [
    "# For the \"land\" label, there are nan values from fire weather index. So code as land. \n",
    "data.loc[(data['label'] == 5.), 'label'] = 'land'"
   ]
  },
  {
   "cell_type": "code",
   "execution_count": 67,
   "metadata": {},
   "outputs": [],
   "source": [
    "# Change viirs FM 3 to water \n",
    "data.loc[data['label'] == 3, 'label'] = 'water'"
   ]
  },
  {
   "cell_type": "code",
   "execution_count": 69,
   "metadata": {},
   "outputs": [],
   "source": [
    "# for missing data from viirs - i.e. cloud and unknown pixels, fill in missing information from categories in burned dataset\n",
    "\n",
    "# for cloud pixels...\n",
    "# where 'unburned', code as land\n",
    "data.loc[(data['label'] == 4) & (data['burned'] == 0), 'label'] = 'land'\n",
    "# where 'water', code as water\n",
    "data.loc[(data['label'] == 4) & (data['burned'] == -2.), 'label'] = 'water'                              \n",
    "                                 \n",
    "\n",
    "# for unknown pixels...\n",
    "# where unburned, code as land\n",
    "data.loc[(data['label'] == 6) & (data['burned'] == 0), 'label'] = 'land'\n",
    "# where 'water', code as water\n",
    "data.loc[(data['label'] == 6) & (data['burned'] == -2.), 'label'] = 'water'    "
   ]
  },
  {
   "cell_type": "code",
   "execution_count": 70,
   "metadata": {},
   "outputs": [
    {
     "data": {
      "text/plain": [
       "water           30991646\n",
       "fwi_extreme      9308511\n",
       "burned           7813581\n",
       "fwi_low          3031671\n",
       "fwi_veryhigh      610905\n",
       "fwi_high          410397\n",
       "land              351369\n",
       "fwi_moderate      211015\n",
       "active_fire         1353\n",
       "Name: label, dtype: int64"
      ]
     },
     "execution_count": 70,
     "metadata": {},
     "output_type": "execute_result"
    }
   ],
   "source": [
    "# Check if all string categories\n",
    "data['label'].value_counts()"
   ]
  },
  {
   "cell_type": "code",
   "execution_count": 71,
   "metadata": {},
   "outputs": [
    {
     "data": {
      "text/html": [
       "<div>\n",
       "<style scoped>\n",
       "    .dataframe tbody tr th:only-of-type {\n",
       "        vertical-align: middle;\n",
       "    }\n",
       "\n",
       "    .dataframe tbody tr th {\n",
       "        vertical-align: top;\n",
       "    }\n",
       "\n",
       "    .dataframe thead th {\n",
       "        text-align: right;\n",
       "    }\n",
       "</style>\n",
       "<table border=\"1\" class=\"dataframe\">\n",
       "  <thead>\n",
       "    <tr style=\"text-align: right;\">\n",
       "      <th></th>\n",
       "      <th>lat</th>\n",
       "      <th>lon</th>\n",
       "      <th>FireMask</th>\n",
       "      <th>MaxFRP</th>\n",
       "      <th>burned</th>\n",
       "      <th>et_500m</th>\n",
       "      <th>_1_km_16_days_EVI</th>\n",
       "      <th>_1_km_16_days_EVI2</th>\n",
       "      <th>_1_km_16_days_NDVI</th>\n",
       "      <th>_1_km_16_days_NIR_reflectance</th>\n",
       "      <th>...</th>\n",
       "      <th>_1_km_16_days_VI_Quality</th>\n",
       "      <th>_1_km_16_days_pixel_reliability</th>\n",
       "      <th>_DC</th>\n",
       "      <th>_DMC</th>\n",
       "      <th>_FFMC</th>\n",
       "      <th>_ISI</th>\n",
       "      <th>_BUI</th>\n",
       "      <th>_FWI</th>\n",
       "      <th>_DSR</th>\n",
       "      <th>label</th>\n",
       "    </tr>\n",
       "  </thead>\n",
       "  <tbody>\n",
       "  </tbody>\n",
       "</table>\n",
       "<p>0 rows × 27 columns</p>\n",
       "</div>"
      ],
      "text/plain": [
       "Empty DataFrame\n",
       "Columns: [lat, lon, FireMask, MaxFRP, burned, et_500m, _1_km_16_days_EVI, _1_km_16_days_EVI2, _1_km_16_days_NDVI, _1_km_16_days_NIR_reflectance, _1_km_16_days_SWIR1_reflectance, _1_km_16_days_SWIR2_reflectance, _1_km_16_days_SWIR3_reflectance, _1_km_16_days_blue_reflectance, _1_km_16_days_composite_day_of_the_year, _1_km_16_days_green_reflectance, _1_km_16_days_red_reflectance, _1_km_16_days_VI_Quality, _1_km_16_days_pixel_reliability, _DC, _DMC, _FFMC, _ISI, _BUI, _FWI, _DSR, label]\n",
       "Index: []\n",
       "\n",
       "[0 rows x 27 columns]"
      ]
     },
     "execution_count": 71,
     "metadata": {},
     "output_type": "execute_result"
    }
   ],
   "source": [
    "# Check if there are any nulls or zeros left in label column\n",
    "\n",
    "data.loc[(data['label']==0) | (data['label'].isna()),:]"
   ]
  },
  {
   "cell_type": "markdown",
   "metadata": {},
   "source": [
    "# Drop columns that were used to create labels"
   ]
  },
  {
   "cell_type": "code",
   "execution_count": 72,
   "metadata": {},
   "outputs": [
    {
     "data": {
      "text/plain": [
       "Index(['lat', 'lon', 'FireMask', 'MaxFRP', 'burned', 'et_500m',\n",
       "       '_1_km_16_days_EVI', '_1_km_16_days_EVI2', '_1_km_16_days_NDVI',\n",
       "       '_1_km_16_days_NIR_reflectance', '_1_km_16_days_SWIR1_reflectance',\n",
       "       '_1_km_16_days_SWIR2_reflectance', '_1_km_16_days_SWIR3_reflectance',\n",
       "       '_1_km_16_days_blue_reflectance',\n",
       "       '_1_km_16_days_composite_day_of_the_year',\n",
       "       '_1_km_16_days_green_reflectance', '_1_km_16_days_red_reflectance',\n",
       "       '_1_km_16_days_VI_Quality', '_1_km_16_days_pixel_reliability', '_DC',\n",
       "       '_DMC', '_FFMC', '_ISI', '_BUI', '_FWI', '_DSR', 'label'],\n",
       "      dtype='object')"
      ]
     },
     "execution_count": 72,
     "metadata": {},
     "output_type": "execute_result"
    }
   ],
   "source": [
    "data.columns"
   ]
  },
  {
   "cell_type": "code",
   "execution_count": 73,
   "metadata": {},
   "outputs": [],
   "source": [
    "# Create smaller dataset for first model run\n",
    "dataset_v1 = data.drop(['FireMask', '_FWI', 'burned', '_1_km_16_days_composite_day_of_the_year', '_1_km_16_days_pixel_reliability', '_1_km_16_days_VI_Quality'], axis = 1)"
   ]
  },
  {
   "cell_type": "markdown",
   "metadata": {},
   "source": [
    "# Address Missing Values"
   ]
  },
  {
   "cell_type": "code",
   "execution_count": 76,
   "metadata": {},
   "outputs": [
    {
     "data": {
      "text/plain": [
       "lat                                       0\n",
       "lon                                       0\n",
       "MaxFRP                                    0\n",
       "et_500m                             7586147\n",
       "_1_km_16_days_EVI                  39586885\n",
       "_1_km_16_days_EVI2                 39586885\n",
       "_1_km_16_days_NDVI                 39586820\n",
       "_1_km_16_days_NIR_reflectance      39586820\n",
       "_1_km_16_days_SWIR1_reflectance    39586838\n",
       "_1_km_16_days_SWIR2_reflectance    39586971\n",
       "_1_km_16_days_SWIR3_reflectance    39586978\n",
       "_1_km_16_days_blue_reflectance     39620597\n",
       "_1_km_16_days_green_reflectance    39595518\n",
       "_1_km_16_days_red_reflectance      39586820\n",
       "_DC                                38933888\n",
       "_DMC                               38933888\n",
       "_FFMC                              38933888\n",
       "_ISI                               38933888\n",
       "_BUI                               38933888\n",
       "_DSR                               38933888\n",
       "label                                     0\n",
       "dtype: int64"
      ]
     },
     "execution_count": 76,
     "metadata": {},
     "output_type": "execute_result"
    }
   ],
   "source": [
    "# Address missing values\n",
    "dataset_v1.isna().sum()"
   ]
  },
  {
   "cell_type": "code",
   "execution_count": 75,
   "metadata": {},
   "outputs": [],
   "source": [
    "# Missing Data Decisions for dataset_v1\n",
    "\n",
    "# set all missing MaxFRP values as 0\n",
    "dataset_v1.loc[(small_dataset['MaxFRP'].isna()), 'MaxFRP'] = 0\n",
    "\n",
    "# i imagine some of the other data is not available because it is over water...in which case set to zero?\n",
    "# how to address other missing values? "
   ]
  },
  {
   "cell_type": "code",
   "execution_count": 78,
   "metadata": {},
   "outputs": [],
   "source": [
    "# Export data as clean parquet gzip file\n",
    "dataset_v1.to_parquet('dataset_v1.parquet.gzip', compression = 'gzip')"
   ]
  }
 ],
 "metadata": {
  "kernelspec": {
   "display_name": "Python 3",
   "language": "python",
   "name": "python3"
  },
  "language_info": {
   "codemirror_mode": {
    "name": "ipython",
    "version": 3
   },
   "file_extension": ".py",
   "mimetype": "text/x-python",
   "name": "python",
   "nbconvert_exporter": "python",
   "pygments_lexer": "ipython3",
   "version": "3.5.3"
  }
 },
 "nbformat": 4,
 "nbformat_minor": 4
}
