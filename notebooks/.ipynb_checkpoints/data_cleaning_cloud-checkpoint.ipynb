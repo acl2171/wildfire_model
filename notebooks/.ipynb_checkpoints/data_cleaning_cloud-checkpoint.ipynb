{
 "cells": [
  {
   "cell_type": "code",
   "execution_count": 234,
   "metadata": {},
   "outputs": [],
   "source": [
    "import pandas as pd\n",
    "import xarray as xr\n",
    "import numpy as np\n",
    "import scipy.interpolate\n",
    "from netCDF4 import Dataset\n",
    "import bottleneck\n",
    "import pyarrow\n",
    "import scipy.ndimage as ndimage\n",
    "\n",
    "import matplotlib.pyplot as plt"
   ]
  },
  {
   "cell_type": "markdown",
   "metadata": {},
   "source": [
    "# Reading in the Data"
   ]
  },
  {
   "cell_type": "code",
   "execution_count": 235,
   "metadata": {},
   "outputs": [],
   "source": [
    "# Import Merged Data from Notebook in Cloud\n",
    "data = pd.read_parquet('../../finalproj_data/ds_df.parquet', engine = 'pyarrow')"
   ]
  },
  {
   "cell_type": "code",
   "execution_count": 236,
   "metadata": {},
   "outputs": [
    {
     "data": {
      "text/html": [
       "<div>\n",
       "<style scoped>\n",
       "    .dataframe tbody tr th:only-of-type {\n",
       "        vertical-align: middle;\n",
       "    }\n",
       "\n",
       "    .dataframe tbody tr th {\n",
       "        vertical-align: top;\n",
       "    }\n",
       "\n",
       "    .dataframe thead th {\n",
       "        text-align: right;\n",
       "    }\n",
       "</style>\n",
       "<table border=\"1\" class=\"dataframe\">\n",
       "  <thead>\n",
       "    <tr style=\"text-align: right;\">\n",
       "      <th></th>\n",
       "      <th>lat</th>\n",
       "      <th>lon</th>\n",
       "      <th>firemask</th>\n",
       "      <th>MaxFRP</th>\n",
       "      <th>EVI</th>\n",
       "      <th>EVI2</th>\n",
       "      <th>NVDI</th>\n",
       "      <th>NIR_reflectance</th>\n",
       "      <th>SWIR1_reflectance</th>\n",
       "      <th>SWIR2_reflectance</th>\n",
       "      <th>...</th>\n",
       "      <th>SoilTMP40_100cm_inst</th>\n",
       "      <th>Swnet_tavg</th>\n",
       "      <th>Tair_f_inst</th>\n",
       "      <th>Tveg_tavg</th>\n",
       "      <th>Wind_f_inst</th>\n",
       "      <th>BurnDate</th>\n",
       "      <th>Uncertainty</th>\n",
       "      <th>QA</th>\n",
       "      <th>FirstDay</th>\n",
       "      <th>LastDay</th>\n",
       "    </tr>\n",
       "  </thead>\n",
       "  <tbody>\n",
       "    <tr>\n",
       "      <th>0</th>\n",
       "      <td>-48.868351</td>\n",
       "      <td>84.172142</td>\n",
       "      <td>4.0</td>\n",
       "      <td>NaN</td>\n",
       "      <td>NaN</td>\n",
       "      <td>NaN</td>\n",
       "      <td>NaN</td>\n",
       "      <td>NaN</td>\n",
       "      <td>NaN</td>\n",
       "      <td>NaN</td>\n",
       "      <td>...</td>\n",
       "      <td>NaN</td>\n",
       "      <td>NaN</td>\n",
       "      <td>NaN</td>\n",
       "      <td>NaN</td>\n",
       "      <td>NaN</td>\n",
       "      <td>NaN</td>\n",
       "      <td>NaN</td>\n",
       "      <td>0.0</td>\n",
       "      <td>NaN</td>\n",
       "      <td>NaN</td>\n",
       "    </tr>\n",
       "    <tr>\n",
       "      <th>1</th>\n",
       "      <td>-48.868351</td>\n",
       "      <td>84.262077</td>\n",
       "      <td>4.0</td>\n",
       "      <td>NaN</td>\n",
       "      <td>NaN</td>\n",
       "      <td>NaN</td>\n",
       "      <td>NaN</td>\n",
       "      <td>NaN</td>\n",
       "      <td>NaN</td>\n",
       "      <td>NaN</td>\n",
       "      <td>...</td>\n",
       "      <td>NaN</td>\n",
       "      <td>NaN</td>\n",
       "      <td>NaN</td>\n",
       "      <td>NaN</td>\n",
       "      <td>NaN</td>\n",
       "      <td>NaN</td>\n",
       "      <td>NaN</td>\n",
       "      <td>0.0</td>\n",
       "      <td>NaN</td>\n",
       "      <td>NaN</td>\n",
       "    </tr>\n",
       "    <tr>\n",
       "      <th>2</th>\n",
       "      <td>-48.868351</td>\n",
       "      <td>84.352011</td>\n",
       "      <td>4.0</td>\n",
       "      <td>NaN</td>\n",
       "      <td>NaN</td>\n",
       "      <td>NaN</td>\n",
       "      <td>NaN</td>\n",
       "      <td>NaN</td>\n",
       "      <td>NaN</td>\n",
       "      <td>NaN</td>\n",
       "      <td>...</td>\n",
       "      <td>NaN</td>\n",
       "      <td>NaN</td>\n",
       "      <td>NaN</td>\n",
       "      <td>NaN</td>\n",
       "      <td>NaN</td>\n",
       "      <td>NaN</td>\n",
       "      <td>NaN</td>\n",
       "      <td>0.0</td>\n",
       "      <td>NaN</td>\n",
       "      <td>NaN</td>\n",
       "    </tr>\n",
       "    <tr>\n",
       "      <th>3</th>\n",
       "      <td>-48.868351</td>\n",
       "      <td>84.441945</td>\n",
       "      <td>4.0</td>\n",
       "      <td>NaN</td>\n",
       "      <td>NaN</td>\n",
       "      <td>NaN</td>\n",
       "      <td>NaN</td>\n",
       "      <td>NaN</td>\n",
       "      <td>NaN</td>\n",
       "      <td>NaN</td>\n",
       "      <td>...</td>\n",
       "      <td>NaN</td>\n",
       "      <td>NaN</td>\n",
       "      <td>NaN</td>\n",
       "      <td>NaN</td>\n",
       "      <td>NaN</td>\n",
       "      <td>NaN</td>\n",
       "      <td>NaN</td>\n",
       "      <td>0.0</td>\n",
       "      <td>NaN</td>\n",
       "      <td>NaN</td>\n",
       "    </tr>\n",
       "    <tr>\n",
       "      <th>4</th>\n",
       "      <td>-48.868351</td>\n",
       "      <td>84.531880</td>\n",
       "      <td>4.0</td>\n",
       "      <td>NaN</td>\n",
       "      <td>NaN</td>\n",
       "      <td>NaN</td>\n",
       "      <td>NaN</td>\n",
       "      <td>NaN</td>\n",
       "      <td>NaN</td>\n",
       "      <td>NaN</td>\n",
       "      <td>...</td>\n",
       "      <td>NaN</td>\n",
       "      <td>NaN</td>\n",
       "      <td>NaN</td>\n",
       "      <td>NaN</td>\n",
       "      <td>NaN</td>\n",
       "      <td>NaN</td>\n",
       "      <td>NaN</td>\n",
       "      <td>0.0</td>\n",
       "      <td>NaN</td>\n",
       "      <td>NaN</td>\n",
       "    </tr>\n",
       "  </tbody>\n",
       "</table>\n",
       "<p>5 rows × 65 columns</p>\n",
       "</div>"
      ],
      "text/plain": [
       "         lat        lon  firemask  MaxFRP  EVI  EVI2  NVDI  NIR_reflectance  \\\n",
       "0 -48.868351  84.172142       4.0     NaN  NaN   NaN   NaN              NaN   \n",
       "1 -48.868351  84.262077       4.0     NaN  NaN   NaN   NaN              NaN   \n",
       "2 -48.868351  84.352011       4.0     NaN  NaN   NaN   NaN              NaN   \n",
       "3 -48.868351  84.441945       4.0     NaN  NaN   NaN   NaN              NaN   \n",
       "4 -48.868351  84.531880       4.0     NaN  NaN   NaN   NaN              NaN   \n",
       "\n",
       "   SWIR1_reflectance  SWIR2_reflectance  ...  SoilTMP40_100cm_inst  \\\n",
       "0                NaN                NaN  ...                   NaN   \n",
       "1                NaN                NaN  ...                   NaN   \n",
       "2                NaN                NaN  ...                   NaN   \n",
       "3                NaN                NaN  ...                   NaN   \n",
       "4                NaN                NaN  ...                   NaN   \n",
       "\n",
       "   Swnet_tavg  Tair_f_inst  Tveg_tavg  Wind_f_inst  BurnDate  Uncertainty  \\\n",
       "0         NaN          NaN        NaN          NaN       NaN          NaN   \n",
       "1         NaN          NaN        NaN          NaN       NaN          NaN   \n",
       "2         NaN          NaN        NaN          NaN       NaN          NaN   \n",
       "3         NaN          NaN        NaN          NaN       NaN          NaN   \n",
       "4         NaN          NaN        NaN          NaN       NaN          NaN   \n",
       "\n",
       "    QA  FirstDay  LastDay  \n",
       "0  0.0       NaN      NaN  \n",
       "1  0.0       NaN      NaN  \n",
       "2  0.0       NaN      NaN  \n",
       "3  0.0       NaN      NaN  \n",
       "4  0.0       NaN      NaN  \n",
       "\n",
       "[5 rows x 65 columns]"
      ]
     },
     "execution_count": 236,
     "metadata": {},
     "output_type": "execute_result"
    }
   ],
   "source": [
    "data.head()"
   ]
  },
  {
   "cell_type": "code",
   "execution_count": 237,
   "metadata": {},
   "outputs": [
    {
     "data": {
      "text/plain": [
       "Index(['lat', 'lon', 'firemask', 'MaxFRP', 'EVI', 'EVI2', 'NVDI',\n",
       "       'NIR_reflectance', 'SWIR1_reflectance', 'SWIR2_reflectance',\n",
       "       'SWIR3_reflectance', 'VI_Quality', 'blue_reflectance',\n",
       "       'composite_day_of_the_year', 'green_reflectance', 'pixel_reliability',\n",
       "       'red_reflectance', 'relative_azimuth_angle', 'sun_zenith_angle',\n",
       "       'view_zenith_angle', 'gaugeQualityInfo', 'hourlyPrecipRate',\n",
       "       'hourlyPrecipRateGC', 'observationTimeFlag', 'satelliteInfoFlag',\n",
       "       'Albedo_inst', 'AvgSurfT_inst', 'CanopInt_inst', 'ECanop_tavg',\n",
       "       'ESoil_tavg', 'Evap_tavg', 'LWdown_f_tavg', 'Lwnet_tavg',\n",
       "       'PotEvap_tavg', 'Psurf_f_inst', 'Qair_f_inst', 'Qg_tavg', 'Qh_tavg',\n",
       "       'Qle_tavg', 'Qs_acc', 'Qsb_acc', 'Qsm_acc', 'Rainf_f_tavg',\n",
       "       'RootMoist_inst', 'SWE_inst', 'SWdown_f_tavg', 'SnowDepth_inst',\n",
       "       'Snowf_tavg', 'SoilMoi100_200cm_inst', 'SoilMoi10_40cm_inst',\n",
       "       'SoilMoi40_100cm_inst', 'SoilTMP0_10cm_inst', 'SoilMoi0_10cm_inst',\n",
       "       'SoilTMP100_200cm_inst', 'SoilTMP10_40cm_inst', 'SoilTMP40_100cm_inst',\n",
       "       'Swnet_tavg', 'Tair_f_inst', 'Tveg_tavg', 'Wind_f_inst', 'BurnDate',\n",
       "       'Uncertainty', 'QA', 'FirstDay', 'LastDay'],\n",
       "      dtype='object')"
      ]
     },
     "execution_count": 237,
     "metadata": {},
     "output_type": "execute_result"
    }
   ],
   "source": [
    "data.columns"
   ]
  },
  {
   "cell_type": "markdown",
   "metadata": {},
   "source": [
    "# Exploring the Data"
   ]
  },
  {
   "cell_type": "code",
   "execution_count": 238,
   "metadata": {},
   "outputs": [
    {
     "data": {
      "text/plain": [
       "3.0    165659\n",
       "5.0     97860\n",
       "4.0     63462\n",
       "9.0        19\n",
       "8.0        19\n",
       "6.0         3\n",
       "7.0         2\n",
       "Name: firemask, dtype: int64"
      ]
     },
     "execution_count": 238,
     "metadata": {},
     "output_type": "execute_result"
    }
   ],
   "source": [
    "data['firemask'].value_counts()"
   ]
  },
  {
   "cell_type": "code",
   "execution_count": 239,
   "metadata": {},
   "outputs": [],
   "source": [
    "d = data.astype('float')"
   ]
  },
  {
   "cell_type": "code",
   "execution_count": 240,
   "metadata": {},
   "outputs": [
    {
     "name": "stdout",
     "output_type": "stream",
     "text": [
      "<class 'pandas.core.frame.DataFrame'>\n",
      "RangeIndex: 527896 entries, 0 to 527895\n",
      "Data columns (total 65 columns):\n",
      "lat                          527896 non-null float64\n",
      "lon                          527896 non-null float64\n",
      "firemask                     327024 non-null float64\n",
      "MaxFRP                       314 non-null float64\n",
      "EVI                          73595 non-null float64\n",
      "EVI2                         73595 non-null float64\n",
      "NVDI                         73595 non-null float64\n",
      "NIR_reflectance              73595 non-null float64\n",
      "SWIR1_reflectance            73595 non-null float64\n",
      "SWIR2_reflectance            73595 non-null float64\n",
      "SWIR3_reflectance            73595 non-null float64\n",
      "VI_Quality                   320796 non-null float64\n",
      "blue_reflectance             73595 non-null float64\n",
      "composite_day_of_the_year    73595 non-null float64\n",
      "green_reflectance            73595 non-null float64\n",
      "pixel_reliability            335422 non-null float64\n",
      "red_reflectance              68794 non-null float64\n",
      "relative_azimuth_angle       68794 non-null float64\n",
      "sun_zenith_angle             68794 non-null float64\n",
      "view_zenith_angle            68794 non-null float64\n",
      "gaugeQualityInfo             527896 non-null float64\n",
      "hourlyPrecipRate             527896 non-null float64\n",
      "hourlyPrecipRateGC           527896 non-null float64\n",
      "observationTimeFlag          527896 non-null float64\n",
      "satelliteInfoFlag            527896 non-null float64\n",
      "Albedo_inst                  97714 non-null float64\n",
      "AvgSurfT_inst                97714 non-null float64\n",
      "CanopInt_inst                97714 non-null float64\n",
      "ECanop_tavg                  97714 non-null float64\n",
      "ESoil_tavg                   97714 non-null float64\n",
      "Evap_tavg                    97714 non-null float64\n",
      "LWdown_f_tavg                97714 non-null float64\n",
      "Lwnet_tavg                   97714 non-null float64\n",
      "PotEvap_tavg                 97714 non-null float64\n",
      "Psurf_f_inst                 97714 non-null float64\n",
      "Qair_f_inst                  97714 non-null float64\n",
      "Qg_tavg                      97714 non-null float64\n",
      "Qh_tavg                      97714 non-null float64\n",
      "Qle_tavg                     97714 non-null float64\n",
      "Qs_acc                       97714 non-null float64\n",
      "Qsb_acc                      97714 non-null float64\n",
      "Qsm_acc                      97714 non-null float64\n",
      "Rainf_f_tavg                 97714 non-null float64\n",
      "RootMoist_inst               97714 non-null float64\n",
      "SWE_inst                     97714 non-null float64\n",
      "SWdown_f_tavg                97714 non-null float64\n",
      "SnowDepth_inst               97714 non-null float64\n",
      "Snowf_tavg                   97714 non-null float64\n",
      "SoilMoi100_200cm_inst        97714 non-null float64\n",
      "SoilMoi10_40cm_inst          97714 non-null float64\n",
      "SoilMoi40_100cm_inst         97714 non-null float64\n",
      "SoilTMP0_10cm_inst           97714 non-null float64\n",
      "SoilMoi0_10cm_inst           97714 non-null float64\n",
      "SoilTMP100_200cm_inst        97714 non-null float64\n",
      "SoilTMP10_40cm_inst          97714 non-null float64\n",
      "SoilTMP40_100cm_inst         97714 non-null float64\n",
      "Swnet_tavg                   97714 non-null float64\n",
      "Tair_f_inst                  97714 non-null float64\n",
      "Tveg_tavg                    97714 non-null float64\n",
      "Wind_f_inst                  97714 non-null float64\n",
      "BurnDate                     503 non-null float64\n",
      "Uncertainty                  2254 non-null float64\n",
      "QA                           357934 non-null float64\n",
      "FirstDay                     97131 non-null float64\n",
      "LastDay                      97131 non-null float64\n",
      "dtypes: float64(65)\n",
      "memory usage: 261.8 MB\n"
     ]
    }
   ],
   "source": [
    "d.info()"
   ]
  },
  {
   "cell_type": "code",
   "execution_count": 241,
   "metadata": {},
   "outputs": [],
   "source": [
    "# MAJOR ASSUMPTION: Fill all nulls with 0\n",
    "d.fillna(0, inplace = True)"
   ]
  },
  {
   "cell_type": "markdown",
   "metadata": {},
   "source": [
    "# Create Target Categories"
   ]
  },
  {
   "cell_type": "code",
   "execution_count": 242,
   "metadata": {},
   "outputs": [],
   "source": [
    "# Start with all the values in FireMask\n",
    "d['label'] = d['firemask']"
   ]
  },
  {
   "cell_type": "code",
   "execution_count": 243,
   "metadata": {},
   "outputs": [
    {
     "data": {
      "text/plain": [
       "0.0    200872\n",
       "3.0    165659\n",
       "5.0     97860\n",
       "4.0     63462\n",
       "8.0        19\n",
       "9.0        19\n",
       "6.0         3\n",
       "7.0         2\n",
       "Name: label, dtype: int64"
      ]
     },
     "execution_count": 243,
     "metadata": {},
     "output_type": "execute_result"
    }
   ],
   "source": [
    "d['label'].value_counts()"
   ]
  },
  {
   "cell_type": "code",
   "execution_count": 244,
   "metadata": {},
   "outputs": [],
   "source": [
    "# Create categorical values for active fire pixels\n",
    "# FireMask\n",
    "# 3 = water, non-fire\n",
    "# 4 = cloud (land or water)\n",
    "# 5 = land, non-fire\n",
    "# 6 = unknown (land or water)\n",
    "# 7, 8, 9 = fire (low, nominal and high confidence)\n",
    "\n",
    "d.loc[(d['firemask'] == 9) | (d['firemask'] == 8) | (data['firemask'] == 7), 'label'] = 'active_fire'\n",
    "d.loc[(d['label'] == 5.), 'label'] = 'land'\n",
    "d.loc[d['label'] == 3, 'label'] = 'water'\n",
    "d.loc[d['label'] == 4, 'label'] = 'cloud'\n",
    "d.loc[d['label'] == 6, 'label'] = 'unknown'"
   ]
  },
  {
   "cell_type": "code",
   "execution_count": 245,
   "metadata": {},
   "outputs": [],
   "source": [
    "d.loc[(d['FirstDay'] > 0), 'label'] = 'land'\n",
    "d.loc[((d['LastDay'] > 335) & (d['firemask']==5)), 'label'] = 'active_fire'\n",
    "d.loc[((d['LastDay'] > 335) & (d['firemask']==4)), 'label'] = 'active_fire'\n",
    "d.loc[((d['BurnDate'] > 0) & (d['firemask']==5)), 'label'] = 'burned'\n",
    "d.loc[((d['BurnDate'] > 0) & (d['firemask']==4)), 'label'] = 'burned'\n",
    "d.loc[((d['FirstDay'] > 0) & (d['firemask']==4)), 'label'] = 'land'\n",
    "d.loc[((d['FirstDay'] > 0) & (d['firemask']==6)), 'label'] = 'land'\n"
   ]
  },
  {
   "cell_type": "code",
   "execution_count": 269,
   "metadata": {},
   "outputs": [],
   "source": [
    "d.loc[(d['label'] ==0), 'label']= 'unknown'"
   ]
  },
  {
   "cell_type": "code",
   "execution_count": 271,
   "metadata": {},
   "outputs": [
    {
     "data": {
      "text/plain": [
       "unknown        198433\n",
       "water          154610\n",
       "active_fire     68942\n",
       "land            53739\n",
       "cloud           51887\n",
       "burned            285\n",
       "Name: label, dtype: int64"
      ]
     },
     "execution_count": 271,
     "metadata": {},
     "output_type": "execute_result"
    }
   ],
   "source": [
    "d['label'].value_counts()"
   ]
  },
  {
   "cell_type": "code",
   "execution_count": 247,
   "metadata": {},
   "outputs": [],
   "source": [
    "# # Create categorical values for burned pixels, only for areas that are not active fire\n",
    "# # burned\n",
    "# # 0.0 = unburned\n",
    "# # -2.0 = water\n",
    "\n",
    "# data.loc[(data['burned'] != 0.) & (data['burned'] != -2.) & (data['label'] != 'active_fire'), 'label'] = 'burned'"
   ]
  },
  {
   "cell_type": "code",
   "execution_count": 272,
   "metadata": {},
   "outputs": [
    {
     "data": {
      "text/html": [
       "<div>\n",
       "<style scoped>\n",
       "    .dataframe tbody tr th:only-of-type {\n",
       "        vertical-align: middle;\n",
       "    }\n",
       "\n",
       "    .dataframe tbody tr th {\n",
       "        vertical-align: top;\n",
       "    }\n",
       "\n",
       "    .dataframe thead th {\n",
       "        text-align: right;\n",
       "    }\n",
       "</style>\n",
       "<table border=\"1\" class=\"dataframe\">\n",
       "  <thead>\n",
       "    <tr style=\"text-align: right;\">\n",
       "      <th></th>\n",
       "      <th>lat</th>\n",
       "      <th>lon</th>\n",
       "      <th>firemask</th>\n",
       "      <th>MaxFRP</th>\n",
       "      <th>EVI</th>\n",
       "      <th>EVI2</th>\n",
       "      <th>NVDI</th>\n",
       "      <th>NIR_reflectance</th>\n",
       "      <th>SWIR1_reflectance</th>\n",
       "      <th>SWIR2_reflectance</th>\n",
       "      <th>...</th>\n",
       "      <th>Swnet_tavg</th>\n",
       "      <th>Tair_f_inst</th>\n",
       "      <th>Tveg_tavg</th>\n",
       "      <th>Wind_f_inst</th>\n",
       "      <th>BurnDate</th>\n",
       "      <th>Uncertainty</th>\n",
       "      <th>QA</th>\n",
       "      <th>FirstDay</th>\n",
       "      <th>LastDay</th>\n",
       "      <th>label</th>\n",
       "    </tr>\n",
       "  </thead>\n",
       "  <tbody>\n",
       "  </tbody>\n",
       "</table>\n",
       "<p>0 rows × 66 columns</p>\n",
       "</div>"
      ],
      "text/plain": [
       "Empty DataFrame\n",
       "Columns: [lat, lon, firemask, MaxFRP, EVI, EVI2, NVDI, NIR_reflectance, SWIR1_reflectance, SWIR2_reflectance, SWIR3_reflectance, VI_Quality, blue_reflectance, composite_day_of_the_year, green_reflectance, pixel_reliability, red_reflectance, relative_azimuth_angle, sun_zenith_angle, view_zenith_angle, gaugeQualityInfo, hourlyPrecipRate, hourlyPrecipRateGC, observationTimeFlag, satelliteInfoFlag, Albedo_inst, AvgSurfT_inst, CanopInt_inst, ECanop_tavg, ESoil_tavg, Evap_tavg, LWdown_f_tavg, Lwnet_tavg, PotEvap_tavg, Psurf_f_inst, Qair_f_inst, Qg_tavg, Qh_tavg, Qle_tavg, Qs_acc, Qsb_acc, Qsm_acc, Rainf_f_tavg, RootMoist_inst, SWE_inst, SWdown_f_tavg, SnowDepth_inst, Snowf_tavg, SoilMoi100_200cm_inst, SoilMoi10_40cm_inst, SoilMoi40_100cm_inst, SoilTMP0_10cm_inst, SoilMoi0_10cm_inst, SoilTMP100_200cm_inst, SoilTMP10_40cm_inst, SoilTMP40_100cm_inst, Swnet_tavg, Tair_f_inst, Tveg_tavg, Wind_f_inst, BurnDate, Uncertainty, QA, FirstDay, LastDay, label]\n",
       "Index: []\n",
       "\n",
       "[0 rows x 66 columns]"
      ]
     },
     "execution_count": 272,
     "metadata": {},
     "output_type": "execute_result"
    }
   ],
   "source": [
    "# Check if there are any nulls or zeros left in label column\n",
    "\n",
    "d.loc[(d['label']==0)]"
   ]
  },
  {
   "cell_type": "code",
   "execution_count": 249,
   "metadata": {},
   "outputs": [],
   "source": [
    "# Code for old data below"
   ]
  },
  {
   "cell_type": "code",
   "execution_count": 250,
   "metadata": {},
   "outputs": [],
   "source": [
    "# # Create categorical values from FWI numerical, only for areas that are not active fire\n",
    "# data.loc[(data['_FWI'] < 5) & (data['label'] != 'active_fire'), 'label'] = 'fwi_low'\n",
    "# data.loc[(data['_FWI'] >= 5) & (data['_FWI'] < 8) & (data['label'] != 'active_fire'), 'label'] = 'fwi_moderate'\n",
    "# data.loc[(data['_FWI'] >= 8) & (data['_FWI'] < 16) & (data['label'] != 'active_fire'), 'label'] = 'fwi_high'\n",
    "# data.loc[(data['_FWI'] >= 16) & (data['_FWI'] < 29) & (data['label'] != 'active_fire'), 'label'] = 'fwi_veryhigh'\n",
    "# data.loc[(data['_FWI'] >= 29) & (data['label'] != 'active_fire'), 'label'] = 'fwi_extreme'"
   ]
  },
  {
   "cell_type": "code",
   "execution_count": 251,
   "metadata": {},
   "outputs": [],
   "source": [
    "# # for missing data from viirs - i.e. cloud and unknown pixels, fill in missing information from categories in burned dataset\n",
    "\n",
    "# # for cloud pixels...\n",
    "# # where 'unburned', code as land\n",
    "# data.loc[(data['label'] == 4) & (data['burned'] == 0), 'label'] = 'land'\n",
    "# # where 'water', code as water\n",
    "# data.loc[(data['label'] == 4) & (data['burned'] == -2.), 'label'] = 'water'                              \n",
    "                                 \n",
    "\n",
    "# # for unknown pixels...\n",
    "# # where unburned, code as land\n",
    "# data.loc[(data['label'] == 6) & (data['burned'] == 0), 'label'] = 'land'\n",
    "# # where 'water', code as water\n",
    "# data.loc[(data['label'] == 6) & (data['burned'] == -2.), 'label'] = 'water'    "
   ]
  },
  {
   "cell_type": "markdown",
   "metadata": {},
   "source": [
    "# Drop columns that were used to create labels"
   ]
  },
  {
   "cell_type": "code",
   "execution_count": 252,
   "metadata": {},
   "outputs": [
    {
     "data": {
      "text/plain": [
       "Index(['lat', 'lon', 'firemask', 'MaxFRP', 'EVI', 'EVI2', 'NVDI',\n",
       "       'NIR_reflectance', 'SWIR1_reflectance', 'SWIR2_reflectance',\n",
       "       'SWIR3_reflectance', 'VI_Quality', 'blue_reflectance',\n",
       "       'composite_day_of_the_year', 'green_reflectance', 'pixel_reliability',\n",
       "       'red_reflectance', 'relative_azimuth_angle', 'sun_zenith_angle',\n",
       "       'view_zenith_angle', 'gaugeQualityInfo', 'hourlyPrecipRate',\n",
       "       'hourlyPrecipRateGC', 'observationTimeFlag', 'satelliteInfoFlag',\n",
       "       'Albedo_inst', 'AvgSurfT_inst', 'CanopInt_inst', 'ECanop_tavg',\n",
       "       'ESoil_tavg', 'Evap_tavg', 'LWdown_f_tavg', 'Lwnet_tavg',\n",
       "       'PotEvap_tavg', 'Psurf_f_inst', 'Qair_f_inst', 'Qg_tavg', 'Qh_tavg',\n",
       "       'Qle_tavg', 'Qs_acc', 'Qsb_acc', 'Qsm_acc', 'Rainf_f_tavg',\n",
       "       'RootMoist_inst', 'SWE_inst', 'SWdown_f_tavg', 'SnowDepth_inst',\n",
       "       'Snowf_tavg', 'SoilMoi100_200cm_inst', 'SoilMoi10_40cm_inst',\n",
       "       'SoilMoi40_100cm_inst', 'SoilTMP0_10cm_inst', 'SoilMoi0_10cm_inst',\n",
       "       'SoilTMP100_200cm_inst', 'SoilTMP10_40cm_inst', 'SoilTMP40_100cm_inst',\n",
       "       'Swnet_tavg', 'Tair_f_inst', 'Tveg_tavg', 'Wind_f_inst', 'BurnDate',\n",
       "       'Uncertainty', 'QA', 'FirstDay', 'LastDay', 'label'],\n",
       "      dtype='object')"
      ]
     },
     "execution_count": 252,
     "metadata": {},
     "output_type": "execute_result"
    }
   ],
   "source": [
    "d.columns"
   ]
  },
  {
   "cell_type": "code",
   "execution_count": 273,
   "metadata": {},
   "outputs": [],
   "source": [
    "# Create smaller dataset for first model run\n",
    "newdata_v1 = d.drop(['firemask', 'BurnDate', 'FirstDay', 'LastDay'], axis = 1)"
   ]
  },
  {
   "cell_type": "code",
   "execution_count": 274,
   "metadata": {},
   "outputs": [],
   "source": [
    "# Export data as clean parquet gzip file\n",
    "newdata_v1.to_parquet('../../finalproj_data/input_data/newdata_v1.parquet')"
   ]
  },
  {
   "cell_type": "code",
   "execution_count": 275,
   "metadata": {},
   "outputs": [
    {
     "data": {
      "text/plain": [
       "unknown        198433\n",
       "water          154610\n",
       "active_fire     68942\n",
       "land            53739\n",
       "cloud           51887\n",
       "burned            285\n",
       "Name: label, dtype: int64"
      ]
     },
     "execution_count": 275,
     "metadata": {},
     "output_type": "execute_result"
    }
   ],
   "source": [
    "newdata_v1['label'].value_counts()"
   ]
  },
  {
   "cell_type": "code",
   "execution_count": null,
   "metadata": {},
   "outputs": [],
   "source": []
  }
 ],
 "metadata": {
  "kernelspec": {
   "display_name": "Python (geospatial)",
   "language": "python",
   "name": "merging"
  },
  "language_info": {
   "codemirror_mode": {
    "name": "ipython",
    "version": 3
   },
   "file_extension": ".py",
   "mimetype": "text/x-python",
   "name": "python",
   "nbconvert_exporter": "python",
   "pygments_lexer": "ipython3",
   "version": "3.7.5"
  }
 },
 "nbformat": 4,
 "nbformat_minor": 4
}
