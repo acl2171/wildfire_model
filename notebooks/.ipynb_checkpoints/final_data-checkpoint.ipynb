{
 "cells": [
  {
   "cell_type": "code",
   "execution_count": 1,
   "metadata": {},
   "outputs": [],
   "source": [
    "import xarray as xr\n",
    "import pandas as pd\n",
    "import numpy as np\n",
    "from geopandas import GeoDataFrame\n",
    "from shapely.geometry import Point\n",
    "\n",
    "import netCDF4\n",
    "from netCDF4 import Dataset\n",
    "# Viz tools\n",
    "import matplotlib.pyplot as plt"
   ]
  },
  {
   "cell_type": "markdown",
   "metadata": {},
   "source": [
    "### Satellite Data from MODIS on Burned Areas"
   ]
  },
  {
   "cell_type": "code",
   "execution_count": 6,
   "metadata": {},
   "outputs": [],
   "source": [
    "burned = xr.open_mfdataset('../../finalproj_data/time_slice/MCD64A1.006_500m_aid0001.nc', combine = 'by_coords')\n",
    "# Time stamps from Oct 1 and Nov 1. \n",
    "# Slice to take Nov 1. \n",
    "burnt = burned.sel(time = slice('2019-11-01','2019-11-01'))"
   ]
  },
  {
   "cell_type": "code",
   "execution_count": 9,
   "metadata": {},
   "outputs": [
    {
     "data": {
      "text/plain": [
       "array([[[ 0.,  0.,  0., ..., -2., -2., -2.],\n",
       "        [ 0.,  0.,  0., ..., -2., -2., -2.],\n",
       "        [ 0.,  0.,  0., ..., -2., -2., -2.],\n",
       "        ...,\n",
       "        [nan, nan, nan, ..., -2., -2., -2.],\n",
       "        [nan, nan, nan, ..., -2., -2., -2.],\n",
       "        [nan, nan, nan, ..., -2., -2., -2.]]], dtype=float32)"
      ]
     },
     "execution_count": 9,
     "metadata": {},
     "output_type": "execute_result"
    }
   ],
   "source": [
    "burnt['Burn_Date'].values"
   ]
  },
  {
   "cell_type": "markdown",
   "metadata": {},
   "source": [
    "### Satellite Data from VIIRS and MODIS: Fire Labels"
   ]
  },
  {
   "cell_type": "code",
   "execution_count": 2,
   "metadata": {},
   "outputs": [],
   "source": [
    "## Satellite Data from VIIRS and MODIS,including fire labels\n",
    "\n",
    "# These three datasets have different **time** dimensions. \n",
    "# The same SPATIAL latitude and longitude dimensions. \n",
    "\n",
    "ONE = xr.open_mfdataset('../../finalproj_data/time_slice/MOD16A2.006_500m_aid0001.nc', combine='by_coords') \n",
    "# (lat: 12623, lon: 16707, time: 1)\n",
    "# 1.687374337 GB\n",
    "\n",
    "TWO = xr.open_mfdataset('../../finalproj_data/time_slice/VNP13A2.001_1km_aid0001.nc', combine = 'by_coords') #  (lat: 6312, lon: 8354, time: 1)\n",
    "# Slice by time dimension so that this dataset is 1 dimension in time. \n",
    "TWO_ = TWO.sel(time = slice('2019-12-11', '2019-12-11'))\n",
    "#2.953022425\n",
    "\n",
    "THREE = xr.open_mfdataset('../../finalproj_data/time_slice/VNP14A1.001_1km_aid0001.nc', combine = 'by_coords') # (lat: 6312, lon: 8354, time: 1)\n",
    "#1.054726297 GB\n",
    "\n",
    "FOUR = xr.open_mfdataset('../../finalproj_data/time_slice/VNP43MA3.001_1km_aid0001.nc', combine = 'by_coords') # (lat: 6312, lon: 8354, time: 1)\n",
    "# 7.593301849 GB"
   ]
  },
  {
   "cell_type": "code",
   "execution_count": 3,
   "metadata": {},
   "outputs": [],
   "source": [
    "# Will want to try converting each dataset separately into pandas\n",
    "# At least XX GB .nbytes / 1e9 when decoded as float\n",
    "# When xarray writes a dataframe, every variable first gets expanded to use all dimensions. So 3 x 108 GB in memory. \n",
    "# And pandas probably needs a memory copy to create the dataframe - another 3 x 108 GB. \n",
    "# Since FOUR is the largest, try running first stinky model without this data and see what comes out. "
   ]
  },
  {
   "cell_type": "code",
   "execution_count": 4,
   "metadata": {},
   "outputs": [],
   "source": [
    "modis = ONE.to_dataframe()\n",
    "modis.reset_index(inplace = True)"
   ]
  },
  {
   "cell_type": "code",
   "execution_count": 5,
   "metadata": {},
   "outputs": [],
   "source": [
    "viirs1 = TWO_.to_dataframe()"
   ]
  },
  {
   "cell_type": "code",
   "execution_count": 6,
   "metadata": {},
   "outputs": [],
   "source": [
    "viirs2 = THREE.to_dataframe()"
   ]
  },
  {
   "cell_type": "code",
   "execution_count": 18,
   "metadata": {},
   "outputs": [],
   "source": [
    "#http://xarray.pydata.org/en/stable/generated/xarray.combine_by_coords.html\n",
    "# Decided to transform each to a dataframe, and then to geopandas, and then spatially join. "
   ]
  },
  {
   "cell_type": "code",
   "execution_count": 16,
   "metadata": {},
   "outputs": [
    {
     "data": {
      "text/plain": [
       "Index(['lat', 'lon', 'time', 'crs', 'ET_500m', 'ET_QC_500m'], dtype='object')"
      ]
     },
     "execution_count": 16,
     "metadata": {},
     "output_type": "execute_result"
    }
   ],
   "source": [
    "modis.columns"
   ]
  },
  {
   "cell_type": "code",
   "execution_count": null,
   "metadata": {},
   "outputs": [],
   "source": [
    "geometry = [Point(xy) for xy in zip(modis.lon, modis.lat)]\n",
    "modis = modis.drop(['lon', 'lat'], axis=1)\n",
    "crs = {'init': 'epsg:4326'}\n",
    "modis_gdf = GeoDataFrame(modis, crs=crs, geometry=geometry)"
   ]
  },
  {
   "cell_type": "code",
   "execution_count": null,
   "metadata": {},
   "outputs": [],
   "source": []
  },
  {
   "cell_type": "code",
   "execution_count": 4,
   "metadata": {},
   "outputs": [],
   "source": [
    "# .attrs stores metadata\n",
    "# .dims shows number of dimensions\n",
    "# .coords coordinates are empty?\n",
    "# .values similar to a numpy array that you can modify in place"
   ]
  },
  {
   "cell_type": "markdown",
   "metadata": {},
   "source": [
    "### Fire Weather Index"
   ]
  },
  {
   "cell_type": "code",
   "execution_count": 2,
   "metadata": {},
   "outputs": [],
   "source": [
    "# GFWD - FWI --> Dataset labels to identify \"high risk of fire\" based on FWI calculations.\n",
    "# Convension to label DataSet in caps and DataArray in lowercase\n",
    "\n",
    "#Use xarray to open .nc file, combining by coordinates. \n",
    "DEC = xr.open_mfdataset(\"../../finalproj_data/satellitedata/GFWD/FWI.GEOS-5.Monthly.Default.201912.nc\", combine = 'by_coords')"
   ]
  },
  {
   "cell_type": "code",
   "execution_count": 14,
   "metadata": {},
   "outputs": [
    {
     "data": {
      "text/plain": [
       "{'History:': 'history',\n",
       " 'History': '02-Jan-2020 13:10:48',\n",
       " 'Source:': 'source',\n",
       " 'Source': 'Robert Field',\n",
       " 'Title:': 'title',\n",
       " 'Title': 'Global Fire Weather Database',\n",
       " 'Center:': 'center',\n",
       " 'Center': 'NASA GISS / Columbia University',\n",
       " 'Name:': 'Descriptive name for configuration',\n",
       " 'Name': 'Default',\n",
       " 'minLat:': 'Min latitude for analysis',\n",
       " 'minLat': -58.0,\n",
       " 'maxLat:': 'Max latitude for analysis',\n",
       " 'maxLat': 75.0,\n",
       " 'minLandFrac:': 'Minimum grid cell land fraction for analysis',\n",
       " 'minLandFrac': 0.1,\n",
       " 'minT:': 'Mask out anything with mean annual Tsurf less than this',\n",
       " 'minT': -10.0,\n",
       " 'minPrec:': 'Mask out anything with mean annual prec less than this',\n",
       " 'minPrec': 0.25,\n",
       " 'snoDThresh:': 'Minimum depth (m) for there to be considered snow on ground at any given time',\n",
       " 'snoDThresh': 0.01,\n",
       " 'snowCoverDaysCalc:': 'Number of days prior to spring over which to determine if winter had substantial snow cover',\n",
       " 'snowCoverDaysCalc': 60.0,\n",
       " 'minWinterSnoD:': 'Minimum mean depth (m) during past snowCoverDaysCalc days for winter to be considered having had substantial snow cover',\n",
       " 'minWinterSnoD': 0.1,\n",
       " 'minSnowDayFrac:': 'Minimum fraction of days during snowCoverDaysCalc where snow cover was greater than snoDThresh for winter to be considered having had substantial snow cover',\n",
       " 'minSnowDayFrac': 0.75,\n",
       " 'startShutDays:': 'Number of previous days over which to consider start or end of winter',\n",
       " 'startShutDays': 2.0,\n",
       " 'tempThresh:': 'Temp thresh (C) to define start and end of winter',\n",
       " 'tempThresh': 6.0,\n",
       " 'precThresh:': 'Min precip (mm/day) when determining if last three days had any precip',\n",
       " 'precThresh': 1.0,\n",
       " 'DCStart:': 'DC starting value after wet winter',\n",
       " 'DCStart': 15.0,\n",
       " 'DMCStart:': 'DMC starting value after wet winter',\n",
       " 'DMCStart': 6.0,\n",
       " 'FFMCStart:': 'FFMC starting value after any winter',\n",
       " 'FFMCStart': 85.0,\n",
       " 'DCDryStartFactor:': 'DC number of days since precip mult factor for dry start.',\n",
       " 'DCDryStartFactor': 5.0,\n",
       " 'DMCDryStartFactor:': 'DMC number of days since precip mult factor for dry start.',\n",
       " 'DMCDryStartFactor': 2.0,\n",
       " 'nClimSkipYears:': 'Use this number of years as startup, during which computed values are excluded from any output',\n",
       " 'nClimSkipYears': 1.0}"
      ]
     },
     "execution_count": 14,
     "metadata": {},
     "output_type": "execute_result"
    }
   ],
   "source": [
    "DEC.attrs"
   ]
  },
  {
   "cell_type": "code",
   "execution_count": 3,
   "metadata": {},
   "outputs": [
    {
     "name": "stderr",
     "output_type": "stream",
     "text": [
      "C:\\Users\\allis\\Anaconda3\\envs\\merging\\lib\\site-packages\\xarray\\coding\\variables.py:141: FutureWarning: elementwise comparison failed; returning scalar instead, but in the future will perform elementwise comparison\n",
      "  condition |= data == fv\n",
      "C:\\Users\\allis\\Anaconda3\\envs\\merging\\lib\\site-packages\\xarray\\coding\\variables.py:141: FutureWarning: elementwise comparison failed; returning scalar instead, but in the future will perform elementwise comparison\n",
      "  condition |= data == fv\n",
      "C:\\Users\\allis\\Anaconda3\\envs\\merging\\lib\\site-packages\\xarray\\coding\\variables.py:141: FutureWarning: elementwise comparison failed; returning scalar instead, but in the future will perform elementwise comparison\n",
      "  condition |= data == fv\n",
      "C:\\Users\\allis\\Anaconda3\\envs\\merging\\lib\\site-packages\\xarray\\coding\\variables.py:141: FutureWarning: elementwise comparison failed; returning scalar instead, but in the future will perform elementwise comparison\n",
      "  condition |= data == fv\n",
      "C:\\Users\\allis\\Anaconda3\\envs\\merging\\lib\\site-packages\\xarray\\coding\\variables.py:141: FutureWarning: elementwise comparison failed; returning scalar instead, but in the future will perform elementwise comparison\n",
      "  condition |= data == fv\n",
      "C:\\Users\\allis\\Anaconda3\\envs\\merging\\lib\\site-packages\\xarray\\coding\\variables.py:141: FutureWarning: elementwise comparison failed; returning scalar instead, but in the future will perform elementwise comparison\n",
      "  condition |= data == fv\n",
      "C:\\Users\\allis\\Anaconda3\\envs\\merging\\lib\\site-packages\\xarray\\coding\\variables.py:141: FutureWarning: elementwise comparison failed; returning scalar instead, but in the future will perform elementwise comparison\n",
      "  condition |= data == fv\n"
     ]
    }
   ],
   "source": [
    "fwi = DEC.to_dataframe()"
   ]
  },
  {
   "cell_type": "code",
   "execution_count": 9,
   "metadata": {},
   "outputs": [
    {
     "data": {
      "text/html": [
       "<div>\n",
       "<style scoped>\n",
       "    .dataframe tbody tr th:only-of-type {\n",
       "        vertical-align: middle;\n",
       "    }\n",
       "\n",
       "    .dataframe tbody tr th {\n",
       "        vertical-align: top;\n",
       "    }\n",
       "\n",
       "    .dataframe thead th {\n",
       "        text-align: right;\n",
       "    }\n",
       "</style>\n",
       "<table border=\"1\" class=\"dataframe\">\n",
       "  <thead>\n",
       "    <tr style=\"text-align: right;\">\n",
       "      <th></th>\n",
       "      <th></th>\n",
       "      <th></th>\n",
       "      <th>GEOS-5_DC</th>\n",
       "      <th>GEOS-5_DMC</th>\n",
       "      <th>GEOS-5_FFMC</th>\n",
       "      <th>GEOS-5_ISI</th>\n",
       "      <th>GEOS-5_BUI</th>\n",
       "      <th>GEOS-5_FWI</th>\n",
       "      <th>GEOS-5_DSR</th>\n",
       "    </tr>\n",
       "    <tr>\n",
       "      <th>lat</th>\n",
       "      <th>lon</th>\n",
       "      <th>time</th>\n",
       "      <th></th>\n",
       "      <th></th>\n",
       "      <th></th>\n",
       "      <th></th>\n",
       "      <th></th>\n",
       "      <th></th>\n",
       "      <th></th>\n",
       "    </tr>\n",
       "  </thead>\n",
       "  <tbody>\n",
       "    <tr>\n",
       "      <th rowspan=\"5\" valign=\"top\">-58.0</th>\n",
       "      <th>-180.0000</th>\n",
       "      <th>1.0</th>\n",
       "      <td>NaN</td>\n",
       "      <td>NaN</td>\n",
       "      <td>NaN</td>\n",
       "      <td>NaN</td>\n",
       "      <td>NaN</td>\n",
       "      <td>NaN</td>\n",
       "      <td>NaN</td>\n",
       "    </tr>\n",
       "    <tr>\n",
       "      <th>-179.6875</th>\n",
       "      <th>1.0</th>\n",
       "      <td>NaN</td>\n",
       "      <td>NaN</td>\n",
       "      <td>NaN</td>\n",
       "      <td>NaN</td>\n",
       "      <td>NaN</td>\n",
       "      <td>NaN</td>\n",
       "      <td>NaN</td>\n",
       "    </tr>\n",
       "    <tr>\n",
       "      <th>-179.3750</th>\n",
       "      <th>1.0</th>\n",
       "      <td>NaN</td>\n",
       "      <td>NaN</td>\n",
       "      <td>NaN</td>\n",
       "      <td>NaN</td>\n",
       "      <td>NaN</td>\n",
       "      <td>NaN</td>\n",
       "      <td>NaN</td>\n",
       "    </tr>\n",
       "    <tr>\n",
       "      <th>-179.0625</th>\n",
       "      <th>1.0</th>\n",
       "      <td>NaN</td>\n",
       "      <td>NaN</td>\n",
       "      <td>NaN</td>\n",
       "      <td>NaN</td>\n",
       "      <td>NaN</td>\n",
       "      <td>NaN</td>\n",
       "      <td>NaN</td>\n",
       "    </tr>\n",
       "    <tr>\n",
       "      <th>-178.7500</th>\n",
       "      <th>1.0</th>\n",
       "      <td>NaN</td>\n",
       "      <td>NaN</td>\n",
       "      <td>NaN</td>\n",
       "      <td>NaN</td>\n",
       "      <td>NaN</td>\n",
       "      <td>NaN</td>\n",
       "      <td>NaN</td>\n",
       "    </tr>\n",
       "    <tr>\n",
       "      <th>...</th>\n",
       "      <th>...</th>\n",
       "      <th>...</th>\n",
       "      <td>...</td>\n",
       "      <td>...</td>\n",
       "      <td>...</td>\n",
       "      <td>...</td>\n",
       "      <td>...</td>\n",
       "      <td>...</td>\n",
       "      <td>...</td>\n",
       "    </tr>\n",
       "    <tr>\n",
       "      <th rowspan=\"5\" valign=\"top\">75.0</th>\n",
       "      <th>178.4375</th>\n",
       "      <th>1.0</th>\n",
       "      <td>NaN</td>\n",
       "      <td>NaN</td>\n",
       "      <td>NaN</td>\n",
       "      <td>NaN</td>\n",
       "      <td>NaN</td>\n",
       "      <td>NaN</td>\n",
       "      <td>NaN</td>\n",
       "    </tr>\n",
       "    <tr>\n",
       "      <th>178.7500</th>\n",
       "      <th>1.0</th>\n",
       "      <td>NaN</td>\n",
       "      <td>NaN</td>\n",
       "      <td>NaN</td>\n",
       "      <td>NaN</td>\n",
       "      <td>NaN</td>\n",
       "      <td>NaN</td>\n",
       "      <td>NaN</td>\n",
       "    </tr>\n",
       "    <tr>\n",
       "      <th>179.0625</th>\n",
       "      <th>1.0</th>\n",
       "      <td>NaN</td>\n",
       "      <td>NaN</td>\n",
       "      <td>NaN</td>\n",
       "      <td>NaN</td>\n",
       "      <td>NaN</td>\n",
       "      <td>NaN</td>\n",
       "      <td>NaN</td>\n",
       "    </tr>\n",
       "    <tr>\n",
       "      <th>179.3750</th>\n",
       "      <th>1.0</th>\n",
       "      <td>NaN</td>\n",
       "      <td>NaN</td>\n",
       "      <td>NaN</td>\n",
       "      <td>NaN</td>\n",
       "      <td>NaN</td>\n",
       "      <td>NaN</td>\n",
       "      <td>NaN</td>\n",
       "    </tr>\n",
       "    <tr>\n",
       "      <th>179.6875</th>\n",
       "      <th>1.0</th>\n",
       "      <td>NaN</td>\n",
       "      <td>NaN</td>\n",
       "      <td>NaN</td>\n",
       "      <td>NaN</td>\n",
       "      <td>NaN</td>\n",
       "      <td>NaN</td>\n",
       "      <td>NaN</td>\n",
       "    </tr>\n",
       "  </tbody>\n",
       "</table>\n",
       "<p>614016 rows × 7 columns</p>\n",
       "</div>"
      ],
      "text/plain": [
       "                      GEOS-5_DC  GEOS-5_DMC  GEOS-5_FFMC  GEOS-5_ISI  \\\n",
       "lat   lon       time                                                   \n",
       "-58.0 -180.0000 1.0         NaN         NaN          NaN         NaN   \n",
       "      -179.6875 1.0         NaN         NaN          NaN         NaN   \n",
       "      -179.3750 1.0         NaN         NaN          NaN         NaN   \n",
       "      -179.0625 1.0         NaN         NaN          NaN         NaN   \n",
       "      -178.7500 1.0         NaN         NaN          NaN         NaN   \n",
       "...                         ...         ...          ...         ...   \n",
       " 75.0  178.4375 1.0         NaN         NaN          NaN         NaN   \n",
       "       178.7500 1.0         NaN         NaN          NaN         NaN   \n",
       "       179.0625 1.0         NaN         NaN          NaN         NaN   \n",
       "       179.3750 1.0         NaN         NaN          NaN         NaN   \n",
       "       179.6875 1.0         NaN         NaN          NaN         NaN   \n",
       "\n",
       "                      GEOS-5_BUI  GEOS-5_FWI  GEOS-5_DSR  \n",
       "lat   lon       time                                      \n",
       "-58.0 -180.0000 1.0          NaN         NaN         NaN  \n",
       "      -179.6875 1.0          NaN         NaN         NaN  \n",
       "      -179.3750 1.0          NaN         NaN         NaN  \n",
       "      -179.0625 1.0          NaN         NaN         NaN  \n",
       "      -178.7500 1.0          NaN         NaN         NaN  \n",
       "...                          ...         ...         ...  \n",
       " 75.0  178.4375 1.0          NaN         NaN         NaN  \n",
       "       178.7500 1.0          NaN         NaN         NaN  \n",
       "       179.0625 1.0          NaN         NaN         NaN  \n",
       "       179.3750 1.0          NaN         NaN         NaN  \n",
       "       179.6875 1.0          NaN         NaN         NaN  \n",
       "\n",
       "[614016 rows x 7 columns]"
      ]
     },
     "execution_count": 9,
     "metadata": {},
     "output_type": "execute_result"
    }
   ],
   "source": [
    "fwi"
   ]
  },
  {
   "cell_type": "code",
   "execution_count": null,
   "metadata": {},
   "outputs": [],
   "source": []
  }
 ],
 "metadata": {
  "kernelspec": {
   "display_name": "Python (geospatial)",
   "language": "python",
   "name": "merging"
  },
  "language_info": {
   "codemirror_mode": {
    "name": "ipython",
    "version": 3
   },
   "file_extension": ".py",
   "mimetype": "text/x-python",
   "name": "python",
   "nbconvert_exporter": "python",
   "pygments_lexer": "ipython3",
   "version": "3.7.5"
  }
 },
 "nbformat": 4,
 "nbformat_minor": 4
}
