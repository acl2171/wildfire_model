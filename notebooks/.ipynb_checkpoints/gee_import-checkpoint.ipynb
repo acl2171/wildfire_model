{
 "cells": [
  {
   "cell_type": "markdown",
   "metadata": {},
   "source": [
    "### Importing Data from Google Earth Engine\n",
    "This notebook takes .tif files exported from google earth engine, scales them to the same dimensions, assigns lat and lon coordinates, and exports as pandas dataframe parquet file. "
   ]
  },
  {
   "cell_type": "code",
   "execution_count": 67,
   "metadata": {},
   "outputs": [],
   "source": [
    "import pandas as pd\n",
    "import numpy as np\n",
    "import rasterio as rio\n",
    "from affine import Affine\n",
    "import xarray as xr\n",
    "from rasterio.plot import show\n",
    "from rasterio.mask import mask\n",
    "import matplotlib.pyplot as plt\n",
    "import georasters as gr\n",
    "import geopandas\n",
    "from rastertodataframe import raster_to_dataframe\n",
    "import os\n",
    "from glob import glob\n",
    "from rasterio.plot import plotting_extent\n",
    "import geopandas as gpd\n",
    "import earthpy as et\n",
    "import earthpy.spatial as es\n",
    "import earthpy.plot as ep\n",
    "%run ../pyfiles/data_cleaning.py"
   ]
  },
  {
   "cell_type": "markdown",
   "metadata": {},
   "source": [
    "### Set data paths associated with time period to paths. Then run notebook to merge"
   ]
  },
  {
   "cell_type": "code",
   "execution_count": 69,
   "metadata": {},
   "outputs": [],
   "source": [
    "# Data paths\n",
    "# CRS.from_epsg(4326)\n",
    "fire = '../../finalproj_data/newdata/firemax_decwk22.tif' #float32\n",
    "air = '../../finalproj_data/newdata/air_decwk13.tif' #float32\n",
    "precip = '../../finalproj_data/newdata/precip_decwk22.tif' #float32\n",
    "veg = '../../finalproj_data/newdata/veg_decwk22.tif' #float32"
   ]
  },
  {
   "cell_type": "code",
   "execution_count": 70,
   "metadata": {},
   "outputs": [],
   "source": [
    "# # Use this code to check datatype of bands in each file\n",
    "# {i: dtype for i, dtype in zip(veg.indexes, veg.dtypes)}"
   ]
  },
  {
   "cell_type": "code",
   "execution_count": 71,
   "metadata": {},
   "outputs": [],
   "source": [
    "# Read file into rasterio\n",
    "fire = rio.open(fire)\n",
    "air = rio.open(air)\n",
    "precip = rio.open(precip)\n",
    "veg = rio.open(veg)"
   ]
  },
  {
   "cell_type": "code",
   "execution_count": 72,
   "metadata": {},
   "outputs": [],
   "source": [
    "# info from google earth engine\n",
    "fire_bands = ['FireMask', 'MaxFRP', 'QA', 'sample']\n",
    "veg_bands = ['EVI', 'EVI2', 'NVDI','NIR_reflectance', 'SWIR1_reflectance', \n",
    "             'SWIR2_reflectance', 'SWIR3_reflectance', 'VI_Quality', 'blue_reflectance',\n",
    "            'composite_day_of_the_year', 'green_reflectance', 'pixel_reliability',\n",
    "            'red_reflectance','relative_azimuth_angle','sun_zenith_angle','view_zenith_angle']\n",
    "veg_scale_factors = (604/700, 874/1193)\n",
    "\n",
    "precip_bands = ['gaugeQualityInfo', 'hourlyPrecipRate', 'hourlyPrecipRateGC', 'observationTimeFlag', 'satelliteInfoFlag']\n",
    "precip_scale_factors = (604/701, 874/874)\n",
    "\n",
    "air_bands = ['Albedo_inst', 'AvgSurfT_inst', 'CanopInt_inst', 'ECanop_tavg','ESoil_tavg', 'Evap_tavg', 'LWdown_f_tavg',\n",
    "'Lwnet_tavg', 'PotEvap_tavg', 'Psurf_f_inst', 'Qair_f_inst', 'Qg_tavg', 'Qh_tavg', 'Qle_tavg', \n",
    "'Qs_acc', 'Qsb_acc', 'Qsm_acc', 'Rainf_f_tavg', 'Rainf_tavg', 'RootMoist_inst', 'SWE_inst',\n",
    "'SWdown_f_tavg', 'SnowDepth_inst', 'Snowf_tavg', 'SoilMoi0_10cm_inst', 'SoilMoi100_200cm_inst',\n",
    "'SoilMoi10_40cm_inst', 'SoilMoi40_100cm_inst', 'SoilTMP0_10cm_inst', 'SoilTMP100_200cm_inst',\n",
    "'SoilTMP10_40cm_inst', 'SoilTMP40_100cm_inst', 'Swnet_tavg', 'Tair_f_inst', 'Tveg_tavg', 'Wind_f_inst']\n",
    "air_scale_factors = (604/701, 874/874)"
   ]
  },
  {
   "cell_type": "code",
   "execution_count": 73,
   "metadata": {},
   "outputs": [],
   "source": [
    "# Save bands as separate arrays and scale to appropriate dimensions\n",
    "FireMask = fire.read(1) # shape (604, 874)\n",
    "MaxFRP = fire.read(2)\n",
    "\n",
    "EVI = scale_variable(veg.read(1), veg_scale_factors)\n",
    "EVI2 = scale_variable(veg.read(2), veg_scale_factors)\n",
    "NVDI = scale_variable(veg.read(3), veg_scale_factors)\n",
    "NIR_reflectance = scale_variable(veg.read(4), veg_scale_factors)\n",
    "SWIR1_reflectance = scale_variable(veg.read(5), veg_scale_factors)\n",
    "SWIR2_reflectance = scale_variable(veg.read(6), veg_scale_factors)\n",
    "SWIR3_reflectance = scale_variable(veg.read(7), veg_scale_factors)\n",
    "VI_Quality = scale_variable(veg.read(8), veg_scale_factors)\n",
    "blue_reflectance = scale_variable(veg.read(9), veg_scale_factors)\n",
    "composite_day_of_the_year = scale_variable(veg.read(10), veg_scale_factors)\n",
    "green_reflectance = scale_variable(veg.read(11), veg_scale_factors)\n",
    "pixel_reliability = scale_variable(veg.read(12), veg_scale_factors)\n",
    "red_reflectance = scale_variable(veg.read(13), veg_scale_factors)\n",
    "relative_azimuth_angle = scale_variable(veg.read(14), veg_scale_factors)\n",
    "sun_zenith_angle = scale_variable(veg.read(15), veg_scale_factors)\n",
    "view_zenith_angle = scale_variable(veg.read(16), veg_scale_factors)\n",
    "\n",
    "gaugeQualityInfo = scale_variable(precip.read(1), precip_scale_factors)\n",
    "hourlyPrecipRate = scale_variable(precip.read(2), precip_scale_factors)\n",
    "hourlyPrecipRateGC = scale_variable(precip.read(3), precip_scale_factors)\n",
    "observationTimeFlag = scale_variable(precip.read(4), precip_scale_factors)\n",
    "satelliteInfoFlag = scale_variable(precip.read(5), precip_scale_factors)\n",
    "\n",
    "Albedo_inst = scale_variable(air.read(1), air_scale_factors)\n",
    "AvgSurfT_inst = scale_variable(air.read(2), air_scale_factors)\n",
    "CanopInt_inst = scale_variable(air.read(3), air_scale_factors)\n",
    "ECanop_tavg = scale_variable(air.read(4), air_scale_factors)\n",
    "ESoil_tavg = scale_variable(air.read(5), air_scale_factors)\n",
    "Evap_tavg = scale_variable(air.read(6), air_scale_factors)\n",
    "LWdown_f_tavg = scale_variable(air.read(7), air_scale_factors)\n",
    "Lwnet_tavg = scale_variable(air.read(8), air_scale_factors)\n",
    "PotEvap_tavg = scale_variable(air.read(9), air_scale_factors)\n",
    "Psurf_f_inst = scale_variable(air.read(10), air_scale_factors)\n",
    "Qair_f_inst = scale_variable(air.read(11), air_scale_factors)\n",
    "Qg_tavg = scale_variable(air.read(12), air_scale_factors)\n",
    "Qh_tavg = scale_variable(air.read(13), air_scale_factors)\n",
    "Qle_tavg = scale_variable(air.read(14), air_scale_factors)\n",
    "Qs_acc = scale_variable(air.read(15), air_scale_factors)\n",
    "Qsb_acc = scale_variable(air.read(16), air_scale_factors)\n",
    "Qsm_acc = scale_variable(air.read(17), air_scale_factors)\n",
    "Rainf_f_tavg = scale_variable(air.read(18), air_scale_factors)\n",
    "Rainf_tavg = scale_variable(air.read(19), air_scale_factors)\n",
    "RootMoist_inst = scale_variable(air.read(20), air_scale_factors)\n",
    "SWE_inst = scale_variable(air.read(21), air_scale_factors)\n",
    "SWdown_f_tavg = scale_variable(air.read(22), air_scale_factors)\n",
    "SnowDepth_inst = scale_variable(air.read(23), air_scale_factors)\n",
    "Snowf_tavg = scale_variable(air.read(24), air_scale_factors)\n",
    "SoilMoi0_10cm_inst = scale_variable(air.read(25), air_scale_factors)\n",
    "SoilMoi100_200cm_inst = scale_variable(air.read(26), air_scale_factors)\n",
    "SoilMoi10_40cm_inst = scale_variable(air.read(27), air_scale_factors)\n",
    "SoilMoi40_100cm_inst = scale_variable(air.read(28), air_scale_factors)\n",
    "SoilTMP0_10cm_inst = scale_variable(air.read(29), air_scale_factors)\n",
    "SoilTMP100_200cm_inst = scale_variable(air.read(30), air_scale_factors)\n",
    "SoilTMP10_40cm_inst = scale_variable(air.read(31), air_scale_factors)\n",
    "SoilTMP40_100cm_inst = scale_variable(air.read(32), air_scale_factors)\n",
    "Swnet_tavg = scale_variable(air.read(33), air_scale_factors)\n",
    "Tair_f_inst = scale_variable(air.read(34), air_scale_factors)\n",
    "Tveg_tavg = scale_variable(air.read(35), air_scale_factors)\n",
    "Wind_f_inst = scale_variable(air.read(36), air_scale_factors)"
   ]
  },
  {
   "cell_type": "markdown",
   "metadata": {},
   "source": [
    "### Create latitude and longitude coordinates"
   ]
  },
  {
   "cell_type": "code",
   "execution_count": 74,
   "metadata": {},
   "outputs": [
    {
     "name": "stdout",
     "output_type": "stream",
     "text": [
      "BoundingBox(left=84.17214212199916, bottom=-48.86835145610197, right=162.68489795404534, top=5.389891704717129)\n",
      "(604, 874)\n"
     ]
    }
   ],
   "source": [
    "print(fire.bounds)\n",
    "print(fire.shape) #longitude, latitude"
   ]
  },
  {
   "cell_type": "code",
   "execution_count": 75,
   "metadata": {},
   "outputs": [
    {
     "data": {
      "text/plain": [
       "(604,)"
      ]
     },
     "execution_count": 75,
     "metadata": {},
     "output_type": "execute_result"
    }
   ],
   "source": [
    "# Define latitude\n",
    "xlat = np.linspace(-48.86835145610197, 5.389891704717129, 604)\n",
    "xlat.shape"
   ]
  },
  {
   "cell_type": "code",
   "execution_count": 76,
   "metadata": {},
   "outputs": [
    {
     "data": {
      "text/plain": [
       "(874,)"
      ]
     },
     "execution_count": 76,
     "metadata": {},
     "output_type": "execute_result"
    }
   ],
   "source": [
    "# Define longitude\n",
    "ylon = np.linspace(84.17214212199916, 162.68489795404534, 874)\n",
    "ylon.shape"
   ]
  },
  {
   "cell_type": "markdown",
   "metadata": {},
   "source": [
    "### Create an xarray Dataset"
   ]
  },
  {
   "cell_type": "code",
   "execution_count": 77,
   "metadata": {},
   "outputs": [],
   "source": [
    "array = xr.DataArray(FireMask, [('lat', xlat), ('lon', ylon)])"
   ]
  },
  {
   "cell_type": "code",
   "execution_count": 78,
   "metadata": {},
   "outputs": [],
   "source": [
    "ds = array.to_dataset(name = \"firemask\")"
   ]
  },
  {
   "cell_type": "code",
   "execution_count": 81,
   "metadata": {},
   "outputs": [],
   "source": [
    "ds = ds.assign(MaxFRP = (('lat', 'lon'), MaxFRP))\n",
    "\n",
    "# Veg bands\n",
    "ds = ds.assign(EVI = (('lat', 'lon'), EVI))\n",
    "ds = ds.assign(EVI2 = (('lat', 'lon'), EVI2))\n",
    "ds = ds.assign(NVDI = (('lat', 'lon'), NVDI))\n",
    "ds = ds.assign(NIR_reflectance = (('lat', 'lon'), NIR_reflectance))\n",
    "ds = ds.assign(SWIR1_reflectance = (('lat', 'lon'), SWIR1_reflectance))\n",
    "ds = ds.assign(SWIR2_reflectance = (('lat', 'lon'), SWIR2_reflectance))\n",
    "ds = ds.assign(SWIR3_reflectance = (('lat', 'lon'), SWIR3_reflectance))\n",
    "ds = ds.assign(VI_Quality = (('lat', 'lon'), VI_Quality))\n",
    "ds = ds.assign(blue_reflectance = (('lat', 'lon'), blue_reflectance))\n",
    "ds = ds.assign(composite_day_of_the_year = (('lat', 'lon'), composite_day_of_the_year))\n",
    "ds = ds.assign(green_reflectance = (('lat', 'lon'), green_reflectance))\n",
    "ds = ds.assign(pixel_reliability = (('lat', 'lon'), pixel_reliability))\n",
    "ds = ds.assign(red_reflectance = (('lat', 'lon'), red_reflectance))\n",
    "ds = ds.assign(relative_azimuth_angle = (('lat', 'lon'), relative_azimuth_angle))\n",
    "ds = ds.assign(sun_zenith_angle = (('lat', 'lon'), sun_zenith_angle))\n",
    "ds = ds.assign(view_zenith_angle = (('lat', 'lon'), view_zenith_angle))\n",
    "\n",
    "# Precip bands\n",
    "ds = ds.assign(gaugeQualityInfo = (('lat', 'lon'), gaugeQualityInfo))\n",
    "ds = ds.assign(hourlyPrecipRate = (('lat', 'lon'), hourlyPrecipRate))\n",
    "ds = ds.assign(hourlyPrecipRateGC = (('lat', 'lon'), hourlyPrecipRateGC))\n",
    "ds = ds.assign(observationTimeFlag = (('lat', 'lon'), observationTimeFlag))\n",
    "ds = ds.assign(satelliteInfoFlag = (('lat', 'lon'), satelliteInfoFlag))\n",
    "\n",
    "# air bands\n",
    "ds = ds.assign(Albedo_inst = (('lat', 'lon'), Albedo_inst))\n",
    "ds = ds.assign(AvgSurfT_inst = (('lat', 'lon'), CanopInt_inst))\n",
    "ds = ds.assign(CanopInt_inst = (('lat', 'lon'), CanopInt_inst))\n",
    "ds = ds.assign(ECanop_tavg = (('lat', 'lon'), ECanop_tavg))\n",
    "ds = ds.assign(ESoil_tavg = (('lat', 'lon'), ESoil_tavg))\n",
    "ds = ds.assign(Evap_tavg = (('lat', 'lon'), Evap_tavg))\n",
    "ds = ds.assign(LWdown_f_tavg = (('lat', 'lon'), LWdown_f_tavg))\n",
    "ds = ds.assign(Lwnet_tavg = (('lat', 'lon'), Lwnet_tavg))\n",
    "ds = ds.assign(PotEvap_tavg = (('lat', 'lon'), PotEvap_tavg))\n",
    "ds = ds.assign(Psurf_f_inst = (('lat', 'lon'), Psurf_f_inst))\n",
    "ds = ds.assign(Qair_f_inst = (('lat', 'lon'), Qair_f_inst))\n",
    "ds = ds.assign(Qg_tavg = (('lat', 'lon'), Qg_tavg))\n",
    "ds = ds.assign(Qh_tavg = (('lat', 'lon'), Qh_tavg))\n",
    "ds = ds.assign(Qle_tavg = (('lat', 'lon'), Qle_tavg))\n",
    "ds = ds.assign(Qs_acc = (('lat', 'lon'), Qs_acc))\n",
    "ds = ds.assign(Qsb_acc = (('lat', 'lon'), Qsb_acc))\n",
    "ds = ds.assign(Qsm_acc = (('lat', 'lon'), Qsm_acc))\n",
    "ds = ds.assign(Rainf_f_tavg = (('lat', 'lon'), Rainf_f_tavg))\n",
    "ds = ds.assign(RootMoist_inst = (('lat', 'lon'), RootMoist_inst))\n",
    "ds = ds.assign(SWE_inst = (('lat', 'lon'), SWE_inst))\n",
    "ds = ds.assign(SWdown_f_tavg = (('lat', 'lon'), SWdown_f_tavg))\n",
    "ds = ds.assign(SnowDepth_inst = (('lat', 'lon'), SnowDepth_inst))\n",
    "ds = ds.assign(Snowf_tavg = (('lat', 'lon'), Snowf_tavg))\n",
    "ds = ds.assign(SoilMoi100_200cm_inst = (('lat', 'lon'), SoilMoi100_200cm_inst))\n",
    "ds = ds.assign(SoilMoi10_40cm_inst = (('lat', 'lon'), SoilMoi10_40cm_inst))\n",
    "ds = ds.assign(SoilMoi40_100cm_inst = (('lat', 'lon'), SoilMoi40_100cm_inst))\n",
    "ds = ds.assign(SoilTMP0_10cm_inst = (('lat', 'lon'), SoilTMP0_10cm_inst))\n",
    "ds = ds.assign(SoilMoi0_10cm_inst = (('lat', 'lon'), SoilMoi0_10cm_inst))\n",
    "ds = ds.assign(SoilTMP100_200cm_inst = (('lat', 'lon'), SoilTMP100_200cm_inst))\n",
    "ds = ds.assign(SoilTMP10_40cm_inst = (('lat', 'lon'), SoilTMP10_40cm_inst))\n",
    "ds = ds.assign(SoilTMP40_100cm_inst = (('lat', 'lon'), SoilTMP40_100cm_inst))\n",
    "ds = ds.assign(Swnet_tavg = (('lat', 'lon'), Swnet_tavg))\n",
    "ds = ds.assign(Tair_f_inst = (('lat', 'lon'), Tair_f_inst))\n",
    "ds = ds.assign(Tveg_tavg = (('lat', 'lon'), Tveg_tavg))\n",
    "ds = ds.assign(Wind_f_inst = (('lat', 'lon'), Wind_f_inst))"
   ]
  },
  {
   "cell_type": "markdown",
   "metadata": {},
   "source": [
    "### Convert to pandas dataframe"
   ]
  },
  {
   "cell_type": "code",
   "execution_count": 84,
   "metadata": {},
   "outputs": [],
   "source": [
    "ds_df = ds.to_dataframe()\n",
    "ds_df.reset_index(inplace = True)"
   ]
  },
  {
   "cell_type": "code",
   "execution_count": 85,
   "metadata": {},
   "outputs": [
    {
     "data": {
      "text/html": [
       "<div>\n",
       "<style scoped>\n",
       "    .dataframe tbody tr th:only-of-type {\n",
       "        vertical-align: middle;\n",
       "    }\n",
       "\n",
       "    .dataframe tbody tr th {\n",
       "        vertical-align: top;\n",
       "    }\n",
       "\n",
       "    .dataframe thead th {\n",
       "        text-align: right;\n",
       "    }\n",
       "</style>\n",
       "<table border=\"1\" class=\"dataframe\">\n",
       "  <thead>\n",
       "    <tr style=\"text-align: right;\">\n",
       "      <th></th>\n",
       "      <th>lat</th>\n",
       "      <th>lon</th>\n",
       "      <th>firemask</th>\n",
       "      <th>MaxFRP</th>\n",
       "      <th>EVI</th>\n",
       "      <th>EVI2</th>\n",
       "      <th>NVDI</th>\n",
       "      <th>NIR_reflectance</th>\n",
       "      <th>SWIR1_reflectance</th>\n",
       "      <th>SWIR2_reflectance</th>\n",
       "      <th>...</th>\n",
       "      <th>SoilMoi40_100cm_inst</th>\n",
       "      <th>SoilTMP0_10cm_inst</th>\n",
       "      <th>SoilMoi0_10cm_inst</th>\n",
       "      <th>SoilTMP100_200cm_inst</th>\n",
       "      <th>SoilTMP10_40cm_inst</th>\n",
       "      <th>SoilTMP40_100cm_inst</th>\n",
       "      <th>Swnet_tavg</th>\n",
       "      <th>Tair_f_inst</th>\n",
       "      <th>Tveg_tavg</th>\n",
       "      <th>Wind_f_inst</th>\n",
       "    </tr>\n",
       "  </thead>\n",
       "  <tbody>\n",
       "    <tr>\n",
       "      <th>0</th>\n",
       "      <td>-48.868351</td>\n",
       "      <td>84.172142</td>\n",
       "      <td>4.0</td>\n",
       "      <td>NaN</td>\n",
       "      <td>NaN</td>\n",
       "      <td>NaN</td>\n",
       "      <td>NaN</td>\n",
       "      <td>NaN</td>\n",
       "      <td>NaN</td>\n",
       "      <td>NaN</td>\n",
       "      <td>...</td>\n",
       "      <td>NaN</td>\n",
       "      <td>NaN</td>\n",
       "      <td>NaN</td>\n",
       "      <td>NaN</td>\n",
       "      <td>NaN</td>\n",
       "      <td>NaN</td>\n",
       "      <td>NaN</td>\n",
       "      <td>NaN</td>\n",
       "      <td>NaN</td>\n",
       "      <td>NaN</td>\n",
       "    </tr>\n",
       "    <tr>\n",
       "      <th>1</th>\n",
       "      <td>-48.868351</td>\n",
       "      <td>84.262077</td>\n",
       "      <td>4.0</td>\n",
       "      <td>NaN</td>\n",
       "      <td>NaN</td>\n",
       "      <td>NaN</td>\n",
       "      <td>NaN</td>\n",
       "      <td>NaN</td>\n",
       "      <td>NaN</td>\n",
       "      <td>NaN</td>\n",
       "      <td>...</td>\n",
       "      <td>NaN</td>\n",
       "      <td>NaN</td>\n",
       "      <td>NaN</td>\n",
       "      <td>NaN</td>\n",
       "      <td>NaN</td>\n",
       "      <td>NaN</td>\n",
       "      <td>NaN</td>\n",
       "      <td>NaN</td>\n",
       "      <td>NaN</td>\n",
       "      <td>NaN</td>\n",
       "    </tr>\n",
       "    <tr>\n",
       "      <th>2</th>\n",
       "      <td>-48.868351</td>\n",
       "      <td>84.352011</td>\n",
       "      <td>4.0</td>\n",
       "      <td>NaN</td>\n",
       "      <td>NaN</td>\n",
       "      <td>NaN</td>\n",
       "      <td>NaN</td>\n",
       "      <td>NaN</td>\n",
       "      <td>NaN</td>\n",
       "      <td>NaN</td>\n",
       "      <td>...</td>\n",
       "      <td>NaN</td>\n",
       "      <td>NaN</td>\n",
       "      <td>NaN</td>\n",
       "      <td>NaN</td>\n",
       "      <td>NaN</td>\n",
       "      <td>NaN</td>\n",
       "      <td>NaN</td>\n",
       "      <td>NaN</td>\n",
       "      <td>NaN</td>\n",
       "      <td>NaN</td>\n",
       "    </tr>\n",
       "    <tr>\n",
       "      <th>3</th>\n",
       "      <td>-48.868351</td>\n",
       "      <td>84.441945</td>\n",
       "      <td>4.0</td>\n",
       "      <td>NaN</td>\n",
       "      <td>NaN</td>\n",
       "      <td>NaN</td>\n",
       "      <td>NaN</td>\n",
       "      <td>NaN</td>\n",
       "      <td>NaN</td>\n",
       "      <td>NaN</td>\n",
       "      <td>...</td>\n",
       "      <td>NaN</td>\n",
       "      <td>NaN</td>\n",
       "      <td>NaN</td>\n",
       "      <td>NaN</td>\n",
       "      <td>NaN</td>\n",
       "      <td>NaN</td>\n",
       "      <td>NaN</td>\n",
       "      <td>NaN</td>\n",
       "      <td>NaN</td>\n",
       "      <td>NaN</td>\n",
       "    </tr>\n",
       "    <tr>\n",
       "      <th>4</th>\n",
       "      <td>-48.868351</td>\n",
       "      <td>84.531880</td>\n",
       "      <td>4.0</td>\n",
       "      <td>NaN</td>\n",
       "      <td>NaN</td>\n",
       "      <td>NaN</td>\n",
       "      <td>NaN</td>\n",
       "      <td>NaN</td>\n",
       "      <td>NaN</td>\n",
       "      <td>NaN</td>\n",
       "      <td>...</td>\n",
       "      <td>NaN</td>\n",
       "      <td>NaN</td>\n",
       "      <td>NaN</td>\n",
       "      <td>NaN</td>\n",
       "      <td>NaN</td>\n",
       "      <td>NaN</td>\n",
       "      <td>NaN</td>\n",
       "      <td>NaN</td>\n",
       "      <td>NaN</td>\n",
       "      <td>NaN</td>\n",
       "    </tr>\n",
       "  </tbody>\n",
       "</table>\n",
       "<p>5 rows × 60 columns</p>\n",
       "</div>"
      ],
      "text/plain": [
       "         lat        lon  firemask  MaxFRP  EVI  EVI2  NVDI  NIR_reflectance  \\\n",
       "0 -48.868351  84.172142       4.0     NaN  NaN   NaN   NaN              NaN   \n",
       "1 -48.868351  84.262077       4.0     NaN  NaN   NaN   NaN              NaN   \n",
       "2 -48.868351  84.352011       4.0     NaN  NaN   NaN   NaN              NaN   \n",
       "3 -48.868351  84.441945       4.0     NaN  NaN   NaN   NaN              NaN   \n",
       "4 -48.868351  84.531880       4.0     NaN  NaN   NaN   NaN              NaN   \n",
       "\n",
       "   SWIR1_reflectance  SWIR2_reflectance  ...  SoilMoi40_100cm_inst  \\\n",
       "0                NaN                NaN  ...                   NaN   \n",
       "1                NaN                NaN  ...                   NaN   \n",
       "2                NaN                NaN  ...                   NaN   \n",
       "3                NaN                NaN  ...                   NaN   \n",
       "4                NaN                NaN  ...                   NaN   \n",
       "\n",
       "   SoilTMP0_10cm_inst  SoilMoi0_10cm_inst  SoilTMP100_200cm_inst  \\\n",
       "0                 NaN                 NaN                    NaN   \n",
       "1                 NaN                 NaN                    NaN   \n",
       "2                 NaN                 NaN                    NaN   \n",
       "3                 NaN                 NaN                    NaN   \n",
       "4                 NaN                 NaN                    NaN   \n",
       "\n",
       "   SoilTMP10_40cm_inst  SoilTMP40_100cm_inst  Swnet_tavg  Tair_f_inst  \\\n",
       "0                  NaN                   NaN         NaN          NaN   \n",
       "1                  NaN                   NaN         NaN          NaN   \n",
       "2                  NaN                   NaN         NaN          NaN   \n",
       "3                  NaN                   NaN         NaN          NaN   \n",
       "4                  NaN                   NaN         NaN          NaN   \n",
       "\n",
       "   Tveg_tavg  Wind_f_inst  \n",
       "0        NaN          NaN  \n",
       "1        NaN          NaN  \n",
       "2        NaN          NaN  \n",
       "3        NaN          NaN  \n",
       "4        NaN          NaN  \n",
       "\n",
       "[5 rows x 60 columns]"
      ]
     },
     "execution_count": 85,
     "metadata": {},
     "output_type": "execute_result"
    }
   ],
   "source": [
    "ds_df.head()"
   ]
  },
  {
   "cell_type": "code",
   "execution_count": 87,
   "metadata": {},
   "outputs": [],
   "source": [
    "ds_df.to_parquet('../../finalproj_data/ds_df.parquet')"
   ]
  },
  {
   "cell_type": "code",
   "execution_count": null,
   "metadata": {},
   "outputs": [],
   "source": []
  }
 ],
 "metadata": {
  "kernelspec": {
   "display_name": "Python (geospatial)",
   "language": "python",
   "name": "merging"
  },
  "language_info": {
   "codemirror_mode": {
    "name": "ipython",
    "version": 3
   },
   "file_extension": ".py",
   "mimetype": "text/x-python",
   "name": "python",
   "nbconvert_exporter": "python",
   "pygments_lexer": "ipython3",
   "version": "3.7.5"
  }
 },
 "nbformat": 4,
 "nbformat_minor": 4
}
