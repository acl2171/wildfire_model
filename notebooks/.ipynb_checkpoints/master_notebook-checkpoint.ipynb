{
 "cells": [
  {
   "cell_type": "markdown",
   "metadata": {},
   "source": [
    "# Predicting Wildfires from Satellite Data"
   ]
  },
  {
   "cell_type": "markdown",
   "metadata": {},
   "source": [
    "Contributor: Allison Lee"
   ]
  },
  {
   "cell_type": "markdown",
   "metadata": {},
   "source": [
    "### Table of Contents\n",
    "<a href=#sources>Data Sources</a>"
   ]
  },
  {
   "cell_type": "markdown",
   "metadata": {},
   "source": [
    "<a id=sources></a>\n",
    "### Data Sources"
   ]
  },
  {
   "cell_type": "markdown",
   "metadata": {},
   "source": [
    " - from ApPEEARS application \n",
    " - Sources:\n",
    "      - <a href='https://lpdaac.usgs.gov/products/mcd64a1v006/'>MCD64A1 Version 6 Burned Area data product</a>\n",
    "      - <a href='https://lpdaac.usgs.gov/products/mod16a2v006/'>MOD16A2 Version 6 Evapotranspiration/Latent Heat Flux product</a>\n",
    "      - <a href='https://lpdaac.usgs.gov/products/vnp13a2v001/'>Suomi National Polar-Orbiting Partnership (S-NPP) NASA Visible Infrared Imaging Radiometer Suite (VIIRS) Vegetation Indices (VNP13A2) Version 1 data product</a>\n",
    "      - <a href='https://lpdaac.usgs.gov/products/vnp14a1v001/'>Suomi National Polar-Orbiting Partnership (S-NPP) NASA Visible Infrared Imaging Radiometer Suite (VIIRS) Thermal Anomalies/Fire (VNP14A1) Version 1 data product</a>\n",
    "      - <a href='https://data.giss.nasa.gov/impacts/gfwed/'>Global Fire Weather Database</a>"
   ]
  },
  {
   "cell_type": "code",
   "execution_count": null,
   "metadata": {},
   "outputs": [],
   "source": []
  }
 ],
 "metadata": {
  "kernelspec": {
   "display_name": "Python (geospatial)",
   "language": "python",
   "name": "merging"
  },
  "language_info": {
   "codemirror_mode": {
    "name": "ipython",
    "version": 3
   },
   "file_extension": ".py",
   "mimetype": "text/x-python",
   "name": "python",
   "nbconvert_exporter": "python",
   "pygments_lexer": "ipython3",
   "version": "3.7.5"
  }
 },
 "nbformat": 4,
 "nbformat_minor": 4
}
