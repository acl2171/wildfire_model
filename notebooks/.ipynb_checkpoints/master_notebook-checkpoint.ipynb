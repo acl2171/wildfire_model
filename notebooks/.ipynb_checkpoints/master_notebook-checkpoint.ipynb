{
 "cells": [
  {
   "cell_type": "markdown",
   "metadata": {},
   "source": [
    "# Predicting Wildfires from Satellite Data"
   ]
  },
  {
   "cell_type": "markdown",
   "metadata": {},
   "source": [
    "Contributor: Allison Lee"
   ]
  },
  {
   "cell_type": "markdown",
   "metadata": {},
   "source": [
    "### Table of Contents\n",
    "<a href=#sources>Data Sources</a>"
   ]
  },
  {
   "cell_type": "markdown",
   "metadata": {},
   "source": [
    "<a id=sources></a>\n",
    "### Data Sources"
   ]
  },
  {
   "cell_type": "markdown",
   "metadata": {},
   "source": [
    " - from ApPEEARS application \n",
    " - Sources:\n",
    "      - <a href='https://lpdaac.usgs.gov/products/mcd64a1v006/'>MCD64A1 Version 6 Burned Area data product</a>\n",
    "      - <a href='https://lpdaac.usgs.gov/products/mod16a2v006/'>MOD16A2 Version 6 Evapotranspiration/Latent Heat Flux product</a>\n",
    "      - <a href='https://lpdaac.usgs.gov/products/vnp13a2v001/'>Suomi National Polar-Orbiting Partnership (S-NPP) NASA Visible Infrared Imaging Radiometer Suite (VIIRS) Vegetation Indices (VNP13A2) Version 1 data product</a>\n",
    "      - <a href='https://lpdaac.usgs.gov/products/vnp14a1v001/'>Suomi National Polar-Orbiting Partnership (S-NPP) NASA Visible Infrared Imaging Radiometer Suite (VIIRS) Thermal Anomalies/Fire (VNP14A1) Version 1 data product</a>\n",
    "      - <a href='https://data.giss.nasa.gov/impacts/gfwed/'>Global Fire Weather Database</a>"
   ]
  },
  {
   "cell_type": "code",
   "execution_count": 1,
   "metadata": {},
   "outputs": [],
   "source": [
    "# Clean up following information on data sources:"
   ]
  },
  {
   "cell_type": "markdown",
   "metadata": {},
   "source": [
    " - Earthdata profile\n",
    "\n",
    "    .nc files, which are NetCDF files often used in the scientific community\n",
    "\"an interface to a library of data access functions for storing and retrieving data in the form of arrays\"\n",
    "Suggested tool: netcdf4\n",
    "    \n",
    "    Other tools: Panoply https://www.giss.nasa.gov/tools/panoply/download/"
   ]
  },
  {
   "cell_type": "markdown",
   "metadata": {},
   "source": [
    "\"The Global Fire WEather Database (GFWED) integrates different weather factors influencing the likelihood of a vegetation fire starting and spreading. It is based on the Fire Weather Index (FWI) System, the most widely used fire weather system in the world. The FWI System was developed in Canada, and is composed of three moisture codes and three fire behavior indices. The moisture codes capture the moisture content of three generalized fuel classes and the behavior indices reflect the spread rate, fuel consumption and intensity of a fire if it were to start. Details on the development and testing of GFWED can be found in Field et al. (2015), applications of the FWI System can be found in Taylor and Alexander (2006), and technical descriptions are provided by van Wagner (1987) and Dowdy et al. (2009).\"\n",
    "On the development of the database: https://pubs.giss.nasa.gov/abs/fi05200z.html\n",
    "For questions contact: https://www.giss.nasa.gov/staff/rfield.html\n",
    "Oct - Dec 2019 data (one file per month) downloaded from https://portal.nccs.nasa.gov/datashare/GlobalFWI/v2.0/fwiCalcs.GEOS-5/Default/GEOS-5/2019/\n",
    "\n",
    "The only documentation of the variable names! https://www.nature.com/articles/sdata201932\n",
    "\n",
    "Read: https://journals.ametsoc.org/doi/full/10.1175/jamc-d-15-0297.1?mobileUi=0&\n",
    "To classify FWI into danger categories: https://pdfs.semanticscholar.org/673d/0ba6ffbb1ca32a26216de6a29f6d18a35b48.pdf"
   ]
  },
  {
   "cell_type": "markdown",
   "metadata": {},
   "source": [
    "Satellite Data from MODIS on Burned Areas\n",
    "Data Source: MCD64A1 v006\n",
    "\n",
    "MODIS/Terra Thermal Anomalies/Fire 8-Day L3 Global 1 km SIN Grid\n",
    "From : https://lpdaac.usgs.gov/products/mod14a2v006/\n",
    "Downloaded through : AppEEARS application\n",
    "Documentation for the Dataset: https://lpdaac.usgs.gov/documents/114/MCD64_User_Guide_V6.pdf\n",
    "Burn Date: Ordinal day of burn (1-366) for each 500-m grid cell, with 0 = unburned land, -1 = unmapped due to insufficient data, and -2 = water\n",
    "because grids are unmanageably large (500m grid) - they are divided into fixed tiles approximately 10◦× 10◦ in size. Each tile is assigned a horizontal (H) and vertical (V) coordinate, ranging from 0 to 35 and 0 to 17, respectively"
   ]
  }
 ],
 "metadata": {
  "kernelspec": {
   "display_name": "Python (geospatial)",
   "language": "python",
   "name": "merging"
  },
  "language_info": {
   "codemirror_mode": {
    "name": "ipython",
    "version": 3
   },
   "file_extension": ".py",
   "mimetype": "text/x-python",
   "name": "python",
   "nbconvert_exporter": "python",
   "pygments_lexer": "ipython3",
   "version": "3.7.5"
  }
 },
 "nbformat": 4,
 "nbformat_minor": 4
}
