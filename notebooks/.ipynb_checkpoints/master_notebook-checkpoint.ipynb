{
 "cells": [
  {
   "cell_type": "markdown",
   "metadata": {},
   "source": [
    "# Identifying Wildfires from Satellite Data"
   ]
  },
  {
   "cell_type": "markdown",
   "metadata": {},
   "source": [
    "Contributor: Allison Lee"
   ]
  },
  {
   "cell_type": "markdown",
   "metadata": {},
   "source": [
    "### Note: This notebook is currently under construction! I am consolidating a summary on the final data and model, as both went through several iterations through the course of this project."
   ]
  },
  {
   "cell_type": "markdown",
   "metadata": {},
   "source": [
    "### Table of Contents\n",
    "<a href=#summary>Context and Challenge</a><br>\n",
    "<a href=#apprach>Approach</a><br>\n",
    "<a href=#sources>Data Sources</a><br>\n",
    "<a href=#collect>Data Collection</a><br>\n",
    "<a href=#model>Modeling</a><br>\n",
    "<a href=#findings>Findings and Analysis</a><br>\n",
    "<a href=#next>Next Steps</a>"
   ]
  },
  {
   "cell_type": "code",
   "execution_count": null,
   "metadata": {},
   "outputs": [],
   "source": [
    "# import libraries"
   ]
  },
  {
   "cell_type": "markdown",
   "metadata": {},
   "source": [
    "<a id=summary></a>\n",
    "### Context and Challenge"
   ]
  },
  {
   "cell_type": "markdown",
   "metadata": {},
   "source": [
    "Natural disasters will become a major challenge in the coming years as climate change proceeds at a terrifying pace. Australia has experienced wildfires of unprecedented scale over the last several months of 2019 and into 2020, exacerbated by record-breaking temperatures and prolonged drought.  "
   ]
  },
  {
   "cell_type": "markdown",
   "metadata": {},
   "source": [
    "As fires reach certain intensities, they interact with the atmosphere to form their own weather patterns. These characteristics make modeling wildfire behavior difficult.<br>\n",
    "\n",
    "Other approaches have sought to model the fire as an agent that makes decisions under different conditions. Others, such as <a href='https://staff.ucar.edu/users/janicec'>Coen</a>, have developed coupled weather-fire computer simulation models. "
   ]
  },
  {
   "cell_type": "markdown",
   "metadata": {},
   "source": [
    "I'm interested in exploring whether machine learning approaches can successfully predict wildfire spread. This 2.5 week project focused on one point in time -- December 22, 2019 -- to explore whether machine learning can use weather data to distinguish between areas of active fire, burned areas, land, and water in Australia. "
   ]
  },
  {
   "cell_type": "markdown",
   "metadata": {},
   "source": [
    "<a id=approach></a>\n",
    "### Approach"
   ]
  },
  {
   "cell_type": "code",
   "execution_count": null,
   "metadata": {},
   "outputs": [],
   "source": []
  },
  {
   "cell_type": "markdown",
   "metadata": {},
   "source": [
    "<a id=sources></a>\n",
    "### Data Sources"
   ]
  },
  {
   "cell_type": "markdown",
   "metadata": {},
   "source": [
    "<a id=collect></a>\n",
    "### Data Collection"
   ]
  },
  {
   "cell_type": "markdown",
   "metadata": {},
   "source": [
    "<a id=model></a>\n",
    "### Modeling"
   ]
  },
  {
   "cell_type": "markdown",
   "metadata": {},
   "source": [
    "<a id=findings></a>\n",
    "### Findings and Analysis"
   ]
  },
  {
   "cell_type": "markdown",
   "metadata": {},
   "source": [
    "<a id=next></a>\n",
    "### Next Steps"
   ]
  }
 ],
 "metadata": {
  "kernelspec": {
   "display_name": "Python (geospatial)",
   "language": "python",
   "name": "merging"
  },
  "language_info": {
   "codemirror_mode": {
    "name": "ipython",
    "version": 3
   },
   "file_extension": ".py",
   "mimetype": "text/x-python",
   "name": "python",
   "nbconvert_exporter": "python",
   "pygments_lexer": "ipython3",
   "version": "3.7.5"
  }
 },
 "nbformat": 4,
 "nbformat_minor": 4
}
