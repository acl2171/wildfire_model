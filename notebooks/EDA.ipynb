{
 "cells": [
  {
   "cell_type": "code",
   "execution_count": 1,
   "metadata": {},
   "outputs": [],
   "source": [
    "### This notebook is for preliminary EDA and data collection. "
   ]
  },
  {
   "cell_type": "code",
   "execution_count": null,
   "metadata": {},
   "outputs": [],
   "source": [
    "# libraries\n",
    "# import pandas as pd\n",
    "import shapefile #pyshpb\n",
    "import geojson\n",
    "from geojson import Feature, Point, FeatureCollection"
   ]
  },
  {
   "cell_type": "markdown",
   "metadata": {},
   "source": [
    "## VIIRS Data"
   ]
  },
  {
   "cell_type": "markdown",
   "metadata": {},
   "source": [
    "### Playing with Shapefiles"
   ]
  },
  {
   "cell_type": "markdown",
   "metadata": {},
   "source": [
    "#### With GeoPandas"
   ]
  },
  {
   "cell_type": "code",
   "execution_count": 1,
   "metadata": {},
   "outputs": [],
   "source": [
    "import geopandas"
   ]
  },
  {
   "cell_type": "code",
   "execution_count": 2,
   "metadata": {},
   "outputs": [],
   "source": [
    "df = geopandas.read_file('../data/fire_archive_V1_94076.dbf')"
   ]
  },
  {
   "cell_type": "code",
   "execution_count": 6,
   "metadata": {},
   "outputs": [
    {
     "data": {
      "text/html": [
       "<div>\n",
       "<style scoped>\n",
       "    .dataframe tbody tr th:only-of-type {\n",
       "        vertical-align: middle;\n",
       "    }\n",
       "\n",
       "    .dataframe tbody tr th {\n",
       "        vertical-align: top;\n",
       "    }\n",
       "\n",
       "    .dataframe thead th {\n",
       "        text-align: right;\n",
       "    }\n",
       "</style>\n",
       "<table border=\"1\" class=\"dataframe\">\n",
       "  <thead>\n",
       "    <tr style=\"text-align: right;\">\n",
       "      <th></th>\n",
       "      <th>LATITUDE</th>\n",
       "      <th>LONGITUDE</th>\n",
       "      <th>BRIGHT_TI4</th>\n",
       "      <th>SCAN</th>\n",
       "      <th>TRACK</th>\n",
       "      <th>ACQ_DATE</th>\n",
       "      <th>ACQ_TIME</th>\n",
       "      <th>SATELLITE</th>\n",
       "      <th>INSTRUMENT</th>\n",
       "      <th>CONFIDENCE</th>\n",
       "      <th>VERSION</th>\n",
       "      <th>BRIGHT_TI5</th>\n",
       "      <th>FRP</th>\n",
       "      <th>TYPE</th>\n",
       "      <th>geometry</th>\n",
       "    </tr>\n",
       "  </thead>\n",
       "  <tbody>\n",
       "    <tr>\n",
       "      <th>0</th>\n",
       "      <td>39.44236</td>\n",
       "      <td>-78.59353</td>\n",
       "      <td>304.0</td>\n",
       "      <td>0.51</td>\n",
       "      <td>0.50</td>\n",
       "      <td>2019-01-01</td>\n",
       "      <td>0633</td>\n",
       "      <td>N</td>\n",
       "      <td>VIIRS</td>\n",
       "      <td>n</td>\n",
       "      <td>1</td>\n",
       "      <td>277.3</td>\n",
       "      <td>1.8</td>\n",
       "      <td>0</td>\n",
       "      <td>POINT (-78.59353 39.44236)</td>\n",
       "    </tr>\n",
       "    <tr>\n",
       "      <th>1</th>\n",
       "      <td>36.22957</td>\n",
       "      <td>-76.33179</td>\n",
       "      <td>297.7</td>\n",
       "      <td>0.54</td>\n",
       "      <td>0.42</td>\n",
       "      <td>2019-01-01</td>\n",
       "      <td>0634</td>\n",
       "      <td>N</td>\n",
       "      <td>VIIRS</td>\n",
       "      <td>n</td>\n",
       "      <td>1</td>\n",
       "      <td>280.7</td>\n",
       "      <td>0.3</td>\n",
       "      <td>0</td>\n",
       "      <td>POINT (-76.33179 36.22957)</td>\n",
       "    </tr>\n",
       "    <tr>\n",
       "      <th>2</th>\n",
       "      <td>35.16475</td>\n",
       "      <td>-78.01472</td>\n",
       "      <td>302.3</td>\n",
       "      <td>0.43</td>\n",
       "      <td>0.46</td>\n",
       "      <td>2019-01-01</td>\n",
       "      <td>0634</td>\n",
       "      <td>N</td>\n",
       "      <td>VIIRS</td>\n",
       "      <td>n</td>\n",
       "      <td>1</td>\n",
       "      <td>277.2</td>\n",
       "      <td>0.2</td>\n",
       "      <td>0</td>\n",
       "      <td>POINT (-78.01472 35.16475)</td>\n",
       "    </tr>\n",
       "    <tr>\n",
       "      <th>3</th>\n",
       "      <td>33.01357</td>\n",
       "      <td>-79.88728</td>\n",
       "      <td>327.1</td>\n",
       "      <td>0.51</td>\n",
       "      <td>0.50</td>\n",
       "      <td>2019-01-01</td>\n",
       "      <td>0635</td>\n",
       "      <td>N</td>\n",
       "      <td>VIIRS</td>\n",
       "      <td>n</td>\n",
       "      <td>1</td>\n",
       "      <td>284.9</td>\n",
       "      <td>2.8</td>\n",
       "      <td>2</td>\n",
       "      <td>POINT (-79.88728 33.01357)</td>\n",
       "    </tr>\n",
       "    <tr>\n",
       "      <th>4</th>\n",
       "      <td>32.46647</td>\n",
       "      <td>-81.36343</td>\n",
       "      <td>304.6</td>\n",
       "      <td>0.62</td>\n",
       "      <td>0.54</td>\n",
       "      <td>2019-01-01</td>\n",
       "      <td>0635</td>\n",
       "      <td>N</td>\n",
       "      <td>VIIRS</td>\n",
       "      <td>n</td>\n",
       "      <td>1</td>\n",
       "      <td>286.8</td>\n",
       "      <td>1.2</td>\n",
       "      <td>0</td>\n",
       "      <td>POINT (-81.36343 32.46647)</td>\n",
       "    </tr>\n",
       "  </tbody>\n",
       "</table>\n",
       "</div>"
      ],
      "text/plain": [
       "   LATITUDE  LONGITUDE  BRIGHT_TI4  SCAN  TRACK    ACQ_DATE ACQ_TIME  \\\n",
       "0  39.44236  -78.59353       304.0  0.51   0.50  2019-01-01     0633   \n",
       "1  36.22957  -76.33179       297.7  0.54   0.42  2019-01-01     0634   \n",
       "2  35.16475  -78.01472       302.3  0.43   0.46  2019-01-01     0634   \n",
       "3  33.01357  -79.88728       327.1  0.51   0.50  2019-01-01     0635   \n",
       "4  32.46647  -81.36343       304.6  0.62   0.54  2019-01-01     0635   \n",
       "\n",
       "  SATELLITE INSTRUMENT CONFIDENCE VERSION  BRIGHT_TI5  FRP  TYPE  \\\n",
       "0         N      VIIRS          n       1       277.3  1.8     0   \n",
       "1         N      VIIRS          n       1       280.7  0.3     0   \n",
       "2         N      VIIRS          n       1       277.2  0.2     0   \n",
       "3         N      VIIRS          n       1       284.9  2.8     2   \n",
       "4         N      VIIRS          n       1       286.8  1.2     0   \n",
       "\n",
       "                     geometry  \n",
       "0  POINT (-78.59353 39.44236)  \n",
       "1  POINT (-76.33179 36.22957)  \n",
       "2  POINT (-78.01472 35.16475)  \n",
       "3  POINT (-79.88728 33.01357)  \n",
       "4  POINT (-81.36343 32.46647)  "
      ]
     },
     "execution_count": 6,
     "metadata": {},
     "output_type": "execute_result"
    }
   ],
   "source": [
    "df.head()"
   ]
  },
  {
   "cell_type": "markdown",
   "metadata": {},
   "source": [
    "#### With PyShp"
   ]
  },
  {
   "cell_type": "code",
   "execution_count": null,
   "metadata": {},
   "outputs": [],
   "source": [
    "# Resource: https://pypi.org/project/pyshp/"
   ]
  },
  {
   "cell_type": "code",
   "execution_count": 52,
   "metadata": {},
   "outputs": [
    {
     "name": "stdout",
     "output_type": "stream",
     "text": [
      "shapefile Reader\n",
      "    371722 shapes (type 'POINT')\n",
      "    371722 records (15 fields)\n"
     ]
    }
   ],
   "source": [
    "# Read the shapefile into Python\n",
    "with shapefile.Reader(\"../data/fire_archive_V1_94076.dbf\") as sf:\n",
    "    print(sf)\n",
    "    \n",
    "    d = {}\n",
    "    for rec in sf.records():\n",
    "        d.update(rec.as_dict())\n",
    "    \n",
    "# A record in a shapefile contains the attributes for each shape in the collection of geometries. \n",
    "# Records are stored in the dbf file. "
   ]
  },
  {
   "cell_type": "code",
   "execution_count": 54,
   "metadata": {},
   "outputs": [
    {
     "name": "stdout",
     "output_type": "stream",
     "text": [
      "{u'BRIGHT_TI4': 327.3, u'BRIGHT_TI5': 294.6, u'SCAN': 0.51, u'ACQ_DATE': datetime.date(2019, 9, 30), u'SATELLITE': u'N', u'LONGITUDE': -122.36732, u'VERSION': u'1', u'CONFIDENCE': u'n', u'TRACK': 0.41, u'INSTRUMENT': u'VIIRS', u'FRP': 2.7, u'LATITUDE': 47.57298, u'TYPE': 2, u'ACQ_TIME': u'2120'}\n"
     ]
    }
   ],
   "source": [
    "print(d)"
   ]
  },
  {
   "cell_type": "code",
   "execution_count": 14,
   "metadata": {},
   "outputs": [
    {
     "data": {
      "text/plain": [
       "[-169.98405, 19.38804, 179.58345, 70.40395]"
      ]
     },
     "execution_count": 14,
     "metadata": {},
     "output_type": "execute_result"
    }
   ],
   "source": [
    "sf.bbox"
   ]
  },
  {
   "cell_type": "code",
   "execution_count": 47,
   "metadata": {},
   "outputs": [
    {
     "data": {
      "text/plain": [
       "[('DeletionFlag', 'C', 1, 0),\n",
       " [u'LATITUDE', u'N', 32, 10],\n",
       " [u'LONGITUDE', u'N', 32, 10],\n",
       " [u'BRIGHT_TI4', u'N', 32, 10],\n",
       " [u'SCAN', u'N', 32, 10],\n",
       " [u'TRACK', u'N', 32, 10],\n",
       " [u'ACQ_DATE', u'D', 8, 0],\n",
       " [u'ACQ_TIME', u'C', 4, 0],\n",
       " [u'SATELLITE', u'C', 1, 0],\n",
       " [u'INSTRUMENT', u'C', 5, 0],\n",
       " [u'CONFIDENCE', u'C', 1, 0],\n",
       " [u'VERSION', u'C', 1, 0],\n",
       " [u'BRIGHT_TI5', u'N', 32, 10],\n",
       " [u'FRP', u'N', 32, 10],\n",
       " [u'TYPE', u'N', 11, 0]]"
      ]
     },
     "execution_count": 47,
     "metadata": {},
     "output_type": "execute_result"
    }
   ],
   "source": [
    "# Each field is a Python list \n",
    "# with field name, type, length, decimal length\n",
    "\n",
    "sf.fields"
   ]
  },
  {
   "cell_type": "code",
   "execution_count": 26,
   "metadata": {},
   "outputs": [],
   "source": [
    "# Calling the shapeRecords() method will return the geometry and attributes for all shapes as a list of ShapeRecord objects.\n",
    "# Each ShapeRecord instance has a \"shape\" and \"record\" attribute. \n",
    "# The shape attribute is a Shape object. The record attribute is a list-like object containing field values.\n",
    "\n",
    "shapeRecs = sf.shapeRecords()"
   ]
  },
  {
   "cell_type": "code",
   "execution_count": 28,
   "metadata": {},
   "outputs": [],
   "source": [
    "# Convert shapes to a geojson dictionary\n",
    "sr = shapeRecs.__geo_interface__['type']"
   ]
  },
  {
   "cell_type": "code",
   "execution_count": 38,
   "metadata": {},
   "outputs": [
    {
     "data": {
      "text/plain": [
       "'FeatureCollection'"
      ]
     },
     "execution_count": 38,
     "metadata": {},
     "output_type": "execute_result"
    }
   ],
   "source": [
    "sr"
   ]
  },
  {
   "cell_type": "markdown",
   "metadata": {},
   "source": [
    "### Playing with CSV files"
   ]
  },
  {
   "cell_type": "code",
   "execution_count": 6,
   "metadata": {},
   "outputs": [],
   "source": [
    "df = pd.read_csv('../data/fire_nrt_V1_94075.csv') #oct - dec 2019"
   ]
  },
  {
   "cell_type": "code",
   "execution_count": 7,
   "metadata": {},
   "outputs": [
    {
     "data": {
      "text/html": [
       "<div>\n",
       "<style scoped>\n",
       "    .dataframe tbody tr th:only-of-type {\n",
       "        vertical-align: middle;\n",
       "    }\n",
       "\n",
       "    .dataframe tbody tr th {\n",
       "        vertical-align: top;\n",
       "    }\n",
       "\n",
       "    .dataframe thead th {\n",
       "        text-align: right;\n",
       "    }\n",
       "</style>\n",
       "<table border=\"1\" class=\"dataframe\">\n",
       "  <thead>\n",
       "    <tr style=\"text-align: right;\">\n",
       "      <th></th>\n",
       "      <th>latitude</th>\n",
       "      <th>longitude</th>\n",
       "      <th>bright_ti4</th>\n",
       "      <th>scan</th>\n",
       "      <th>track</th>\n",
       "      <th>acq_date</th>\n",
       "      <th>acq_time</th>\n",
       "      <th>satellite</th>\n",
       "      <th>instrument</th>\n",
       "      <th>confidence</th>\n",
       "      <th>version</th>\n",
       "      <th>bright_ti5</th>\n",
       "      <th>frp</th>\n",
       "      <th>daynight</th>\n",
       "    </tr>\n",
       "  </thead>\n",
       "  <tbody>\n",
       "    <tr>\n",
       "      <td>0</td>\n",
       "      <td>40.39033</td>\n",
       "      <td>-79.85009</td>\n",
       "      <td>295.7</td>\n",
       "      <td>0.55</td>\n",
       "      <td>0.68</td>\n",
       "      <td>2019-10-01</td>\n",
       "      <td>612</td>\n",
       "      <td>N</td>\n",
       "      <td>VIIRS</td>\n",
       "      <td>n</td>\n",
       "      <td>1.0NRT</td>\n",
       "      <td>284.3</td>\n",
       "      <td>0.5</td>\n",
       "      <td>N</td>\n",
       "    </tr>\n",
       "    <tr>\n",
       "      <td>1</td>\n",
       "      <td>40.39689</td>\n",
       "      <td>-79.85633</td>\n",
       "      <td>300.1</td>\n",
       "      <td>0.55</td>\n",
       "      <td>0.68</td>\n",
       "      <td>2019-10-01</td>\n",
       "      <td>612</td>\n",
       "      <td>N</td>\n",
       "      <td>VIIRS</td>\n",
       "      <td>n</td>\n",
       "      <td>1.0NRT</td>\n",
       "      <td>286.9</td>\n",
       "      <td>0.5</td>\n",
       "      <td>N</td>\n",
       "    </tr>\n",
       "    <tr>\n",
       "      <td>2</td>\n",
       "      <td>40.39210</td>\n",
       "      <td>-79.85754</td>\n",
       "      <td>305.8</td>\n",
       "      <td>0.55</td>\n",
       "      <td>0.68</td>\n",
       "      <td>2019-10-01</td>\n",
       "      <td>612</td>\n",
       "      <td>N</td>\n",
       "      <td>VIIRS</td>\n",
       "      <td>n</td>\n",
       "      <td>1.0NRT</td>\n",
       "      <td>285.5</td>\n",
       "      <td>2.1</td>\n",
       "      <td>N</td>\n",
       "    </tr>\n",
       "    <tr>\n",
       "      <td>3</td>\n",
       "      <td>40.39051</td>\n",
       "      <td>-79.85697</td>\n",
       "      <td>300.0</td>\n",
       "      <td>0.55</td>\n",
       "      <td>0.68</td>\n",
       "      <td>2019-10-01</td>\n",
       "      <td>612</td>\n",
       "      <td>N</td>\n",
       "      <td>VIIRS</td>\n",
       "      <td>n</td>\n",
       "      <td>1.0NRT</td>\n",
       "      <td>284.1</td>\n",
       "      <td>0.5</td>\n",
       "      <td>N</td>\n",
       "    </tr>\n",
       "    <tr>\n",
       "      <td>4</td>\n",
       "      <td>41.45269</td>\n",
       "      <td>-81.67487</td>\n",
       "      <td>309.6</td>\n",
       "      <td>0.69</td>\n",
       "      <td>0.74</td>\n",
       "      <td>2019-10-01</td>\n",
       "      <td>612</td>\n",
       "      <td>N</td>\n",
       "      <td>VIIRS</td>\n",
       "      <td>n</td>\n",
       "      <td>1.0NRT</td>\n",
       "      <td>288.4</td>\n",
       "      <td>1.7</td>\n",
       "      <td>N</td>\n",
       "    </tr>\n",
       "  </tbody>\n",
       "</table>\n",
       "</div>"
      ],
      "text/plain": [
       "   latitude  longitude  bright_ti4  scan  track    acq_date  acq_time  \\\n",
       "0  40.39033  -79.85009       295.7  0.55   0.68  2019-10-01       612   \n",
       "1  40.39689  -79.85633       300.1  0.55   0.68  2019-10-01       612   \n",
       "2  40.39210  -79.85754       305.8  0.55   0.68  2019-10-01       612   \n",
       "3  40.39051  -79.85697       300.0  0.55   0.68  2019-10-01       612   \n",
       "4  41.45269  -81.67487       309.6  0.69   0.74  2019-10-01       612   \n",
       "\n",
       "  satellite instrument confidence version  bright_ti5  frp daynight  \n",
       "0         N      VIIRS          n  1.0NRT       284.3  0.5        N  \n",
       "1         N      VIIRS          n  1.0NRT       286.9  0.5        N  \n",
       "2         N      VIIRS          n  1.0NRT       285.5  2.1        N  \n",
       "3         N      VIIRS          n  1.0NRT       284.1  0.5        N  \n",
       "4         N      VIIRS          n  1.0NRT       288.4  1.7        N  "
      ]
     },
     "execution_count": 7,
     "metadata": {},
     "output_type": "execute_result"
    }
   ],
   "source": [
    "df.head()"
   ]
  },
  {
   "cell_type": "code",
   "execution_count": 8,
   "metadata": {},
   "outputs": [],
   "source": [
    "df2 = pd.read_csv('../data/fire_archive_V1_94075.csv') #jan 2017 - sept 2019"
   ]
  },
  {
   "cell_type": "code",
   "execution_count": 9,
   "metadata": {},
   "outputs": [
    {
     "data": {
      "text/html": [
       "<div>\n",
       "<style scoped>\n",
       "    .dataframe tbody tr th:only-of-type {\n",
       "        vertical-align: middle;\n",
       "    }\n",
       "\n",
       "    .dataframe tbody tr th {\n",
       "        vertical-align: top;\n",
       "    }\n",
       "\n",
       "    .dataframe thead th {\n",
       "        text-align: right;\n",
       "    }\n",
       "</style>\n",
       "<table border=\"1\" class=\"dataframe\">\n",
       "  <thead>\n",
       "    <tr style=\"text-align: right;\">\n",
       "      <th></th>\n",
       "      <th>latitude</th>\n",
       "      <th>longitude</th>\n",
       "      <th>bright_ti4</th>\n",
       "      <th>scan</th>\n",
       "      <th>track</th>\n",
       "      <th>acq_date</th>\n",
       "      <th>acq_time</th>\n",
       "      <th>satellite</th>\n",
       "      <th>instrument</th>\n",
       "      <th>confidence</th>\n",
       "      <th>version</th>\n",
       "      <th>bright_ti5</th>\n",
       "      <th>frp</th>\n",
       "      <th>type</th>\n",
       "    </tr>\n",
       "  </thead>\n",
       "  <tbody>\n",
       "    <tr>\n",
       "      <td>0</td>\n",
       "      <td>42.29202</td>\n",
       "      <td>-83.16927</td>\n",
       "      <td>311.1</td>\n",
       "      <td>0.68</td>\n",
       "      <td>0.74</td>\n",
       "      <td>2017-01-01</td>\n",
       "      <td>619</td>\n",
       "      <td>N</td>\n",
       "      <td>VIIRS</td>\n",
       "      <td>n</td>\n",
       "      <td>1</td>\n",
       "      <td>269.4</td>\n",
       "      <td>4.8</td>\n",
       "      <td>2</td>\n",
       "    </tr>\n",
       "    <tr>\n",
       "      <td>1</td>\n",
       "      <td>42.29891</td>\n",
       "      <td>-83.15191</td>\n",
       "      <td>305.3</td>\n",
       "      <td>0.68</td>\n",
       "      <td>0.74</td>\n",
       "      <td>2017-01-01</td>\n",
       "      <td>619</td>\n",
       "      <td>N</td>\n",
       "      <td>VIIRS</td>\n",
       "      <td>n</td>\n",
       "      <td>1</td>\n",
       "      <td>267.9</td>\n",
       "      <td>2.6</td>\n",
       "      <td>2</td>\n",
       "    </tr>\n",
       "    <tr>\n",
       "      <td>2</td>\n",
       "      <td>42.29894</td>\n",
       "      <td>-83.16044</td>\n",
       "      <td>306.0</td>\n",
       "      <td>0.68</td>\n",
       "      <td>0.74</td>\n",
       "      <td>2017-01-01</td>\n",
       "      <td>619</td>\n",
       "      <td>N</td>\n",
       "      <td>VIIRS</td>\n",
       "      <td>n</td>\n",
       "      <td>1</td>\n",
       "      <td>270.7</td>\n",
       "      <td>2.6</td>\n",
       "      <td>2</td>\n",
       "    </tr>\n",
       "    <tr>\n",
       "      <td>3</td>\n",
       "      <td>42.25719</td>\n",
       "      <td>-83.13547</td>\n",
       "      <td>302.8</td>\n",
       "      <td>0.68</td>\n",
       "      <td>0.74</td>\n",
       "      <td>2017-01-01</td>\n",
       "      <td>619</td>\n",
       "      <td>N</td>\n",
       "      <td>VIIRS</td>\n",
       "      <td>n</td>\n",
       "      <td>1</td>\n",
       "      <td>268.4</td>\n",
       "      <td>2.0</td>\n",
       "      <td>2</td>\n",
       "    </tr>\n",
       "    <tr>\n",
       "      <td>4</td>\n",
       "      <td>42.29770</td>\n",
       "      <td>-83.17207</td>\n",
       "      <td>298.6</td>\n",
       "      <td>0.68</td>\n",
       "      <td>0.74</td>\n",
       "      <td>2017-01-01</td>\n",
       "      <td>619</td>\n",
       "      <td>N</td>\n",
       "      <td>VIIRS</td>\n",
       "      <td>n</td>\n",
       "      <td>1</td>\n",
       "      <td>268.0</td>\n",
       "      <td>4.1</td>\n",
       "      <td>2</td>\n",
       "    </tr>\n",
       "  </tbody>\n",
       "</table>\n",
       "</div>"
      ],
      "text/plain": [
       "   latitude  longitude  bright_ti4  scan  track    acq_date  acq_time  \\\n",
       "0  42.29202  -83.16927       311.1  0.68   0.74  2017-01-01       619   \n",
       "1  42.29891  -83.15191       305.3  0.68   0.74  2017-01-01       619   \n",
       "2  42.29894  -83.16044       306.0  0.68   0.74  2017-01-01       619   \n",
       "3  42.25719  -83.13547       302.8  0.68   0.74  2017-01-01       619   \n",
       "4  42.29770  -83.17207       298.6  0.68   0.74  2017-01-01       619   \n",
       "\n",
       "  satellite instrument confidence  version  bright_ti5  frp  type  \n",
       "0         N      VIIRS          n        1       269.4  4.8     2  \n",
       "1         N      VIIRS          n        1       267.9  2.6     2  \n",
       "2         N      VIIRS          n        1       270.7  2.6     2  \n",
       "3         N      VIIRS          n        1       268.4  2.0     2  \n",
       "4         N      VIIRS          n        1       268.0  4.1     2  "
      ]
     },
     "execution_count": 9,
     "metadata": {},
     "output_type": "execute_result"
    }
   ],
   "source": [
    "df2.head()"
   ]
  },
  {
   "cell_type": "code",
   "execution_count": null,
   "metadata": {},
   "outputs": [],
   "source": []
  }
 ],
 "metadata": {
  "kernelspec": {
   "display_name": "geo_env",
   "language": "python",
   "name": "geo_env"
  },
  "language_info": {
   "codemirror_mode": {
    "name": "ipython",
    "version": 3
   },
   "file_extension": ".py",
   "mimetype": "text/x-python",
   "name": "python",
   "nbconvert_exporter": "python",
   "pygments_lexer": "ipython3",
   "version": "3.7.6"
  }
 },
 "nbformat": 4,
 "nbformat_minor": 4
}
