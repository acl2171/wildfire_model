{
 "cells": [
  {
   "cell_type": "markdown",
   "metadata": {},
   "source": [
    "## Vanilla Classifcation on Full Dataset\n",
    "This notebook contains first vanilla run of several classification models on the full dataset. "
   ]
  },
  {
   "cell_type": "code",
   "execution_count": 1,
   "metadata": {},
   "outputs": [
    {
     "name": "stderr",
     "output_type": "stream",
     "text": [
      "/home/jupyter/.local/lib/python3.5/site-packages/sklearn/utils/deprecation.py:144: FutureWarning: The sklearn.metrics.classification module is  deprecated in version 0.22 and will be removed in version 0.24. The corresponding classes / functions should instead be imported from sklearn.metrics. Anything that cannot be imported from sklearn.metrics is now part of the private API.\n",
      "  warnings.warn(message, FutureWarning)\n"
     ]
    }
   ],
   "source": [
    "# import libraries\n",
    "import pandas as pd\n",
    "import numpy as np\n",
    "from scipy import stats\n",
    "from sklearn.linear_model import LogisticRegression\n",
    "from sklearn.preprocessing import StandardScaler\n",
    "from sklearn.model_selection import train_test_split\n",
    "from sklearn.preprocessing import label_binarize\n",
    "import sklearn.metrics\n",
    "from sklearn.pipeline import Pipeline\n",
    "from sklearn.model_selection import GridSearchCV\n",
    "\n",
    "from yellowbrick.classifier import ConfusionMatrix"
   ]
  },
  {
   "cell_type": "markdown",
   "metadata": {},
   "source": [
    "### Data Preprocessing"
   ]
  },
  {
   "cell_type": "code",
   "execution_count": 2,
   "metadata": {},
   "outputs": [],
   "source": [
    "# import data and convert to pandas dataframe\n",
    "dataset_v1 = pd.read_parquet('dataset_v1.parquet.gzip', engine = 'pyarrow')"
   ]
  },
  {
   "cell_type": "code",
   "execution_count": 3,
   "metadata": {},
   "outputs": [
    {
     "name": "stdout",
     "output_type": "stream",
     "text": [
      "-rw-r--r-- 1 jupyter jupyter 220M Jan 17 18:14 dataset_v1.parquet.gzip\n"
     ]
    }
   ],
   "source": [
    "!ls -lh dataset_v1.parquet.gzip"
   ]
  },
  {
   "cell_type": "code",
   "execution_count": 4,
   "metadata": {},
   "outputs": [
    {
     "data": {
      "text/html": [
       "<div>\n",
       "<style scoped>\n",
       "    .dataframe tbody tr th:only-of-type {\n",
       "        vertical-align: middle;\n",
       "    }\n",
       "\n",
       "    .dataframe tbody tr th {\n",
       "        vertical-align: top;\n",
       "    }\n",
       "\n",
       "    .dataframe thead th {\n",
       "        text-align: right;\n",
       "    }\n",
       "</style>\n",
       "<table border=\"1\" class=\"dataframe\">\n",
       "  <thead>\n",
       "    <tr style=\"text-align: right;\">\n",
       "      <th></th>\n",
       "      <th>lat</th>\n",
       "      <th>lon</th>\n",
       "      <th>MaxFRP</th>\n",
       "      <th>et_500m</th>\n",
       "      <th>_1_km_16_days_EVI</th>\n",
       "      <th>_1_km_16_days_EVI2</th>\n",
       "      <th>_1_km_16_days_NDVI</th>\n",
       "      <th>_1_km_16_days_NIR_reflectance</th>\n",
       "      <th>_1_km_16_days_SWIR1_reflectance</th>\n",
       "      <th>_1_km_16_days_SWIR2_reflectance</th>\n",
       "      <th>...</th>\n",
       "      <th>_1_km_16_days_blue_reflectance</th>\n",
       "      <th>_1_km_16_days_green_reflectance</th>\n",
       "      <th>_1_km_16_days_red_reflectance</th>\n",
       "      <th>_DC</th>\n",
       "      <th>_DMC</th>\n",
       "      <th>_FFMC</th>\n",
       "      <th>_ISI</th>\n",
       "      <th>_BUI</th>\n",
       "      <th>_DSR</th>\n",
       "      <th>label</th>\n",
       "    </tr>\n",
       "  </thead>\n",
       "  <tbody>\n",
       "    <tr>\n",
       "      <th>0</th>\n",
       "      <td>4.3625</td>\n",
       "      <td>96.329167</td>\n",
       "      <td>0.0</td>\n",
       "      <td>3276.500000</td>\n",
       "      <td>0.6110</td>\n",
       "      <td>0.6071</td>\n",
       "      <td>0.8460</td>\n",
       "      <td>0.3885</td>\n",
       "      <td>0.3490</td>\n",
       "      <td>0.1735</td>\n",
       "      <td>...</td>\n",
       "      <td>0.0168</td>\n",
       "      <td>0.0518</td>\n",
       "      <td>0.0324</td>\n",
       "      <td>6.153957</td>\n",
       "      <td>1.339365</td>\n",
       "      <td>43.675632</td>\n",
       "      <td>0.137625</td>\n",
       "      <td>1.721346</td>\n",
       "      <td>0.000183</td>\n",
       "      <td>fwi_low</td>\n",
       "    </tr>\n",
       "    <tr>\n",
       "      <th>1</th>\n",
       "      <td>4.3625</td>\n",
       "      <td>96.337500</td>\n",
       "      <td>0.0</td>\n",
       "      <td>3276.500000</td>\n",
       "      <td>0.5452</td>\n",
       "      <td>0.5392</td>\n",
       "      <td>0.8948</td>\n",
       "      <td>0.3081</td>\n",
       "      <td>0.2868</td>\n",
       "      <td>0.1350</td>\n",
       "      <td>...</td>\n",
       "      <td>0.0102</td>\n",
       "      <td>0.0379</td>\n",
       "      <td>0.0171</td>\n",
       "      <td>6.153957</td>\n",
       "      <td>1.339365</td>\n",
       "      <td>43.675632</td>\n",
       "      <td>0.137625</td>\n",
       "      <td>1.721346</td>\n",
       "      <td>0.000183</td>\n",
       "      <td>fwi_low</td>\n",
       "    </tr>\n",
       "    <tr>\n",
       "      <th>2</th>\n",
       "      <td>4.3625</td>\n",
       "      <td>96.345833</td>\n",
       "      <td>0.0</td>\n",
       "      <td>3276.500000</td>\n",
       "      <td>0.4867</td>\n",
       "      <td>0.4878</td>\n",
       "      <td>0.6774</td>\n",
       "      <td>0.3734</td>\n",
       "      <td>0.3358</td>\n",
       "      <td>0.1938</td>\n",
       "      <td>...</td>\n",
       "      <td>0.0340</td>\n",
       "      <td>0.0663</td>\n",
       "      <td>0.0718</td>\n",
       "      <td>6.153957</td>\n",
       "      <td>1.339365</td>\n",
       "      <td>43.675632</td>\n",
       "      <td>0.137625</td>\n",
       "      <td>1.721346</td>\n",
       "      <td>0.000183</td>\n",
       "      <td>fwi_low</td>\n",
       "    </tr>\n",
       "    <tr>\n",
       "      <th>3</th>\n",
       "      <td>4.3625</td>\n",
       "      <td>96.354167</td>\n",
       "      <td>0.0</td>\n",
       "      <td>33.700001</td>\n",
       "      <td>0.6779</td>\n",
       "      <td>0.6552</td>\n",
       "      <td>0.9191</td>\n",
       "      <td>0.3916</td>\n",
       "      <td>0.3820</td>\n",
       "      <td>0.1855</td>\n",
       "      <td>...</td>\n",
       "      <td>0.0143</td>\n",
       "      <td>0.0471</td>\n",
       "      <td>0.0165</td>\n",
       "      <td>6.153957</td>\n",
       "      <td>1.339365</td>\n",
       "      <td>43.675632</td>\n",
       "      <td>0.137625</td>\n",
       "      <td>1.721346</td>\n",
       "      <td>0.000183</td>\n",
       "      <td>fwi_low</td>\n",
       "    </tr>\n",
       "    <tr>\n",
       "      <th>4</th>\n",
       "      <td>4.3625</td>\n",
       "      <td>96.362500</td>\n",
       "      <td>0.0</td>\n",
       "      <td>27.000000</td>\n",
       "      <td>0.6779</td>\n",
       "      <td>0.6552</td>\n",
       "      <td>0.9191</td>\n",
       "      <td>0.3916</td>\n",
       "      <td>0.3820</td>\n",
       "      <td>0.1855</td>\n",
       "      <td>...</td>\n",
       "      <td>0.0143</td>\n",
       "      <td>0.0471</td>\n",
       "      <td>0.0165</td>\n",
       "      <td>6.153957</td>\n",
       "      <td>1.339365</td>\n",
       "      <td>43.675632</td>\n",
       "      <td>0.137625</td>\n",
       "      <td>1.721346</td>\n",
       "      <td>0.000183</td>\n",
       "      <td>fwi_low</td>\n",
       "    </tr>\n",
       "  </tbody>\n",
       "</table>\n",
       "<p>5 rows × 21 columns</p>\n",
       "</div>"
      ],
      "text/plain": [
       "      lat        lon  MaxFRP      et_500m  _1_km_16_days_EVI  \\\n",
       "0  4.3625  96.329167     0.0  3276.500000             0.6110   \n",
       "1  4.3625  96.337500     0.0  3276.500000             0.5452   \n",
       "2  4.3625  96.345833     0.0  3276.500000             0.4867   \n",
       "3  4.3625  96.354167     0.0    33.700001             0.6779   \n",
       "4  4.3625  96.362500     0.0    27.000000             0.6779   \n",
       "\n",
       "   _1_km_16_days_EVI2  _1_km_16_days_NDVI  _1_km_16_days_NIR_reflectance  \\\n",
       "0              0.6071              0.8460                         0.3885   \n",
       "1              0.5392              0.8948                         0.3081   \n",
       "2              0.4878              0.6774                         0.3734   \n",
       "3              0.6552              0.9191                         0.3916   \n",
       "4              0.6552              0.9191                         0.3916   \n",
       "\n",
       "   _1_km_16_days_SWIR1_reflectance  _1_km_16_days_SWIR2_reflectance  ...  \\\n",
       "0                           0.3490                           0.1735  ...   \n",
       "1                           0.2868                           0.1350  ...   \n",
       "2                           0.3358                           0.1938  ...   \n",
       "3                           0.3820                           0.1855  ...   \n",
       "4                           0.3820                           0.1855  ...   \n",
       "\n",
       "   _1_km_16_days_blue_reflectance  _1_km_16_days_green_reflectance  \\\n",
       "0                          0.0168                           0.0518   \n",
       "1                          0.0102                           0.0379   \n",
       "2                          0.0340                           0.0663   \n",
       "3                          0.0143                           0.0471   \n",
       "4                          0.0143                           0.0471   \n",
       "\n",
       "   _1_km_16_days_red_reflectance       _DC      _DMC      _FFMC      _ISI  \\\n",
       "0                         0.0324  6.153957  1.339365  43.675632  0.137625   \n",
       "1                         0.0171  6.153957  1.339365  43.675632  0.137625   \n",
       "2                         0.0718  6.153957  1.339365  43.675632  0.137625   \n",
       "3                         0.0165  6.153957  1.339365  43.675632  0.137625   \n",
       "4                         0.0165  6.153957  1.339365  43.675632  0.137625   \n",
       "\n",
       "       _BUI      _DSR    label  \n",
       "0  1.721346  0.000183  fwi_low  \n",
       "1  1.721346  0.000183  fwi_low  \n",
       "2  1.721346  0.000183  fwi_low  \n",
       "3  1.721346  0.000183  fwi_low  \n",
       "4  1.721346  0.000183  fwi_low  \n",
       "\n",
       "[5 rows x 21 columns]"
      ]
     },
     "execution_count": 4,
     "metadata": {},
     "output_type": "execute_result"
    }
   ],
   "source": [
    "# check if read correctly\n",
    "dataset_v1.head()"
   ]
  },
  {
   "cell_type": "code",
   "execution_count": 5,
   "metadata": {},
   "outputs": [
    {
     "data": {
      "text/plain": [
       "water           30991646\n",
       "fwi_extreme      9308511\n",
       "burned           7813581\n",
       "fwi_low          3031671\n",
       "fwi_veryhigh      610905\n",
       "fwi_high          410397\n",
       "land              351369\n",
       "fwi_moderate      211015\n",
       "active_fire         1353\n",
       "Name: label, dtype: int64"
      ]
     },
     "execution_count": 5,
     "metadata": {},
     "output_type": "execute_result"
    }
   ],
   "source": [
    "# check class imbalance\n",
    "dataset_v1['label'].value_counts()"
   ]
  },
  {
   "cell_type": "code",
   "execution_count": 6,
   "metadata": {},
   "outputs": [],
   "source": [
    "# Split data into X and y\n",
    "# Save coordinates for merging at end or for feature engineering later\n",
    "coord = dataset_v1.loc[:,['lat', 'lon']]\n",
    "X = dataset_v1.drop(['label', 'lat', 'lon'], axis = 1)\n",
    "y = dataset_v1['label']"
   ]
  },
  {
   "cell_type": "code",
   "execution_count": 7,
   "metadata": {},
   "outputs": [],
   "source": [
    "# Train, Test Split\n",
    "X_train, X_test, y_train, y_test = train_test_split(X, y, test_size=0.20, random_state=1, stratify = y)"
   ]
  },
  {
   "cell_type": "code",
   "execution_count": null,
   "metadata": {},
   "outputs": [],
   "source": [
    "# logistic = Pipeline(steps = [('scale', StandardScaler()), ('lr', LogisticRegression(max_iter = 1000))])"
   ]
  },
  {
   "cell_type": "code",
   "execution_count": null,
   "metadata": {},
   "outputs": [],
   "source": [
    "# log_param_grid = {\n",
    "#     'logistic__C': np.logspace(-4, 4, 4),\n",
    "# }"
   ]
  },
  {
   "cell_type": "code",
   "execution_count": 8,
   "metadata": {},
   "outputs": [],
   "source": [
    "# Standard Scale\n",
    "# Only fit on training data\n",
    "# Transform both\n",
    "scaler = StandardScaler()\n",
    "x_train = scaler.fit_transform(X_train)\n",
    "x_test = scaler.transform(X_test)"
   ]
  },
  {
   "cell_type": "code",
   "execution_count": null,
   "metadata": {},
   "outputs": [],
   "source": [
    "# one-hot-encode y ? "
   ]
  },
  {
   "cell_type": "markdown",
   "metadata": {},
   "source": [
    "### Multiclass Logisitic Regression"
   ]
  },
  {
   "cell_type": "code",
   "execution_count": 12,
   "metadata": {},
   "outputs": [
    {
     "ename": "MemoryError",
     "evalue": "",
     "output_type": "error",
     "traceback": [
      "\u001b[0;31m---------------------------------------------------------------------------\u001b[0m",
      "\u001b[0;31mMemoryError\u001b[0m                               Traceback (most recent call last)",
      "\u001b[0;32m<ipython-input-12-028ffe565c3c>\u001b[0m in \u001b[0;36m<module>\u001b[0;34m\u001b[0m\n\u001b[1;32m      1\u001b[0m \u001b[0mlg\u001b[0m \u001b[0;34m=\u001b[0m \u001b[0mLogisticRegression\u001b[0m\u001b[0;34m(\u001b[0m\u001b[0mn_jobs\u001b[0m \u001b[0;34m=\u001b[0m \u001b[0;34m-\u001b[0m\u001b[0;36m1\u001b[0m\u001b[0;34m)\u001b[0m\u001b[0;34m\u001b[0m\u001b[0m\n\u001b[0;32m----> 2\u001b[0;31m \u001b[0mlg\u001b[0m\u001b[0;34m.\u001b[0m\u001b[0mfit\u001b[0m\u001b[0;34m(\u001b[0m\u001b[0mx_train\u001b[0m\u001b[0;34m,\u001b[0m \u001b[0my_train\u001b[0m\u001b[0;34m)\u001b[0m\u001b[0;34m\u001b[0m\u001b[0m\n\u001b[0m",
      "\u001b[0;32m~/.local/lib/python3.5/site-packages/sklearn/linear_model/_logistic.py\u001b[0m in \u001b[0;36mfit\u001b[0;34m(self, X, y, sample_weight)\u001b[0m\n\u001b[1;32m   1525\u001b[0m \u001b[0;34m\u001b[0m\u001b[0m\n\u001b[1;32m   1526\u001b[0m         X, y = check_X_y(X, y, accept_sparse='csr', dtype=_dtype, order=\"C\",\n\u001b[0;32m-> 1527\u001b[0;31m                          accept_large_sparse=solver != 'liblinear')\n\u001b[0m\u001b[1;32m   1528\u001b[0m         \u001b[0mcheck_classification_targets\u001b[0m\u001b[0;34m(\u001b[0m\u001b[0my\u001b[0m\u001b[0;34m)\u001b[0m\u001b[0;34m\u001b[0m\u001b[0m\n\u001b[1;32m   1529\u001b[0m         \u001b[0mself\u001b[0m\u001b[0;34m.\u001b[0m\u001b[0mclasses_\u001b[0m \u001b[0;34m=\u001b[0m \u001b[0mnp\u001b[0m\u001b[0;34m.\u001b[0m\u001b[0munique\u001b[0m\u001b[0;34m(\u001b[0m\u001b[0my\u001b[0m\u001b[0;34m)\u001b[0m\u001b[0;34m\u001b[0m\u001b[0m\n",
      "\u001b[0;32m~/.local/lib/python3.5/site-packages/sklearn/utils/validation.py\u001b[0m in \u001b[0;36mcheck_X_y\u001b[0;34m(X, y, accept_sparse, accept_large_sparse, dtype, order, copy, force_all_finite, ensure_2d, allow_nd, multi_output, ensure_min_samples, ensure_min_features, y_numeric, warn_on_dtype, estimator)\u001b[0m\n\u001b[1;32m    753\u001b[0m                     \u001b[0mensure_min_features\u001b[0m\u001b[0;34m=\u001b[0m\u001b[0mensure_min_features\u001b[0m\u001b[0;34m,\u001b[0m\u001b[0;34m\u001b[0m\u001b[0m\n\u001b[1;32m    754\u001b[0m                     \u001b[0mwarn_on_dtype\u001b[0m\u001b[0;34m=\u001b[0m\u001b[0mwarn_on_dtype\u001b[0m\u001b[0;34m,\u001b[0m\u001b[0;34m\u001b[0m\u001b[0m\n\u001b[0;32m--> 755\u001b[0;31m                     estimator=estimator)\n\u001b[0m\u001b[1;32m    756\u001b[0m     \u001b[0;32mif\u001b[0m \u001b[0mmulti_output\u001b[0m\u001b[0;34m:\u001b[0m\u001b[0;34m\u001b[0m\u001b[0m\n\u001b[1;32m    757\u001b[0m         y = check_array(y, 'csr', force_all_finite=True, ensure_2d=False,\n",
      "\u001b[0;32m~/.local/lib/python3.5/site-packages/sklearn/utils/validation.py\u001b[0m in \u001b[0;36mcheck_array\u001b[0;34m(array, accept_sparse, accept_large_sparse, dtype, order, copy, force_all_finite, ensure_2d, allow_nd, ensure_min_samples, ensure_min_features, warn_on_dtype, estimator)\u001b[0m\n\u001b[1;32m    529\u001b[0m                     \u001b[0marray\u001b[0m \u001b[0;34m=\u001b[0m \u001b[0marray\u001b[0m\u001b[0;34m.\u001b[0m\u001b[0mastype\u001b[0m\u001b[0;34m(\u001b[0m\u001b[0mdtype\u001b[0m\u001b[0;34m,\u001b[0m \u001b[0mcasting\u001b[0m\u001b[0;34m=\u001b[0m\u001b[0;34m\"unsafe\"\u001b[0m\u001b[0;34m,\u001b[0m \u001b[0mcopy\u001b[0m\u001b[0;34m=\u001b[0m\u001b[0;32mFalse\u001b[0m\u001b[0;34m)\u001b[0m\u001b[0;34m\u001b[0m\u001b[0m\n\u001b[1;32m    530\u001b[0m                 \u001b[0;32melse\u001b[0m\u001b[0;34m:\u001b[0m\u001b[0;34m\u001b[0m\u001b[0m\n\u001b[0;32m--> 531\u001b[0;31m                     \u001b[0marray\u001b[0m \u001b[0;34m=\u001b[0m \u001b[0mnp\u001b[0m\u001b[0;34m.\u001b[0m\u001b[0masarray\u001b[0m\u001b[0;34m(\u001b[0m\u001b[0marray\u001b[0m\u001b[0;34m,\u001b[0m \u001b[0morder\u001b[0m\u001b[0;34m=\u001b[0m\u001b[0morder\u001b[0m\u001b[0;34m,\u001b[0m \u001b[0mdtype\u001b[0m\u001b[0;34m=\u001b[0m\u001b[0mdtype\u001b[0m\u001b[0;34m)\u001b[0m\u001b[0;34m\u001b[0m\u001b[0m\n\u001b[0m\u001b[1;32m    532\u001b[0m             \u001b[0;32mexcept\u001b[0m \u001b[0mComplexWarning\u001b[0m\u001b[0;34m:\u001b[0m\u001b[0;34m\u001b[0m\u001b[0m\n\u001b[1;32m    533\u001b[0m                 raise ValueError(\"Complex data not supported\\n\"\n",
      "\u001b[0;32m/usr/local/lib/python3.5/site-packages/numpy/core/numeric.py\u001b[0m in \u001b[0;36masarray\u001b[0;34m(a, dtype, order)\u001b[0m\n\u001b[1;32m    499\u001b[0m \u001b[0;34m\u001b[0m\u001b[0m\n\u001b[1;32m    500\u001b[0m     \"\"\"\n\u001b[0;32m--> 501\u001b[0;31m     \u001b[0;32mreturn\u001b[0m \u001b[0marray\u001b[0m\u001b[0;34m(\u001b[0m\u001b[0ma\u001b[0m\u001b[0;34m,\u001b[0m \u001b[0mdtype\u001b[0m\u001b[0;34m,\u001b[0m \u001b[0mcopy\u001b[0m\u001b[0;34m=\u001b[0m\u001b[0;32mFalse\u001b[0m\u001b[0;34m,\u001b[0m \u001b[0morder\u001b[0m\u001b[0;34m=\u001b[0m\u001b[0morder\u001b[0m\u001b[0;34m)\u001b[0m\u001b[0;34m\u001b[0m\u001b[0m\n\u001b[0m\u001b[1;32m    502\u001b[0m \u001b[0;34m\u001b[0m\u001b[0m\n\u001b[1;32m    503\u001b[0m \u001b[0;34m\u001b[0m\u001b[0m\n",
      "\u001b[0;31mMemoryError\u001b[0m: "
     ]
    }
   ],
   "source": [
    "lg = LogisticRegression(n_jobs = -1)\n",
    "lg.fit(x_train, y_train)"
   ]
  },
  {
   "cell_type": "code",
   "execution_count": null,
   "metadata": {},
   "outputs": [],
   "source": [
    "# Save trained model\n",
    "from joblib import dump, load\n",
    "dump(lg, 'lg_v1.joblib')"
   ]
  },
  {
   "cell_type": "code",
   "execution_count": null,
   "metadata": {},
   "outputs": [],
   "source": [
    "y_pred_train = lg.predict(x_train)"
   ]
  },
  {
   "cell_type": "code",
   "execution_count": null,
   "metadata": {},
   "outputs": [],
   "source": [
    "# for some reason, balanced_accuracy_score is not importing\n",
    "accuracy_score(y_train, y_pred_train)"
   ]
  },
  {
   "cell_type": "code",
   "execution_count": null,
   "metadata": {},
   "outputs": [],
   "source": [
    "y_pred_test = lg.predict(x_test)\n",
    "accuracy_score(y_test, y_pred_test)"
   ]
  },
  {
   "cell_type": "code",
   "execution_count": null,
   "metadata": {},
   "outputs": [],
   "source": [
    "cm_train = ConfusionMatrix(lg, classes =['fwi_low', 'fwi_high', 'fwi_veryhigh', 'fwi_moderate', 'fwi_extreme'])\n",
    "cm_train.score(x_test, y_test)\n",
    "cm_train.show()"
   ]
  },
  {
   "cell_type": "code",
   "execution_count": null,
   "metadata": {},
   "outputs": [],
   "source": []
  }
 ],
 "metadata": {
  "kernelspec": {
   "display_name": "Python 3",
   "language": "python",
   "name": "python3"
  },
  "language_info": {
   "codemirror_mode": {
    "name": "ipython",
    "version": 3
   },
   "file_extension": ".py",
   "mimetype": "text/x-python",
   "name": "python",
   "nbconvert_exporter": "python",
   "pygments_lexer": "ipython3",
   "version": "3.5.3"
  }
 },
 "nbformat": 4,
 "nbformat_minor": 4
}
