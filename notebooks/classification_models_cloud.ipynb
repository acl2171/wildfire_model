{
 "cells": [
  {
   "cell_type": "markdown",
   "metadata": {},
   "source": [
    "## Vanilla Classification on Full Dataset\n",
    "This notebook contains first vanilla run of several classification models on the full dataset. "
   ]
  },
  {
   "cell_type": "code",
   "execution_count": 2,
   "metadata": {},
   "outputs": [
    {
     "name": "stderr",
     "output_type": "stream",
     "text": [
      "C:\\Users\\allis\\Anaconda3\\envs\\merging\\lib\\site-packages\\sklearn\\utils\\deprecation.py:144: FutureWarning: The sklearn.metrics.classification module is  deprecated in version 0.22 and will be removed in version 0.24. The corresponding classes / functions should instead be imported from sklearn.metrics. Anything that cannot be imported from sklearn.metrics is now part of the private API.\n",
      "  warnings.warn(message, FutureWarning)\n"
     ]
    }
   ],
   "source": [
    "# import libraries\n",
    "import pandas as pd\n",
    "import numpy as np\n",
    "import xarray as xr\n",
    "from scipy import stats\n",
    "from sklearn.linear_model import LogisticRegression\n",
    "from sklearn.preprocessing import StandardScaler\n",
    "from sklearn import preprocessing\n",
    "from sklearn.multiclass import OneVsRestClassifier\n",
    "from sklearn.model_selection import train_test_split\n",
    "from sklearn.preprocessing import label_binarize\n",
    "from sklearn.multiclass import OneVsRestClassifier\n",
    "from sklearn.metrics import balanced_accuracy_score\n",
    "from sklearn.pipeline import Pipeline\n",
    "from sklearn.model_selection import GridSearchCV\n",
    "from sklearn.ensemble import RandomForestClassifier\n",
    "from joblib import dump, load\n",
    "import gzip\n",
    "\n",
    "from yellowbrick.classifier import ConfusionMatrix\n",
    "from imblearn.over_sampling import RandomOverSampler\n",
    "from imblearn.over_sampling import SMOTE"
   ]
  },
  {
   "cell_type": "markdown",
   "metadata": {},
   "source": [
    "### Data Preprocessing"
   ]
  },
  {
   "cell_type": "code",
   "execution_count": 36,
   "metadata": {},
   "outputs": [],
   "source": [
    "# import data and convert to pandas dataframe\n",
    "dataset = pd.read_parquet('newdata_v2.parquet', engine = 'pyarrow')"
   ]
  },
  {
   "cell_type": "code",
   "execution_count": 37,
   "metadata": {},
   "outputs": [
    {
     "data": {
      "text/html": [
       "<div>\n",
       "<style scoped>\n",
       "    .dataframe tbody tr th:only-of-type {\n",
       "        vertical-align: middle;\n",
       "    }\n",
       "\n",
       "    .dataframe tbody tr th {\n",
       "        vertical-align: top;\n",
       "    }\n",
       "\n",
       "    .dataframe thead th {\n",
       "        text-align: right;\n",
       "    }\n",
       "</style>\n",
       "<table border=\"1\" class=\"dataframe\">\n",
       "  <thead>\n",
       "    <tr style=\"text-align: right;\">\n",
       "      <th></th>\n",
       "      <th>lat</th>\n",
       "      <th>lon</th>\n",
       "      <th>MaxFRP</th>\n",
       "      <th>EVI</th>\n",
       "      <th>EVI2</th>\n",
       "      <th>NVDI</th>\n",
       "      <th>NIR_reflectance</th>\n",
       "      <th>SWIR1_reflectance</th>\n",
       "      <th>SWIR2_reflectance</th>\n",
       "      <th>SWIR3_reflectance</th>\n",
       "      <th>...</th>\n",
       "      <th>SoilTMP100_200cm_inst</th>\n",
       "      <th>SoilTMP10_40cm_inst</th>\n",
       "      <th>SoilTMP40_100cm_inst</th>\n",
       "      <th>Swnet_tavg</th>\n",
       "      <th>Tair_f_inst</th>\n",
       "      <th>Tveg_tavg</th>\n",
       "      <th>Wind_f_inst</th>\n",
       "      <th>Uncertainty</th>\n",
       "      <th>QA</th>\n",
       "      <th>label</th>\n",
       "    </tr>\n",
       "  </thead>\n",
       "  <tbody>\n",
       "    <tr>\n",
       "      <th>0</th>\n",
       "      <td>-46.173406</td>\n",
       "      <td>106.360530</td>\n",
       "      <td>0.0</td>\n",
       "      <td>0.0</td>\n",
       "      <td>0.0</td>\n",
       "      <td>0.0</td>\n",
       "      <td>0.0</td>\n",
       "      <td>0.0</td>\n",
       "      <td>0.0</td>\n",
       "      <td>0.0</td>\n",
       "      <td>...</td>\n",
       "      <td>0.0</td>\n",
       "      <td>0.0</td>\n",
       "      <td>0.0</td>\n",
       "      <td>0.0</td>\n",
       "      <td>0.0</td>\n",
       "      <td>0.0</td>\n",
       "      <td>0.0</td>\n",
       "      <td>0.0</td>\n",
       "      <td>0.0</td>\n",
       "      <td>water</td>\n",
       "    </tr>\n",
       "    <tr>\n",
       "      <th>1</th>\n",
       "      <td>-46.173406</td>\n",
       "      <td>106.405485</td>\n",
       "      <td>0.0</td>\n",
       "      <td>0.0</td>\n",
       "      <td>0.0</td>\n",
       "      <td>0.0</td>\n",
       "      <td>0.0</td>\n",
       "      <td>0.0</td>\n",
       "      <td>0.0</td>\n",
       "      <td>0.0</td>\n",
       "      <td>...</td>\n",
       "      <td>0.0</td>\n",
       "      <td>0.0</td>\n",
       "      <td>0.0</td>\n",
       "      <td>0.0</td>\n",
       "      <td>0.0</td>\n",
       "      <td>0.0</td>\n",
       "      <td>0.0</td>\n",
       "      <td>0.0</td>\n",
       "      <td>0.0</td>\n",
       "      <td>water</td>\n",
       "    </tr>\n",
       "    <tr>\n",
       "      <th>2</th>\n",
       "      <td>-46.173406</td>\n",
       "      <td>106.450441</td>\n",
       "      <td>0.0</td>\n",
       "      <td>0.0</td>\n",
       "      <td>0.0</td>\n",
       "      <td>0.0</td>\n",
       "      <td>0.0</td>\n",
       "      <td>0.0</td>\n",
       "      <td>0.0</td>\n",
       "      <td>0.0</td>\n",
       "      <td>...</td>\n",
       "      <td>0.0</td>\n",
       "      <td>0.0</td>\n",
       "      <td>0.0</td>\n",
       "      <td>0.0</td>\n",
       "      <td>0.0</td>\n",
       "      <td>0.0</td>\n",
       "      <td>0.0</td>\n",
       "      <td>0.0</td>\n",
       "      <td>0.0</td>\n",
       "      <td>water</td>\n",
       "    </tr>\n",
       "    <tr>\n",
       "      <th>3</th>\n",
       "      <td>-46.173406</td>\n",
       "      <td>106.495396</td>\n",
       "      <td>0.0</td>\n",
       "      <td>0.0</td>\n",
       "      <td>0.0</td>\n",
       "      <td>0.0</td>\n",
       "      <td>0.0</td>\n",
       "      <td>0.0</td>\n",
       "      <td>0.0</td>\n",
       "      <td>0.0</td>\n",
       "      <td>...</td>\n",
       "      <td>0.0</td>\n",
       "      <td>0.0</td>\n",
       "      <td>0.0</td>\n",
       "      <td>0.0</td>\n",
       "      <td>0.0</td>\n",
       "      <td>0.0</td>\n",
       "      <td>0.0</td>\n",
       "      <td>0.0</td>\n",
       "      <td>0.0</td>\n",
       "      <td>water</td>\n",
       "    </tr>\n",
       "    <tr>\n",
       "      <th>4</th>\n",
       "      <td>-46.173406</td>\n",
       "      <td>106.540352</td>\n",
       "      <td>0.0</td>\n",
       "      <td>0.0</td>\n",
       "      <td>0.0</td>\n",
       "      <td>0.0</td>\n",
       "      <td>0.0</td>\n",
       "      <td>0.0</td>\n",
       "      <td>0.0</td>\n",
       "      <td>0.0</td>\n",
       "      <td>...</td>\n",
       "      <td>0.0</td>\n",
       "      <td>0.0</td>\n",
       "      <td>0.0</td>\n",
       "      <td>0.0</td>\n",
       "      <td>0.0</td>\n",
       "      <td>0.0</td>\n",
       "      <td>0.0</td>\n",
       "      <td>0.0</td>\n",
       "      <td>0.0</td>\n",
       "      <td>water</td>\n",
       "    </tr>\n",
       "  </tbody>\n",
       "</table>\n",
       "<p>5 rows × 62 columns</p>\n",
       "</div>"
      ],
      "text/plain": [
       "         lat         lon  MaxFRP  EVI  EVI2  NVDI  NIR_reflectance  \\\n",
       "0 -46.173406  106.360530     0.0  0.0   0.0   0.0              0.0   \n",
       "1 -46.173406  106.405485     0.0  0.0   0.0   0.0              0.0   \n",
       "2 -46.173406  106.450441     0.0  0.0   0.0   0.0              0.0   \n",
       "3 -46.173406  106.495396     0.0  0.0   0.0   0.0              0.0   \n",
       "4 -46.173406  106.540352     0.0  0.0   0.0   0.0              0.0   \n",
       "\n",
       "   SWIR1_reflectance  SWIR2_reflectance  SWIR3_reflectance  ...  \\\n",
       "0                0.0                0.0                0.0  ...   \n",
       "1                0.0                0.0                0.0  ...   \n",
       "2                0.0                0.0                0.0  ...   \n",
       "3                0.0                0.0                0.0  ...   \n",
       "4                0.0                0.0                0.0  ...   \n",
       "\n",
       "   SoilTMP100_200cm_inst  SoilTMP10_40cm_inst  SoilTMP40_100cm_inst  \\\n",
       "0                    0.0                  0.0                   0.0   \n",
       "1                    0.0                  0.0                   0.0   \n",
       "2                    0.0                  0.0                   0.0   \n",
       "3                    0.0                  0.0                   0.0   \n",
       "4                    0.0                  0.0                   0.0   \n",
       "\n",
       "   Swnet_tavg  Tair_f_inst  Tveg_tavg  Wind_f_inst  Uncertainty   QA  label  \n",
       "0         0.0          0.0        0.0          0.0          0.0  0.0  water  \n",
       "1         0.0          0.0        0.0          0.0          0.0  0.0  water  \n",
       "2         0.0          0.0        0.0          0.0          0.0  0.0  water  \n",
       "3         0.0          0.0        0.0          0.0          0.0  0.0  water  \n",
       "4         0.0          0.0        0.0          0.0          0.0  0.0  water  \n",
       "\n",
       "[5 rows x 62 columns]"
      ]
     },
     "execution_count": 37,
     "metadata": {},
     "output_type": "execute_result"
    }
   ],
   "source": [
    "# check if read correctly\n",
    "dataset.head()"
   ]
  },
  {
   "cell_type": "code",
   "execution_count": 38,
   "metadata": {},
   "outputs": [
    {
     "data": {
      "text/plain": [
       "water           649240\n",
       "burned          369925\n",
       "fwi_high         11823\n",
       "land              2463\n",
       "fwi_moderate       732\n",
       "active_fire        193\n",
       "Name: label, dtype: int64"
      ]
     },
     "execution_count": 38,
     "metadata": {},
     "output_type": "execute_result"
    }
   ],
   "source": [
    "# check class imbalance\n",
    "dataset['label'].value_counts()"
   ]
  },
  {
   "cell_type": "code",
   "execution_count": 39,
   "metadata": {},
   "outputs": [],
   "source": [
    "# Split data into X and y\n",
    "# Need to save coordinates AFTER train test split in order to merge at end\n",
    "\n",
    "X = dataset.drop('label', axis = 1)\n",
    "y = dataset['label']\n",
    "\n",
    "# Predicting categories: ['water', 'burned', 'fwi_high', 'land', 'fwi_moderate', 'active_fire']"
   ]
  },
  {
   "cell_type": "code",
   "execution_count": 40,
   "metadata": {},
   "outputs": [],
   "source": [
    "# Train, Test Split\n",
    "X_train, X_test, y_train, y_test = train_test_split(X, y, test_size=0.20, random_state=1, stratify = y)"
   ]
  },
  {
   "cell_type": "code",
   "execution_count": 41,
   "metadata": {},
   "outputs": [
    {
     "name": "stderr",
     "output_type": "stream",
     "text": [
      "/usr/local/lib/python3.5/dist-packages/pandas/core/frame.py:4117: SettingWithCopyWarning: \n",
      "A value is trying to be set on a copy of a slice from a DataFrame\n",
      "\n",
      "See the caveats in the documentation: http://pandas.pydata.org/pandas-docs/stable/user_guide/indexing.html#returning-a-view-versus-a-copy\n",
      "  errors=errors,\n"
     ]
    }
   ],
   "source": [
    "# Save coordinates\n",
    "train_coords = X_train.loc[:,['lat', 'lon']]\n",
    "test_coords = X_test.loc[:,['lat', 'lon']]\n",
    "\n",
    "# Drop coordinates from dataset\n",
    "X_train.drop(['lat','lon'], axis = 1, inplace = True)\n",
    "X_test.drop(['lat','lon'], axis = 1, inplace = True)"
   ]
  },
  {
   "cell_type": "markdown",
   "metadata": {},
   "source": [
    "**Scaling Data**"
   ]
  },
  {
   "cell_type": "code",
   "execution_count": 42,
   "metadata": {},
   "outputs": [],
   "source": [
    "# Scale Data\n",
    "scaler = StandardScaler()\n",
    "x_train = scaler.fit_transform(X_train)\n",
    "x_test = scaler.transform(X_test)\n",
    "\n",
    "# Binarizing is part of OneVsRestClassifier implementation"
   ]
  },
  {
   "cell_type": "markdown",
   "metadata": {},
   "source": [
    "**Balancing Classes: Oversampling Methods**"
   ]
  },
  {
   "cell_type": "code",
   "execution_count": 43,
   "metadata": {},
   "outputs": [],
   "source": [
    "# Random Over Sampler\n",
    "ros = RandomOverSampler(random_state=1)\n",
    "x_resampled, y_resampled = ros.fit_resample(x_train, y_train)"
   ]
  },
  {
   "cell_type": "code",
   "execution_count": null,
   "metadata": {},
   "outputs": [],
   "source": [
    "# Smote\n",
    "sm = SMOTE(random_state=1)\n",
    "x_smote, y_smote = sm.fit_resample(x_train, y_train)"
   ]
  },
  {
   "cell_type": "markdown",
   "metadata": {},
   "source": [
    "### Models\n",
    "1. <a href=#log>Logistic Regression</a>"
   ]
  },
  {
   "cell_type": "markdown",
   "metadata": {},
   "source": [
    "<a id=log></a>\n",
    "### Multiclass Logisitic Regression"
   ]
  },
  {
   "cell_type": "code",
   "execution_count": 24,
   "metadata": {},
   "outputs": [],
   "source": [
    "lr = LogisticRegression(penalty = 'l1', solver = 'saga',n_jobs = -1)"
   ]
  },
  {
   "cell_type": "code",
   "execution_count": 25,
   "metadata": {},
   "outputs": [
    {
     "name": "stderr",
     "output_type": "stream",
     "text": [
      "/home/jupyter/.local/lib/python3.5/site-packages/sklearn/linear_model/_sag.py:330: ConvergenceWarning: The max_iter was reached which means the coef_ did not converge\n",
      "  \"the coef_ did not converge\", ConvergenceWarning)\n"
     ]
    }
   ],
   "source": [
    "trained_model = lr.fit(x_resampled, y_resampled)"
   ]
  },
  {
   "cell_type": "code",
   "execution_count": 26,
   "metadata": {},
   "outputs": [
    {
     "data": {
      "text/plain": [
       "LogisticRegression(C=1.0, class_weight=None, dual=False, fit_intercept=True,\n",
       "                   intercept_scaling=1, l1_ratio=None, max_iter=100,\n",
       "                   multi_class='auto', n_jobs=-1, penalty='l1',\n",
       "                   random_state=None, solver='saga', tol=0.0001, verbose=0,\n",
       "                   warm_start=False)"
      ]
     },
     "execution_count": 26,
     "metadata": {},
     "output_type": "execute_result"
    }
   ],
   "source": [
    "trained_model"
   ]
  },
  {
   "cell_type": "code",
   "execution_count": 27,
   "metadata": {},
   "outputs": [
    {
     "data": {
      "text/plain": [
       "['lg_newv2_oversamp.joblib']"
      ]
     },
     "execution_count": 27,
     "metadata": {},
     "output_type": "execute_result"
    }
   ],
   "source": [
    "# Save trained model\n",
    "dump(trained_model, 'lg_newv2_oversamp.joblib')"
   ]
  },
  {
   "cell_type": "code",
   "execution_count": 28,
   "metadata": {},
   "outputs": [],
   "source": [
    "y_pred_train = trained_model.predict(x_train)"
   ]
  },
  {
   "cell_type": "code",
   "execution_count": 29,
   "metadata": {},
   "outputs": [
    {
     "data": {
      "text/plain": [
       "0.8553998919740673"
      ]
     },
     "execution_count": 29,
     "metadata": {},
     "output_type": "execute_result"
    }
   ],
   "source": [
    "# Metrics\n",
    "balanced_accuracy_score(y_train, y_pred_train)"
   ]
  },
  {
   "cell_type": "code",
   "execution_count": 30,
   "metadata": {},
   "outputs": [
    {
     "data": {
      "text/plain": [
       "0.837051527548879"
      ]
     },
     "execution_count": 30,
     "metadata": {},
     "output_type": "execute_result"
    }
   ],
   "source": [
    "y_pred_test = trained_model.predict(x_test)\n",
    "balanced_accuracy_score(y_test, y_pred_test)"
   ]
  },
  {
   "cell_type": "code",
   "execution_count": 31,
   "metadata": {},
   "outputs": [
    {
     "name": "stderr",
     "output_type": "stream",
     "text": [
      "/home/jupyter/.local/lib/python3.5/site-packages/sklearn/base.py:197: FutureWarning: From version 0.24, get_params will raise an AttributeError if a parameter cannot be retrieved as an instance attribute. Previously it would return None.\n",
      "  FutureWarning)\n",
      "/home/jupyter/.local/lib/python3.5/site-packages/yellowbrick/classifier/base.py:232: YellowbrickWarning: could not determine class_counts_ from previously fitted classifier\n",
      "  YellowbrickWarning,\n"
     ]
    },
    {
     "data": {
      "image/png": "[encoded data removed]",
      "text/plain": [
       "<Figure size 432x288 with 1 Axes>"
      ]
     },
     "metadata": {
      "needs_background": "light"
     },
     "output_type": "display_data"
    },
    {
     "data": {
      "text/plain": [
       "<matplotlib.axes._subplots.AxesSubplot at 0x7f51a5040978>"
      ]
     },
     "execution_count": 31,
     "metadata": {},
     "output_type": "execute_result"
    }
   ],
   "source": [
    "cm_train = ConfusionMatrix(trained_model, classes =['water', 'burned', 'fwi_high', 'land', 'fwi_moderate', 'active_fire'])\n",
    "cm_train.score(x_test, y_test)\n",
    "cm_train.show()"
   ]
  },
  {
   "cell_type": "markdown",
   "metadata": {},
   "source": [
    "## Random Forest"
   ]
  },
  {
   "cell_type": "code",
   "execution_count": 34,
   "metadata": {},
   "outputs": [],
   "source": [
    "rc = RandomForestClassifier(n_estimators = 50, max_depth = 10, min_samples_split = 1000, n_jobs = -1)"
   ]
  },
  {
   "cell_type": "code",
   "execution_count": 44,
   "metadata": {},
   "outputs": [],
   "source": [
    "trained_model = rc.fit(x_resampled, y_resampled)"
   ]
  },
  {
   "cell_type": "code",
   "execution_count": 45,
   "metadata": {},
   "outputs": [
    {
     "data": {
      "text/plain": [
       "RandomForestClassifier(bootstrap=True, ccp_alpha=0.0, class_weight=None,\n",
       "                       criterion='gini', max_depth=10, max_features='auto',\n",
       "                       max_leaf_nodes=None, max_samples=None,\n",
       "                       min_impurity_decrease=0.0, min_impurity_split=None,\n",
       "                       min_samples_leaf=1, min_samples_split=1000,\n",
       "                       min_weight_fraction_leaf=0.0, n_estimators=50, n_jobs=-1,\n",
       "                       oob_score=False, random_state=None, verbose=0,\n",
       "                       warm_start=False)"
      ]
     },
     "execution_count": 45,
     "metadata": {},
     "output_type": "execute_result"
    }
   ],
   "source": [
    "trained_model"
   ]
  },
  {
   "cell_type": "code",
   "execution_count": 46,
   "metadata": {},
   "outputs": [
    {
     "data": {
      "text/plain": [
       "['rc_newv2_oversamp.joblib']"
      ]
     },
     "execution_count": 46,
     "metadata": {},
     "output_type": "execute_result"
    }
   ],
   "source": [
    "# Save trained model\n",
    "dump(trained_model, 'rc_newv2_oversamp.joblib')"
   ]
  },
  {
   "cell_type": "code",
   "execution_count": 3,
   "metadata": {},
   "outputs": [],
   "source": [
    "trained_model = load('../../finalproj_models/rc_newv2_oversamp.joblib')"
   ]
  },
  {
   "cell_type": "code",
   "execution_count": 6,
   "metadata": {},
   "outputs": [],
   "source": [
    "features = ['MaxFRP', 'EVI', 'EVI2', 'NVDI', 'NIR_reflectance',\n",
    "       'SWIR1_reflectance', 'SWIR2_reflectance', 'SWIR3_reflectance',\n",
    "       'VI_Quality', 'blue_reflectance', 'composite_day_of_the_year',\n",
    "       'green_reflectance', 'pixel_reliability', 'red_reflectance',\n",
    "       'relative_azimuth_angle', 'sun_zenith_angle', 'view_zenith_angle',\n",
    "       'gaugeQualityInfo', 'hourlyPrecipRate', 'hourlyPrecipRateGC',\n",
    "       'observationTimeFlag', 'satelliteInfoFlag', 'Albedo_inst',\n",
    "       'AvgSurfT_inst', 'CanopInt_inst', 'ECanop_tavg', 'ESoil_tavg',\n",
    "       'Evap_tavg', 'LWdown_f_tavg', 'Lwnet_tavg', 'PotEvap_tavg',\n",
    "       'Psurf_f_inst', 'Qair_f_inst', 'Qg_tavg', 'Qh_tavg', 'Qle_tavg',\n",
    "       'Qs_acc', 'Qsb_acc', 'Qsm_acc', 'Rainf_f_tavg', 'RootMoist_inst',\n",
    "       'SWE_inst', 'SWdown_f_tavg', 'SnowDepth_inst', 'Snowf_tavg',\n",
    "       'SoilMoi100_200cm_inst', 'SoilMoi10_40cm_inst', 'SoilMoi40_100cm_inst',\n",
    "       'SoilTMP0_10cm_inst', 'SoilMoi0_10cm_inst', 'SoilTMP100_200cm_inst',\n",
    "       'SoilTMP10_40cm_inst', 'SoilTMP40_100cm_inst', 'Swnet_tavg',\n",
    "       'Tair_f_inst', 'Tveg_tavg', 'Wind_f_inst', 'Uncertainty', 'QA']"
   ]
  },
  {
   "cell_type": "code",
   "execution_count": 4,
   "metadata": {},
   "outputs": [],
   "source": [
    "feat_percent = []\n",
    "for value in trained_model.feature_importances_:\n",
    "    feat_percent.append(value*100)"
   ]
  },
  {
   "cell_type": "code",
   "execution_count": 7,
   "metadata": {},
   "outputs": [],
   "source": [
    "feature_selection = pd.DataFrame(zip(features, feat_percent))"
   ]
  },
  {
   "cell_type": "code",
   "execution_count": 8,
   "metadata": {},
   "outputs": [
    {
     "data": {
      "text/html": [
       "<div>\n",
       "<style scoped>\n",
       "    .dataframe tbody tr th:only-of-type {\n",
       "        vertical-align: middle;\n",
       "    }\n",
       "\n",
       "    .dataframe tbody tr th {\n",
       "        vertical-align: top;\n",
       "    }\n",
       "\n",
       "    .dataframe thead th {\n",
       "        text-align: right;\n",
       "    }\n",
       "</style>\n",
       "<table border=\"1\" class=\"dataframe\">\n",
       "  <thead>\n",
       "    <tr style=\"text-align: right;\">\n",
       "      <th></th>\n",
       "      <th>0</th>\n",
       "      <th>1</th>\n",
       "    </tr>\n",
       "  </thead>\n",
       "  <tbody>\n",
       "    <tr>\n",
       "      <th>0</th>\n",
       "      <td>MaxFRP</td>\n",
       "      <td>12.596625</td>\n",
       "    </tr>\n",
       "    <tr>\n",
       "      <th>58</th>\n",
       "      <td>QA</td>\n",
       "      <td>11.603749</td>\n",
       "    </tr>\n",
       "    <tr>\n",
       "      <th>19</th>\n",
       "      <td>hourlyPrecipRateGC</td>\n",
       "      <td>9.380837</td>\n",
       "    </tr>\n",
       "    <tr>\n",
       "      <th>8</th>\n",
       "      <td>VI_Quality</td>\n",
       "      <td>3.820454</td>\n",
       "    </tr>\n",
       "    <tr>\n",
       "      <th>53</th>\n",
       "      <td>Swnet_tavg</td>\n",
       "      <td>2.990471</td>\n",
       "    </tr>\n",
       "    <tr>\n",
       "      <th>12</th>\n",
       "      <td>pixel_reliability</td>\n",
       "      <td>2.814310</td>\n",
       "    </tr>\n",
       "    <tr>\n",
       "      <th>28</th>\n",
       "      <td>LWdown_f_tavg</td>\n",
       "      <td>2.742756</td>\n",
       "    </tr>\n",
       "    <tr>\n",
       "      <th>30</th>\n",
       "      <td>PotEvap_tavg</td>\n",
       "      <td>2.739976</td>\n",
       "    </tr>\n",
       "    <tr>\n",
       "      <th>56</th>\n",
       "      <td>Wind_f_inst</td>\n",
       "      <td>2.684210</td>\n",
       "    </tr>\n",
       "    <tr>\n",
       "      <th>18</th>\n",
       "      <td>hourlyPrecipRate</td>\n",
       "      <td>2.521853</td>\n",
       "    </tr>\n",
       "    <tr>\n",
       "      <th>32</th>\n",
       "      <td>Qair_f_inst</td>\n",
       "      <td>2.238146</td>\n",
       "    </tr>\n",
       "    <tr>\n",
       "      <th>29</th>\n",
       "      <td>Lwnet_tavg</td>\n",
       "      <td>2.181472</td>\n",
       "    </tr>\n",
       "    <tr>\n",
       "      <th>48</th>\n",
       "      <td>SoilTMP0_10cm_inst</td>\n",
       "      <td>2.062695</td>\n",
       "    </tr>\n",
       "    <tr>\n",
       "      <th>23</th>\n",
       "      <td>AvgSurfT_inst</td>\n",
       "      <td>1.986745</td>\n",
       "    </tr>\n",
       "    <tr>\n",
       "      <th>35</th>\n",
       "      <td>Qle_tavg</td>\n",
       "      <td>1.964719</td>\n",
       "    </tr>\n",
       "    <tr>\n",
       "      <th>50</th>\n",
       "      <td>SoilTMP100_200cm_inst</td>\n",
       "      <td>1.922469</td>\n",
       "    </tr>\n",
       "    <tr>\n",
       "      <th>46</th>\n",
       "      <td>SoilMoi10_40cm_inst</td>\n",
       "      <td>1.900833</td>\n",
       "    </tr>\n",
       "    <tr>\n",
       "      <th>26</th>\n",
       "      <td>ESoil_tavg</td>\n",
       "      <td>1.872163</td>\n",
       "    </tr>\n",
       "    <tr>\n",
       "      <th>22</th>\n",
       "      <td>Albedo_inst</td>\n",
       "      <td>1.853184</td>\n",
       "    </tr>\n",
       "    <tr>\n",
       "      <th>40</th>\n",
       "      <td>RootMoist_inst</td>\n",
       "      <td>1.801076</td>\n",
       "    </tr>\n",
       "    <tr>\n",
       "      <th>31</th>\n",
       "      <td>Psurf_f_inst</td>\n",
       "      <td>1.776101</td>\n",
       "    </tr>\n",
       "    <tr>\n",
       "      <th>45</th>\n",
       "      <td>SoilMoi100_200cm_inst</td>\n",
       "      <td>1.639672</td>\n",
       "    </tr>\n",
       "    <tr>\n",
       "      <th>49</th>\n",
       "      <td>SoilMoi0_10cm_inst</td>\n",
       "      <td>1.461227</td>\n",
       "    </tr>\n",
       "    <tr>\n",
       "      <th>7</th>\n",
       "      <td>SWIR3_reflectance</td>\n",
       "      <td>1.349582</td>\n",
       "    </tr>\n",
       "    <tr>\n",
       "      <th>27</th>\n",
       "      <td>Evap_tavg</td>\n",
       "      <td>1.284091</td>\n",
       "    </tr>\n",
       "    <tr>\n",
       "      <th>52</th>\n",
       "      <td>SoilTMP40_100cm_inst</td>\n",
       "      <td>1.257523</td>\n",
       "    </tr>\n",
       "    <tr>\n",
       "      <th>9</th>\n",
       "      <td>blue_reflectance</td>\n",
       "      <td>1.242409</td>\n",
       "    </tr>\n",
       "    <tr>\n",
       "      <th>39</th>\n",
       "      <td>Rainf_f_tavg</td>\n",
       "      <td>1.223897</td>\n",
       "    </tr>\n",
       "    <tr>\n",
       "      <th>24</th>\n",
       "      <td>CanopInt_inst</td>\n",
       "      <td>1.094496</td>\n",
       "    </tr>\n",
       "    <tr>\n",
       "      <th>37</th>\n",
       "      <td>Qsb_acc</td>\n",
       "      <td>1.066018</td>\n",
       "    </tr>\n",
       "    <tr>\n",
       "      <th>54</th>\n",
       "      <td>Tair_f_inst</td>\n",
       "      <td>1.037985</td>\n",
       "    </tr>\n",
       "    <tr>\n",
       "      <th>11</th>\n",
       "      <td>green_reflectance</td>\n",
       "      <td>0.988800</td>\n",
       "    </tr>\n",
       "    <tr>\n",
       "      <th>42</th>\n",
       "      <td>SWdown_f_tavg</td>\n",
       "      <td>0.953859</td>\n",
       "    </tr>\n",
       "    <tr>\n",
       "      <th>33</th>\n",
       "      <td>Qg_tavg</td>\n",
       "      <td>0.878165</td>\n",
       "    </tr>\n",
       "    <tr>\n",
       "      <th>47</th>\n",
       "      <td>SoilMoi40_100cm_inst</td>\n",
       "      <td>0.869986</td>\n",
       "    </tr>\n",
       "    <tr>\n",
       "      <th>10</th>\n",
       "      <td>composite_day_of_the_year</td>\n",
       "      <td>0.821981</td>\n",
       "    </tr>\n",
       "    <tr>\n",
       "      <th>4</th>\n",
       "      <td>NIR_reflectance</td>\n",
       "      <td>0.783702</td>\n",
       "    </tr>\n",
       "    <tr>\n",
       "      <th>3</th>\n",
       "      <td>NVDI</td>\n",
       "      <td>0.662826</td>\n",
       "    </tr>\n",
       "    <tr>\n",
       "      <th>1</th>\n",
       "      <td>EVI</td>\n",
       "      <td>0.654296</td>\n",
       "    </tr>\n",
       "    <tr>\n",
       "      <th>6</th>\n",
       "      <td>SWIR2_reflectance</td>\n",
       "      <td>0.577518</td>\n",
       "    </tr>\n",
       "    <tr>\n",
       "      <th>17</th>\n",
       "      <td>gaugeQualityInfo</td>\n",
       "      <td>0.519799</td>\n",
       "    </tr>\n",
       "    <tr>\n",
       "      <th>51</th>\n",
       "      <td>SoilTMP10_40cm_inst</td>\n",
       "      <td>0.501750</td>\n",
       "    </tr>\n",
       "    <tr>\n",
       "      <th>25</th>\n",
       "      <td>ECanop_tavg</td>\n",
       "      <td>0.486535</td>\n",
       "    </tr>\n",
       "    <tr>\n",
       "      <th>34</th>\n",
       "      <td>Qh_tavg</td>\n",
       "      <td>0.483983</td>\n",
       "    </tr>\n",
       "    <tr>\n",
       "      <th>5</th>\n",
       "      <td>SWIR1_reflectance</td>\n",
       "      <td>0.461738</td>\n",
       "    </tr>\n",
       "    <tr>\n",
       "      <th>14</th>\n",
       "      <td>relative_azimuth_angle</td>\n",
       "      <td>0.441006</td>\n",
       "    </tr>\n",
       "    <tr>\n",
       "      <th>55</th>\n",
       "      <td>Tveg_tavg</td>\n",
       "      <td>0.419964</td>\n",
       "    </tr>\n",
       "    <tr>\n",
       "      <th>16</th>\n",
       "      <td>view_zenith_angle</td>\n",
       "      <td>0.342921</td>\n",
       "    </tr>\n",
       "    <tr>\n",
       "      <th>2</th>\n",
       "      <td>EVI2</td>\n",
       "      <td>0.313477</td>\n",
       "    </tr>\n",
       "    <tr>\n",
       "      <th>21</th>\n",
       "      <td>satelliteInfoFlag</td>\n",
       "      <td>0.278678</td>\n",
       "    </tr>\n",
       "    <tr>\n",
       "      <th>15</th>\n",
       "      <td>sun_zenith_angle</td>\n",
       "      <td>0.216149</td>\n",
       "    </tr>\n",
       "    <tr>\n",
       "      <th>13</th>\n",
       "      <td>red_reflectance</td>\n",
       "      <td>0.198244</td>\n",
       "    </tr>\n",
       "    <tr>\n",
       "      <th>57</th>\n",
       "      <td>Uncertainty</td>\n",
       "      <td>0.027861</td>\n",
       "    </tr>\n",
       "    <tr>\n",
       "      <th>36</th>\n",
       "      <td>Qs_acc</td>\n",
       "      <td>0.004528</td>\n",
       "    </tr>\n",
       "    <tr>\n",
       "      <th>41</th>\n",
       "      <td>SWE_inst</td>\n",
       "      <td>0.000482</td>\n",
       "    </tr>\n",
       "    <tr>\n",
       "      <th>43</th>\n",
       "      <td>SnowDepth_inst</td>\n",
       "      <td>0.000006</td>\n",
       "    </tr>\n",
       "    <tr>\n",
       "      <th>20</th>\n",
       "      <td>observationTimeFlag</td>\n",
       "      <td>0.000000</td>\n",
       "    </tr>\n",
       "    <tr>\n",
       "      <th>44</th>\n",
       "      <td>Snowf_tavg</td>\n",
       "      <td>0.000000</td>\n",
       "    </tr>\n",
       "    <tr>\n",
       "      <th>38</th>\n",
       "      <td>Qsm_acc</td>\n",
       "      <td>0.000000</td>\n",
       "    </tr>\n",
       "  </tbody>\n",
       "</table>\n",
       "</div>"
      ],
      "text/plain": [
       "                            0          1\n",
       "0                      MaxFRP  12.596625\n",
       "58                         QA  11.603749\n",
       "19         hourlyPrecipRateGC   9.380837\n",
       "8                  VI_Quality   3.820454\n",
       "53                 Swnet_tavg   2.990471\n",
       "12          pixel_reliability   2.814310\n",
       "28              LWdown_f_tavg   2.742756\n",
       "30               PotEvap_tavg   2.739976\n",
       "56                Wind_f_inst   2.684210\n",
       "18           hourlyPrecipRate   2.521853\n",
       "32                Qair_f_inst   2.238146\n",
       "29                 Lwnet_tavg   2.181472\n",
       "48         SoilTMP0_10cm_inst   2.062695\n",
       "23              AvgSurfT_inst   1.986745\n",
       "35                   Qle_tavg   1.964719\n",
       "50      SoilTMP100_200cm_inst   1.922469\n",
       "46        SoilMoi10_40cm_inst   1.900833\n",
       "26                 ESoil_tavg   1.872163\n",
       "22                Albedo_inst   1.853184\n",
       "40             RootMoist_inst   1.801076\n",
       "31               Psurf_f_inst   1.776101\n",
       "45      SoilMoi100_200cm_inst   1.639672\n",
       "49         SoilMoi0_10cm_inst   1.461227\n",
       "7           SWIR3_reflectance   1.349582\n",
       "27                  Evap_tavg   1.284091\n",
       "52       SoilTMP40_100cm_inst   1.257523\n",
       "9            blue_reflectance   1.242409\n",
       "39               Rainf_f_tavg   1.223897\n",
       "24              CanopInt_inst   1.094496\n",
       "37                    Qsb_acc   1.066018\n",
       "54                Tair_f_inst   1.037985\n",
       "11          green_reflectance   0.988800\n",
       "42              SWdown_f_tavg   0.953859\n",
       "33                    Qg_tavg   0.878165\n",
       "47       SoilMoi40_100cm_inst   0.869986\n",
       "10  composite_day_of_the_year   0.821981\n",
       "4             NIR_reflectance   0.783702\n",
       "3                        NVDI   0.662826\n",
       "1                         EVI   0.654296\n",
       "6           SWIR2_reflectance   0.577518\n",
       "17           gaugeQualityInfo   0.519799\n",
       "51        SoilTMP10_40cm_inst   0.501750\n",
       "25                ECanop_tavg   0.486535\n",
       "34                    Qh_tavg   0.483983\n",
       "5           SWIR1_reflectance   0.461738\n",
       "14     relative_azimuth_angle   0.441006\n",
       "55                  Tveg_tavg   0.419964\n",
       "16          view_zenith_angle   0.342921\n",
       "2                        EVI2   0.313477\n",
       "21          satelliteInfoFlag   0.278678\n",
       "15           sun_zenith_angle   0.216149\n",
       "13            red_reflectance   0.198244\n",
       "57                Uncertainty   0.027861\n",
       "36                     Qs_acc   0.004528\n",
       "41                   SWE_inst   0.000482\n",
       "43             SnowDepth_inst   0.000006\n",
       "20        observationTimeFlag   0.000000\n",
       "44                 Snowf_tavg   0.000000\n",
       "38                    Qsm_acc   0.000000"
      ]
     },
     "execution_count": 8,
     "metadata": {},
     "output_type": "execute_result"
    }
   ],
   "source": [
    "feature_selection.sort_values(by = 1, ascending = False)"
   ]
  },
  {
   "cell_type": "code",
   "execution_count": 11,
   "metadata": {},
   "outputs": [
    {
     "data": {
      "text/plain": [
       "['EVI',\n",
       " 'EVI2',\n",
       " 'NVDI',\n",
       " 'NIR_reflectance',\n",
       " 'SWIR1_reflectance',\n",
       " 'SWIR2_reflectance',\n",
       " 'composite_day_of_the_year',\n",
       " 'green_reflectance',\n",
       " 'red_reflectance',\n",
       " 'relative_azimuth_angle',\n",
       " 'sun_zenith_angle',\n",
       " 'view_zenith_angle',\n",
       " 'gaugeQualityInfo',\n",
       " 'observationTimeFlag',\n",
       " 'satelliteInfoFlag',\n",
       " 'ECanop_tavg',\n",
       " 'Qg_tavg',\n",
       " 'Qh_tavg',\n",
       " 'Qs_acc',\n",
       " 'Qsm_acc',\n",
       " 'SWE_inst',\n",
       " 'SWdown_f_tavg',\n",
       " 'SnowDepth_inst',\n",
       " 'Snowf_tavg',\n",
       " 'SoilMoi40_100cm_inst',\n",
       " 'SoilTMP10_40cm_inst',\n",
       " 'Tveg_tavg',\n",
       " 'Uncertainty']"
      ]
     },
     "execution_count": 11,
     "metadata": {},
     "output_type": "execute_result"
    }
   ],
   "source": [
    "list(feature_selection.loc[feature_selection[1] < 1, 0])"
   ]
  },
  {
   "cell_type": "code",
   "execution_count": 64,
   "metadata": {},
   "outputs": [],
   "source": [
    "y_pred_train = trained_model.predict(x_train)"
   ]
  },
  {
   "cell_type": "code",
   "execution_count": 65,
   "metadata": {},
   "outputs": [
    {
     "data": {
      "text/plain": [
       "0.9073041841005717"
      ]
     },
     "execution_count": 65,
     "metadata": {},
     "output_type": "execute_result"
    }
   ],
   "source": [
    "# Metrics\n",
    "balanced_accuracy_score(y_train, y_pred_train)"
   ]
  },
  {
   "cell_type": "code",
   "execution_count": 66,
   "metadata": {},
   "outputs": [
    {
     "data": {
      "text/plain": [
       "0.8548821576386195"
      ]
     },
     "execution_count": 66,
     "metadata": {},
     "output_type": "execute_result"
    }
   ],
   "source": [
    "y_pred_test = trained_model.predict(x_test)\n",
    "balanced_accuracy_score(y_test, y_pred_test)"
   ]
  },
  {
   "cell_type": "code",
   "execution_count": null,
   "metadata": {},
   "outputs": [],
   "source": [
    "cm_train = ConfusionMatrix(trained_model, classes =['water', 'burned', 'fwi_high', 'land', 'fwi_moderate', 'active_fire'])\n",
    "cm_train.score(x_test, y_test)\n",
    "cm_train.show()"
   ]
  },
  {
   "cell_type": "markdown",
   "metadata": {},
   "source": [
    "### Create Output of Predictions on All Data for Mapping"
   ]
  },
  {
   "cell_type": "code",
   "execution_count": null,
   "metadata": {},
   "outputs": [],
   "source": []
  },
  {
   "cell_type": "code",
   "execution_count": null,
   "metadata": {},
   "outputs": [],
   "source": []
  }
 ],
 "metadata": {
  "kernelspec": {
   "display_name": "Python (geospatial)",
   "language": "python",
   "name": "merging"
  },
  "language_info": {
   "codemirror_mode": {
    "name": "ipython",
    "version": 3
   },
   "file_extension": ".py",
   "mimetype": "text/x-python",
   "name": "python",
   "nbconvert_exporter": "python",
   "pygments_lexer": "ipython3",
   "version": "3.7.5"
  }
 },
 "nbformat": 4,
 "nbformat_minor": 4
}
