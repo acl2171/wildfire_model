{
 "cells": [
  {
   "cell_type": "code",
   "execution_count": 10,
   "metadata": {},
   "outputs": [],
   "source": [
    "import pandas as pd\n",
    "import pickle\n",
    "import xarray as xr\n",
    "import numpy as np\n",
    "import boto3\n",
    "import geopandas\n",
    "from shapely.geometry import Point\n",
    "import pyarrow"
   ]
  },
  {
   "cell_type": "code",
   "execution_count": 11,
   "metadata": {},
   "outputs": [],
   "source": [
    "burned = xr.open_mfdataset('../../finalproj_data/time_slice/MCD64A1.006_500m_aid0001.nc', combine = 'by_coords')\n",
    "burnt = burned.sel(time = slice('2019-11-01','2019-11-01'))"
   ]
  },
  {
   "cell_type": "code",
   "execution_count": 12,
   "metadata": {},
   "outputs": [],
   "source": [
    "# burnt['crs']\n",
    "# Attributes:\n",
    "#     grid_mapping_name:            latitude_longitude\n",
    "#     _CoordinateAxisTypes:         GeoX GeoY\n",
    "#     epsg_code:                    4326\n",
    "#     horizontal_datum_name:        WGS84\n",
    "#     semi_major_axis:              6378137\n",
    "#     inverse_flattening:           298.257223563\n",
    "#     longitude_of_prime_meridian:  0.0"
   ]
  },
  {
   "cell_type": "code",
   "execution_count": 13,
   "metadata": {},
   "outputs": [],
   "source": [
    "burnt = burnt.drop_vars(['Burn_Date_Uncertainty', 'First_Day', 'Last_Day','crs'])"
   ]
  },
  {
   "cell_type": "code",
   "execution_count": 14,
   "metadata": {},
   "outputs": [],
   "source": [
    "burnt = burnt.squeeze('time')"
   ]
  },
  {
   "cell_type": "code",
   "execution_count": 15,
   "metadata": {},
   "outputs": [
    {
     "data": {
      "text/html": [
       "<pre>&lt;xarray.Dataset&gt;\n",
       "Dimensions:    (lat: 12623, lon: 16707)\n",
       "Coordinates:\n",
       "    time       object 2019-11-01 00:00:00\n",
       "  * lat        (lat) float64 4.36 4.356 4.352 4.348 ... -48.22 -48.23 -48.23\n",
       "  * lon        (lon) float64 96.33 96.33 96.34 96.34 ... 165.9 165.9 165.9 165.9\n",
       "Data variables:\n",
       "    Burn_Date  (lat, lon) float32 dask.array&lt;chunksize=(12623, 16707), meta=np.ndarray&gt;\n",
       "    QA         (lat, lon) float32 dask.array&lt;chunksize=(12623, 16707), meta=np.ndarray&gt;\n",
       "Attributes:\n",
       "    title:        MCD64A1.006 for aid0001\n",
       "    Conventions:  CF-1.6\n",
       "    institution:  Land Processes Distributed Active Archive Center (LP DAAC)\n",
       "    source:       AppEEARS v2.34\n",
       "    references:   See README.txt\n",
       "    history:      See README.txt</pre>"
      ],
      "text/plain": [
       "<xarray.Dataset>\n",
       "Dimensions:    (lat: 12623, lon: 16707)\n",
       "Coordinates:\n",
       "    time       object 2019-11-01 00:00:00\n",
       "  * lat        (lat) float64 4.36 4.356 4.352 4.348 ... -48.22 -48.23 -48.23\n",
       "  * lon        (lon) float64 96.33 96.33 96.34 96.34 ... 165.9 165.9 165.9 165.9\n",
       "Data variables:\n",
       "    Burn_Date  (lat, lon) float32 dask.array<chunksize=(12623, 16707), meta=np.ndarray>\n",
       "    QA         (lat, lon) float32 dask.array<chunksize=(12623, 16707), meta=np.ndarray>\n",
       "Attributes:\n",
       "    title:        MCD64A1.006 for aid0001\n",
       "    Conventions:  CF-1.6\n",
       "    institution:  Land Processes Distributed Active Archive Center (LP DAAC)\n",
       "    source:       AppEEARS v2.34\n",
       "    references:   See README.txt\n",
       "    history:      See README.txt"
      ]
     },
     "execution_count": 15,
     "metadata": {},
     "output_type": "execute_result"
    }
   ],
   "source": [
    "burnt"
   ]
  },
  {
   "cell_type": "code",
   "execution_count": 16,
   "metadata": {},
   "outputs": [],
   "source": [
    "burnt = burnt.to_dataframe()\n",
    "burnt.reset_index(inplace = True)"
   ]
  },
  {
   "cell_type": "code",
   "execution_count": 17,
   "metadata": {},
   "outputs": [],
   "source": [
    "burnt.drop('time', axis = 1, inplace = True)"
   ]
  },
  {
   "cell_type": "code",
   "execution_count": 18,
   "metadata": {},
   "outputs": [
    {
     "data": {
      "text/html": [
       "<div>\n",
       "<style scoped>\n",
       "    .dataframe tbody tr th:only-of-type {\n",
       "        vertical-align: middle;\n",
       "    }\n",
       "\n",
       "    .dataframe tbody tr th {\n",
       "        vertical-align: top;\n",
       "    }\n",
       "\n",
       "    .dataframe thead th {\n",
       "        text-align: right;\n",
       "    }\n",
       "</style>\n",
       "<table border=\"1\" class=\"dataframe\">\n",
       "  <thead>\n",
       "    <tr style=\"text-align: right;\">\n",
       "      <th></th>\n",
       "      <th>lat</th>\n",
       "      <th>lon</th>\n",
       "      <th>Burn_Date</th>\n",
       "      <th>QA</th>\n",
       "    </tr>\n",
       "  </thead>\n",
       "  <tbody>\n",
       "    <tr>\n",
       "      <th>0</th>\n",
       "      <td>4.360417</td>\n",
       "      <td>96.327083</td>\n",
       "      <td>0.0</td>\n",
       "      <td>3.0</td>\n",
       "    </tr>\n",
       "    <tr>\n",
       "      <th>1</th>\n",
       "      <td>4.360417</td>\n",
       "      <td>96.331250</td>\n",
       "      <td>0.0</td>\n",
       "      <td>3.0</td>\n",
       "    </tr>\n",
       "    <tr>\n",
       "      <th>2</th>\n",
       "      <td>4.360417</td>\n",
       "      <td>96.335417</td>\n",
       "      <td>0.0</td>\n",
       "      <td>3.0</td>\n",
       "    </tr>\n",
       "    <tr>\n",
       "      <th>3</th>\n",
       "      <td>4.360417</td>\n",
       "      <td>96.339583</td>\n",
       "      <td>0.0</td>\n",
       "      <td>3.0</td>\n",
       "    </tr>\n",
       "    <tr>\n",
       "      <th>4</th>\n",
       "      <td>4.360417</td>\n",
       "      <td>96.343750</td>\n",
       "      <td>0.0</td>\n",
       "      <td>3.0</td>\n",
       "    </tr>\n",
       "    <tr>\n",
       "      <th>...</th>\n",
       "      <td>...</td>\n",
       "      <td>...</td>\n",
       "      <td>...</td>\n",
       "      <td>...</td>\n",
       "    </tr>\n",
       "    <tr>\n",
       "      <th>210892456</th>\n",
       "      <td>-48.231250</td>\n",
       "      <td>165.918750</td>\n",
       "      <td>-2.0</td>\n",
       "      <td>0.0</td>\n",
       "    </tr>\n",
       "    <tr>\n",
       "      <th>210892457</th>\n",
       "      <td>-48.231250</td>\n",
       "      <td>165.922917</td>\n",
       "      <td>-2.0</td>\n",
       "      <td>0.0</td>\n",
       "    </tr>\n",
       "    <tr>\n",
       "      <th>210892458</th>\n",
       "      <td>-48.231250</td>\n",
       "      <td>165.927083</td>\n",
       "      <td>-2.0</td>\n",
       "      <td>0.0</td>\n",
       "    </tr>\n",
       "    <tr>\n",
       "      <th>210892459</th>\n",
       "      <td>-48.231250</td>\n",
       "      <td>165.931250</td>\n",
       "      <td>-2.0</td>\n",
       "      <td>0.0</td>\n",
       "    </tr>\n",
       "    <tr>\n",
       "      <th>210892460</th>\n",
       "      <td>-48.231250</td>\n",
       "      <td>165.935417</td>\n",
       "      <td>-2.0</td>\n",
       "      <td>0.0</td>\n",
       "    </tr>\n",
       "  </tbody>\n",
       "</table>\n",
       "<p>210892461 rows × 4 columns</p>\n",
       "</div>"
      ],
      "text/plain": [
       "                 lat         lon  Burn_Date   QA\n",
       "0           4.360417   96.327083        0.0  3.0\n",
       "1           4.360417   96.331250        0.0  3.0\n",
       "2           4.360417   96.335417        0.0  3.0\n",
       "3           4.360417   96.339583        0.0  3.0\n",
       "4           4.360417   96.343750        0.0  3.0\n",
       "...              ...         ...        ...  ...\n",
       "210892456 -48.231250  165.918750       -2.0  0.0\n",
       "210892457 -48.231250  165.922917       -2.0  0.0\n",
       "210892458 -48.231250  165.927083       -2.0  0.0\n",
       "210892459 -48.231250  165.931250       -2.0  0.0\n",
       "210892460 -48.231250  165.935417       -2.0  0.0\n",
       "\n",
       "[210892461 rows x 4 columns]"
      ]
     },
     "execution_count": 18,
     "metadata": {},
     "output_type": "execute_result"
    }
   ],
   "source": [
    "burnt"
   ]
  },
  {
   "cell_type": "code",
   "execution_count": 19,
   "metadata": {},
   "outputs": [],
   "source": [
    "burnt.to_parquet('../../finalproj_data/parquet/burnt.parquet')"
   ]
  },
  {
   "cell_type": "markdown",
   "metadata": {},
   "source": [
    "Unique values:\n",
    "    array([  0.,  nan,  -2., 305., 307., 322., 327., 320., 323., 326., 328.,\n",
    "       324., 321., 319., 329., 313., 316., 306., 308., 309., 317., 312.,\n",
    "       311., 333., 334., 332., 331., 310., 325., 318., 314., 315., 330.] <br>\n",
    "14.6% of 210,892,461 data points are null values. <br>\n",
    "0 is unburned, -2 is water, other values are days"
   ]
  },
  {
   "cell_type": "markdown",
   "metadata": {},
   "source": [
    "### Save as Parquet: other data"
   ]
  },
  {
   "cell_type": "code",
   "execution_count": 20,
   "metadata": {},
   "outputs": [],
   "source": [
    "ONE = xr.open_mfdataset('../../finalproj_data/time_slice/MOD16A2.006_500m_aid0001.nc', combine='by_coords') \n",
    "# (lat: 12623, lon: 16707, time: 1)\n",
    "# 1.687374337 GB\n",
    "\n",
    "TWO = xr.open_mfdataset('../../finalproj_data/time_slice/VNP13A2.001_1km_aid0001.nc', combine = 'by_coords') #  (lat: 6312, lon: 8354, time: 1)\n",
    "# Slice by time dimension so that this dataset is 1 dimension in time. \n",
    "TWO = TWO.sel(time = slice('2019-12-11', '2019-12-11'))\n",
    "#2.953022425\n",
    "\n",
    "THREE = xr.open_mfdataset('../../finalproj_data/time_slice/VNP14A1.001_1km_aid0001.nc', combine = 'by_coords') # (lat: 6312, lon: 8354, time: 1)\n",
    "#1.054726297 GB"
   ]
  },
  {
   "cell_type": "code",
   "execution_count": 21,
   "metadata": {},
   "outputs": [],
   "source": [
    "# GFWD - FWI --> Dataset labels to identify \"high risk of fire\" based on FWI calculations.\n",
    "# Convension to label DataSet in caps and DataArray in lowercase\n",
    "\n",
    "#Use xarray to open .nc file, combining by coordinates. \n",
    "FWI = xr.open_mfdataset(\"../../finalproj_data/satellitedata/GFWD/FWI.GEOS-5.Monthly.Default.201912.nc\", combine = 'by_coords')"
   ]
  },
  {
   "cell_type": "markdown",
   "metadata": {},
   "source": [
    "### Clean this Data"
   ]
  },
  {
   "cell_type": "code",
   "execution_count": 22,
   "metadata": {},
   "outputs": [],
   "source": [
    "# <xarray.DataArray 'crs' ()>\n",
    "# array(-127, dtype=int8)\n",
    "# Coordinates:\n",
    "#     time     object 2019-12-11 00:00:00\n",
    "# Attributes:\n",
    "#     grid_mapping_name:            latitude_longitude\n",
    "#     _CoordinateAxisTypes:         GeoX GeoY\n",
    "#     epsg_code:                    4326\n",
    "#     horizontal_datum_name:        WGS84\n",
    "#     semi_major_axis:              6378137\n",
    "#     inverse_flattening:           298.257223563\n",
    "#     longitude_of_prime_meridian:  0.0\n",
    "ONE = ONE.drop_vars(['crs'])\n",
    "ONE = ONE.squeeze('time')"
   ]
  },
  {
   "cell_type": "code",
   "execution_count": 23,
   "metadata": {},
   "outputs": [],
   "source": [
    "ONE = ONE.to_dataframe()\n",
    "ONE.reset_index(inplace = True)"
   ]
  },
  {
   "cell_type": "code",
   "execution_count": 24,
   "metadata": {},
   "outputs": [],
   "source": [
    "ONE.drop('time', axis = 1, inplace = True)"
   ]
  },
  {
   "cell_type": "code",
   "execution_count": 25,
   "metadata": {},
   "outputs": [],
   "source": [
    "ONE.to_parquet('../../finalproj_data/parquet/modis.parquet')"
   ]
  },
  {
   "cell_type": "code",
   "execution_count": 26,
   "metadata": {},
   "outputs": [],
   "source": [
    "# TWO\n",
    "# <xarray.DataArray 'crs' ()>\n",
    "# array(-127, dtype=int8)\n",
    "# Attributes:\n",
    "#     grid_mapping_name:            latitude_longitude\n",
    "#     _CoordinateAxisTypes:         GeoX GeoY\n",
    "#     epsg_code:                    4326\n",
    "#     horizontal_datum_name:        WGS84\n",
    "#     semi_major_axis:              6378137\n",
    "#     inverse_flattening:           298.257223563\n",
    "#     longitude_of_prime_meridian:  0.0"
   ]
  },
  {
   "cell_type": "code",
   "execution_count": 27,
   "metadata": {},
   "outputs": [],
   "source": [
    "TWO = TWO.drop_vars(['crs'])\n",
    "TWO = TWO.squeeze('time')"
   ]
  },
  {
   "cell_type": "code",
   "execution_count": 28,
   "metadata": {},
   "outputs": [],
   "source": [
    "TWO = TWO.to_dataframe()\n",
    "TWO.reset_index(inplace = True)"
   ]
  },
  {
   "cell_type": "code",
   "execution_count": 29,
   "metadata": {},
   "outputs": [],
   "source": [
    "TWO.drop('time', axis = 1, inplace = True)"
   ]
  },
  {
   "cell_type": "code",
   "execution_count": 30,
   "metadata": {},
   "outputs": [],
   "source": [
    "TWO.to_parquet('../../finalproj_data/parquet/vnp13.parquet')"
   ]
  },
  {
   "cell_type": "code",
   "execution_count": 31,
   "metadata": {},
   "outputs": [],
   "source": [
    "# THREE\n",
    "# <xarray.DataArray 'crs' ()>\n",
    "# array(-127, dtype=int8)\n",
    "# Attributes:\n",
    "#     grid_mapping_name:            latitude_longitude\n",
    "#     _CoordinateAxisTypes:         GeoX GeoY\n",
    "#     epsg_code:                    4326\n",
    "#     horizontal_datum_name:        WGS84\n",
    "#     semi_major_axis:              6378137\n",
    "#     inverse_flattening:           298.257223563\n",
    "#     longitude_of_prime_meridian:  0.0"
   ]
  },
  {
   "cell_type": "code",
   "execution_count": 32,
   "metadata": {},
   "outputs": [],
   "source": [
    "THREE = THREE.drop_vars(['crs'])\n",
    "THREE = THREE.squeeze('time')"
   ]
  },
  {
   "cell_type": "code",
   "execution_count": 33,
   "metadata": {},
   "outputs": [],
   "source": [
    "THREE = THREE.to_dataframe()\n",
    "THREE.reset_index(inplace = True)"
   ]
  },
  {
   "cell_type": "code",
   "execution_count": 34,
   "metadata": {},
   "outputs": [],
   "source": [
    "THREE.drop('time', axis = 1, inplace = True)\n",
    "THREE.drop('sample', axis = 1, inplace = True)"
   ]
  },
  {
   "cell_type": "code",
   "execution_count": 35,
   "metadata": {},
   "outputs": [],
   "source": [
    "THREE.to_parquet('../../finalproj_data/parquet/vnp14.parquet')"
   ]
  },
  {
   "cell_type": "code",
   "execution_count": null,
   "metadata": {},
   "outputs": [],
   "source": []
  },
  {
   "cell_type": "code",
   "execution_count": null,
   "metadata": {},
   "outputs": [],
   "source": []
  },
  {
   "cell_type": "code",
   "execution_count": null,
   "metadata": {},
   "outputs": [],
   "source": [
    "# Check on a plot to see what it looks like\n",
    "\n",
    "world = geopandas.read_file(geopandas.datasets.get_path('naturalearth_lowres'))\n",
    "\n",
    "# We restrict to Australia\n",
    "ax = world[world.continent == 'Australia'].plot(\n",
    "    color='white', edgecolor='black')\n",
    "\n",
    "# We can now plot our ``GeoDataFrame``.\n",
    "gdf.plot(ax=ax, color='red')\n",
    "\n",
    "plt.show()"
   ]
  }
 ],
 "metadata": {
  "kernelspec": {
   "display_name": "Python (geospatial)",
   "language": "python",
   "name": "merging"
  },
  "language_info": {
   "codemirror_mode": {
    "name": "ipython",
    "version": 3
   },
   "file_extension": ".py",
   "mimetype": "text/x-python",
   "name": "python",
   "nbconvert_exporter": "python",
   "pygments_lexer": "ipython3",
   "version": "3.7.5"
  }
 },
 "nbformat": 4,
 "nbformat_minor": 4
}
