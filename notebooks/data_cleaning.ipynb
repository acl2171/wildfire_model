{
 "cells": [
  {
   "cell_type": "code",
   "execution_count": 1,
   "metadata": {},
   "outputs": [],
   "source": [
    "import pandas as pd\n",
    "import xarray as xr\n",
    "import numpy as np\n",
    "import scipy.interpolate\n",
    "from netCDF4 import Dataset\n",
    "import bottleneck\n",
    "import pyarrow\n",
    "import scipy.ndimage as ndimage\n",
    "\n",
    "import matplotlib.pyplot as plt"
   ]
  },
  {
   "cell_type": "markdown",
   "metadata": {},
   "source": [
    "# Reading in the Data"
   ]
  },
  {
   "cell_type": "code",
   "execution_count": 2,
   "metadata": {},
   "outputs": [],
   "source": [
    "# Import Merged Data from Notebook in Cloud\n",
    "data = pd.read_parquet('../../finalproj_data/ds_df.parquet', engine = 'pyarrow')"
   ]
  },
  {
   "cell_type": "code",
   "execution_count": 3,
   "metadata": {},
   "outputs": [
    {
     "data": {
      "text/html": [
       "<div>\n",
       "<style scoped>\n",
       "    .dataframe tbody tr th:only-of-type {\n",
       "        vertical-align: middle;\n",
       "    }\n",
       "\n",
       "    .dataframe tbody tr th {\n",
       "        vertical-align: top;\n",
       "    }\n",
       "\n",
       "    .dataframe thead th {\n",
       "        text-align: right;\n",
       "    }\n",
       "</style>\n",
       "<table border=\"1\" class=\"dataframe\">\n",
       "  <thead>\n",
       "    <tr style=\"text-align: right;\">\n",
       "      <th></th>\n",
       "      <th>lat</th>\n",
       "      <th>lon</th>\n",
       "      <th>firemask</th>\n",
       "      <th>MaxFRP</th>\n",
       "      <th>EVI</th>\n",
       "      <th>EVI2</th>\n",
       "      <th>NVDI</th>\n",
       "      <th>NIR_reflectance</th>\n",
       "      <th>SWIR1_reflectance</th>\n",
       "      <th>SWIR2_reflectance</th>\n",
       "      <th>...</th>\n",
       "      <th>Swnet_tavg</th>\n",
       "      <th>Tair_f_inst</th>\n",
       "      <th>Tveg_tavg</th>\n",
       "      <th>Wind_f_inst</th>\n",
       "      <th>BurnDate</th>\n",
       "      <th>Uncertainty</th>\n",
       "      <th>QA</th>\n",
       "      <th>FirstDay</th>\n",
       "      <th>LastDay</th>\n",
       "      <th>FWI</th>\n",
       "    </tr>\n",
       "  </thead>\n",
       "  <tbody>\n",
       "    <tr>\n",
       "      <th>0</th>\n",
       "      <td>-4.98565</td>\n",
       "      <td>106.360530</td>\n",
       "      <td>3.0</td>\n",
       "      <td>NaN</td>\n",
       "      <td>NaN</td>\n",
       "      <td>NaN</td>\n",
       "      <td>NaN</td>\n",
       "      <td>NaN</td>\n",
       "      <td>NaN</td>\n",
       "      <td>NaN</td>\n",
       "      <td>...</td>\n",
       "      <td>NaN</td>\n",
       "      <td>NaN</td>\n",
       "      <td>NaN</td>\n",
       "      <td>NaN</td>\n",
       "      <td>NaN</td>\n",
       "      <td>NaN</td>\n",
       "      <td>0.0</td>\n",
       "      <td>NaN</td>\n",
       "      <td>NaN</td>\n",
       "      <td>NaN</td>\n",
       "    </tr>\n",
       "    <tr>\n",
       "      <th>1</th>\n",
       "      <td>-4.98565</td>\n",
       "      <td>106.405485</td>\n",
       "      <td>3.0</td>\n",
       "      <td>NaN</td>\n",
       "      <td>NaN</td>\n",
       "      <td>NaN</td>\n",
       "      <td>NaN</td>\n",
       "      <td>NaN</td>\n",
       "      <td>NaN</td>\n",
       "      <td>NaN</td>\n",
       "      <td>...</td>\n",
       "      <td>NaN</td>\n",
       "      <td>NaN</td>\n",
       "      <td>NaN</td>\n",
       "      <td>NaN</td>\n",
       "      <td>NaN</td>\n",
       "      <td>NaN</td>\n",
       "      <td>0.0</td>\n",
       "      <td>NaN</td>\n",
       "      <td>NaN</td>\n",
       "      <td>NaN</td>\n",
       "    </tr>\n",
       "    <tr>\n",
       "      <th>2</th>\n",
       "      <td>-4.98565</td>\n",
       "      <td>106.450441</td>\n",
       "      <td>3.0</td>\n",
       "      <td>NaN</td>\n",
       "      <td>NaN</td>\n",
       "      <td>NaN</td>\n",
       "      <td>NaN</td>\n",
       "      <td>NaN</td>\n",
       "      <td>NaN</td>\n",
       "      <td>NaN</td>\n",
       "      <td>...</td>\n",
       "      <td>NaN</td>\n",
       "      <td>NaN</td>\n",
       "      <td>NaN</td>\n",
       "      <td>NaN</td>\n",
       "      <td>NaN</td>\n",
       "      <td>NaN</td>\n",
       "      <td>0.0</td>\n",
       "      <td>NaN</td>\n",
       "      <td>NaN</td>\n",
       "      <td>NaN</td>\n",
       "    </tr>\n",
       "    <tr>\n",
       "      <th>3</th>\n",
       "      <td>-4.98565</td>\n",
       "      <td>106.495396</td>\n",
       "      <td>3.0</td>\n",
       "      <td>NaN</td>\n",
       "      <td>NaN</td>\n",
       "      <td>NaN</td>\n",
       "      <td>NaN</td>\n",
       "      <td>NaN</td>\n",
       "      <td>NaN</td>\n",
       "      <td>NaN</td>\n",
       "      <td>...</td>\n",
       "      <td>NaN</td>\n",
       "      <td>NaN</td>\n",
       "      <td>NaN</td>\n",
       "      <td>NaN</td>\n",
       "      <td>NaN</td>\n",
       "      <td>NaN</td>\n",
       "      <td>0.0</td>\n",
       "      <td>NaN</td>\n",
       "      <td>NaN</td>\n",
       "      <td>NaN</td>\n",
       "    </tr>\n",
       "    <tr>\n",
       "      <th>4</th>\n",
       "      <td>-4.98565</td>\n",
       "      <td>106.540352</td>\n",
       "      <td>3.0</td>\n",
       "      <td>NaN</td>\n",
       "      <td>NaN</td>\n",
       "      <td>NaN</td>\n",
       "      <td>NaN</td>\n",
       "      <td>NaN</td>\n",
       "      <td>NaN</td>\n",
       "      <td>NaN</td>\n",
       "      <td>...</td>\n",
       "      <td>NaN</td>\n",
       "      <td>NaN</td>\n",
       "      <td>NaN</td>\n",
       "      <td>NaN</td>\n",
       "      <td>NaN</td>\n",
       "      <td>NaN</td>\n",
       "      <td>0.0</td>\n",
       "      <td>NaN</td>\n",
       "      <td>NaN</td>\n",
       "      <td>NaN</td>\n",
       "    </tr>\n",
       "  </tbody>\n",
       "</table>\n",
       "<p>5 rows × 66 columns</p>\n",
       "</div>"
      ],
      "text/plain": [
       "       lat         lon  firemask  MaxFRP  EVI  EVI2  NVDI  NIR_reflectance  \\\n",
       "0 -4.98565  106.360530       3.0     NaN  NaN   NaN   NaN              NaN   \n",
       "1 -4.98565  106.405485       3.0     NaN  NaN   NaN   NaN              NaN   \n",
       "2 -4.98565  106.450441       3.0     NaN  NaN   NaN   NaN              NaN   \n",
       "3 -4.98565  106.495396       3.0     NaN  NaN   NaN   NaN              NaN   \n",
       "4 -4.98565  106.540352       3.0     NaN  NaN   NaN   NaN              NaN   \n",
       "\n",
       "   SWIR1_reflectance  SWIR2_reflectance  ...  Swnet_tavg  Tair_f_inst  \\\n",
       "0                NaN                NaN  ...         NaN          NaN   \n",
       "1                NaN                NaN  ...         NaN          NaN   \n",
       "2                NaN                NaN  ...         NaN          NaN   \n",
       "3                NaN                NaN  ...         NaN          NaN   \n",
       "4                NaN                NaN  ...         NaN          NaN   \n",
       "\n",
       "   Tveg_tavg  Wind_f_inst  BurnDate  Uncertainty   QA  FirstDay  LastDay  FWI  \n",
       "0        NaN          NaN       NaN          NaN  0.0       NaN      NaN  NaN  \n",
       "1        NaN          NaN       NaN          NaN  0.0       NaN      NaN  NaN  \n",
       "2        NaN          NaN       NaN          NaN  0.0       NaN      NaN  NaN  \n",
       "3        NaN          NaN       NaN          NaN  0.0       NaN      NaN  NaN  \n",
       "4        NaN          NaN       NaN          NaN  0.0       NaN      NaN  NaN  \n",
       "\n",
       "[5 rows x 66 columns]"
      ]
     },
     "execution_count": 3,
     "metadata": {},
     "output_type": "execute_result"
    }
   ],
   "source": [
    "data.head()"
   ]
  },
  {
   "cell_type": "code",
   "execution_count": 6,
   "metadata": {},
   "outputs": [
    {
     "data": {
      "text/plain": [
       "Index(['lat', 'lon', 'firemask', 'MaxFRP', 'EVI', 'EVI2', 'NVDI',\n",
       "       'NIR_reflectance', 'SWIR1_reflectance', 'SWIR2_reflectance',\n",
       "       'SWIR3_reflectance', 'VI_Quality', 'blue_reflectance',\n",
       "       'composite_day_of_the_year', 'green_reflectance', 'pixel_reliability',\n",
       "       'red_reflectance', 'relative_azimuth_angle', 'sun_zenith_angle',\n",
       "       'view_zenith_angle', 'gaugeQualityInfo', 'hourlyPrecipRate',\n",
       "       'hourlyPrecipRateGC', 'observationTimeFlag', 'satelliteInfoFlag',\n",
       "       'Albedo_inst', 'AvgSurfT_inst', 'CanopInt_inst', 'ECanop_tavg',\n",
       "       'ESoil_tavg', 'Evap_tavg', 'LWdown_f_tavg', 'Lwnet_tavg',\n",
       "       'PotEvap_tavg', 'Psurf_f_inst', 'Qair_f_inst', 'Qg_tavg', 'Qh_tavg',\n",
       "       'Qle_tavg', 'Qs_acc', 'Qsb_acc', 'Qsm_acc', 'Rainf_f_tavg',\n",
       "       'RootMoist_inst', 'SWE_inst', 'SWdown_f_tavg', 'SnowDepth_inst',\n",
       "       'Snowf_tavg', 'SoilMoi100_200cm_inst', 'SoilMoi10_40cm_inst',\n",
       "       'SoilMoi40_100cm_inst', 'SoilTMP0_10cm_inst', 'SoilMoi0_10cm_inst',\n",
       "       'SoilTMP100_200cm_inst', 'SoilTMP10_40cm_inst', 'SoilTMP40_100cm_inst',\n",
       "       'Swnet_tavg', 'Tair_f_inst', 'Tveg_tavg', 'Wind_f_inst', 'BurnDate',\n",
       "       'Uncertainty', 'QA', 'FirstDay', 'LastDay', 'FWI'],\n",
       "      dtype='object')"
      ]
     },
     "execution_count": 6,
     "metadata": {},
     "output_type": "execute_result"
    }
   ],
   "source": [
    "data.columns"
   ]
  },
  {
   "cell_type": "markdown",
   "metadata": {},
   "source": [
    "# Exploring the Data"
   ]
  },
  {
   "cell_type": "code",
   "execution_count": 7,
   "metadata": {},
   "outputs": [
    {
     "data": {
      "text/plain": [
       "3.0    360887\n",
       "5.0    339477\n",
       "4.0     87932\n",
       "9.0        81\n",
       "8.0        57\n",
       "6.0        19\n",
       "7.0        16\n",
       "Name: firemask, dtype: int64"
      ]
     },
     "execution_count": 7,
     "metadata": {},
     "output_type": "execute_result"
    }
   ],
   "source": [
    "data['firemask'].value_counts()"
   ]
  },
  {
   "cell_type": "code",
   "execution_count": 8,
   "metadata": {},
   "outputs": [],
   "source": [
    "d = data.astype('float')"
   ]
  },
  {
   "cell_type": "code",
   "execution_count": 9,
   "metadata": {},
   "outputs": [
    {
     "name": "stdout",
     "output_type": "stream",
     "text": [
      "<class 'pandas.core.frame.DataFrame'>\n",
      "RangeIndex: 1034376 entries, 0 to 1034375\n",
      "Data columns (total 66 columns):\n",
      "lat                          1034376 non-null float64\n",
      "lon                          1034376 non-null float64\n",
      "firemask                     788469 non-null float64\n",
      "MaxFRP                       510 non-null float64\n",
      "EVI                          221147 non-null float64\n",
      "EVI2                         221147 non-null float64\n",
      "NVDI                         221147 non-null float64\n",
      "NIR_reflectance              221147 non-null float64\n",
      "SWIR1_reflectance            221147 non-null float64\n",
      "SWIR2_reflectance            221147 non-null float64\n",
      "SWIR3_reflectance            221147 non-null float64\n",
      "VI_Quality                   743022 non-null float64\n",
      "blue_reflectance             221147 non-null float64\n",
      "composite_day_of_the_year    221147 non-null float64\n",
      "green_reflectance            221146 non-null float64\n",
      "pixel_reliability            770573 non-null float64\n",
      "red_reflectance              215981 non-null float64\n",
      "relative_azimuth_angle       215981 non-null float64\n",
      "sun_zenith_angle             215981 non-null float64\n",
      "view_zenith_angle            215981 non-null float64\n",
      "gaugeQualityInfo             1034376 non-null float64\n",
      "hourlyPrecipRate             1034376 non-null float64\n",
      "hourlyPrecipRateGC           1034376 non-null float64\n",
      "observationTimeFlag          1034376 non-null float64\n",
      "satelliteInfoFlag            1034376 non-null float64\n",
      "Albedo_inst                  371818 non-null float64\n",
      "AvgSurfT_inst                371818 non-null float64\n",
      "CanopInt_inst                371818 non-null float64\n",
      "ECanop_tavg                  371818 non-null float64\n",
      "ESoil_tavg                   371818 non-null float64\n",
      "Evap_tavg                    371818 non-null float64\n",
      "LWdown_f_tavg                371818 non-null float64\n",
      "Lwnet_tavg                   371818 non-null float64\n",
      "PotEvap_tavg                 371818 non-null float64\n",
      "Psurf_f_inst                 371818 non-null float64\n",
      "Qair_f_inst                  371818 non-null float64\n",
      "Qg_tavg                      371818 non-null float64\n",
      "Qh_tavg                      371818 non-null float64\n",
      "Qle_tavg                     371818 non-null float64\n",
      "Qs_acc                       371818 non-null float64\n",
      "Qsb_acc                      371818 non-null float64\n",
      "Qsm_acc                      371818 non-null float64\n",
      "Rainf_f_tavg                 371818 non-null float64\n",
      "RootMoist_inst               371818 non-null float64\n",
      "SWE_inst                     371818 non-null float64\n",
      "SWdown_f_tavg                371818 non-null float64\n",
      "SnowDepth_inst               371818 non-null float64\n",
      "Snowf_tavg                   371818 non-null float64\n",
      "SoilMoi100_200cm_inst        371818 non-null float64\n",
      "SoilMoi10_40cm_inst          371818 non-null float64\n",
      "SoilMoi40_100cm_inst         371818 non-null float64\n",
      "SoilTMP0_10cm_inst           371818 non-null float64\n",
      "SoilMoi0_10cm_inst           371818 non-null float64\n",
      "SoilTMP100_200cm_inst        371818 non-null float64\n",
      "SoilTMP10_40cm_inst          371818 non-null float64\n",
      "SoilTMP40_100cm_inst         371818 non-null float64\n",
      "Swnet_tavg                   371818 non-null float64\n",
      "Tair_f_inst                  371818 non-null float64\n",
      "Tveg_tavg                    371818 non-null float64\n",
      "Wind_f_inst                  371818 non-null float64\n",
      "BurnDate                     2234 non-null float64\n",
      "Uncertainty                  5895 non-null float64\n",
      "QA                           920287 non-null float64\n",
      "FirstDay                     372721 non-null float64\n",
      "LastDay                      372721 non-null float64\n",
      "FWI                          139801 non-null float64\n",
      "dtypes: float64(66)\n",
      "memory usage: 520.8 MB\n"
     ]
    }
   ],
   "source": [
    "d.info()"
   ]
  },
  {
   "cell_type": "code",
   "execution_count": 10,
   "metadata": {},
   "outputs": [],
   "source": [
    "# MAJOR ASSUMPTION: Fill all nulls with 0\n",
    "d.fillna(0, inplace = True)"
   ]
  },
  {
   "cell_type": "markdown",
   "metadata": {},
   "source": [
    "# Create Target Categories"
   ]
  },
  {
   "cell_type": "code",
   "execution_count": 11,
   "metadata": {},
   "outputs": [],
   "source": [
    "# Start with all the values in FireMask\n",
    "d['label'] = d['firemask']"
   ]
  },
  {
   "cell_type": "code",
   "execution_count": 12,
   "metadata": {},
   "outputs": [
    {
     "data": {
      "text/plain": [
       "3.0    360887\n",
       "5.0    339477\n",
       "0.0    245907\n",
       "4.0     87932\n",
       "9.0        81\n",
       "8.0        57\n",
       "6.0        19\n",
       "7.0        16\n",
       "Name: label, dtype: int64"
      ]
     },
     "execution_count": 12,
     "metadata": {},
     "output_type": "execute_result"
    }
   ],
   "source": [
    "d['label'].value_counts()"
   ]
  },
  {
   "cell_type": "code",
   "execution_count": 15,
   "metadata": {},
   "outputs": [],
   "source": [
    "# Create categorical values for active fire pixels\n",
    "# FireMask\n",
    "# 3 = water, non-fire\n",
    "# 4 = cloud (land or water)\n",
    "# 5 = land, non-fire\n",
    "# 6 = unknown (land or water)\n",
    "# 7, 8, 9 = fire (low, nominal and high confidence)\n",
    "\n",
    "d.loc[d['firemask'] == 3, 'label'] = 'water'\n",
    "d.loc[d['firemask'] == 5, 'label'] = 'land'\n",
    "d.loc[(d['firemask'] == 9) | (d['firemask'] == 8) | (data['firemask'] == 7), 'label'] = 'active_fire'"
   ]
  },
  {
   "cell_type": "code",
   "execution_count": 16,
   "metadata": {},
   "outputs": [],
   "source": [
    "# If last day of burn is earlier than December 21 (day 344), mark as burned\n",
    "d.loc[(d['LastDay'] > 344), 'label'] = 'burned'\n",
    "\n",
    "# If last day of burn is day 344 - 345, mark as active fire\n",
    "d.loc[((d['LastDay'] >= 344) & (d['LastDay'] <= 345)), 'label'] = 'active_fire'\n",
    "\n",
    "# If last day of burn is after day 346, mark as land\n",
    "# we will later delete these burned columns, so they will not distort the time dimension of the dataset\n",
    "d.loc[(d['LastDay'] > 345), 'label'] = 'land'"
   ]
  },
  {
   "cell_type": "code",
   "execution_count": 18,
   "metadata": {},
   "outputs": [
    {
     "data": {
      "text/plain": [
       "land           362741\n",
       "water          356951\n",
       "0.0            242245\n",
       "4.0             65030\n",
       "5.0              4902\n",
       "active_fire      2505\n",
       "6.0                 2\n",
       "Name: label, dtype: int64"
      ]
     },
     "execution_count": 18,
     "metadata": {},
     "output_type": "execute_result"
    }
   ],
   "source": [
    "d['label'].value_counts()"
   ]
  },
  {
   "cell_type": "code",
   "execution_count": null,
   "metadata": {},
   "outputs": [],
   "source": []
  },
  {
   "cell_type": "code",
   "execution_count": 22,
   "metadata": {},
   "outputs": [],
   "source": [
    "# For \"land\" areas, create categorical values from FWI numerical\n",
    "\n",
    "d.loc[(d['FWI'] < 5) & (d['label'] == 'land'), 'label'] = 'fwi_low'\n",
    "d.loc[(d['FWI'] >= 5) & (d['FWI'] < 8) & (d['label'] == 'land'), 'label'] = 'fwi_moderate'\n",
    "d.loc[(d['FWI'] >= 8) & (d['FWI'] < 16) & (d['label'] == 'land'), 'label'] = 'fwi_high'\n",
    "d.loc[(d['FWI'] >= 16) & (d['FWI'] < 29) & (d['label'] == 'land'), 'label'] = 'fwi_veryhigh'\n",
    "d.loc[(d['FWI'] >= 29) & (d['label'] == 'land'), 'label'] = 'fwi_extreme'"
   ]
  },
  {
   "cell_type": "code",
   "execution_count": 27,
   "metadata": {},
   "outputs": [],
   "source": [
    "d.loc[(d['label'] == 5), 'label'] = d.loc[(d['label'] == 5), 'FWI']\n",
    "d.loc[d['label'] == 4, 'label'] = d.loc[d['label'] == 4, 'FWI']\n",
    "d.loc[d['label'] == 6, 'label'] = d.loc[d['label'] == 6, 'FWI']"
   ]
  },
  {
   "cell_type": "code",
   "execution_count": 29,
   "metadata": {},
   "outputs": [],
   "source": [
    "\n",
    "d.loc[((d['BurnDate'] > 0) & (d['firemask']==4)), 'label'] = 'burned'"
   ]
  },
  {
   "cell_type": "code",
   "execution_count": 30,
   "metadata": {},
   "outputs": [
    {
     "data": {
      "text/plain": [
       "fwi_low         582175\n",
       "water           383783\n",
       "fwi_extreme      30481\n",
       "fwi_high         14398\n",
       "fwi_veryhigh     13382\n",
       "fwi_moderate      7733\n",
       "burned            2231\n",
       "active_fire        193\n",
       "Name: label, dtype: int64"
      ]
     },
     "execution_count": 30,
     "metadata": {},
     "output_type": "execute_result"
    }
   ],
   "source": [
    "d['label'].value_counts()"
   ]
  },
  {
   "cell_type": "code",
   "execution_count": 32,
   "metadata": {},
   "outputs": [
    {
     "data": {
      "text/html": [
       "<div>\n",
       "<style scoped>\n",
       "    .dataframe tbody tr th:only-of-type {\n",
       "        vertical-align: middle;\n",
       "    }\n",
       "\n",
       "    .dataframe tbody tr th {\n",
       "        vertical-align: top;\n",
       "    }\n",
       "\n",
       "    .dataframe thead th {\n",
       "        text-align: right;\n",
       "    }\n",
       "</style>\n",
       "<table border=\"1\" class=\"dataframe\">\n",
       "  <thead>\n",
       "    <tr style=\"text-align: right;\">\n",
       "      <th></th>\n",
       "      <th>lat</th>\n",
       "      <th>lon</th>\n",
       "      <th>firemask</th>\n",
       "      <th>MaxFRP</th>\n",
       "      <th>EVI</th>\n",
       "      <th>EVI2</th>\n",
       "      <th>NVDI</th>\n",
       "      <th>NIR_reflectance</th>\n",
       "      <th>SWIR1_reflectance</th>\n",
       "      <th>SWIR2_reflectance</th>\n",
       "      <th>...</th>\n",
       "      <th>Tair_f_inst</th>\n",
       "      <th>Tveg_tavg</th>\n",
       "      <th>Wind_f_inst</th>\n",
       "      <th>BurnDate</th>\n",
       "      <th>Uncertainty</th>\n",
       "      <th>QA</th>\n",
       "      <th>FirstDay</th>\n",
       "      <th>LastDay</th>\n",
       "      <th>FWI</th>\n",
       "      <th>label</th>\n",
       "    </tr>\n",
       "  </thead>\n",
       "  <tbody>\n",
       "  </tbody>\n",
       "</table>\n",
       "<p>0 rows × 67 columns</p>\n",
       "</div>"
      ],
      "text/plain": [
       "Empty DataFrame\n",
       "Columns: [lat, lon, firemask, MaxFRP, EVI, EVI2, NVDI, NIR_reflectance, SWIR1_reflectance, SWIR2_reflectance, SWIR3_reflectance, VI_Quality, blue_reflectance, composite_day_of_the_year, green_reflectance, pixel_reliability, red_reflectance, relative_azimuth_angle, sun_zenith_angle, view_zenith_angle, gaugeQualityInfo, hourlyPrecipRate, hourlyPrecipRateGC, observationTimeFlag, satelliteInfoFlag, Albedo_inst, AvgSurfT_inst, CanopInt_inst, ECanop_tavg, ESoil_tavg, Evap_tavg, LWdown_f_tavg, Lwnet_tavg, PotEvap_tavg, Psurf_f_inst, Qair_f_inst, Qg_tavg, Qh_tavg, Qle_tavg, Qs_acc, Qsb_acc, Qsm_acc, Rainf_f_tavg, RootMoist_inst, SWE_inst, SWdown_f_tavg, SnowDepth_inst, Snowf_tavg, SoilMoi100_200cm_inst, SoilMoi10_40cm_inst, SoilMoi40_100cm_inst, SoilTMP0_10cm_inst, SoilMoi0_10cm_inst, SoilTMP100_200cm_inst, SoilTMP10_40cm_inst, SoilTMP40_100cm_inst, Swnet_tavg, Tair_f_inst, Tveg_tavg, Wind_f_inst, BurnDate, Uncertainty, QA, FirstDay, LastDay, FWI, label]\n",
       "Index: []\n",
       "\n",
       "[0 rows x 67 columns]"
      ]
     },
     "execution_count": 32,
     "metadata": {},
     "output_type": "execute_result"
    }
   ],
   "source": [
    "d.loc[(d['label'] ==0) | (d['label'].isna())]"
   ]
  },
  {
   "cell_type": "code",
   "execution_count": 247,
   "metadata": {},
   "outputs": [],
   "source": [
    "# # Create categorical values for burned pixels, only for areas that are not active fire\n",
    "# # burned\n",
    "# # 0.0 = unburned\n",
    "# # -2.0 = water\n",
    "\n",
    "# data.loc[(data['burned'] != 0.) & (data['burned'] != -2.) & (data['label'] != 'active_fire'), 'label'] = 'burned'"
   ]
  },
  {
   "cell_type": "code",
   "execution_count": 251,
   "metadata": {},
   "outputs": [],
   "source": [
    "# # for missing data from viirs - i.e. cloud and unknown pixels, fill in missing information from categories in burned dataset\n",
    "\n",
    "# # for cloud pixels...\n",
    "# # where 'unburned', code as land\n",
    "# data.loc[(data['label'] == 4) & (data['burned'] == 0), 'label'] = 'land'\n",
    "# # where 'water', code as water\n",
    "# data.loc[(data['label'] == 4) & (data['burned'] == -2.), 'label'] = 'water'                              \n",
    "                                 \n",
    "\n",
    "# # for unknown pixels...\n",
    "# # where unburned, code as land\n",
    "# data.loc[(data['label'] == 6) & (data['burned'] == 0), 'label'] = 'land'\n",
    "# # where 'water', code as water\n",
    "# data.loc[(data['label'] == 6) & (data['burned'] == -2.), 'label'] = 'water'    "
   ]
  },
  {
   "cell_type": "markdown",
   "metadata": {},
   "source": [
    "# Drop columns that were used to create labels"
   ]
  },
  {
   "cell_type": "code",
   "execution_count": 33,
   "metadata": {},
   "outputs": [
    {
     "data": {
      "text/plain": [
       "Index(['lat', 'lon', 'firemask', 'MaxFRP', 'EVI', 'EVI2', 'NVDI',\n",
       "       'NIR_reflectance', 'SWIR1_reflectance', 'SWIR2_reflectance',\n",
       "       'SWIR3_reflectance', 'VI_Quality', 'blue_reflectance',\n",
       "       'composite_day_of_the_year', 'green_reflectance', 'pixel_reliability',\n",
       "       'red_reflectance', 'relative_azimuth_angle', 'sun_zenith_angle',\n",
       "       'view_zenith_angle', 'gaugeQualityInfo', 'hourlyPrecipRate',\n",
       "       'hourlyPrecipRateGC', 'observationTimeFlag', 'satelliteInfoFlag',\n",
       "       'Albedo_inst', 'AvgSurfT_inst', 'CanopInt_inst', 'ECanop_tavg',\n",
       "       'ESoil_tavg', 'Evap_tavg', 'LWdown_f_tavg', 'Lwnet_tavg',\n",
       "       'PotEvap_tavg', 'Psurf_f_inst', 'Qair_f_inst', 'Qg_tavg', 'Qh_tavg',\n",
       "       'Qle_tavg', 'Qs_acc', 'Qsb_acc', 'Qsm_acc', 'Rainf_f_tavg',\n",
       "       'RootMoist_inst', 'SWE_inst', 'SWdown_f_tavg', 'SnowDepth_inst',\n",
       "       'Snowf_tavg', 'SoilMoi100_200cm_inst', 'SoilMoi10_40cm_inst',\n",
       "       'SoilMoi40_100cm_inst', 'SoilTMP0_10cm_inst', 'SoilMoi0_10cm_inst',\n",
       "       'SoilTMP100_200cm_inst', 'SoilTMP10_40cm_inst', 'SoilTMP40_100cm_inst',\n",
       "       'Swnet_tavg', 'Tair_f_inst', 'Tveg_tavg', 'Wind_f_inst', 'BurnDate',\n",
       "       'Uncertainty', 'QA', 'FirstDay', 'LastDay', 'FWI', 'label'],\n",
       "      dtype='object')"
      ]
     },
     "execution_count": 33,
     "metadata": {},
     "output_type": "execute_result"
    }
   ],
   "source": [
    "d.columns"
   ]
  },
  {
   "cell_type": "code",
   "execution_count": 34,
   "metadata": {},
   "outputs": [],
   "source": [
    "# Create smaller dataset for first model run\n",
    "newdata_v1 = d.drop(['firemask', 'BurnDate', 'FirstDay', 'LastDay', 'FWI'], axis = 1)"
   ]
  },
  {
   "cell_type": "code",
   "execution_count": 35,
   "metadata": {},
   "outputs": [],
   "source": [
    "# Export data as clean parquet gzip file\n",
    "newdata_v1.to_parquet('../../finalproj_data/input_data/newdata_v1.parquet')"
   ]
  },
  {
   "cell_type": "code",
   "execution_count": 36,
   "metadata": {},
   "outputs": [
    {
     "data": {
      "text/plain": [
       "fwi_low         582175\n",
       "water           383783\n",
       "fwi_extreme      30481\n",
       "fwi_high         14398\n",
       "fwi_veryhigh     13382\n",
       "fwi_moderate      7733\n",
       "burned            2231\n",
       "active_fire        193\n",
       "Name: label, dtype: int64"
      ]
     },
     "execution_count": 36,
     "metadata": {},
     "output_type": "execute_result"
    }
   ],
   "source": [
    "newdata_v1['label'].value_counts()"
   ]
  },
  {
   "cell_type": "code",
   "execution_count": null,
   "metadata": {},
   "outputs": [],
   "source": []
  }
 ],
 "metadata": {
  "kernelspec": {
   "display_name": "Python (geospatial)",
   "language": "python",
   "name": "merging"
  },
  "language_info": {
   "codemirror_mode": {
    "name": "ipython",
    "version": 3
   },
   "file_extension": ".py",
   "mimetype": "text/x-python",
   "name": "python",
   "nbconvert_exporter": "python",
   "pygments_lexer": "ipython3",
   "version": "3.7.5"
  }
 },
 "nbformat": 4,
 "nbformat_minor": 4
}
