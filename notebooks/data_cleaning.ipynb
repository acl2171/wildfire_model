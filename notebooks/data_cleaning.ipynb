{
 "cells": [
  {
   "cell_type": "code",
   "execution_count": 80,
   "metadata": {},
   "outputs": [],
   "source": [
    "import pandas as pd\n",
    "import xarray as xr\n",
    "import numpy as np\n",
    "import scipy.interpolate\n",
    "\n",
    "import scipy.ndimage as ndimage\n",
    "%run ../pyfiles/data_cleaning.py"
   ]
  },
  {
   "cell_type": "markdown",
   "metadata": {},
   "source": [
    "**Table of Contents**\n",
    "1. <a href=#burned>MCD64A1 Burned Area</a>\n",
    "2. <a href=#evapo>MOD16A2: EvapoTranspiration Data</a>\n",
    "3. <a href=#veg>VNP13 Vegetation Indices</a>\n",
    "4. <a href=#fire>VIIRS VNP14 Thermal Anomaly / Fire</a>\n",
    "5. <a href=#fwi>Global Fire Weather Database: Fire Weather Index</a>\n",
    "6. <a href=#merge>Merging Final Dataset</a>"
   ]
  },
  {
   "cell_type": "markdown",
   "metadata": {},
   "source": [
    "<a id=burned></a>\n",
    "### MCD64A1 Burned Area\n",
    "Source: https://lpdaac.usgs.gov/products/mcd64a1v006/"
   ]
  },
  {
   "cell_type": "code",
   "execution_count": 50,
   "metadata": {},
   "outputs": [],
   "source": [
    "burned = xr.open_mfdataset('../../finalproj_data/time_slice/MCD64A1.006_500m_aid0001.nc', combine = 'by_coords')\n",
    "burnt = burned.sel(time = slice('2019-11-01','2019-11-01'))"
   ]
  },
  {
   "cell_type": "code",
   "execution_count": 51,
   "metadata": {},
   "outputs": [],
   "source": [
    "# burnt['crs']\n",
    "# Attributes:\n",
    "#     grid_mapping_name:            latitude_longitude\n",
    "#     _CoordinateAxisTypes:         GeoX GeoY\n",
    "#     epsg_code:                    4326\n",
    "#     horizontal_datum_name:        WGS84\n",
    "#     semi_major_axis:              6378137\n",
    "#     inverse_flattening:           298.257223563\n",
    "#     longitude_of_prime_meridian:  0.0"
   ]
  },
  {
   "cell_type": "code",
   "execution_count": 52,
   "metadata": {},
   "outputs": [],
   "source": [
    "burnt = burnt.drop_vars(['Burn_Date_Uncertainty', 'First_Day', 'Last_Day','crs', 'QA'])\n",
    "burnt = burnt.squeeze('time')\n",
    "burnt = burnt.drop('time')"
   ]
  },
  {
   "cell_type": "markdown",
   "metadata": {},
   "source": [
    "Unique values:\n",
    "    array([  0.,  nan,  -2., 305., 307., 322., 327., 320., 323., 326., 328.,\n",
    "       324., 321., 319., 329., 313., 316., 306., 308., 309., 317., 312.,\n",
    "       311., 333., 334., 332., 331., 310., 325., 318., 314., 315., 330.] <br>\n",
    "14.6% of 210,892,461 data points are null values. <br>\n",
    "0 is unburned, -2 is water, other values are days"
   ]
  },
  {
   "cell_type": "markdown",
   "metadata": {},
   "source": [
    "<a id=evapo></a>\n",
    "### MOD16A2: EvapoTranspiration Data "
   ]
  },
  {
   "cell_type": "code",
   "execution_count": 84,
   "metadata": {},
   "outputs": [],
   "source": [
    "# Load Data\n",
    "\n",
    "EVAP = xr.open_mfdataset('../../finalproj_data/time_slice/MOD16A2.006_500m_aid0001.nc', combine='by_coords') \n",
    "# (lat: 12623, lon: 16707, time: 1)\n",
    "# 1.687374337 GB\n",
    "# Source: https://lpdaac.usgs.gov/products/mod16a2v006/\n",
    "# Probably only going to take Total Evapotranspiration (ET_500m)\n",
    "# Ignore for now - add if time. \n"
   ]
  },
  {
   "cell_type": "code",
   "execution_count": 85,
   "metadata": {},
   "outputs": [],
   "source": [
    "# <xarray.DataArray 'crs' ()>\n",
    "# array(-127, dtype=int8)\n",
    "# Coordinates:\n",
    "#     time     object 2019-12-11 00:00:00\n",
    "# Attributes:\n",
    "#     grid_mapping_name:            latitude_longitude\n",
    "#     _CoordinateAxisTypes:         GeoX GeoY\n",
    "#     epsg_code:                    4326\n",
    "#     horizontal_datum_name:        WGS84\n",
    "#     semi_major_axis:              6378137\n",
    "#     inverse_flattening:           298.257223563\n",
    "#     longitude_of_prime_meridian:  0.0\n",
    "EVAP = EVAP.drop_vars(['crs', 'ET_QC_500m'])\n",
    "EVAP = EVAP.squeeze('time')\n",
    "EVAP = EVAP.drop('time')"
   ]
  },
  {
   "cell_type": "code",
   "execution_count": 86,
   "metadata": {},
   "outputs": [
    {
     "data": {
      "text/html": [
       "<pre>&lt;xarray.Dataset&gt;\n",
       "Dimensions:  (lat: 12623, lon: 16707)\n",
       "Coordinates:\n",
       "  * lat      (lat) float64 4.36 4.356 4.352 4.348 ... -48.22 -48.23 -48.23\n",
       "  * lon      (lon) float64 96.33 96.33 96.34 96.34 ... 165.9 165.9 165.9 165.9\n",
       "Data variables:\n",
       "    ET_500m  (lat, lon) float32 dask.array&lt;chunksize=(12623, 16707), meta=np.ndarray&gt;\n",
       "Attributes:\n",
       "    title:        MOD16A2.006 for aid0001\n",
       "    Conventions:  CF-1.6\n",
       "    institution:  Land Processes Distributed Active Archive Center (LP DAAC)\n",
       "    source:       AppEEARS v2.34\n",
       "    references:   See README.txt\n",
       "    history:      See README.txt</pre>"
      ],
      "text/plain": [
       "<xarray.Dataset>\n",
       "Dimensions:  (lat: 12623, lon: 16707)\n",
       "Coordinates:\n",
       "  * lat      (lat) float64 4.36 4.356 4.352 4.348 ... -48.22 -48.23 -48.23\n",
       "  * lon      (lon) float64 96.33 96.33 96.34 96.34 ... 165.9 165.9 165.9 165.9\n",
       "Data variables:\n",
       "    ET_500m  (lat, lon) float32 dask.array<chunksize=(12623, 16707), meta=np.ndarray>\n",
       "Attributes:\n",
       "    title:        MOD16A2.006 for aid0001\n",
       "    Conventions:  CF-1.6\n",
       "    institution:  Land Processes Distributed Active Archive Center (LP DAAC)\n",
       "    source:       AppEEARS v2.34\n",
       "    references:   See README.txt\n",
       "    history:      See README.txt"
      ]
     },
     "execution_count": 86,
     "metadata": {},
     "output_type": "execute_result"
    }
   ],
   "source": [
    "EVAP"
   ]
  },
  {
   "cell_type": "markdown",
   "metadata": {},
   "source": [
    "<a id=veg></a>\n",
    "### VNP13 Vegetation Indices\n",
    "Source: https://lpdaac.usgs.gov/products/vnp13a2v001/"
   ]
  },
  {
   "cell_type": "code",
   "execution_count": 89,
   "metadata": {},
   "outputs": [],
   "source": [
    "VEG = xr.open_mfdataset('../../finalproj_data/time_slice/VNP13A2.001_1km_aid0001.nc', combine = 'by_coords') #  (lat: 6312, lon: 8354, time: 1)\n",
    "# Slice by time dimension so that this dataset is 1 dimension in time. \n",
    "VEG = VEG.sel(time = slice('2019-12-11', '2019-12-11'))\n",
    "#2.953022425"
   ]
  },
  {
   "cell_type": "code",
   "execution_count": 90,
   "metadata": {},
   "outputs": [],
   "source": [
    "# TWO\n",
    "# <xarray.DataArray 'crs' ()>\n",
    "# array(-127, dtype=int8)\n",
    "# Attributes:\n",
    "#     grid_mapping_name:            latitude_longitude\n",
    "#     _CoordinateAxisTypes:         GeoX GeoY\n",
    "#     epsg_code:                    4326\n",
    "#     horizontal_datum_name:        WGS84\n",
    "#     semi_major_axis:              6378137\n",
    "#     inverse_flattening:           298.257223563\n",
    "#     longitude_of_prime_meridian:  0.0"
   ]
  },
  {
   "cell_type": "code",
   "execution_count": 91,
   "metadata": {},
   "outputs": [],
   "source": [
    "VEG = VEG.drop_vars(['crs'])\n",
    "VEG = VEG.squeeze('time')\n",
    "VEG = VEG.drop('time')"
   ]
  },
  {
   "cell_type": "code",
   "execution_count": 92,
   "metadata": {},
   "outputs": [
    {
     "data": {
      "text/html": [
       "<pre>&lt;xarray.Dataset&gt;\n",
       "Dimensions:                                  (lat: 6312, lon: 8354)\n",
       "Coordinates:\n",
       "  * lat                                      (lat) float64 4.362 ... -48.23\n",
       "  * lon                                      (lon) float64 96.33 96.34 ... 165.9\n",
       "Data variables:\n",
       "    _1_km_16_days_EVI                        (lat, lon) float32 dask.array&lt;chunksize=(6312, 8354), meta=np.ndarray&gt;\n",
       "    _1_km_16_days_EVI2                       (lat, lon) float32 dask.array&lt;chunksize=(6312, 8354), meta=np.ndarray&gt;\n",
       "    _1_km_16_days_NDVI                       (lat, lon) float32 dask.array&lt;chunksize=(6312, 8354), meta=np.ndarray&gt;\n",
       "    _1_km_16_days_NIR_reflectance            (lat, lon) float32 dask.array&lt;chunksize=(6312, 8354), meta=np.ndarray&gt;\n",
       "    _1_km_16_days_SWIR1_reflectance          (lat, lon) float32 dask.array&lt;chunksize=(6312, 8354), meta=np.ndarray&gt;\n",
       "    _1_km_16_days_SWIR2_reflectance          (lat, lon) float32 dask.array&lt;chunksize=(6312, 8354), meta=np.ndarray&gt;\n",
       "    _1_km_16_days_SWIR3_reflectance          (lat, lon) float32 dask.array&lt;chunksize=(6312, 8354), meta=np.ndarray&gt;\n",
       "    _1_km_16_days_blue_reflectance           (lat, lon) float32 dask.array&lt;chunksize=(6312, 8354), meta=np.ndarray&gt;\n",
       "    _1_km_16_days_composite_day_of_the_year  (lat, lon) float32 dask.array&lt;chunksize=(6312, 8354), meta=np.ndarray&gt;\n",
       "    _1_km_16_days_green_reflectance          (lat, lon) float32 dask.array&lt;chunksize=(6312, 8354), meta=np.ndarray&gt;\n",
       "    _1_km_16_days_red_reflectance            (lat, lon) float32 dask.array&lt;chunksize=(6312, 8354), meta=np.ndarray&gt;\n",
       "    _1_km_16_days_VI_Quality                 (lat, lon) float64 dask.array&lt;chunksize=(6312, 8354), meta=np.ndarray&gt;\n",
       "    _1_km_16_days_pixel_reliability          (lat, lon) float32 dask.array&lt;chunksize=(6312, 8354), meta=np.ndarray&gt;\n",
       "Attributes:\n",
       "    title:        VNP13A2.001 for aid0001\n",
       "    Conventions:  CF-1.6\n",
       "    institution:  Land Processes Distributed Active Archive Center (LP DAAC)\n",
       "    source:       AppEEARS v2.34\n",
       "    references:   See README.txt\n",
       "    history:      See README.txt</pre>"
      ],
      "text/plain": [
       "<xarray.Dataset>\n",
       "Dimensions:                                  (lat: 6312, lon: 8354)\n",
       "Coordinates:\n",
       "  * lat                                      (lat) float64 4.362 ... -48.23\n",
       "  * lon                                      (lon) float64 96.33 96.34 ... 165.9\n",
       "Data variables:\n",
       "    _1_km_16_days_EVI                        (lat, lon) float32 dask.array<chunksize=(6312, 8354), meta=np.ndarray>\n",
       "    _1_km_16_days_EVI2                       (lat, lon) float32 dask.array<chunksize=(6312, 8354), meta=np.ndarray>\n",
       "    _1_km_16_days_NDVI                       (lat, lon) float32 dask.array<chunksize=(6312, 8354), meta=np.ndarray>\n",
       "    _1_km_16_days_NIR_reflectance            (lat, lon) float32 dask.array<chunksize=(6312, 8354), meta=np.ndarray>\n",
       "    _1_km_16_days_SWIR1_reflectance          (lat, lon) float32 dask.array<chunksize=(6312, 8354), meta=np.ndarray>\n",
       "    _1_km_16_days_SWIR2_reflectance          (lat, lon) float32 dask.array<chunksize=(6312, 8354), meta=np.ndarray>\n",
       "    _1_km_16_days_SWIR3_reflectance          (lat, lon) float32 dask.array<chunksize=(6312, 8354), meta=np.ndarray>\n",
       "    _1_km_16_days_blue_reflectance           (lat, lon) float32 dask.array<chunksize=(6312, 8354), meta=np.ndarray>\n",
       "    _1_km_16_days_composite_day_of_the_year  (lat, lon) float32 dask.array<chunksize=(6312, 8354), meta=np.ndarray>\n",
       "    _1_km_16_days_green_reflectance          (lat, lon) float32 dask.array<chunksize=(6312, 8354), meta=np.ndarray>\n",
       "    _1_km_16_days_red_reflectance            (lat, lon) float32 dask.array<chunksize=(6312, 8354), meta=np.ndarray>\n",
       "    _1_km_16_days_VI_Quality                 (lat, lon) float64 dask.array<chunksize=(6312, 8354), meta=np.ndarray>\n",
       "    _1_km_16_days_pixel_reliability          (lat, lon) float32 dask.array<chunksize=(6312, 8354), meta=np.ndarray>\n",
       "Attributes:\n",
       "    title:        VNP13A2.001 for aid0001\n",
       "    Conventions:  CF-1.6\n",
       "    institution:  Land Processes Distributed Active Archive Center (LP DAAC)\n",
       "    source:       AppEEARS v2.34\n",
       "    references:   See README.txt\n",
       "    history:      See README.txt"
      ]
     },
     "execution_count": 92,
     "metadata": {},
     "output_type": "execute_result"
    }
   ],
   "source": [
    "VEG"
   ]
  },
  {
   "cell_type": "markdown",
   "metadata": {},
   "source": [
    "<a id=fire></a>\n",
    "### VIIRS VNP14 Thermal Anomaly / Fire\n",
    "\n",
    "Source: https://lpdaac.usgs.gov/products/vnp14a1v001/"
   ]
  },
  {
   "cell_type": "code",
   "execution_count": 64,
   "metadata": {},
   "outputs": [],
   "source": [
    "THREE = xr.open_mfdataset('../../finalproj_data/time_slice/VNP14A1.001_1km_aid0001.nc', combine = 'by_coords') # (lat: 6312, lon: 8354, time: 1)\n",
    "#1.054726297 GB\n",
    "\n",
    "\n",
    "# <xarray.DataArray 'crs' ()>\n",
    "# array(-127, dtype=int8)\n",
    "# Attributes:\n",
    "#     grid_mapping_name:            latitude_longitude\n",
    "#     _CoordinateAxisTypes:         GeoX GeoY\n",
    "#     epsg_code:                    4326\n",
    "#     horizontal_datum_name:        WGS84\n",
    "#     semi_major_axis:              6378137\n",
    "#     inverse_flattening:           298.257223563\n",
    "#     longitude_of_prime_meridian:  0.0"
   ]
  },
  {
   "cell_type": "code",
   "execution_count": 65,
   "metadata": {},
   "outputs": [],
   "source": [
    "THREE = THREE.drop_vars(['crs', 'QA', 'sample'])\n",
    "THREE = THREE.squeeze('time')\n",
    "THREE = THREE.drop('time')"
   ]
  },
  {
   "cell_type": "code",
   "execution_count": 66,
   "metadata": {},
   "outputs": [],
   "source": [
    "# try dropping null values in xarray\n",
    "viirs = THREE.dropna(dim = 'lon', subset=['FireMask'])\n",
    "viirs = viirs.dropna(dim = 'lat', subset=['FireMask'])"
   ]
  },
  {
   "cell_type": "code",
   "execution_count": 67,
   "metadata": {},
   "outputs": [
    {
     "data": {
      "text/html": [
       "<pre>&lt;xarray.Dataset&gt;\n",
       "Dimensions:   (lat: 6312, lon: 1899)\n",
       "Coordinates:\n",
       "  * lat       (lat) float64 4.362 4.354 4.346 4.337 ... -48.21 -48.22 -48.23\n",
       "  * lon       (lon) float64 150.1 150.1 150.1 150.1 ... 165.9 165.9 165.9 165.9\n",
       "Data variables:\n",
       "    FireMask  (lat, lon) float32 dask.array&lt;chunksize=(6312, 1899), meta=np.ndarray&gt;\n",
       "    MaxFRP    (lat, lon) float64 dask.array&lt;chunksize=(6312, 1899), meta=np.ndarray&gt;\n",
       "Attributes:\n",
       "    title:        VNP14A1.001 for aid0001\n",
       "    Conventions:  CF-1.6\n",
       "    institution:  Land Processes Distributed Active Archive Center (LP DAAC)\n",
       "    source:       AppEEARS v2.34\n",
       "    references:   See README.txt\n",
       "    history:      See README.txt</pre>"
      ],
      "text/plain": [
       "<xarray.Dataset>\n",
       "Dimensions:   (lat: 6312, lon: 1899)\n",
       "Coordinates:\n",
       "  * lat       (lat) float64 4.362 4.354 4.346 4.337 ... -48.21 -48.22 -48.23\n",
       "  * lon       (lon) float64 150.1 150.1 150.1 150.1 ... 165.9 165.9 165.9 165.9\n",
       "Data variables:\n",
       "    FireMask  (lat, lon) float32 dask.array<chunksize=(6312, 1899), meta=np.ndarray>\n",
       "    MaxFRP    (lat, lon) float64 dask.array<chunksize=(6312, 1899), meta=np.ndarray>\n",
       "Attributes:\n",
       "    title:        VNP14A1.001 for aid0001\n",
       "    Conventions:  CF-1.6\n",
       "    institution:  Land Processes Distributed Active Archive Center (LP DAAC)\n",
       "    source:       AppEEARS v2.34\n",
       "    references:   See README.txt\n",
       "    history:      See README.txt"
      ]
     },
     "execution_count": 67,
     "metadata": {},
     "output_type": "execute_result"
    }
   ],
   "source": [
    "# clean xarray dataset\n",
    "viirs"
   ]
  },
  {
   "cell_type": "code",
   "execution_count": 68,
   "metadata": {},
   "outputs": [],
   "source": [
    "# # To pandas dataframe\n",
    "\n",
    "# viirs_df = viirs.to_dataframe()\n",
    "# viirs_df.reset_index(inplace = True)\n",
    "# viirs_df['MaxFRP'].fillna(0, inplace = True)"
   ]
  },
  {
   "cell_type": "markdown",
   "metadata": {},
   "source": [
    "<a id=fwi></a>\n",
    "### Global Fire Weather Database: Fire Weather Index"
   ]
  },
  {
   "cell_type": "code",
   "execution_count": 112,
   "metadata": {},
   "outputs": [],
   "source": [
    "# Source: https://data.giss.nasa.gov/impacts/gfwed/\n",
    "# See data_collection1 for more information. \n",
    "\n",
    "# GFWD - FWI --> Dataset labels to identify \"high risk of fire\" based on FWI calculations.\n",
    "# Convention to label DataSet in caps and DataArray in lowercase\n",
    "\n",
    "#Use xarray to open .nc file, combining by coordinates. \n",
    "GFWD = xr.open_mfdataset(\"../../finalproj_data/satellitedata/GFWD/FWI.GEOS-5.Monthly.Default.201912.nc\", combine = 'by_coords')"
   ]
  },
  {
   "cell_type": "code",
   "execution_count": 113,
   "metadata": {},
   "outputs": [],
   "source": [
    "GFWD = GFWD.squeeze('time')\n",
    "GFWD = GFWD.drop('time')"
   ]
  },
  {
   "cell_type": "code",
   "execution_count": 114,
   "metadata": {},
   "outputs": [],
   "source": [
    "# Geoslicing based on coordinates for 'burnt'\n",
    "\n",
    "# lat min : -48.23125 \n",
    "# lat max: 4.36041667\n",
    "\n",
    "#lon max = 165.93541665\n",
    "#lon min = 96.32708332\n",
    "\n",
    "fwi_ = GFWD.where(GFWD.lat >= -48.23125, drop = True)\n",
    "fwi_ = fwi_.where(fwi_.lat <= 4.36041667, drop = True)\n",
    "fwi_ = fwi_.where((fwi_.lon >=96.32708332), drop = True)\n",
    "fwi = fwi_.where((fwi_.lon <= 165.93541665), drop = True)"
   ]
  },
  {
   "cell_type": "markdown",
   "metadata": {},
   "source": [
    "<a id=merge></a>\n",
    "\n",
    "## Merge Datasets"
   ]
  },
  {
   "cell_type": "markdown",
   "metadata": {},
   "source": [
    "**Downscale MCD64A1 Burned Area (burnt)**"
   ]
  },
  {
   "cell_type": "code",
   "execution_count": 76,
   "metadata": {},
   "outputs": [
    {
     "data": {
      "text/plain": [
       "(1.9998415716096325, 8.797788309636651)"
      ]
     },
     "execution_count": 76,
     "metadata": {},
     "output_type": "execute_result"
    }
   ],
   "source": [
    "# Reduce dimensionality\n",
    "# Original: (lat: 12623, lon: 16707)\n",
    "# Final: (lat: 6312, lon: 1899)\n",
    "# Scaling Factors (take the inverse)\n",
    "12623/6312, 16707/1899"
   ]
  },
  {
   "cell_type": "code",
   "execution_count": 78,
   "metadata": {},
   "outputs": [
    {
     "data": {
      "text/html": [
       "<pre>&lt;xarray.Dataset&gt;\n",
       "Dimensions:    (lat: 12623, lon: 16707)\n",
       "Coordinates:\n",
       "  * lat        (lat) float64 4.36 4.356 4.352 4.348 ... -48.22 -48.23 -48.23\n",
       "  * lon        (lon) float64 96.33 96.33 96.34 96.34 ... 165.9 165.9 165.9 165.9\n",
       "Data variables:\n",
       "    Burn_Date  (lat, lon) float32 dask.array&lt;chunksize=(12623, 16707), meta=np.ndarray&gt;\n",
       "Attributes:\n",
       "    title:        MCD64A1.006 for aid0001\n",
       "    Conventions:  CF-1.6\n",
       "    institution:  Land Processes Distributed Active Archive Center (LP DAAC)\n",
       "    source:       AppEEARS v2.34\n",
       "    references:   See README.txt\n",
       "    history:      See README.txt</pre>"
      ],
      "text/plain": [
       "<xarray.Dataset>\n",
       "Dimensions:    (lat: 12623, lon: 16707)\n",
       "Coordinates:\n",
       "  * lat        (lat) float64 4.36 4.356 4.352 4.348 ... -48.22 -48.23 -48.23\n",
       "  * lon        (lon) float64 96.33 96.33 96.34 96.34 ... 165.9 165.9 165.9 165.9\n",
       "Data variables:\n",
       "    Burn_Date  (lat, lon) float32 dask.array<chunksize=(12623, 16707), meta=np.ndarray>\n",
       "Attributes:\n",
       "    title:        MCD64A1.006 for aid0001\n",
       "    Conventions:  CF-1.6\n",
       "    institution:  Land Processes Distributed Active Archive Center (LP DAAC)\n",
       "    source:       AppEEARS v2.34\n",
       "    references:   See README.txt\n",
       "    history:      See README.txt"
      ]
     },
     "execution_count": 78,
     "metadata": {},
     "output_type": "execute_result"
    }
   ],
   "source": [
    "burnt"
   ]
  },
  {
   "cell_type": "code",
   "execution_count": 81,
   "metadata": {},
   "outputs": [],
   "source": [
    "burned_area = scale_variable(burnt, 'Burn_Date', (1/1.9998415716096325, 1/8.797788309636651))"
   ]
  },
  {
   "cell_type": "code",
   "execution_count": 83,
   "metadata": {},
   "outputs": [
    {
     "data": {
      "text/plain": [
       "(6312, 1899)"
      ]
     },
     "execution_count": 83,
     "metadata": {},
     "output_type": "execute_result"
    }
   ],
   "source": [
    "burned_area.shape"
   ]
  },
  {
   "cell_type": "markdown",
   "metadata": {},
   "source": [
    "**Downscale MOD16A2: EvapoTranspiration Data (EVAP)**"
   ]
  },
  {
   "cell_type": "code",
   "execution_count": 43,
   "metadata": {},
   "outputs": [
    {
     "data": {
      "text/plain": [
       "(1.9998415716096325, 8.797788309636651)"
      ]
     },
     "execution_count": 43,
     "metadata": {},
     "output_type": "execute_result"
    }
   ],
   "source": [
    "# Original (lat: 12623, lon: 16707)\n",
    "# Final: (lat: 6312, lon: 1899)\n",
    "# Scaling Factors (take the inverse)\n",
    "12623/6312, 16707/1899"
   ]
  },
  {
   "cell_type": "code",
   "execution_count": 87,
   "metadata": {},
   "outputs": [
    {
     "data": {
      "text/html": [
       "<pre>&lt;xarray.Dataset&gt;\n",
       "Dimensions:  (lat: 12623, lon: 16707)\n",
       "Coordinates:\n",
       "  * lat      (lat) float64 4.36 4.356 4.352 4.348 ... -48.22 -48.23 -48.23\n",
       "  * lon      (lon) float64 96.33 96.33 96.34 96.34 ... 165.9 165.9 165.9 165.9\n",
       "Data variables:\n",
       "    ET_500m  (lat, lon) float32 dask.array&lt;chunksize=(12623, 16707), meta=np.ndarray&gt;\n",
       "Attributes:\n",
       "    title:        MOD16A2.006 for aid0001\n",
       "    Conventions:  CF-1.6\n",
       "    institution:  Land Processes Distributed Active Archive Center (LP DAAC)\n",
       "    source:       AppEEARS v2.34\n",
       "    references:   See README.txt\n",
       "    history:      See README.txt</pre>"
      ],
      "text/plain": [
       "<xarray.Dataset>\n",
       "Dimensions:  (lat: 12623, lon: 16707)\n",
       "Coordinates:\n",
       "  * lat      (lat) float64 4.36 4.356 4.352 4.348 ... -48.22 -48.23 -48.23\n",
       "  * lon      (lon) float64 96.33 96.33 96.34 96.34 ... 165.9 165.9 165.9 165.9\n",
       "Data variables:\n",
       "    ET_500m  (lat, lon) float32 dask.array<chunksize=(12623, 16707), meta=np.ndarray>\n",
       "Attributes:\n",
       "    title:        MOD16A2.006 for aid0001\n",
       "    Conventions:  CF-1.6\n",
       "    institution:  Land Processes Distributed Active Archive Center (LP DAAC)\n",
       "    source:       AppEEARS v2.34\n",
       "    references:   See README.txt\n",
       "    history:      See README.txt"
      ]
     },
     "execution_count": 87,
     "metadata": {},
     "output_type": "execute_result"
    }
   ],
   "source": [
    "EVAP\n",
    "# Var: ET_500m"
   ]
  },
  {
   "cell_type": "code",
   "execution_count": 88,
   "metadata": {},
   "outputs": [],
   "source": [
    "et_500m = scale_variable(EVAP, 'ET_500m', (1/1.9998415716096325, 1/8.797788309636651))"
   ]
  },
  {
   "cell_type": "markdown",
   "metadata": {},
   "source": [
    "**Downscale VNP13 Vegetation Indices (VEG)**"
   ]
  },
  {
   "cell_type": "code",
   "execution_count": 115,
   "metadata": {},
   "outputs": [
    {
     "data": {
      "text/plain": [
       "(1.0, 4.399157451290153)"
      ]
     },
     "execution_count": 115,
     "metadata": {},
     "output_type": "execute_result"
    }
   ],
   "source": [
    "# Original (lat: 6312, lon: 8354)\n",
    "# Final: (lat: 6312, lon: 1899)\n",
    "# Scaling Factors: (take inverse)\n",
    "6312/6312, 8354/1899"
   ]
  },
  {
   "cell_type": "code",
   "execution_count": 109,
   "metadata": {},
   "outputs": [
    {
     "data": {
      "text/plain": [
       "['_1_km_16_days_EVI',\n",
       " '_1_km_16_days_EVI2',\n",
       " '_1_km_16_days_NDVI',\n",
       " '_1_km_16_days_NIR_reflectance',\n",
       " '_1_km_16_days_SWIR1_reflectance',\n",
       " '_1_km_16_days_SWIR2_reflectance',\n",
       " '_1_km_16_days_SWIR3_reflectance',\n",
       " '_1_km_16_days_blue_reflectance',\n",
       " '_1_km_16_days_composite_day_of_the_year',\n",
       " '_1_km_16_days_green_reflectance',\n",
       " '_1_km_16_days_red_reflectance',\n",
       " '_1_km_16_days_VI_Quality',\n",
       " '_1_km_16_days_pixel_reliability']"
      ]
     },
     "execution_count": 109,
     "metadata": {},
     "output_type": "execute_result"
    }
   ],
   "source": [
    "veg_vars = list(VEG.variables)[2:]\n",
    "veg_vars"
   ]
  },
  {
   "cell_type": "code",
   "execution_count": 111,
   "metadata": {},
   "outputs": [],
   "source": [
    "list_veg_arrays = []\n",
    "for var in veg_vars:\n",
    "    list_veg_arrays.append(scale_variable(VEG, var, (1, 1/4.399157451290153)))"
   ]
  },
  {
   "cell_type": "markdown",
   "metadata": {},
   "source": [
    "**Upscale Global Fire Weather Database: Fire Weather Index (fwi)**"
   ]
  },
  {
   "cell_type": "code",
   "execution_count": 116,
   "metadata": {},
   "outputs": [
    {
     "data": {
      "text/plain": [
       "(30.057142857142857, 8.554054054054054)"
      ]
     },
     "execution_count": 116,
     "metadata": {},
     "output_type": "execute_result"
    }
   ],
   "source": [
    "# Original: 210 x 222 = 46620\n",
    "#Final:  6312*1899 = 11986488\n",
    "# Scaling Factor\n",
    "6312/210, 1899/222"
   ]
  },
  {
   "cell_type": "code",
   "execution_count": 124,
   "metadata": {},
   "outputs": [],
   "source": [
    "# list of all variables that need to be upscaled and appended to viirs xarray\n",
    "fwi_vars = list(fwi.variables)[:-2]"
   ]
  },
  {
   "cell_type": "code",
   "execution_count": 125,
   "metadata": {},
   "outputs": [
    {
     "name": "stderr",
     "output_type": "stream",
     "text": [
      "C:\\Users\\allis\\Anaconda3\\envs\\merging\\lib\\site-packages\\xarray\\coding\\variables.py:141: FutureWarning: elementwise comparison failed; returning scalar instead, but in the future will perform elementwise comparison\n",
      "  condition |= data == fv\n",
      "C:\\Users\\allis\\Anaconda3\\envs\\merging\\lib\\site-packages\\xarray\\coding\\variables.py:141: FutureWarning: elementwise comparison failed; returning scalar instead, but in the future will perform elementwise comparison\n",
      "  condition |= data == fv\n",
      "C:\\Users\\allis\\Anaconda3\\envs\\merging\\lib\\site-packages\\xarray\\coding\\variables.py:141: FutureWarning: elementwise comparison failed; returning scalar instead, but in the future will perform elementwise comparison\n",
      "  condition |= data == fv\n",
      "C:\\Users\\allis\\Anaconda3\\envs\\merging\\lib\\site-packages\\xarray\\coding\\variables.py:141: FutureWarning: elementwise comparison failed; returning scalar instead, but in the future will perform elementwise comparison\n",
      "  condition |= data == fv\n",
      "C:\\Users\\allis\\Anaconda3\\envs\\merging\\lib\\site-packages\\xarray\\coding\\variables.py:141: FutureWarning: elementwise comparison failed; returning scalar instead, but in the future will perform elementwise comparison\n",
      "  condition |= data == fv\n",
      "C:\\Users\\allis\\Anaconda3\\envs\\merging\\lib\\site-packages\\xarray\\coding\\variables.py:141: FutureWarning: elementwise comparison failed; returning scalar instead, but in the future will perform elementwise comparison\n",
      "  condition |= data == fv\n",
      "C:\\Users\\allis\\Anaconda3\\envs\\merging\\lib\\site-packages\\xarray\\coding\\variables.py:141: FutureWarning: elementwise comparison failed; returning scalar instead, but in the future will perform elementwise comparison\n",
      "  condition |= data == fv\n"
     ]
    }
   ],
   "source": [
    "fwi_arrays = [] #list of output arrays\n",
    "for name in fwi_vars:\n",
    "    fwi_arrays.append(scale_variable(fwi, name, (30.057142857142857, 8.554054054054054)))"
   ]
  },
  {
   "cell_type": "markdown",
   "metadata": {},
   "source": [
    "**Merge All Variables to VIIRS**"
   ]
  },
  {
   "cell_type": "code",
   "execution_count": 127,
   "metadata": {},
   "outputs": [],
   "source": [
    "viirs = viirs.assign(burned = (('lat','lon'),burned_areas))\n",
    "\n",
    "viirs = viirs.assign(et_500m = (('lat','lon'),et_500m))\n",
    "\n",
    "viirs = viirs.assign(_1_km_16_days_EVI = (('lat','lon'),list_veg_arrays[0]))\n",
    "viirs = viirs.assign(_1_km_16_days_EVI2 = (('lat','lon'),list_veg_arrays[1]))\n",
    "viirs = viirs.assign(_1_km_16_days_NDVI = (('lat','lon'),list_veg_arrays[2]))\n",
    "viirs = viirs.assign(_1_km_16_days_NIR_reflectance = (('lat','lon'),list_veg_arrays[3]))\n",
    "viirs = viirs.assign(_1_km_16_days_SWIR1_reflectance = (('lat','lon'),list_veg_arrays[4]))\n",
    "viirs = viirs.assign(_1_km_16_days_SWIR2_reflectance = (('lat','lon'),list_veg_arrays[5]))\n",
    "viirs = viirs.assign(_1_km_16_days_SWIR3_reflectance = (('lat','lon'),list_veg_arrays[6]))\n",
    "viirs = viirs.assign(_1_km_16_days_blue_reflectance = (('lat','lon'),list_veg_arrays[7]))\n",
    "viirs = viirs.assign(_1_km_16_days_composite_day_of_the_year = (('lat','lon'),list_veg_arrays[8]))\n",
    "viirs = viirs.assign(_1_km_16_days_green_reflectance = (('lat','lon'),list_veg_arrays[9]))\n",
    "viirs = viirs.assign(_1_km_16_days_red_reflectance = (('lat','lon'),list_veg_arrays[10]))\n",
    "viirs = viirs.assign(_1_km_16_days_VI_Quality = (('lat','lon'),list_veg_arrays[11]))\n",
    "viirs = viirs.assign(_1_km_16_days_pixel_reliability = (('lat','lon'),list_veg_arrays[12]))\n",
    "\n",
    "viirs = viirs.assign(_DC = (('lat','lon'),fwi_arrays[0]))\n",
    "viirs = viirs.assign(_DMC= (('lat','lon'),fwi_arrays[1]))\n",
    "viirs = viirs.assign(_FFMC= (('lat','lon'),fwi_arrays[2]))\n",
    "viirs = viirs.assign(_ISI= (('lat','lon'),fwi_arrays[3]))\n",
    "viirs = viirs.assign(_BUI= (('lat','lon'),fwi_arrays[4]))\n",
    "viirs = viirs.assign(_FWI= (('lat','lon'),fwi_arrays[5]))\n",
    "viirs = viirs.assign(_DSR= (('lat','lon'),fwi_arrays[6]))"
   ]
  },
  {
   "cell_type": "code",
   "execution_count": 128,
   "metadata": {},
   "outputs": [
    {
     "data": {
      "text/html": [
       "<pre>&lt;xarray.Dataset&gt;\n",
       "Dimensions:                                  (lat: 6312, lon: 1899)\n",
       "Coordinates:\n",
       "  * lat                                      (lat) float64 4.362 ... -48.23\n",
       "  * lon                                      (lon) float64 150.1 150.1 ... 165.9\n",
       "Data variables:\n",
       "    FireMask                                 (lat, lon) float32 dask.array&lt;chunksize=(6312, 1899), meta=np.ndarray&gt;\n",
       "    MaxFRP                                   (lat, lon) float64 dask.array&lt;chunksize=(6312, 1899), meta=np.ndarray&gt;\n",
       "    burned                                   (lat, lon) float32 0.0 0.0 ... -2.0\n",
       "    et_500m                                  (lat, lon) float32 3276.5 ... 3276.6\n",
       "    _1_km_16_days_EVI                        (lat, lon) float32 0.611 ... nan\n",
       "    _1_km_16_days_EVI2                       (lat, lon) float32 0.6071 ... nan\n",
       "    _1_km_16_days_NDVI                       (lat, lon) float32 0.84599996 ... nan\n",
       "    _1_km_16_days_NIR_reflectance            (lat, lon) float32 0.3885 ... nan\n",
       "    _1_km_16_days_SWIR1_reflectance          (lat, lon) float32 0.34899998 ... nan\n",
       "    _1_km_16_days_SWIR2_reflectance          (lat, lon) float32 0.1735 ... nan\n",
       "    _1_km_16_days_SWIR3_reflectance          (lat, lon) float32 0.073199995 ... nan\n",
       "    _1_km_16_days_blue_reflectance           (lat, lon) float32 0.0168 ... nan\n",
       "    _1_km_16_days_composite_day_of_the_year  (lat, lon) float32 360.0 ... nan\n",
       "    _1_km_16_days_green_reflectance          (lat, lon) float32 0.051799998 ... nan\n",
       "    _1_km_16_days_red_reflectance            (lat, lon) float32 0.0324 ... nan\n",
       "    _1_km_16_days_VI_Quality                 (lat, lon) float64 2.257e+03 ... 5.734e+04\n",
       "    _1_km_16_days_pixel_reliability          (lat, lon) float32 6.0 7.0 ... nan\n",
       "    _DC                                      (lat, lon) float32 nan nan ... nan\n",
       "    _DMC                                     (lat, lon) float32 nan nan ... nan\n",
       "    _FFMC                                    (lat, lon) float32 nan nan ... nan\n",
       "    _ISI                                     (lat, lon) float32 nan nan ... nan\n",
       "    _BUI                                     (lat, lon) float32 nan nan ... nan\n",
       "    _FWI                                     (lat, lon) float32 nan nan ... nan\n",
       "    _DSR                                     (lat, lon) float32 nan nan ... nan\n",
       "Attributes:\n",
       "    title:        VNP14A1.001 for aid0001\n",
       "    Conventions:  CF-1.6\n",
       "    institution:  Land Processes Distributed Active Archive Center (LP DAAC)\n",
       "    source:       AppEEARS v2.34\n",
       "    references:   See README.txt\n",
       "    history:      See README.txt</pre>"
      ],
      "text/plain": [
       "<xarray.Dataset>\n",
       "Dimensions:                                  (lat: 6312, lon: 1899)\n",
       "Coordinates:\n",
       "  * lat                                      (lat) float64 4.362 ... -48.23\n",
       "  * lon                                      (lon) float64 150.1 150.1 ... 165.9\n",
       "Data variables:\n",
       "    FireMask                                 (lat, lon) float32 dask.array<chunksize=(6312, 1899), meta=np.ndarray>\n",
       "    MaxFRP                                   (lat, lon) float64 dask.array<chunksize=(6312, 1899), meta=np.ndarray>\n",
       "    burned                                   (lat, lon) float32 0.0 0.0 ... -2.0\n",
       "    et_500m                                  (lat, lon) float32 3276.5 ... 3276.6\n",
       "    _1_km_16_days_EVI                        (lat, lon) float32 0.611 ... nan\n",
       "    _1_km_16_days_EVI2                       (lat, lon) float32 0.6071 ... nan\n",
       "    _1_km_16_days_NDVI                       (lat, lon) float32 0.84599996 ... nan\n",
       "    _1_km_16_days_NIR_reflectance            (lat, lon) float32 0.3885 ... nan\n",
       "    _1_km_16_days_SWIR1_reflectance          (lat, lon) float32 0.34899998 ... nan\n",
       "    _1_km_16_days_SWIR2_reflectance          (lat, lon) float32 0.1735 ... nan\n",
       "    _1_km_16_days_SWIR3_reflectance          (lat, lon) float32 0.073199995 ... nan\n",
       "    _1_km_16_days_blue_reflectance           (lat, lon) float32 0.0168 ... nan\n",
       "    _1_km_16_days_composite_day_of_the_year  (lat, lon) float32 360.0 ... nan\n",
       "    _1_km_16_days_green_reflectance          (lat, lon) float32 0.051799998 ... nan\n",
       "    _1_km_16_days_red_reflectance            (lat, lon) float32 0.0324 ... nan\n",
       "    _1_km_16_days_VI_Quality                 (lat, lon) float64 2.257e+03 ... 5.734e+04\n",
       "    _1_km_16_days_pixel_reliability          (lat, lon) float32 6.0 7.0 ... nan\n",
       "    _DC                                      (lat, lon) float32 nan nan ... nan\n",
       "    _DMC                                     (lat, lon) float32 nan nan ... nan\n",
       "    _FFMC                                    (lat, lon) float32 nan nan ... nan\n",
       "    _ISI                                     (lat, lon) float32 nan nan ... nan\n",
       "    _BUI                                     (lat, lon) float32 nan nan ... nan\n",
       "    _FWI                                     (lat, lon) float32 nan nan ... nan\n",
       "    _DSR                                     (lat, lon) float32 nan nan ... nan\n",
       "Attributes:\n",
       "    title:        VNP14A1.001 for aid0001\n",
       "    Conventions:  CF-1.6\n",
       "    institution:  Land Processes Distributed Active Archive Center (LP DAAC)\n",
       "    source:       AppEEARS v2.34\n",
       "    references:   See README.txt\n",
       "    history:      See README.txt"
      ]
     },
     "execution_count": 128,
     "metadata": {},
     "output_type": "execute_result"
    }
   ],
   "source": [
    "viirs"
   ]
  },
  {
   "cell_type": "code",
   "execution_count": 129,
   "metadata": {},
   "outputs": [],
   "source": [
    "viirs.to_netcdf('../../finalproj_data/satellitedata/final_merge.nc')"
   ]
  },
  {
   "cell_type": "markdown",
   "metadata": {},
   "source": [
    "### Create a Labels Column in the Cloud (using pandas)"
   ]
  },
  {
   "cell_type": "markdown",
   "metadata": {},
   "source": [
    "<img src='../images/fire_danger.png'>"
   ]
  },
  {
   "cell_type": "code",
   "execution_count": 90,
   "metadata": {},
   "outputs": [],
   "source": [
    "merged['fire_weather'] = 0"
   ]
  },
  {
   "cell_type": "code",
   "execution_count": 91,
   "metadata": {},
   "outputs": [],
   "source": [
    "# Create categorical values from FWI numerical\n",
    "merged.loc[(merged['FWI'] < 5), 'fire_weather'] = 'fwi_low'\n",
    "merged.loc[(merged['FWI'] > 5) & (merged['FWI'] < 8), 'fire_weather'] = 'fwi_moderate'\n",
    "merged.loc[(merged['FWI'] > 8) & (merged['FWI'] < 16), 'fire_weather'] = 'fwi_high'\n",
    "merged.loc[(merged['FWI'] > 16) & (merged['FWI'] < 29), 'fire_weather'] = 'fwi_veryhigh'\n",
    "merged.loc[(merged['FWI'] > 29), 'fire_weather'] = 'fwi_extreme'\n",
    "merged.drop('FWI', axis = 1, inplace = True)"
   ]
  },
  {
   "cell_type": "code",
   "execution_count": 93,
   "metadata": {},
   "outputs": [],
   "source": [
    "merged['label'] = 0"
   ]
  },
  {
   "cell_type": "code",
   "execution_count": null,
   "metadata": {},
   "outputs": [],
   "source": []
  },
  {
   "cell_type": "code",
   "execution_count": null,
   "metadata": {},
   "outputs": [],
   "source": [
    "## You will probably have to run this part in the cloud"
   ]
  },
  {
   "cell_type": "code",
   "execution_count": 96,
   "metadata": {},
   "outputs": [
    {
     "ename": "KeyboardInterrupt",
     "evalue": "",
     "output_type": "error",
     "traceback": [
      "\u001b[1;31m---------------------------------------------------------------------------\u001b[0m",
      "\u001b[1;31mKeyboardInterrupt\u001b[0m                         Traceback (most recent call last)",
      "\u001b[1;32m<ipython-input-96-0f139b2873f3>\u001b[0m in \u001b[0;36m<module>\u001b[1;34m\u001b[0m\n\u001b[0;32m      1\u001b[0m \u001b[1;32mfor\u001b[0m \u001b[0mrow\u001b[0m \u001b[1;32min\u001b[0m \u001b[0mrange\u001b[0m\u001b[1;33m(\u001b[0m\u001b[1;36m0\u001b[0m\u001b[1;33m,\u001b[0m \u001b[0mlen\u001b[0m\u001b[1;33m(\u001b[0m\u001b[0mmerged\u001b[0m\u001b[1;33m)\u001b[0m\u001b[1;33m)\u001b[0m\u001b[1;33m:\u001b[0m\u001b[1;33m\u001b[0m\u001b[1;33m\u001b[0m\u001b[0m\n\u001b[0;32m      2\u001b[0m     \u001b[1;32mif\u001b[0m \u001b[0mmerged\u001b[0m\u001b[1;33m.\u001b[0m\u001b[0mloc\u001b[0m\u001b[1;33m[\u001b[0m\u001b[0mrow\u001b[0m\u001b[1;33m,\u001b[0m\u001b[1;34m'fire_weather'\u001b[0m\u001b[1;33m]\u001b[0m \u001b[1;33m==\u001b[0m \u001b[1;36m0\u001b[0m\u001b[1;33m:\u001b[0m\u001b[1;33m\u001b[0m\u001b[1;33m\u001b[0m\u001b[0m\n\u001b[1;32m----> 3\u001b[1;33m         \u001b[0mmerged\u001b[0m\u001b[1;33m.\u001b[0m\u001b[0mloc\u001b[0m\u001b[1;33m[\u001b[0m\u001b[0mrow\u001b[0m\u001b[1;33m,\u001b[0m\u001b[1;34m'label'\u001b[0m\u001b[1;33m]\u001b[0m \u001b[1;33m=\u001b[0m \u001b[0mmerged\u001b[0m\u001b[1;33m.\u001b[0m\u001b[0mloc\u001b[0m\u001b[1;33m[\u001b[0m\u001b[0mrow\u001b[0m\u001b[1;33m,\u001b[0m\u001b[1;34m'FireMask'\u001b[0m\u001b[1;33m]\u001b[0m\u001b[1;33m\u001b[0m\u001b[1;33m\u001b[0m\u001b[0m\n\u001b[0m\u001b[0;32m      4\u001b[0m     \u001b[1;32melse\u001b[0m\u001b[1;33m:\u001b[0m\u001b[1;33m\u001b[0m\u001b[1;33m\u001b[0m\u001b[0m\n\u001b[0;32m      5\u001b[0m         \u001b[1;32mNone\u001b[0m\u001b[1;33m\u001b[0m\u001b[1;33m\u001b[0m\u001b[0m\n",
      "\u001b[1;32m~\\Anaconda3\\envs\\merging\\lib\\site-packages\\pandas\\core\\indexing.py\u001b[0m in \u001b[0;36m__setitem__\u001b[1;34m(self, key, value)\u001b[0m\n\u001b[0;32m    203\u001b[0m             \u001b[0mkey\u001b[0m \u001b[1;33m=\u001b[0m \u001b[0mcom\u001b[0m\u001b[1;33m.\u001b[0m\u001b[0mapply_if_callable\u001b[0m\u001b[1;33m(\u001b[0m\u001b[0mkey\u001b[0m\u001b[1;33m,\u001b[0m \u001b[0mself\u001b[0m\u001b[1;33m.\u001b[0m\u001b[0mobj\u001b[0m\u001b[1;33m)\u001b[0m\u001b[1;33m\u001b[0m\u001b[1;33m\u001b[0m\u001b[0m\n\u001b[0;32m    204\u001b[0m         \u001b[0mindexer\u001b[0m \u001b[1;33m=\u001b[0m \u001b[0mself\u001b[0m\u001b[1;33m.\u001b[0m\u001b[0m_get_setitem_indexer\u001b[0m\u001b[1;33m(\u001b[0m\u001b[0mkey\u001b[0m\u001b[1;33m)\u001b[0m\u001b[1;33m\u001b[0m\u001b[1;33m\u001b[0m\u001b[0m\n\u001b[1;32m--> 205\u001b[1;33m         \u001b[0mself\u001b[0m\u001b[1;33m.\u001b[0m\u001b[0m_setitem_with_indexer\u001b[0m\u001b[1;33m(\u001b[0m\u001b[0mindexer\u001b[0m\u001b[1;33m,\u001b[0m \u001b[0mvalue\u001b[0m\u001b[1;33m)\u001b[0m\u001b[1;33m\u001b[0m\u001b[1;33m\u001b[0m\u001b[0m\n\u001b[0m\u001b[0;32m    206\u001b[0m \u001b[1;33m\u001b[0m\u001b[0m\n\u001b[0;32m    207\u001b[0m     \u001b[1;32mdef\u001b[0m \u001b[0m_validate_key\u001b[0m\u001b[1;33m(\u001b[0m\u001b[0mself\u001b[0m\u001b[1;33m,\u001b[0m \u001b[0mkey\u001b[0m\u001b[1;33m,\u001b[0m \u001b[0maxis\u001b[0m\u001b[1;33m:\u001b[0m \u001b[0mint\u001b[0m\u001b[1;33m)\u001b[0m\u001b[1;33m:\u001b[0m\u001b[1;33m\u001b[0m\u001b[1;33m\u001b[0m\u001b[0m\n",
      "\u001b[1;32m~\\Anaconda3\\envs\\merging\\lib\\site-packages\\pandas\\core\\indexing.py\u001b[0m in \u001b[0;36m_setitem_with_indexer\u001b[1;34m(self, indexer, value)\u001b[0m\n\u001b[0;32m    555\u001b[0m                 \u001b[1;31m# scalar\u001b[0m\u001b[1;33m\u001b[0m\u001b[1;33m\u001b[0m\u001b[1;33m\u001b[0m\u001b[0m\n\u001b[0;32m    556\u001b[0m                 \u001b[1;32mfor\u001b[0m \u001b[0mitem\u001b[0m \u001b[1;32min\u001b[0m \u001b[0mlabels\u001b[0m\u001b[1;33m:\u001b[0m\u001b[1;33m\u001b[0m\u001b[1;33m\u001b[0m\u001b[0m\n\u001b[1;32m--> 557\u001b[1;33m                     \u001b[0msetter\u001b[0m\u001b[1;33m(\u001b[0m\u001b[0mitem\u001b[0m\u001b[1;33m,\u001b[0m \u001b[0mvalue\u001b[0m\u001b[1;33m)\u001b[0m\u001b[1;33m\u001b[0m\u001b[1;33m\u001b[0m\u001b[0m\n\u001b[0m\u001b[0;32m    558\u001b[0m \u001b[1;33m\u001b[0m\u001b[0m\n\u001b[0;32m    559\u001b[0m         \u001b[1;32melse\u001b[0m\u001b[1;33m:\u001b[0m\u001b[1;33m\u001b[0m\u001b[1;33m\u001b[0m\u001b[0m\n",
      "\u001b[1;31mKeyboardInterrupt\u001b[0m: "
     ]
    }
   ],
   "source": [
    "for row in range(0, len(merged)):\n",
    "    if merged.loc[row,'fire_weather'] == 0:\n",
    "        merged.loc[row,'label'] = merged.loc[row,'FireMask']\n",
    "    else:\n",
    "        None"
   ]
  },
  {
   "cell_type": "code",
   "execution_count": null,
   "metadata": {},
   "outputs": [],
   "source": []
  }
 ],
 "metadata": {
  "kernelspec": {
   "display_name": "Python (geospatial)",
   "language": "python",
   "name": "merging"
  },
  "language_info": {
   "codemirror_mode": {
    "name": "ipython",
    "version": 3
   },
   "file_extension": ".py",
   "mimetype": "text/x-python",
   "name": "python",
   "nbconvert_exporter": "python",
   "pygments_lexer": "ipython3",
   "version": "3.7.5"
  }
 },
 "nbformat": 4,
 "nbformat_minor": 4
}
