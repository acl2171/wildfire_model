{
 "cells": [
  {
   "cell_type": "code",
   "execution_count": 26,
   "metadata": {},
   "outputs": [
    {
     "data": {
      "text/plain": [
       "<Figure size 432x288 with 0 Axes>"
      ]
     },
     "metadata": {},
     "output_type": "display_data"
    }
   ],
   "source": [
    "import pandas as pd\n",
    "import xarray as xr\n",
    "import numpy as np\n",
    "import scipy.interpolate\n",
    "import netCDF4\n",
    "import h5py\n",
    "import bottleneck\n",
    "import scipy.ndimage as ndimage\n",
    "\n",
    "import matplotlib.pyplot as plt\n",
    "%run ../pyfiles/data_cleaning.py"
   ]
  },
  {
   "cell_type": "code",
   "execution_count": 30,
   "metadata": {},
   "outputs": [],
   "source": [
    "!export HDF5_USE_FILE_LOCKING=FALSE"
   ]
  },
  {
   "cell_type": "code",
   "execution_count": 31,
   "metadata": {},
   "outputs": [],
   "source": [
    "# Import Merged Data from Notebook in Cloud\n",
    "data = xr.open_mfdataset('final_merge.nc', combine = 'by_coords')"
   ]
  },
  {
   "cell_type": "code",
   "execution_count": 32,
   "metadata": {},
   "outputs": [
    {
     "data": {
      "text/plain": [
       "['lat',\n",
       " 'lon',\n",
       " 'FireMask',\n",
       " 'MaxFRP',\n",
       " 'burned',\n",
       " 'et_500m',\n",
       " '_1_km_16_days_EVI',\n",
       " '_1_km_16_days_EVI2',\n",
       " '_1_km_16_days_NDVI',\n",
       " '_1_km_16_days_NIR_reflectance',\n",
       " '_1_km_16_days_SWIR1_reflectance',\n",
       " '_1_km_16_days_SWIR2_reflectance',\n",
       " '_1_km_16_days_SWIR3_reflectance',\n",
       " '_1_km_16_days_blue_reflectance',\n",
       " '_1_km_16_days_composite_day_of_the_year',\n",
       " '_1_km_16_days_green_reflectance',\n",
       " '_1_km_16_days_red_reflectance',\n",
       " '_1_km_16_days_VI_Quality',\n",
       " '_1_km_16_days_pixel_reliability',\n",
       " '_DC',\n",
       " '_DMC',\n",
       " '_FFMC',\n",
       " '_ISI',\n",
       " '_BUI',\n",
       " '_FWI',\n",
       " '_DSR']"
      ]
     },
     "execution_count": 32,
     "metadata": {},
     "output_type": "execute_result"
    }
   ],
   "source": [
    "list(data.variables)"
   ]
  },
  {
   "cell_type": "code",
   "execution_count": 39,
   "metadata": {},
   "outputs": [
    {
     "data": {
      "text/plain": [
       "<matplotlib.collections.QuadMesh at 0x7eff9abf8a20>"
      ]
     },
     "execution_count": 39,
     "metadata": {},
     "output_type": "execute_result"
    },
    {
     "data": {
      "image/png": "[encoded data removed]",
      "text/plain": [
       "<Figure size 432x288 with 2 Axes>"
      ]
     },
     "metadata": {
      "needs_background": "light"
     },
     "output_type": "display_data"
    }
   ],
   "source": [
    "# Check to see that variables from each dataset merged correctly\n",
    "data['et_500m'].plot()"
   ]
  },
  {
   "cell_type": "code",
   "execution_count": 11,
   "metadata": {},
   "outputs": [],
   "source": [
    "data = data.to_dataframe()\n",
    "data.reset_index(inplace = True)"
   ]
  },
  {
   "cell_type": "code",
   "execution_count": 12,
   "metadata": {},
   "outputs": [
    {
     "data": {
      "text/html": [
       "<div>\n",
       "<style scoped>\n",
       "    .dataframe tbody tr th:only-of-type {\n",
       "        vertical-align: middle;\n",
       "    }\n",
       "\n",
       "    .dataframe tbody tr th {\n",
       "        vertical-align: top;\n",
       "    }\n",
       "\n",
       "    .dataframe thead th {\n",
       "        text-align: right;\n",
       "    }\n",
       "</style>\n",
       "<table border=\"1\" class=\"dataframe\">\n",
       "  <thead>\n",
       "    <tr style=\"text-align: right;\">\n",
       "      <th></th>\n",
       "      <th>lat</th>\n",
       "      <th>lon</th>\n",
       "      <th>FireMask</th>\n",
       "      <th>MaxFRP</th>\n",
       "      <th>burned</th>\n",
       "      <th>et_500m</th>\n",
       "      <th>_1_km_16_days_EVI</th>\n",
       "      <th>_1_km_16_days_EVI2</th>\n",
       "      <th>_1_km_16_days_NDVI</th>\n",
       "      <th>_1_km_16_days_NIR_reflectance</th>\n",
       "      <th>...</th>\n",
       "      <th>_1_km_16_days_red_reflectance</th>\n",
       "      <th>_1_km_16_days_VI_Quality</th>\n",
       "      <th>_1_km_16_days_pixel_reliability</th>\n",
       "      <th>_DC</th>\n",
       "      <th>_DMC</th>\n",
       "      <th>_FFMC</th>\n",
       "      <th>_ISI</th>\n",
       "      <th>_BUI</th>\n",
       "      <th>_FWI</th>\n",
       "      <th>_DSR</th>\n",
       "    </tr>\n",
       "  </thead>\n",
       "  <tbody>\n",
       "    <tr>\n",
       "      <th>0</th>\n",
       "      <td>4.3625</td>\n",
       "      <td>150.120833</td>\n",
       "      <td>3.0</td>\n",
       "      <td>NaN</td>\n",
       "      <td>0.0</td>\n",
       "      <td>3276.5</td>\n",
       "      <td>0.6110</td>\n",
       "      <td>0.6071</td>\n",
       "      <td>0.8460</td>\n",
       "      <td>0.3885</td>\n",
       "      <td>...</td>\n",
       "      <td>0.0324</td>\n",
       "      <td>2257.0</td>\n",
       "      <td>6.0</td>\n",
       "      <td>NaN</td>\n",
       "      <td>NaN</td>\n",
       "      <td>NaN</td>\n",
       "      <td>NaN</td>\n",
       "      <td>NaN</td>\n",
       "      <td>NaN</td>\n",
       "      <td>NaN</td>\n",
       "    </tr>\n",
       "    <tr>\n",
       "      <th>1</th>\n",
       "      <td>4.3625</td>\n",
       "      <td>150.129167</td>\n",
       "      <td>3.0</td>\n",
       "      <td>NaN</td>\n",
       "      <td>0.0</td>\n",
       "      <td>3276.5</td>\n",
       "      <td>0.6779</td>\n",
       "      <td>0.6552</td>\n",
       "      <td>0.9191</td>\n",
       "      <td>0.3916</td>\n",
       "      <td>...</td>\n",
       "      <td>0.0165</td>\n",
       "      <td>35297.0</td>\n",
       "      <td>7.0</td>\n",
       "      <td>NaN</td>\n",
       "      <td>NaN</td>\n",
       "      <td>NaN</td>\n",
       "      <td>NaN</td>\n",
       "      <td>NaN</td>\n",
       "      <td>NaN</td>\n",
       "      <td>NaN</td>\n",
       "    </tr>\n",
       "    <tr>\n",
       "      <th>2</th>\n",
       "      <td>4.3625</td>\n",
       "      <td>150.137500</td>\n",
       "      <td>3.0</td>\n",
       "      <td>NaN</td>\n",
       "      <td>0.0</td>\n",
       "      <td>34.5</td>\n",
       "      <td>0.4479</td>\n",
       "      <td>0.4364</td>\n",
       "      <td>0.7350</td>\n",
       "      <td>0.2868</td>\n",
       "      <td>...</td>\n",
       "      <td>0.0438</td>\n",
       "      <td>2257.0</td>\n",
       "      <td>6.0</td>\n",
       "      <td>NaN</td>\n",
       "      <td>NaN</td>\n",
       "      <td>NaN</td>\n",
       "      <td>NaN</td>\n",
       "      <td>NaN</td>\n",
       "      <td>NaN</td>\n",
       "      <td>NaN</td>\n",
       "    </tr>\n",
       "    <tr>\n",
       "      <th>3</th>\n",
       "      <td>4.3625</td>\n",
       "      <td>150.145833</td>\n",
       "      <td>3.0</td>\n",
       "      <td>NaN</td>\n",
       "      <td>0.0</td>\n",
       "      <td>3276.5</td>\n",
       "      <td>0.2052</td>\n",
       "      <td>0.2052</td>\n",
       "      <td>0.2365</td>\n",
       "      <td>0.4590</td>\n",
       "      <td>...</td>\n",
       "      <td>0.2834</td>\n",
       "      <td>35033.0</td>\n",
       "      <td>7.0</td>\n",
       "      <td>NaN</td>\n",
       "      <td>NaN</td>\n",
       "      <td>NaN</td>\n",
       "      <td>NaN</td>\n",
       "      <td>NaN</td>\n",
       "      <td>NaN</td>\n",
       "      <td>NaN</td>\n",
       "    </tr>\n",
       "    <tr>\n",
       "      <th>4</th>\n",
       "      <td>4.3625</td>\n",
       "      <td>150.154167</td>\n",
       "      <td>3.0</td>\n",
       "      <td>NaN</td>\n",
       "      <td>NaN</td>\n",
       "      <td>22.9</td>\n",
       "      <td>0.5388</td>\n",
       "      <td>0.4754</td>\n",
       "      <td>0.7567</td>\n",
       "      <td>0.3127</td>\n",
       "      <td>...</td>\n",
       "      <td>0.0433</td>\n",
       "      <td>35297.0</td>\n",
       "      <td>7.0</td>\n",
       "      <td>NaN</td>\n",
       "      <td>NaN</td>\n",
       "      <td>NaN</td>\n",
       "      <td>NaN</td>\n",
       "      <td>NaN</td>\n",
       "      <td>NaN</td>\n",
       "      <td>NaN</td>\n",
       "    </tr>\n",
       "  </tbody>\n",
       "</table>\n",
       "<p>5 rows × 26 columns</p>\n",
       "</div>"
      ],
      "text/plain": [
       "      lat         lon  FireMask  MaxFRP  burned  et_500m  _1_km_16_days_EVI  \\\n",
       "0  4.3625  150.120833       3.0     NaN     0.0   3276.5             0.6110   \n",
       "1  4.3625  150.129167       3.0     NaN     0.0   3276.5             0.6779   \n",
       "2  4.3625  150.137500       3.0     NaN     0.0     34.5             0.4479   \n",
       "3  4.3625  150.145833       3.0     NaN     0.0   3276.5             0.2052   \n",
       "4  4.3625  150.154167       3.0     NaN     NaN     22.9             0.5388   \n",
       "\n",
       "   _1_km_16_days_EVI2  _1_km_16_days_NDVI  _1_km_16_days_NIR_reflectance  ...  \\\n",
       "0              0.6071              0.8460                         0.3885  ...   \n",
       "1              0.6552              0.9191                         0.3916  ...   \n",
       "2              0.4364              0.7350                         0.2868  ...   \n",
       "3              0.2052              0.2365                         0.4590  ...   \n",
       "4              0.4754              0.7567                         0.3127  ...   \n",
       "\n",
       "   _1_km_16_days_red_reflectance  _1_km_16_days_VI_Quality  \\\n",
       "0                         0.0324                    2257.0   \n",
       "1                         0.0165                   35297.0   \n",
       "2                         0.0438                    2257.0   \n",
       "3                         0.2834                   35033.0   \n",
       "4                         0.0433                   35297.0   \n",
       "\n",
       "   _1_km_16_days_pixel_reliability  _DC  _DMC  _FFMC  _ISI  _BUI  _FWI  _DSR  \n",
       "0                              6.0  NaN   NaN    NaN   NaN   NaN   NaN   NaN  \n",
       "1                              7.0  NaN   NaN    NaN   NaN   NaN   NaN   NaN  \n",
       "2                              6.0  NaN   NaN    NaN   NaN   NaN   NaN   NaN  \n",
       "3                              7.0  NaN   NaN    NaN   NaN   NaN   NaN   NaN  \n",
       "4                              7.0  NaN   NaN    NaN   NaN   NaN   NaN   NaN  \n",
       "\n",
       "[5 rows x 26 columns]"
      ]
     },
     "execution_count": 12,
     "metadata": {},
     "output_type": "execute_result"
    }
   ],
   "source": [
    "data.head()"
   ]
  },
  {
   "cell_type": "code",
   "execution_count": null,
   "metadata": {},
   "outputs": [],
   "source": []
  },
  {
   "cell_type": "code",
   "execution_count": null,
   "metadata": {},
   "outputs": [],
   "source": []
  },
  {
   "cell_type": "code",
   "execution_count": null,
   "metadata": {},
   "outputs": [],
   "source": []
  },
  {
   "cell_type": "code",
   "execution_count": null,
   "metadata": {},
   "outputs": [],
   "source": []
  },
  {
   "cell_type": "code",
   "execution_count": null,
   "metadata": {},
   "outputs": [],
   "source": []
  },
  {
   "cell_type": "code",
   "execution_count": null,
   "metadata": {},
   "outputs": [],
   "source": [
    "# Export data as clean .nc file\n",
    "data.to_netcdf('clean_data.nc')"
   ]
  }
 ],
 "metadata": {
  "kernelspec": {
   "display_name": "Python 3",
   "language": "python",
   "name": "python3"
  },
  "language_info": {
   "codemirror_mode": {
    "name": "ipython",
    "version": 3
   },
   "file_extension": ".py",
   "mimetype": "text/x-python",
   "name": "python",
   "nbconvert_exporter": "python",
   "pygments_lexer": "ipython3",
   "version": "3.5.3"
  }
 },
 "nbformat": 4,
 "nbformat_minor": 4
}
