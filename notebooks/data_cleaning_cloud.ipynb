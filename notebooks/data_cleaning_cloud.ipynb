{
 "cells": [
  {
   "cell_type": "code",
   "execution_count": 1,
   "metadata": {},
   "outputs": [],
   "source": [
    "import pandas as pd\n",
    "import xarray as xr\n",
    "import numpy as np\n",
    "import scipy.interpolate\n",
    "from netCDF4 import Dataset\n",
    "import bottleneck\n",
    "import pyarrow\n",
    "import scipy.ndimage as ndimage\n",
    "\n",
    "import matplotlib.pyplot as plt\n",
    "%run ../pyfiles/data_cleaning.py"
   ]
  },
  {
   "cell_type": "markdown",
   "metadata": {},
   "source": [
    "# Reading in the Data"
   ]
  },
  {
   "cell_type": "code",
   "execution_count": 3,
   "metadata": {},
   "outputs": [
    {
     "name": "stdout",
     "output_type": "stream",
     "text": [
      "-rw-r--r-- 1 jupyter jupyter 860K Jan 19 15:17 final_parquet.parquet\n"
     ]
    }
   ],
   "source": [
    "!ls -lh final_parquet.parquet"
   ]
  },
  {
   "cell_type": "code",
   "execution_count": 4,
   "metadata": {},
   "outputs": [],
   "source": [
    "# Import Merged Data from Notebook in Cloud\n",
    "data = pd.read_parquet('final_parquet.parquet', engine = 'pyarrow')"
   ]
  },
  {
   "cell_type": "code",
   "execution_count": 5,
   "metadata": {},
   "outputs": [],
   "source": [
    "data.reset_index(inplace = True)"
   ]
  },
  {
   "cell_type": "code",
   "execution_count": 6,
   "metadata": {},
   "outputs": [
    {
     "data": {
      "text/html": [
       "<div>\n",
       "<style scoped>\n",
       "    .dataframe tbody tr th:only-of-type {\n",
       "        vertical-align: middle;\n",
       "    }\n",
       "\n",
       "    .dataframe tbody tr th {\n",
       "        vertical-align: top;\n",
       "    }\n",
       "\n",
       "    .dataframe thead th {\n",
       "        text-align: right;\n",
       "    }\n",
       "</style>\n",
       "<table border=\"1\" class=\"dataframe\">\n",
       "  <thead>\n",
       "    <tr style=\"text-align: right;\">\n",
       "      <th></th>\n",
       "      <th>lat</th>\n",
       "      <th>lon</th>\n",
       "      <th>_DC</th>\n",
       "      <th>_DMC</th>\n",
       "      <th>_FFMC</th>\n",
       "      <th>_ISI</th>\n",
       "      <th>_BUI</th>\n",
       "      <th>_FWI</th>\n",
       "      <th>_DSR</th>\n",
       "      <th>burned</th>\n",
       "      <th>...</th>\n",
       "      <th>_1_km_16_days_NDVI</th>\n",
       "      <th>_1_km_16_days_NIR_reflectance</th>\n",
       "      <th>_1_km_16_days_SWIR1_reflectance</th>\n",
       "      <th>_1_km_16_days_SWIR2_reflectance</th>\n",
       "      <th>_1_km_16_days_SWIR3_reflectance</th>\n",
       "      <th>_1_km_16_days_blue_reflectance</th>\n",
       "      <th>_1_km_16_days_green_reflectance</th>\n",
       "      <th>_1_km_16_days_red_reflectance</th>\n",
       "      <th>FireMask</th>\n",
       "      <th>MaxFRP</th>\n",
       "    </tr>\n",
       "  </thead>\n",
       "  <tbody>\n",
       "    <tr>\n",
       "      <th>0</th>\n",
       "      <td>-48.0</td>\n",
       "      <td>96.5625</td>\n",
       "      <td>6.153957</td>\n",
       "      <td>1.339365</td>\n",
       "      <td>43.675632</td>\n",
       "      <td>0.137625</td>\n",
       "      <td>1.721346</td>\n",
       "      <td>0.042499</td>\n",
       "      <td>0.000183</td>\n",
       "      <td>0.0</td>\n",
       "      <td>...</td>\n",
       "      <td>0.8460</td>\n",
       "      <td>0.3885</td>\n",
       "      <td>0.3490</td>\n",
       "      <td>0.1735</td>\n",
       "      <td>0.0732</td>\n",
       "      <td>0.0168</td>\n",
       "      <td>0.0518</td>\n",
       "      <td>0.0324</td>\n",
       "      <td>5.0</td>\n",
       "      <td>NaN</td>\n",
       "    </tr>\n",
       "    <tr>\n",
       "      <th>1</th>\n",
       "      <td>-48.0</td>\n",
       "      <td>96.8750</td>\n",
       "      <td>5.446888</td>\n",
       "      <td>1.396776</td>\n",
       "      <td>35.734371</td>\n",
       "      <td>0.048084</td>\n",
       "      <td>1.690183</td>\n",
       "      <td>0.016409</td>\n",
       "      <td>0.000090</td>\n",
       "      <td>NaN</td>\n",
       "      <td>...</td>\n",
       "      <td>0.1914</td>\n",
       "      <td>0.5580</td>\n",
       "      <td>0.4408</td>\n",
       "      <td>0.3231</td>\n",
       "      <td>0.2145</td>\n",
       "      <td>0.2367</td>\n",
       "      <td>0.2513</td>\n",
       "      <td>0.3787</td>\n",
       "      <td>5.0</td>\n",
       "      <td>NaN</td>\n",
       "    </tr>\n",
       "    <tr>\n",
       "      <th>2</th>\n",
       "      <td>-48.0</td>\n",
       "      <td>97.1875</td>\n",
       "      <td>6.151443</td>\n",
       "      <td>1.368903</td>\n",
       "      <td>41.818214</td>\n",
       "      <td>0.131510</td>\n",
       "      <td>1.743675</td>\n",
       "      <td>0.042660</td>\n",
       "      <td>0.000217</td>\n",
       "      <td>NaN</td>\n",
       "      <td>...</td>\n",
       "      <td>0.1894</td>\n",
       "      <td>0.2967</td>\n",
       "      <td>0.2670</td>\n",
       "      <td>0.1492</td>\n",
       "      <td>0.1058</td>\n",
       "      <td>0.2162</td>\n",
       "      <td>0.2197</td>\n",
       "      <td>0.2022</td>\n",
       "      <td>5.0</td>\n",
       "      <td>NaN</td>\n",
       "    </tr>\n",
       "    <tr>\n",
       "      <th>3</th>\n",
       "      <td>-48.0</td>\n",
       "      <td>97.5000</td>\n",
       "      <td>8.828405</td>\n",
       "      <td>1.300164</td>\n",
       "      <td>40.428169</td>\n",
       "      <td>0.149596</td>\n",
       "      <td>1.817403</td>\n",
       "      <td>0.050666</td>\n",
       "      <td>0.000281</td>\n",
       "      <td>0.0</td>\n",
       "      <td>...</td>\n",
       "      <td>0.9564</td>\n",
       "      <td>0.1889</td>\n",
       "      <td>0.1801</td>\n",
       "      <td>0.0703</td>\n",
       "      <td>0.0312</td>\n",
       "      <td>0.0043</td>\n",
       "      <td>0.0146</td>\n",
       "      <td>0.0042</td>\n",
       "      <td>5.0</td>\n",
       "      <td>NaN</td>\n",
       "    </tr>\n",
       "    <tr>\n",
       "      <th>4</th>\n",
       "      <td>-48.0</td>\n",
       "      <td>97.8125</td>\n",
       "      <td>20.771587</td>\n",
       "      <td>4.425531</td>\n",
       "      <td>55.349815</td>\n",
       "      <td>0.535304</td>\n",
       "      <td>5.688671</td>\n",
       "      <td>0.398845</td>\n",
       "      <td>0.015286</td>\n",
       "      <td>0.0</td>\n",
       "      <td>...</td>\n",
       "      <td>0.3158</td>\n",
       "      <td>0.6072</td>\n",
       "      <td>0.3881</td>\n",
       "      <td>0.2295</td>\n",
       "      <td>0.1327</td>\n",
       "      <td>0.1168</td>\n",
       "      <td>0.1412</td>\n",
       "      <td>0.3157</td>\n",
       "      <td>5.0</td>\n",
       "      <td>NaN</td>\n",
       "    </tr>\n",
       "  </tbody>\n",
       "</table>\n",
       "<p>5 rows × 23 columns</p>\n",
       "</div>"
      ],
      "text/plain": [
       "    lat      lon        _DC      _DMC      _FFMC      _ISI      _BUI  \\\n",
       "0 -48.0  96.5625   6.153957  1.339365  43.675632  0.137625  1.721346   \n",
       "1 -48.0  96.8750   5.446888  1.396776  35.734371  0.048084  1.690183   \n",
       "2 -48.0  97.1875   6.151443  1.368903  41.818214  0.131510  1.743675   \n",
       "3 -48.0  97.5000   8.828405  1.300164  40.428169  0.149596  1.817403   \n",
       "4 -48.0  97.8125  20.771587  4.425531  55.349815  0.535304  5.688671   \n",
       "\n",
       "       _FWI      _DSR  burned  ...  _1_km_16_days_NDVI  \\\n",
       "0  0.042499  0.000183     0.0  ...              0.8460   \n",
       "1  0.016409  0.000090     NaN  ...              0.1914   \n",
       "2  0.042660  0.000217     NaN  ...              0.1894   \n",
       "3  0.050666  0.000281     0.0  ...              0.9564   \n",
       "4  0.398845  0.015286     0.0  ...              0.3158   \n",
       "\n",
       "   _1_km_16_days_NIR_reflectance  _1_km_16_days_SWIR1_reflectance  \\\n",
       "0                         0.3885                           0.3490   \n",
       "1                         0.5580                           0.4408   \n",
       "2                         0.2967                           0.2670   \n",
       "3                         0.1889                           0.1801   \n",
       "4                         0.6072                           0.3881   \n",
       "\n",
       "   _1_km_16_days_SWIR2_reflectance  _1_km_16_days_SWIR3_reflectance  \\\n",
       "0                           0.1735                           0.0732   \n",
       "1                           0.3231                           0.2145   \n",
       "2                           0.1492                           0.1058   \n",
       "3                           0.0703                           0.0312   \n",
       "4                           0.2295                           0.1327   \n",
       "\n",
       "   _1_km_16_days_blue_reflectance  _1_km_16_days_green_reflectance  \\\n",
       "0                          0.0168                           0.0518   \n",
       "1                          0.2367                           0.2513   \n",
       "2                          0.2162                           0.2197   \n",
       "3                          0.0043                           0.0146   \n",
       "4                          0.1168                           0.1412   \n",
       "\n",
       "   _1_km_16_days_red_reflectance  FireMask  MaxFRP  \n",
       "0                         0.0324       5.0     NaN  \n",
       "1                         0.3787       5.0     NaN  \n",
       "2                         0.2022       5.0     NaN  \n",
       "3                         0.0042       5.0     NaN  \n",
       "4                         0.3157       5.0     NaN  \n",
       "\n",
       "[5 rows x 23 columns]"
      ]
     },
     "execution_count": 6,
     "metadata": {},
     "output_type": "execute_result"
    }
   ],
   "source": [
    "data.head()"
   ]
  },
  {
   "cell_type": "markdown",
   "metadata": {},
   "source": [
    "# Exploring the Data"
   ]
  },
  {
   "cell_type": "code",
   "execution_count": 21,
   "metadata": {},
   "outputs": [
    {
     "data": {
      "text/plain": [
       "-2.0      32127631\n",
       " 0.0      12789227\n",
       " 312.0        4550\n",
       " 323.0        2967\n",
       " 325.0        2881\n",
       " 321.0        2856\n",
       " 314.0        2793\n",
       " 316.0        2761\n",
       " 313.0        2719\n",
       " 311.0        2459\n",
       " 324.0        2307\n",
       " 309.0        2280\n",
       " 320.0        2227\n",
       " 317.0        2141\n",
       " 328.0        2135\n",
       " 318.0        2121\n",
       " 329.0        2092\n",
       " 330.0        2067\n",
       " 322.0        2029\n",
       " 319.0        2021\n",
       " 333.0        1973\n",
       " 315.0        1901\n",
       " 327.0        1843\n",
       " 334.0        1787\n",
       " 332.0        1669\n",
       " 310.0        1635\n",
       " 331.0        1628\n",
       " 326.0        1577\n",
       " 307.0        1557\n",
       " 308.0        1361\n",
       " 306.0        1292\n",
       " 305.0        1047\n",
       "Name: burned, dtype: int64"
      ]
     },
     "execution_count": 21,
     "metadata": {},
     "output_type": "execute_result"
    }
   ],
   "source": [
    "# data['burned'].value_counts()"
   ]
  },
  {
   "cell_type": "code",
   "execution_count": 16,
   "metadata": {},
   "outputs": [
    {
     "data": {
      "text/plain": [
       "3.0    29361362\n",
       "5.0    11297991\n",
       "4.0     4485529\n",
       "8.0         757\n",
       "9.0         516\n",
       "7.0          80\n",
       "6.0          80\n",
       "Name: FireMask, dtype: int64"
      ]
     },
     "execution_count": 16,
     "metadata": {},
     "output_type": "execute_result"
    }
   ],
   "source": [
    "# data['FireMask'].value_counts()"
   ]
  },
  {
   "cell_type": "code",
   "execution_count": 51,
   "metadata": {},
   "outputs": [
    {
     "data": {
      "text/plain": [
       "lat                                               0\n",
       "lon                                               0\n",
       "FireMask                                    7584133\n",
       "MaxFRP                                     52729095\n",
       "burned                                      7748914\n",
       "et_500m                                     7586147\n",
       "_1_km_16_days_EVI                          39586885\n",
       "_1_km_16_days_EVI2                         39586885\n",
       "_1_km_16_days_NDVI                         39586820\n",
       "_1_km_16_days_NIR_reflectance              39586820\n",
       "_1_km_16_days_SWIR1_reflectance            39586838\n",
       "_1_km_16_days_SWIR2_reflectance            39586971\n",
       "_1_km_16_days_SWIR3_reflectance            39586978\n",
       "_1_km_16_days_blue_reflectance             39620597\n",
       "_1_km_16_days_composite_day_of_the_year    39586820\n",
       "_1_km_16_days_green_reflectance            39595518\n",
       "_1_km_16_days_red_reflectance              39586820\n",
       "_1_km_16_days_VI_Quality                    7584133\n",
       "_1_km_16_days_pixel_reliability            39586820\n",
       "_DC                                        38933888\n",
       "_DMC                                       38933888\n",
       "_FFMC                                      38933888\n",
       "_ISI                                       38933888\n",
       "_BUI                                       38933888\n",
       "_FWI                                       38933888\n",
       "_DSR                                       38933888\n",
       "label                                             0\n",
       "dtype: int64"
      ]
     },
     "execution_count": 51,
     "metadata": {},
     "output_type": "execute_result"
    }
   ],
   "source": [
    "# data.isna().sum()"
   ]
  },
  {
   "cell_type": "markdown",
   "metadata": {},
   "source": [
    "# Create Target Categories"
   ]
  },
  {
   "cell_type": "code",
   "execution_count": 7,
   "metadata": {},
   "outputs": [],
   "source": [
    "# Start with all the values in FireMask\n",
    "data['label'] = data['FireMask']"
   ]
  },
  {
   "cell_type": "code",
   "execution_count": 8,
   "metadata": {},
   "outputs": [
    {
     "data": {
      "text/plain": [
       "3.0    25920\n",
       "5.0     9958\n",
       "4.0     3971\n",
       "Name: label, dtype: int64"
      ]
     },
     "execution_count": 8,
     "metadata": {},
     "output_type": "execute_result"
    }
   ],
   "source": [
    "data['label'].value_counts()"
   ]
  },
  {
   "cell_type": "code",
   "execution_count": 9,
   "metadata": {},
   "outputs": [],
   "source": [
    "# Create categorical values for active fire pixels\n",
    "# FireMask\n",
    "# 3 = water, non-fire\n",
    "# 4 = cloud (land or water)\n",
    "# 5 = land, non-fire\n",
    "# 6 = unknown (land or water)\n",
    "# 7, 8, 9 = fire (low, nominal and high confidence)\n",
    "\n",
    "data.loc[(data['FireMask'] == 9) | (data['FireMask'] == 8) | (data['FireMask'] == 7), 'label'] = 'active_fire'"
   ]
  },
  {
   "cell_type": "code",
   "execution_count": 10,
   "metadata": {},
   "outputs": [],
   "source": [
    "# Create categorical values from FWI numerical, only for areas that are not active fire\n",
    "data.loc[(data['_FWI'] < 5) & (data['label'] != 'active_fire'), 'label'] = 'fwi_low'\n",
    "data.loc[(data['_FWI'] >= 5) & (data['_FWI'] < 8) & (data['label'] != 'active_fire'), 'label'] = 'fwi_moderate'\n",
    "data.loc[(data['_FWI'] >= 8) & (data['_FWI'] < 16) & (data['label'] != 'active_fire'), 'label'] = 'fwi_high'\n",
    "data.loc[(data['_FWI'] >= 16) & (data['_FWI'] < 29) & (data['label'] != 'active_fire'), 'label'] = 'fwi_veryhigh'\n",
    "data.loc[(data['_FWI'] >= 29) & (data['label'] != 'active_fire'), 'label'] = 'fwi_extreme'"
   ]
  },
  {
   "cell_type": "code",
   "execution_count": 11,
   "metadata": {},
   "outputs": [],
   "source": [
    "# Create categorical values for burned pixels, only for areas that are not active fire\n",
    "# burned\n",
    "# 0.0 = unburned\n",
    "# -2.0 = water\n",
    "\n",
    "data.loc[(data['burned'] != 0.) & (data['burned'] != -2.) & (data['label'] != 'active_fire'), 'label'] = 'burned'"
   ]
  },
  {
   "cell_type": "code",
   "execution_count": 12,
   "metadata": {},
   "outputs": [
    {
     "data": {
      "text/plain": [
       "3.0             24923\n",
       "fwi_extreme      8164\n",
       "burned           6974\n",
       "fwi_low          2665\n",
       "4.0              2544\n",
       "fwi_veryhigh      537\n",
       "fwi_high          361\n",
       "5.0               269\n",
       "fwi_moderate      183\n",
       "Name: label, dtype: int64"
      ]
     },
     "execution_count": 12,
     "metadata": {},
     "output_type": "execute_result"
    }
   ],
   "source": [
    "data['label'].value_counts()"
   ]
  },
  {
   "cell_type": "code",
   "execution_count": 13,
   "metadata": {},
   "outputs": [],
   "source": [
    "# For the \"land\" label, there are nan values from fire weather index. So code as land. \n",
    "data.loc[(data['label'] == 5.), 'label'] = 'land'"
   ]
  },
  {
   "cell_type": "code",
   "execution_count": 14,
   "metadata": {},
   "outputs": [],
   "source": [
    "# Change viirs FM 3 to water \n",
    "data.loc[data['label'] == 3, 'label'] = 'water'"
   ]
  },
  {
   "cell_type": "code",
   "execution_count": 15,
   "metadata": {},
   "outputs": [],
   "source": [
    "# for missing data from viirs - i.e. cloud and unknown pixels, fill in missing information from categories in burned dataset\n",
    "\n",
    "# for cloud pixels...\n",
    "# where 'unburned', code as land\n",
    "data.loc[(data['label'] == 4) & (data['burned'] == 0), 'label'] = 'land'\n",
    "# where 'water', code as water\n",
    "data.loc[(data['label'] == 4) & (data['burned'] == -2.), 'label'] = 'water'                              \n",
    "                                 \n",
    "\n",
    "# for unknown pixels...\n",
    "# where unburned, code as land\n",
    "data.loc[(data['label'] == 6) & (data['burned'] == 0), 'label'] = 'land'\n",
    "# where 'water', code as water\n",
    "data.loc[(data['label'] == 6) & (data['burned'] == -2.), 'label'] = 'water'    "
   ]
  },
  {
   "cell_type": "code",
   "execution_count": 16,
   "metadata": {},
   "outputs": [
    {
     "data": {
      "text/plain": [
       "water           27454\n",
       "fwi_extreme      8164\n",
       "burned           6974\n",
       "fwi_low          2665\n",
       "fwi_veryhigh      537\n",
       "fwi_high          361\n",
       "land              282\n",
       "fwi_moderate      183\n",
       "Name: label, dtype: int64"
      ]
     },
     "execution_count": 16,
     "metadata": {},
     "output_type": "execute_result"
    }
   ],
   "source": [
    "# Check if all string categories\n",
    "data['label'].value_counts()"
   ]
  },
  {
   "cell_type": "code",
   "execution_count": 17,
   "metadata": {},
   "outputs": [
    {
     "data": {
      "text/html": [
       "<div>\n",
       "<style scoped>\n",
       "    .dataframe tbody tr th:only-of-type {\n",
       "        vertical-align: middle;\n",
       "    }\n",
       "\n",
       "    .dataframe tbody tr th {\n",
       "        vertical-align: top;\n",
       "    }\n",
       "\n",
       "    .dataframe thead th {\n",
       "        text-align: right;\n",
       "    }\n",
       "</style>\n",
       "<table border=\"1\" class=\"dataframe\">\n",
       "  <thead>\n",
       "    <tr style=\"text-align: right;\">\n",
       "      <th></th>\n",
       "      <th>lat</th>\n",
       "      <th>lon</th>\n",
       "      <th>_DC</th>\n",
       "      <th>_DMC</th>\n",
       "      <th>_FFMC</th>\n",
       "      <th>_ISI</th>\n",
       "      <th>_BUI</th>\n",
       "      <th>_FWI</th>\n",
       "      <th>_DSR</th>\n",
       "      <th>burned</th>\n",
       "      <th>...</th>\n",
       "      <th>_1_km_16_days_NIR_reflectance</th>\n",
       "      <th>_1_km_16_days_SWIR1_reflectance</th>\n",
       "      <th>_1_km_16_days_SWIR2_reflectance</th>\n",
       "      <th>_1_km_16_days_SWIR3_reflectance</th>\n",
       "      <th>_1_km_16_days_blue_reflectance</th>\n",
       "      <th>_1_km_16_days_green_reflectance</th>\n",
       "      <th>_1_km_16_days_red_reflectance</th>\n",
       "      <th>FireMask</th>\n",
       "      <th>MaxFRP</th>\n",
       "      <th>label</th>\n",
       "    </tr>\n",
       "  </thead>\n",
       "  <tbody>\n",
       "  </tbody>\n",
       "</table>\n",
       "<p>0 rows × 24 columns</p>\n",
       "</div>"
      ],
      "text/plain": [
       "Empty DataFrame\n",
       "Columns: [lat, lon, _DC, _DMC, _FFMC, _ISI, _BUI, _FWI, _DSR, burned, et_500m, _1_km_16_days_EVI, _1_km_16_days_EVI2, _1_km_16_days_NDVI, _1_km_16_days_NIR_reflectance, _1_km_16_days_SWIR1_reflectance, _1_km_16_days_SWIR2_reflectance, _1_km_16_days_SWIR3_reflectance, _1_km_16_days_blue_reflectance, _1_km_16_days_green_reflectance, _1_km_16_days_red_reflectance, FireMask, MaxFRP, label]\n",
       "Index: []\n",
       "\n",
       "[0 rows x 24 columns]"
      ]
     },
     "execution_count": 17,
     "metadata": {},
     "output_type": "execute_result"
    }
   ],
   "source": [
    "# Check if there are any nulls or zeros left in label column\n",
    "\n",
    "data.loc[(data['label']==0) | (data['label'].isna()),:]"
   ]
  },
  {
   "cell_type": "markdown",
   "metadata": {},
   "source": [
    "# Drop columns that were used to create labels"
   ]
  },
  {
   "cell_type": "code",
   "execution_count": 18,
   "metadata": {},
   "outputs": [
    {
     "data": {
      "text/plain": [
       "Index(['lat', 'lon', '_DC', '_DMC', '_FFMC', '_ISI', '_BUI', '_FWI', '_DSR',\n",
       "       'burned', 'et_500m', '_1_km_16_days_EVI', '_1_km_16_days_EVI2',\n",
       "       '_1_km_16_days_NDVI', '_1_km_16_days_NIR_reflectance',\n",
       "       '_1_km_16_days_SWIR1_reflectance', '_1_km_16_days_SWIR2_reflectance',\n",
       "       '_1_km_16_days_SWIR3_reflectance', '_1_km_16_days_blue_reflectance',\n",
       "       '_1_km_16_days_green_reflectance', '_1_km_16_days_red_reflectance',\n",
       "       'FireMask', 'MaxFRP', 'label'],\n",
       "      dtype='object')"
      ]
     },
     "execution_count": 18,
     "metadata": {},
     "output_type": "execute_result"
    }
   ],
   "source": [
    "data.columns"
   ]
  },
  {
   "cell_type": "code",
   "execution_count": 20,
   "metadata": {},
   "outputs": [],
   "source": [
    "# Create smaller dataset for first model run\n",
    "dataset_v1 = data.drop(['FireMask', '_FWI', 'burned'], axis = 1)"
   ]
  },
  {
   "cell_type": "markdown",
   "metadata": {},
   "source": [
    "# Optimize Dataset for Memory"
   ]
  },
  {
   "cell_type": "code",
   "execution_count": 32,
   "metadata": {},
   "outputs": [],
   "source": [
    "dataset_v1 = pd.read_parquet('dataset_v1.parquet.gzip')"
   ]
  },
  {
   "cell_type": "code",
   "execution_count": 21,
   "metadata": {},
   "outputs": [],
   "source": [
    "# dataset_v1.info(memory_usage = 'deep')\n",
    "# memory usage: 7.6 GB\n",
    "# Thus, try to convert MaxFRP to float32\n",
    "dataset_v1['MaxFRP'] = dataset_v1['MaxFRP'].astype('float32')\n",
    "# Now memory usage: 7.4 GB\n",
    "\n",
    "# Not sure what else to do. Changing decimal places actually adds memory."
   ]
  },
  {
   "cell_type": "code",
   "execution_count": 22,
   "metadata": {},
   "outputs": [
    {
     "name": "stdout",
     "output_type": "stream",
     "text": [
      "<class 'pandas.core.frame.DataFrame'>\n",
      "RangeIndex: 46620 entries, 0 to 46619\n",
      "Data columns (total 21 columns):\n",
      "lat                                46620 non-null float64\n",
      "lon                                46620 non-null float64\n",
      "_DC                                12105 non-null float32\n",
      "_DMC                               12105 non-null float32\n",
      "_FFMC                              12105 non-null float32\n",
      "_ISI                               12105 non-null float32\n",
      "_BUI                               12105 non-null float32\n",
      "_DSR                               12105 non-null float32\n",
      "et_500m                            39847 non-null float32\n",
      "_1_km_16_days_EVI                  11524 non-null float32\n",
      "_1_km_16_days_EVI2                 11524 non-null float32\n",
      "_1_km_16_days_NDVI                 11524 non-null float32\n",
      "_1_km_16_days_NIR_reflectance      11524 non-null float32\n",
      "_1_km_16_days_SWIR1_reflectance    11524 non-null float32\n",
      "_1_km_16_days_SWIR2_reflectance    11524 non-null float32\n",
      "_1_km_16_days_SWIR3_reflectance    11524 non-null float32\n",
      "_1_km_16_days_blue_reflectance     11498 non-null float32\n",
      "_1_km_16_days_green_reflectance    11516 non-null float32\n",
      "_1_km_16_days_red_reflectance      11524 non-null float32\n",
      "MaxFRP                             0 non-null float32\n",
      "label                              46620 non-null object\n",
      "dtypes: float32(18), float64(2), object(1)\n",
      "memory usage: 4.3+ MB\n"
     ]
    }
   ],
   "source": [
    "dataset_v1.info()"
   ]
  },
  {
   "cell_type": "markdown",
   "metadata": {},
   "source": [
    "# Address Missing Values"
   ]
  },
  {
   "cell_type": "code",
   "execution_count": 23,
   "metadata": {},
   "outputs": [],
   "source": [
    "# For first run, replace all nulls with zeros. \n",
    "dataset_v1.fillna(0, inplace = True)"
   ]
  },
  {
   "cell_type": "code",
   "execution_count": 24,
   "metadata": {},
   "outputs": [
    {
     "data": {
      "text/plain": [
       "lat                                0\n",
       "lon                                0\n",
       "_DC                                0\n",
       "_DMC                               0\n",
       "_FFMC                              0\n",
       "_ISI                               0\n",
       "_BUI                               0\n",
       "_DSR                               0\n",
       "et_500m                            0\n",
       "_1_km_16_days_EVI                  0\n",
       "_1_km_16_days_EVI2                 0\n",
       "_1_km_16_days_NDVI                 0\n",
       "_1_km_16_days_NIR_reflectance      0\n",
       "_1_km_16_days_SWIR1_reflectance    0\n",
       "_1_km_16_days_SWIR2_reflectance    0\n",
       "_1_km_16_days_SWIR3_reflectance    0\n",
       "_1_km_16_days_blue_reflectance     0\n",
       "_1_km_16_days_green_reflectance    0\n",
       "_1_km_16_days_red_reflectance      0\n",
       "MaxFRP                             0\n",
       "label                              0\n",
       "dtype: int64"
      ]
     },
     "execution_count": 24,
     "metadata": {},
     "output_type": "execute_result"
    }
   ],
   "source": [
    "# Address missing values\n",
    "dataset_v1.isna().sum()"
   ]
  },
  {
   "cell_type": "code",
   "execution_count": 26,
   "metadata": {},
   "outputs": [],
   "source": [
    "# Export data as clean parquet gzip file\n",
    "dataset_v1.to_parquet('dataset_v2.parquet')"
   ]
  }
 ],
 "metadata": {
  "kernelspec": {
   "display_name": "base",
   "language": "python",
   "name": "base"
  },
  "language_info": {
   "codemirror_mode": {
    "name": "ipython",
    "version": 3
   },
   "file_extension": ".py",
   "mimetype": "text/x-python",
   "name": "python",
   "nbconvert_exporter": "python",
   "pygments_lexer": "ipython3",
   "version": "3.5.3"
  }
 },
 "nbformat": 4,
 "nbformat_minor": 4
}
