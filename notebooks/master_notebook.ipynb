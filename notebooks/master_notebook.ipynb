{
 "cells": [
  {
   "cell_type": "markdown",
   "metadata": {},
   "source": [
    "# Identifying Wildfires from Satellite Data"
   ]
  },
  {
   "cell_type": "markdown",
   "metadata": {},
   "source": [
    "Contributor: Allison Lee"
   ]
  },
  {
   "cell_type": "markdown",
   "metadata": {},
   "source": [
    "### Note: This notebook is currently under construction! I am consolidating a summary on the final data and model, as both went through several iterations through the course of this project."
   ]
  },
  {
   "cell_type": "markdown",
   "metadata": {},
   "source": [
    "### Table of Contents\n",
    "<a href=#summary>Context and Challenge</a><br>\n",
    "<a href=#apprach>Approach</a><br>\n",
    "<a href=#sources>Data Sources</a><br>\n",
    "<a href=#collect>Data Collection</a><br>\n",
    "<a href=#model>Modeling</a><br>\n",
    "<a href=#findings>Findings and Analysis</a><br>\n",
    "<a href=#next>Next Steps</a>"
   ]
  },
  {
   "cell_type": "code",
   "execution_count": null,
   "metadata": {},
   "outputs": [],
   "source": [
    "# import libraries"
   ]
  },
  {
   "cell_type": "markdown",
   "metadata": {},
   "source": [
    "<a id=summary></a>\n",
    "### Context and Challenge"
   ]
  },
  {
   "cell_type": "markdown",
   "metadata": {},
   "source": [
    "Natural disasters will become a major challenge in the coming years as climate change proceeds at a terrifying pace. Australia has experienced wildfires of unprecedented scale over the last several months of 2019 and into 2020, exacerbated by record-breaking temperatures and prolonged drought.  "
   ]
  },
  {
   "cell_type": "markdown",
   "metadata": {},
   "source": [
    "As fires reach certain intensities, they interact with the atmosphere to form their own weather patterns. These characteristics make modeling wildfire behavior difficult.<br>\n",
    "\n",
    "Other approaches have sought to model the fire as an agent that makes decisions under different conditions. Others, such as <a href='https://staff.ucar.edu/users/janicec'>Coen</a>, have developed coupled weather-fire computer simulation models. "
   ]
  },
  {
   "cell_type": "markdown",
   "metadata": {},
   "source": [
    "I'm interested in exploring whether machine learning approaches can successfully predict wildfire spread. This 2.5 week project focused on one point in time -- December 22, 2019 -- to explore whether machine learning can use weather data to distinguish between areas of active fire, burned areas, land, and water in Australia. "
   ]
  },
  {
   "cell_type": "markdown",
   "metadata": {},
   "source": [
    "<a id=approach></a>\n",
    "### Approach"
   ]
  },
  {
   "cell_type": "markdown",
   "metadata": {},
   "source": [
    "First, I developed a labeled dataset covering the time period and geography of interest. I used Google Earth Engine to download several satellite data products from NASA and JAXA, and used several geospatial and scientific Python packages to transform them into a labeled dataset consisting of four labels: active fire, burned area, land, and water. \n",
    "\n",
    "I scaled the data and applied methods to balance the classes. I randomly split the data into training (80% of the data) and test (20% of the data) sets, stratifying by labels. I then used ski-kit learn's multiclass classification algorithms to run logistic regression and random forest models on the training data.\n",
    "\n",
    "Finally, I evaluated the model metrics (optimizing by balanced accuracy score) on both training and test data. After selecting the best-performing model, I ran the model on the entire dataset to visualize the mapped predictions compared to the actual predictions. \n",
    "\n",
    "There is plenty of room for improvement, particularly around feature selection, feature engineering, and modeling (including hyperparameter tuning). I summarized my thoughts on next steps in the final section of this notebook. "
   ]
  },
  {
   "cell_type": "markdown",
   "metadata": {},
   "source": [
    "<a id=sources></a>\n",
    "### Data Sources"
   ]
  },
  {
   "cell_type": "markdown",
   "metadata": {},
   "source": [
    "**<a href='https://lpdaac.usgs.gov/products/mcd64a1v006/'>MCD64A1.006 MODIS Burned Area Monthly Global 500m</a>** \n",
    " - Source: Land Processes Distributed Active Archive Center (LP-DAAC)  within NASA’s Earth Observing System Data and Information System\n",
    " - This monthly product uses MODIS Surface Reflectance imagery, MODIS active fire observations, and a burn sensitive vegetation index to identify the calendar year date of burn for each 500m pixel. I used this dataset to define \"burned area\" as any pixel with a burn date occurring within 30 days prior to December 22, 2019. \n",
    "\n",
    "**<a href='https://lpdaac.usgs.gov/products/mod14a1v006/'>MOD14A1.006: Terra Thermal Anomalies & Fire Daily Global 1km</a>**\n",
    " - Source: Land Processes Distributed Active Archive Center (LP-DAAC)  within NASA’s Earth Observing System Data and Information System\n",
    " - This product identifies fires based on derivations from MODIS 4- and 11- micrometer radiances. I used this data--specifically, the fire pixels detected with \"high confidence\"--as my \"active fire\" labels. \n",
    "\n",
    "**<a href='https://sharaku.eorc.jaxa.jp/GSMaP/guide.html'>GSMaP Operational: Global Satellite Mapping of Precipitation**</a> \n",
    " - Source: Earth Observation Research Center, Japan Aerospace Exploration Agency\n",
    " - This product provides data every three hours on global precipitation observations, estimated using multi-band passive microwave and infrared radiometers from several satellites. \n",
    "\n",
    "**<a href='https://ldas.gsfc.nasa.gov/gldas'>Global Land Data Assimilation System (GLDAS 2.1)**</a> \n",
    " - Source: NASA’s Goddard Earth Sciences Data and Information Services Center\n",
    " - This product inputs satellite and ground-based observations into land surface models to output data every three hours on variables such as soil moisture, humidity, albedo, wind speed, and root zone soil moisture. \n",
    "\n",
    "\n",
    "My choice of data sources were informed by several factors.\n",
    "1) **Literature review**<br>\n",
    "In addition to several other articles on wildfire modeling, I was also inspired by the Canadian Fire Weather Index--for which a global monthly database is available <a href='https://data.giss.nasa.gov/impacts/gfwed/'>here</a>. The index calculates the severity of wildland fire potential using data on temperature, humidity, wind speed and rainfall, as well as fuel moisture and fuel type. \n",
    "\n",
    "2) **Updated frequently**<br>\n",
    "My long term vision is to create a product that can use daily (or more frequently updated) data and make next-day predictions on areas where wildfire is likely to spread. The temporal frequency of the data is particularly important given the rapidly-changing dynamics of wildfire behavior. Both GSMaP and GLDAS sources provide rich data on a three-hourly basis. \n",
    "\n",
    "3) **Publicly accessible**<br>\n",
    "Finally, in the hopes that the end product may be of use to others, I envision an easy-to-use tool, accessible by anyone, anywhere in the world. Towards this aim, I wanted data sources that were easy to access and publicly available. Google Earth Engine has transformed access to scientific and planetary datasets, making it an ideal platform to develop scripts and integrate them into a model."
   ]
  },
  {
   "cell_type": "markdown",
   "metadata": {},
   "source": [
    "<a id=collect></a>\n",
    "### Data Collection"
   ]
  },
  {
   "cell_type": "markdown",
   "metadata": {},
   "source": [
    "While this project uses data derived from satellite images, it is not traditional image classification. To date, the deep learning field has typically focused on images with data in the visible spectrum (e.g. red, green, and blue values). Satellites, however, produce \"images\" that contain information outside of the visible spectrum. More specifically, they capture data on various frequencies of electromagnetic radiation across the electromagnetic spectrum. \n",
    "\n",
    "<insert image> \n",
    "    credit: NASA\n",
    "\n",
    "The majority of my time was spent wrangingly with different geospatial data formats and packages to get the data into a structure where it could be input into ski-kit learn's classification algorithms. \n",
    "\n",
    "# The types of raster files I was using"
   ]
  },
  {
   "cell_type": "markdown",
   "metadata": {},
   "source": [
    "<a id=model></a>\n",
    "### Modeling"
   ]
  },
  {
   "cell_type": "markdown",
   "metadata": {},
   "source": [
    "<a id=findings></a>\n",
    "### Findings and Analysis"
   ]
  },
  {
   "cell_type": "markdown",
   "metadata": {},
   "source": [
    "<a id=next></a>\n",
    "### Next Steps"
   ]
  }
 ],
 "metadata": {
  "kernelspec": {
   "display_name": "Python (geospatial)",
   "language": "python",
   "name": "merging"
  },
  "language_info": {
   "codemirror_mode": {
    "name": "ipython",
    "version": 3
   },
   "file_extension": ".py",
   "mimetype": "text/x-python",
   "name": "python",
   "nbconvert_exporter": "python",
   "pygments_lexer": "ipython3",
   "version": "3.7.5"
  }
 },
 "nbformat": 4,
 "nbformat_minor": 4
}
