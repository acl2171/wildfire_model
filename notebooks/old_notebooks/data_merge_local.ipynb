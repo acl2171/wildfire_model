{
 "cells": [
  {
   "cell_type": "code",
   "execution_count": 1,
   "metadata": {},
   "outputs": [],
   "source": [
    "import pandas as pd\n",
    "import xarray as xr\n",
    "import numpy as np\n",
    "import scipy.interpolate\n",
    "import pickle\n",
    "\n",
    "import scipy.ndimage as ndimage\n",
    "%run ../pyfiles/data_cleaning.py"
   ]
  },
  {
   "cell_type": "markdown",
   "metadata": {},
   "source": [
    "**Table of Contents**\n",
    "1. <a href=#burned>MCD64A1 Burned Area</a>\n",
    "2. <a href=#evapo>MOD16A2: EvapoTranspiration Data</a>\n",
    "3. <a href=#veg>VNP13 Vegetation Indices</a>\n",
    "4. <a href=#fire>VIIRS VNP14 Thermal Anomaly / Fire</a>\n",
    "5. <a href=#fwi>Global Fire Weather Database: Fire Weather Index</a>\n",
    "6. <a href=#merge>Merging Final Dataset</a>"
   ]
  },
  {
   "cell_type": "markdown",
   "metadata": {},
   "source": [
    "<a id=burned></a>\n",
    "### MCD64A1 Burned Area\n",
    "Source: https://lpdaac.usgs.gov/products/mcd64a1v006/"
   ]
  },
  {
   "cell_type": "code",
   "execution_count": 2,
   "metadata": {},
   "outputs": [],
   "source": [
    "burned = xr.open_mfdataset('../../finalproj_data/time_slice/MCD64A1.006_500m_aid0001.nc', combine = 'by_coords')\n",
    "burnt = burned.sel(time = slice('2019-11-01','2019-11-01'))"
   ]
  },
  {
   "cell_type": "code",
   "execution_count": 3,
   "metadata": {},
   "outputs": [],
   "source": [
    "# burnt['crs']\n",
    "# Attributes:\n",
    "#     grid_mapping_name:            latitude_longitude\n",
    "#     _CoordinateAxisTypes:         GeoX GeoY\n",
    "#     epsg_code:                    4326\n",
    "#     horizontal_datum_name:        WGS84\n",
    "#     semi_major_axis:              6378137\n",
    "#     inverse_flattening:           298.257223563\n",
    "#     longitude_of_prime_meridian:  0.0"
   ]
  },
  {
   "cell_type": "code",
   "execution_count": 4,
   "metadata": {},
   "outputs": [],
   "source": [
    "burnt = burnt.drop_vars(['Burn_Date_Uncertainty', 'First_Day', 'Last_Day','crs', 'QA'])\n",
    "burnt = burnt.squeeze('time')\n",
    "burnt = burnt.drop('time')"
   ]
  },
  {
   "cell_type": "markdown",
   "metadata": {},
   "source": [
    "<a id=evapo></a>\n",
    "### MOD16A2: EvapoTranspiration Data "
   ]
  },
  {
   "cell_type": "code",
   "execution_count": 5,
   "metadata": {},
   "outputs": [],
   "source": [
    "# Load Data\n",
    "\n",
    "EVAP = xr.open_mfdataset('../../finalproj_data/time_slice/MOD16A2.006_500m_aid0001.nc', combine='by_coords') \n",
    "# (lat: 12623, lon: 16707, time: 1)\n",
    "# 1.687374337 GB\n",
    "# Source: https://lpdaac.usgs.gov/products/mod16a2v006/\n",
    "# Probably only going to take Total Evapotranspiration (ET_500m)\n",
    "# Ignore for now - add if time. \n"
   ]
  },
  {
   "cell_type": "code",
   "execution_count": 6,
   "metadata": {},
   "outputs": [],
   "source": [
    "# <xarray.DataArray 'crs' ()>\n",
    "# array(-127, dtype=int8)\n",
    "# Coordinates:\n",
    "#     time     object 2019-12-11 00:00:00\n",
    "# Attributes:\n",
    "#     grid_mapping_name:            latitude_longitude\n",
    "#     _CoordinateAxisTypes:         GeoX GeoY\n",
    "#     epsg_code:                    4326\n",
    "#     horizontal_datum_name:        WGS84\n",
    "#     semi_major_axis:              6378137\n",
    "#     inverse_flattening:           298.257223563\n",
    "#     longitude_of_prime_meridian:  0.0\n",
    "EVAP = EVAP.drop_vars(['crs', 'ET_QC_500m'])\n",
    "EVAP = EVAP.squeeze('time')\n",
    "EVAP = EVAP.drop('time')"
   ]
  },
  {
   "cell_type": "code",
   "execution_count": 7,
   "metadata": {},
   "outputs": [
    {
     "data": {
      "text/html": [
       "<pre>&lt;xarray.Dataset&gt;\n",
       "Dimensions:  (lat: 12623, lon: 16707)\n",
       "Coordinates:\n",
       "  * lat      (lat) float64 4.36 4.356 4.352 4.348 ... -48.22 -48.23 -48.23\n",
       "  * lon      (lon) float64 96.33 96.33 96.34 96.34 ... 165.9 165.9 165.9 165.9\n",
       "Data variables:\n",
       "    ET_500m  (lat, lon) float32 dask.array&lt;chunksize=(12623, 16707), meta=np.ndarray&gt;\n",
       "Attributes:\n",
       "    title:        MOD16A2.006 for aid0001\n",
       "    Conventions:  CF-1.6\n",
       "    institution:  Land Processes Distributed Active Archive Center (LP DAAC)\n",
       "    source:       AppEEARS v2.34\n",
       "    references:   See README.txt\n",
       "    history:      See README.txt</pre>"
      ],
      "text/plain": [
       "<xarray.Dataset>\n",
       "Dimensions:  (lat: 12623, lon: 16707)\n",
       "Coordinates:\n",
       "  * lat      (lat) float64 4.36 4.356 4.352 4.348 ... -48.22 -48.23 -48.23\n",
       "  * lon      (lon) float64 96.33 96.33 96.34 96.34 ... 165.9 165.9 165.9 165.9\n",
       "Data variables:\n",
       "    ET_500m  (lat, lon) float32 dask.array<chunksize=(12623, 16707), meta=np.ndarray>\n",
       "Attributes:\n",
       "    title:        MOD16A2.006 for aid0001\n",
       "    Conventions:  CF-1.6\n",
       "    institution:  Land Processes Distributed Active Archive Center (LP DAAC)\n",
       "    source:       AppEEARS v2.34\n",
       "    references:   See README.txt\n",
       "    history:      See README.txt"
      ]
     },
     "execution_count": 7,
     "metadata": {},
     "output_type": "execute_result"
    }
   ],
   "source": [
    "EVAP"
   ]
  },
  {
   "cell_type": "markdown",
   "metadata": {},
   "source": [
    "<a id=veg></a>\n",
    "### VNP13 Vegetation Indices\n",
    "Source: https://lpdaac.usgs.gov/products/vnp13a2v001/"
   ]
  },
  {
   "cell_type": "code",
   "execution_count": 8,
   "metadata": {},
   "outputs": [],
   "source": [
    "VEG = xr.open_mfdataset('../../finalproj_data/time_slice/VNP13A2.001_1km_aid0001.nc', combine = 'by_coords') #  (lat: 6312, lon: 8354, time: 1)\n",
    "# Slice by time dimension so that this dataset is 1 dimension in time. \n",
    "VEG = VEG.sel(time = slice('2019-12-11', '2019-12-11'))\n",
    "#2.953022425"
   ]
  },
  {
   "cell_type": "code",
   "execution_count": 9,
   "metadata": {},
   "outputs": [],
   "source": [
    "# TWO\n",
    "# <xarray.DataArray 'crs' ()>\n",
    "# array(-127, dtype=int8)\n",
    "# Attributes:\n",
    "#     grid_mapping_name:            latitude_longitude\n",
    "#     _CoordinateAxisTypes:         GeoX GeoY\n",
    "#     epsg_code:                    4326\n",
    "#     horizontal_datum_name:        WGS84\n",
    "#     semi_major_axis:              6378137\n",
    "#     inverse_flattening:           298.257223563\n",
    "#     longitude_of_prime_meridian:  0.0"
   ]
  },
  {
   "cell_type": "code",
   "execution_count": 10,
   "metadata": {},
   "outputs": [],
   "source": [
    "VEG = VEG.drop_vars(['crs', '_1_km_16_days_composite_day_of_the_year', '_1_km_16_days_VI_Quality','_1_km_16_days_pixel_reliability'])\n",
    "VEG = VEG.squeeze('time')\n",
    "VEG = VEG.drop('time')"
   ]
  },
  {
   "cell_type": "code",
   "execution_count": 11,
   "metadata": {},
   "outputs": [
    {
     "data": {
      "text/html": [
       "<pre>&lt;xarray.Dataset&gt;\n",
       "Dimensions:                          (lat: 6312, lon: 8354)\n",
       "Coordinates:\n",
       "  * lat                              (lat) float64 4.362 4.354 ... -48.22 -48.23\n",
       "  * lon                              (lon) float64 96.33 96.34 ... 165.9 165.9\n",
       "Data variables:\n",
       "    _1_km_16_days_EVI                (lat, lon) float32 dask.array&lt;chunksize=(6312, 8354), meta=np.ndarray&gt;\n",
       "    _1_km_16_days_EVI2               (lat, lon) float32 dask.array&lt;chunksize=(6312, 8354), meta=np.ndarray&gt;\n",
       "    _1_km_16_days_NDVI               (lat, lon) float32 dask.array&lt;chunksize=(6312, 8354), meta=np.ndarray&gt;\n",
       "    _1_km_16_days_NIR_reflectance    (lat, lon) float32 dask.array&lt;chunksize=(6312, 8354), meta=np.ndarray&gt;\n",
       "    _1_km_16_days_SWIR1_reflectance  (lat, lon) float32 dask.array&lt;chunksize=(6312, 8354), meta=np.ndarray&gt;\n",
       "    _1_km_16_days_SWIR2_reflectance  (lat, lon) float32 dask.array&lt;chunksize=(6312, 8354), meta=np.ndarray&gt;\n",
       "    _1_km_16_days_SWIR3_reflectance  (lat, lon) float32 dask.array&lt;chunksize=(6312, 8354), meta=np.ndarray&gt;\n",
       "    _1_km_16_days_blue_reflectance   (lat, lon) float32 dask.array&lt;chunksize=(6312, 8354), meta=np.ndarray&gt;\n",
       "    _1_km_16_days_green_reflectance  (lat, lon) float32 dask.array&lt;chunksize=(6312, 8354), meta=np.ndarray&gt;\n",
       "    _1_km_16_days_red_reflectance    (lat, lon) float32 dask.array&lt;chunksize=(6312, 8354), meta=np.ndarray&gt;\n",
       "Attributes:\n",
       "    title:        VNP13A2.001 for aid0001\n",
       "    Conventions:  CF-1.6\n",
       "    institution:  Land Processes Distributed Active Archive Center (LP DAAC)\n",
       "    source:       AppEEARS v2.34\n",
       "    references:   See README.txt\n",
       "    history:      See README.txt</pre>"
      ],
      "text/plain": [
       "<xarray.Dataset>\n",
       "Dimensions:                          (lat: 6312, lon: 8354)\n",
       "Coordinates:\n",
       "  * lat                              (lat) float64 4.362 4.354 ... -48.22 -48.23\n",
       "  * lon                              (lon) float64 96.33 96.34 ... 165.9 165.9\n",
       "Data variables:\n",
       "    _1_km_16_days_EVI                (lat, lon) float32 dask.array<chunksize=(6312, 8354), meta=np.ndarray>\n",
       "    _1_km_16_days_EVI2               (lat, lon) float32 dask.array<chunksize=(6312, 8354), meta=np.ndarray>\n",
       "    _1_km_16_days_NDVI               (lat, lon) float32 dask.array<chunksize=(6312, 8354), meta=np.ndarray>\n",
       "    _1_km_16_days_NIR_reflectance    (lat, lon) float32 dask.array<chunksize=(6312, 8354), meta=np.ndarray>\n",
       "    _1_km_16_days_SWIR1_reflectance  (lat, lon) float32 dask.array<chunksize=(6312, 8354), meta=np.ndarray>\n",
       "    _1_km_16_days_SWIR2_reflectance  (lat, lon) float32 dask.array<chunksize=(6312, 8354), meta=np.ndarray>\n",
       "    _1_km_16_days_SWIR3_reflectance  (lat, lon) float32 dask.array<chunksize=(6312, 8354), meta=np.ndarray>\n",
       "    _1_km_16_days_blue_reflectance   (lat, lon) float32 dask.array<chunksize=(6312, 8354), meta=np.ndarray>\n",
       "    _1_km_16_days_green_reflectance  (lat, lon) float32 dask.array<chunksize=(6312, 8354), meta=np.ndarray>\n",
       "    _1_km_16_days_red_reflectance    (lat, lon) float32 dask.array<chunksize=(6312, 8354), meta=np.ndarray>\n",
       "Attributes:\n",
       "    title:        VNP13A2.001 for aid0001\n",
       "    Conventions:  CF-1.6\n",
       "    institution:  Land Processes Distributed Active Archive Center (LP DAAC)\n",
       "    source:       AppEEARS v2.34\n",
       "    references:   See README.txt\n",
       "    history:      See README.txt"
      ]
     },
     "execution_count": 11,
     "metadata": {},
     "output_type": "execute_result"
    }
   ],
   "source": [
    "VEG"
   ]
  },
  {
   "cell_type": "markdown",
   "metadata": {},
   "source": [
    "<a id=fire></a>\n",
    "### VIIRS VNP14 Thermal Anomaly / Fire\n",
    "\n",
    "Source: https://lpdaac.usgs.gov/products/vnp14a1v001/"
   ]
  },
  {
   "cell_type": "code",
   "execution_count": 12,
   "metadata": {},
   "outputs": [],
   "source": [
    "THREE = xr.open_mfdataset('../../finalproj_data/time_slice/VNP14A1.001_1km_aid0001.nc', combine = 'by_coords') # (lat: 6312, lon: 8354, time: 1)\n",
    "#1.054726297 GB\n",
    "\n",
    "\n",
    "# <xarray.DataArray 'crs' ()>\n",
    "# array(-127, dtype=int8)\n",
    "# Attributes:\n",
    "#     grid_mapping_name:            latitude_longitude\n",
    "#     _CoordinateAxisTypes:         GeoX GeoY\n",
    "#     epsg_code:                    4326\n",
    "#     horizontal_datum_name:        WGS84\n",
    "#     semi_major_axis:              6378137\n",
    "#     inverse_flattening:           298.257223563\n",
    "#     longitude_of_prime_meridian:  0.0"
   ]
  },
  {
   "cell_type": "code",
   "execution_count": 13,
   "metadata": {},
   "outputs": [],
   "source": [
    "THREE = THREE.drop_vars(['crs', 'QA', 'sample'])\n",
    "THREE = THREE.squeeze('time')\n",
    "viirs = THREE.drop('time')"
   ]
  },
  {
   "cell_type": "code",
   "execution_count": 14,
   "metadata": {},
   "outputs": [
    {
     "data": {
      "text/html": [
       "<pre>&lt;xarray.Dataset&gt;\n",
       "Dimensions:   (lat: 6312, lon: 8354)\n",
       "Coordinates:\n",
       "  * lat       (lat) float64 4.362 4.354 4.346 4.337 ... -48.21 -48.22 -48.23\n",
       "  * lon       (lon) float64 96.33 96.34 96.35 96.35 ... 165.9 165.9 165.9 165.9\n",
       "Data variables:\n",
       "    FireMask  (lat, lon) float32 dask.array&lt;chunksize=(6312, 8354), meta=np.ndarray&gt;\n",
       "    MaxFRP    (lat, lon) float64 dask.array&lt;chunksize=(6312, 8354), meta=np.ndarray&gt;\n",
       "Attributes:\n",
       "    title:        VNP14A1.001 for aid0001\n",
       "    Conventions:  CF-1.6\n",
       "    institution:  Land Processes Distributed Active Archive Center (LP DAAC)\n",
       "    source:       AppEEARS v2.34\n",
       "    references:   See README.txt\n",
       "    history:      See README.txt</pre>"
      ],
      "text/plain": [
       "<xarray.Dataset>\n",
       "Dimensions:   (lat: 6312, lon: 8354)\n",
       "Coordinates:\n",
       "  * lat       (lat) float64 4.362 4.354 4.346 4.337 ... -48.21 -48.22 -48.23\n",
       "  * lon       (lon) float64 96.33 96.34 96.35 96.35 ... 165.9 165.9 165.9 165.9\n",
       "Data variables:\n",
       "    FireMask  (lat, lon) float32 dask.array<chunksize=(6312, 8354), meta=np.ndarray>\n",
       "    MaxFRP    (lat, lon) float64 dask.array<chunksize=(6312, 8354), meta=np.ndarray>\n",
       "Attributes:\n",
       "    title:        VNP14A1.001 for aid0001\n",
       "    Conventions:  CF-1.6\n",
       "    institution:  Land Processes Distributed Active Archive Center (LP DAAC)\n",
       "    source:       AppEEARS v2.34\n",
       "    references:   See README.txt\n",
       "    history:      See README.txt"
      ]
     },
     "execution_count": 14,
     "metadata": {},
     "output_type": "execute_result"
    }
   ],
   "source": [
    "# clean xarray dataset\n",
    "viirs"
   ]
  },
  {
   "cell_type": "markdown",
   "metadata": {},
   "source": [
    "<a id=fwi></a>\n",
    "### Global Fire Weather Database: Fire Weather Index"
   ]
  },
  {
   "cell_type": "code",
   "execution_count": 15,
   "metadata": {},
   "outputs": [],
   "source": [
    "# See data_collection1 for more information. \n",
    "\n",
    "# GFWD - FWI --> Dataset labels to identify \"high risk of fire\" based on FWI calculations.\n",
    "# Convention to label DataSet in caps and DataArray in lowercase\n",
    "\n",
    "#Use xarray to open .nc file, combining by coordinates. \n",
    "GFWD = xr.open_mfdataset(\"../../finalproj_data/satellitedata/GFWD/FWI.GEOS-5.Monthly.Default.201912.nc\", combine = 'by_coords')"
   ]
  },
  {
   "cell_type": "code",
   "execution_count": 16,
   "metadata": {},
   "outputs": [],
   "source": [
    "GFWD = GFWD.squeeze('time')\n",
    "GFWD = GFWD.drop('time')"
   ]
  },
  {
   "cell_type": "code",
   "execution_count": 17,
   "metadata": {},
   "outputs": [],
   "source": [
    "# Geoslicing based on coordinates for 'burnt'\n",
    "\n",
    "# lat min : -48.23125 \n",
    "# lat max: 4.36041667\n",
    "\n",
    "#lon max = 165.93541665\n",
    "#lon min = 96.32708332\n",
    "\n",
    "fwi_ = GFWD.where(GFWD.lat >= -48.23125, drop = True)\n",
    "fwi_ = fwi_.where(fwi_.lat <= 4.36041667, drop = True)\n",
    "fwi_ = fwi_.where((fwi_.lon >=96.32708332), drop = True)\n",
    "fwi = fwi_.where((fwi_.lon <= 165.93541665), drop = True)"
   ]
  },
  {
   "cell_type": "markdown",
   "metadata": {},
   "source": [
    "<a id=merge></a>\n",
    "\n",
    "## Merge Datasets"
   ]
  },
  {
   "cell_type": "markdown",
   "metadata": {},
   "source": [
    "**Downscale MCD64A1 Burned Area (burnt)**"
   ]
  },
  {
   "cell_type": "code",
   "execution_count": 18,
   "metadata": {},
   "outputs": [
    {
     "data": {
      "text/plain": [
       "(60.10952380952381, 75.25675675675676)"
      ]
     },
     "execution_count": 18,
     "metadata": {},
     "output_type": "execute_result"
    }
   ],
   "source": [
    "# Reduce dimensionality\n",
    "# Original: (lat: 12623, lon: 16707)\n",
    "# Final: (lat: 210, lon: 222)\n",
    "# Scaling Factors (take the inverse)\n",
    "12623/210, 16707/222"
   ]
  },
  {
   "cell_type": "code",
   "execution_count": 19,
   "metadata": {},
   "outputs": [],
   "source": [
    "burned_area = scale_variable(burnt, 'Burn_Date', (1/60.10952380952381, 1/75.25675675675676))"
   ]
  },
  {
   "cell_type": "code",
   "execution_count": 20,
   "metadata": {},
   "outputs": [
    {
     "data": {
      "text/plain": [
       "(210, 222)"
      ]
     },
     "execution_count": 20,
     "metadata": {},
     "output_type": "execute_result"
    }
   ],
   "source": [
    "burned_area.shape"
   ]
  },
  {
   "cell_type": "markdown",
   "metadata": {},
   "source": [
    "**Downscale: MOD16A2: EvapoTranspiration Data (EVAP)**"
   ]
  },
  {
   "cell_type": "code",
   "execution_count": 21,
   "metadata": {},
   "outputs": [
    {
     "data": {
      "text/plain": [
       "(60.10952380952381, 75.25675675675676)"
      ]
     },
     "execution_count": 21,
     "metadata": {},
     "output_type": "execute_result"
    }
   ],
   "source": [
    "# Original (lat: 12623, lon: 16707)\n",
    "# Final: (lat: 210, lon: 222)\n",
    "# Scaling Factors (take the inverse)\n",
    "12623/210, 16707/222"
   ]
  },
  {
   "cell_type": "code",
   "execution_count": 22,
   "metadata": {},
   "outputs": [],
   "source": [
    "et_500m = scale_variable(EVAP, 'ET_500m', (1/60.10952380952381, 1/75.25675675675676))"
   ]
  },
  {
   "cell_type": "markdown",
   "metadata": {},
   "source": [
    "**Downscale: VNP13 Vegetation Indices (VEG)**"
   ]
  },
  {
   "cell_type": "code",
   "execution_count": 23,
   "metadata": {},
   "outputs": [
    {
     "data": {
      "text/plain": [
       "(30.057142857142857, 37.630630630630634)"
      ]
     },
     "execution_count": 23,
     "metadata": {},
     "output_type": "execute_result"
    }
   ],
   "source": [
    "# Original (lat: 6312, lon: 8354)\n",
    "# Final: (lat: 210, lon: 222)\n",
    "# Scaling Factors: (take inverse)\n",
    "6312/210, 8354/222"
   ]
  },
  {
   "cell_type": "code",
   "execution_count": 24,
   "metadata": {},
   "outputs": [
    {
     "data": {
      "text/plain": [
       "['_1_km_16_days_EVI',\n",
       " '_1_km_16_days_EVI2',\n",
       " '_1_km_16_days_NDVI',\n",
       " '_1_km_16_days_NIR_reflectance',\n",
       " '_1_km_16_days_SWIR1_reflectance',\n",
       " '_1_km_16_days_SWIR2_reflectance',\n",
       " '_1_km_16_days_SWIR3_reflectance',\n",
       " '_1_km_16_days_blue_reflectance',\n",
       " '_1_km_16_days_green_reflectance',\n",
       " '_1_km_16_days_red_reflectance']"
      ]
     },
     "execution_count": 24,
     "metadata": {},
     "output_type": "execute_result"
    }
   ],
   "source": [
    "veg_vars = list(VEG.variables)[2:]\n",
    "veg_vars"
   ]
  },
  {
   "cell_type": "code",
   "execution_count": 25,
   "metadata": {},
   "outputs": [],
   "source": [
    "veg_arrays = [] #list of output arrays\n",
    "for name in veg_vars:\n",
    "    veg_arrays.append(scale_variable(VEG, name, (1/30.057142857142857, 1/37.630630630630634)))"
   ]
  },
  {
   "cell_type": "markdown",
   "metadata": {},
   "source": [
    "**Downscale VIIRS**"
   ]
  },
  {
   "cell_type": "code",
   "execution_count": 26,
   "metadata": {},
   "outputs": [
    {
     "data": {
      "text/plain": [
       "(30.057142857142857, 37.630630630630634)"
      ]
     },
     "execution_count": 26,
     "metadata": {},
     "output_type": "execute_result"
    }
   ],
   "source": [
    "# Original  (lat: 6312, lon: 8354)\n",
    "# Final (lat: 210, lon: 222)\n",
    "# Scale dimensions\n",
    "6312/210, 8354/222"
   ]
  },
  {
   "cell_type": "code",
   "execution_count": 27,
   "metadata": {},
   "outputs": [],
   "source": [
    "viirs_vars = ['FireMask', 'MaxFRP']\n",
    "viirs_arrays = []\n",
    "for name in viirs_vars:\n",
    "    viirs_arrays.append(scale_variable(viirs, name, (1/30.057142857142857, 1/37.630630630630634)))"
   ]
  },
  {
   "cell_type": "markdown",
   "metadata": {},
   "source": [
    "**No need to scale Global Fire Weather Database: Fire Weather Index (fwi)**"
   ]
  },
  {
   "cell_type": "code",
   "execution_count": 28,
   "metadata": {},
   "outputs": [
    {
     "data": {
      "text/plain": [
       "(1, 1)"
      ]
     },
     "execution_count": 28,
     "metadata": {},
     "output_type": "execute_result"
    }
   ],
   "source": [
    "# Original: (lat: 210, lon: 222)\n",
    "#Final:  ((lat: 210, lon: 222)\n",
    "# Scaling Factor\n",
    "1, 1, "
   ]
  },
  {
   "cell_type": "code",
   "execution_count": 29,
   "metadata": {},
   "outputs": [],
   "source": [
    "# list of all variables that need to be upscaled and appended to viirs xarray\n",
    "fwi_vars = list(fwi.variables)[:-2]"
   ]
  },
  {
   "cell_type": "code",
   "execution_count": 30,
   "metadata": {},
   "outputs": [
    {
     "name": "stderr",
     "output_type": "stream",
     "text": [
      "C:\\Users\\allis\\Anaconda3\\envs\\merging\\lib\\site-packages\\xarray\\coding\\variables.py:141: FutureWarning: elementwise comparison failed; returning scalar instead, but in the future will perform elementwise comparison\n",
      "  condition |= data == fv\n",
      "C:\\Users\\allis\\Anaconda3\\envs\\merging\\lib\\site-packages\\xarray\\coding\\variables.py:141: FutureWarning: elementwise comparison failed; returning scalar instead, but in the future will perform elementwise comparison\n",
      "  condition |= data == fv\n",
      "C:\\Users\\allis\\Anaconda3\\envs\\merging\\lib\\site-packages\\xarray\\coding\\variables.py:141: FutureWarning: elementwise comparison failed; returning scalar instead, but in the future will perform elementwise comparison\n",
      "  condition |= data == fv\n",
      "C:\\Users\\allis\\Anaconda3\\envs\\merging\\lib\\site-packages\\xarray\\coding\\variables.py:141: FutureWarning: elementwise comparison failed; returning scalar instead, but in the future will perform elementwise comparison\n",
      "  condition |= data == fv\n",
      "C:\\Users\\allis\\Anaconda3\\envs\\merging\\lib\\site-packages\\xarray\\coding\\variables.py:141: FutureWarning: elementwise comparison failed; returning scalar instead, but in the future will perform elementwise comparison\n",
      "  condition |= data == fv\n",
      "C:\\Users\\allis\\Anaconda3\\envs\\merging\\lib\\site-packages\\xarray\\coding\\variables.py:141: FutureWarning: elementwise comparison failed; returning scalar instead, but in the future will perform elementwise comparison\n",
      "  condition |= data == fv\n",
      "C:\\Users\\allis\\Anaconda3\\envs\\merging\\lib\\site-packages\\xarray\\coding\\variables.py:141: FutureWarning: elementwise comparison failed; returning scalar instead, but in the future will perform elementwise comparison\n",
      "  condition |= data == fv\n"
     ]
    }
   ],
   "source": [
    "fwi_arrays = [] #list of output arrays\n",
    "for name in fwi_vars:\n",
    "    fwi_arrays.append(scale_variable(fwi, name, (1, 1)))"
   ]
  },
  {
   "cell_type": "code",
   "execution_count": 31,
   "metadata": {},
   "outputs": [],
   "source": [
    "# need to flip these so they are properly aligned\n",
    "\n",
    "final_arrays = []\n",
    "for array in fwi_arrays:\n",
    "    final_arrays.append(np.flip(array, axis = 0))"
   ]
  },
  {
   "cell_type": "code",
   "execution_count": 32,
   "metadata": {},
   "outputs": [
    {
     "data": {
      "text/plain": [
       "(210, 222)"
      ]
     },
     "execution_count": 32,
     "metadata": {},
     "output_type": "execute_result"
    }
   ],
   "source": [
    "final_arrays[0].shape"
   ]
  },
  {
   "cell_type": "code",
   "execution_count": 33,
   "metadata": {},
   "outputs": [
    {
     "data": {
      "text/plain": [
       "['GEOS-5_DC',\n",
       " 'GEOS-5_DMC',\n",
       " 'GEOS-5_FFMC',\n",
       " 'GEOS-5_ISI',\n",
       " 'GEOS-5_BUI',\n",
       " 'GEOS-5_FWI',\n",
       " 'GEOS-5_DSR']"
      ]
     },
     "execution_count": 33,
     "metadata": {},
     "output_type": "execute_result"
    }
   ],
   "source": [
    "fwi_vars"
   ]
  },
  {
   "cell_type": "code",
   "execution_count": 34,
   "metadata": {},
   "outputs": [],
   "source": [
    "fwi = fwi.assign(_DC = (('lat', 'lon'), final_arrays[0]))\n",
    "fwi = fwi.assign(_DMC = (('lat', 'lon'), final_arrays[1]))\n",
    "fwi = fwi.assign(_FFMC = (('lat', 'lon'), final_arrays[2]))\n",
    "fwi = fwi.assign(_ISI = (('lat', 'lon'), final_arrays[3]))\n",
    "fwi = fwi.assign(_BUI = (('lat', 'lon'), final_arrays[4]))\n",
    "fwi = fwi.assign(_FWI = (('lat', 'lon'), final_arrays[5]))\n",
    "fwi = fwi.assign(_DSR = (('lat', 'lon'), final_arrays[6]))"
   ]
  },
  {
   "cell_type": "code",
   "execution_count": 35,
   "metadata": {},
   "outputs": [],
   "source": [
    "fwi = fwi.drop_vars(fwi_vars)"
   ]
  },
  {
   "cell_type": "markdown",
   "metadata": {},
   "source": [
    "**Merge All Variables to FWI**"
   ]
  },
  {
   "cell_type": "code",
   "execution_count": 36,
   "metadata": {},
   "outputs": [],
   "source": [
    "final = fwi.assign(burned = (('lat','lon'),burned_area))\n",
    "\n",
    "final = final.assign(et_500m = (('lat','lon'),et_500m))\n",
    "\n",
    "final = final.assign(_1_km_16_days_EVI = (('lat','lon'),veg_arrays[0]))\n",
    "final = final.assign(_1_km_16_days_EVI2 = (('lat','lon'),veg_arrays[1]))\n",
    "final = final.assign(_1_km_16_days_NDVI = (('lat','lon'),veg_arrays[2]))\n",
    "final = final.assign(_1_km_16_days_NIR_reflectance = (('lat','lon'),veg_arrays[3]))\n",
    "final = final.assign(_1_km_16_days_SWIR1_reflectance = (('lat','lon'),veg_arrays[4]))\n",
    "final = final.assign(_1_km_16_days_SWIR2_reflectance = (('lat','lon'),veg_arrays[5]))\n",
    "final = final.assign(_1_km_16_days_SWIR3_reflectance = (('lat','lon'),veg_arrays[6]))\n",
    "final = final.assign(_1_km_16_days_blue_reflectance = (('lat','lon'),veg_arrays[7]))\n",
    "final = final.assign(_1_km_16_days_green_reflectance = (('lat','lon'),veg_arrays[8]))\n",
    "final = final.assign(_1_km_16_days_red_reflectance = (('lat','lon'),veg_arrays[9]))\n",
    "\n",
    "\n",
    "final = final.assign(_DC = (('lat','lon'),final_arrays[0]))\n",
    "final = final.assign(_DMC= (('lat','lon'),final_arrays[1]))\n",
    "\n",
    "final = final.assign(FireMask = (('lat', 'lon'), viirs_arrays[0]))\n",
    "final = final.assign(MaxFRP = (('lat', 'lon'), viirs_arrays[1]))"
   ]
  },
  {
   "cell_type": "code",
   "execution_count": 37,
   "metadata": {},
   "outputs": [
    {
     "data": {
      "text/html": [
       "<pre>&lt;xarray.Dataset&gt;\n",
       "Dimensions:                          (lat: 210, lon: 222)\n",
       "Coordinates:\n",
       "  * lat                              (lat) float64 -48.0 -47.75 ... 4.0 4.25\n",
       "  * lon                              (lon) float64 96.56 96.88 ... 165.3 165.6\n",
       "Data variables:\n",
       "    _DC                              (lat, lon) float32 6.1539574 ... nan\n",
       "    _DMC                             (lat, lon) float32 1.3393655 ... nan\n",
       "    _FFMC                            (lat, lon) float32 43.675632 ... nan\n",
       "    _ISI                             (lat, lon) float32 0.13762458 ... nan\n",
       "    _BUI                             (lat, lon) float32 1.7213455 ... nan\n",
       "    _FWI                             (lat, lon) float32 0.042498697 ... nan\n",
       "    _DSR                             (lat, lon) float32 0.00018275445 ... nan\n",
       "    burned                           (lat, lon) float32 0.0 nan ... -2.0 -2.0\n",
       "    et_500m                          (lat, lon) float32 3276.5 3276.5 ... 3276.6\n",
       "    _1_km_16_days_EVI                (lat, lon) float32 0.611 0.18169999 ... nan\n",
       "    _1_km_16_days_EVI2               (lat, lon) float32 0.6071 ... nan\n",
       "    _1_km_16_days_NDVI               (lat, lon) float32 0.84599996 ... nan\n",
       "    _1_km_16_days_NIR_reflectance    (lat, lon) float32 0.3885 ... nan\n",
       "    _1_km_16_days_SWIR1_reflectance  (lat, lon) float32 0.34899998 ... nan\n",
       "    _1_km_16_days_SWIR2_reflectance  (lat, lon) float32 0.1735 0.3231 ... nan\n",
       "    _1_km_16_days_SWIR3_reflectance  (lat, lon) float32 0.073199995 ... nan\n",
       "    _1_km_16_days_blue_reflectance   (lat, lon) float32 0.0168 0.2367 ... nan\n",
       "    _1_km_16_days_green_reflectance  (lat, lon) float32 0.051799998 ... nan\n",
       "    _1_km_16_days_red_reflectance    (lat, lon) float32 0.0324 0.3787 ... nan\n",
       "    FireMask                         (lat, lon) float32 5.0 5.0 5.0 ... 3.0 3.0\n",
       "    MaxFRP                           (lat, lon) float64 nan nan nan ... nan nan\n",
       "Attributes:\n",
       "    History::            history\n",
       "    History:             02-Jan-2020 13:10:48\n",
       "    Source::             source\n",
       "    Source:              Robert Field\n",
       "    Title::              title\n",
       "    Title:               Global Fire Weather Database\n",
       "    Center::             center\n",
       "    Center:              NASA GISS / Columbia University\n",
       "    Name::               Descriptive name for configuration\n",
       "    Name:                Default\n",
       "    minLat::             Min latitude for analysis\n",
       "    minLat:              -58.0\n",
       "    maxLat::             Max latitude for analysis\n",
       "    maxLat:              75.0\n",
       "    minLandFrac::        Minimum grid cell land fraction for analysis\n",
       "    minLandFrac:         0.1\n",
       "    minT::               Mask out anything with mean annual Tsurf less than this\n",
       "    minT:                -10.0\n",
       "    minPrec::            Mask out anything with mean annual prec less than this\n",
       "    minPrec:             0.25\n",
       "    snoDThresh::         Minimum depth (m) for there to be considered snow on...\n",
       "    snoDThresh:          0.01\n",
       "    snowCoverDaysCalc::  Number of days prior to spring over which to determi...\n",
       "    snowCoverDaysCalc:   60.0\n",
       "    minWinterSnoD::      Minimum mean depth (m) during past snowCoverDaysCalc...\n",
       "    minWinterSnoD:       0.1\n",
       "    minSnowDayFrac::     Minimum fraction of days during snowCoverDaysCalc wh...\n",
       "    minSnowDayFrac:      0.75\n",
       "    startShutDays::      Number of previous days over which to consider start...\n",
       "    startShutDays:       2.0\n",
       "    tempThresh::         Temp thresh (C) to define start and end of winter\n",
       "    tempThresh:          6.0\n",
       "    precThresh::         Min precip (mm/day) when determining if last three d...\n",
       "    precThresh:          1.0\n",
       "    DCStart::            DC starting value after wet winter\n",
       "    DCStart:             15.0\n",
       "    DMCStart::           DMC starting value after wet winter\n",
       "    DMCStart:            6.0\n",
       "    FFMCStart::          FFMC starting value after any winter\n",
       "    FFMCStart:           85.0\n",
       "    DCDryStartFactor::   DC number of days since precip mult factor for dry s...\n",
       "    DCDryStartFactor:    5.0\n",
       "    DMCDryStartFactor::  DMC number of days since precip mult factor for dry ...\n",
       "    DMCDryStartFactor:   2.0\n",
       "    nClimSkipYears::     Use this number of years as startup, during which co...\n",
       "    nClimSkipYears:      1.0</pre>"
      ],
      "text/plain": [
       "<xarray.Dataset>\n",
       "Dimensions:                          (lat: 210, lon: 222)\n",
       "Coordinates:\n",
       "  * lat                              (lat) float64 -48.0 -47.75 ... 4.0 4.25\n",
       "  * lon                              (lon) float64 96.56 96.88 ... 165.3 165.6\n",
       "Data variables:\n",
       "    _DC                              (lat, lon) float32 6.1539574 ... nan\n",
       "    _DMC                             (lat, lon) float32 1.3393655 ... nan\n",
       "    _FFMC                            (lat, lon) float32 43.675632 ... nan\n",
       "    _ISI                             (lat, lon) float32 0.13762458 ... nan\n",
       "    _BUI                             (lat, lon) float32 1.7213455 ... nan\n",
       "    _FWI                             (lat, lon) float32 0.042498697 ... nan\n",
       "    _DSR                             (lat, lon) float32 0.00018275445 ... nan\n",
       "    burned                           (lat, lon) float32 0.0 nan ... -2.0 -2.0\n",
       "    et_500m                          (lat, lon) float32 3276.5 3276.5 ... 3276.6\n",
       "    _1_km_16_days_EVI                (lat, lon) float32 0.611 0.18169999 ... nan\n",
       "    _1_km_16_days_EVI2               (lat, lon) float32 0.6071 ... nan\n",
       "    _1_km_16_days_NDVI               (lat, lon) float32 0.84599996 ... nan\n",
       "    _1_km_16_days_NIR_reflectance    (lat, lon) float32 0.3885 ... nan\n",
       "    _1_km_16_days_SWIR1_reflectance  (lat, lon) float32 0.34899998 ... nan\n",
       "    _1_km_16_days_SWIR2_reflectance  (lat, lon) float32 0.1735 0.3231 ... nan\n",
       "    _1_km_16_days_SWIR3_reflectance  (lat, lon) float32 0.073199995 ... nan\n",
       "    _1_km_16_days_blue_reflectance   (lat, lon) float32 0.0168 0.2367 ... nan\n",
       "    _1_km_16_days_green_reflectance  (lat, lon) float32 0.051799998 ... nan\n",
       "    _1_km_16_days_red_reflectance    (lat, lon) float32 0.0324 0.3787 ... nan\n",
       "    FireMask                         (lat, lon) float32 5.0 5.0 5.0 ... 3.0 3.0\n",
       "    MaxFRP                           (lat, lon) float64 nan nan nan ... nan nan\n",
       "Attributes:\n",
       "    History::            history\n",
       "    History:             02-Jan-2020 13:10:48\n",
       "    Source::             source\n",
       "    Source:              Robert Field\n",
       "    Title::              title\n",
       "    Title:               Global Fire Weather Database\n",
       "    Center::             center\n",
       "    Center:              NASA GISS / Columbia University\n",
       "    Name::               Descriptive name for configuration\n",
       "    Name:                Default\n",
       "    minLat::             Min latitude for analysis\n",
       "    minLat:              -58.0\n",
       "    maxLat::             Max latitude for analysis\n",
       "    maxLat:              75.0\n",
       "    minLandFrac::        Minimum grid cell land fraction for analysis\n",
       "    minLandFrac:         0.1\n",
       "    minT::               Mask out anything with mean annual Tsurf less than this\n",
       "    minT:                -10.0\n",
       "    minPrec::            Mask out anything with mean annual prec less than this\n",
       "    minPrec:             0.25\n",
       "    snoDThresh::         Minimum depth (m) for there to be considered snow on...\n",
       "    snoDThresh:          0.01\n",
       "    snowCoverDaysCalc::  Number of days prior to spring over which to determi...\n",
       "    snowCoverDaysCalc:   60.0\n",
       "    minWinterSnoD::      Minimum mean depth (m) during past snowCoverDaysCalc...\n",
       "    minWinterSnoD:       0.1\n",
       "    minSnowDayFrac::     Minimum fraction of days during snowCoverDaysCalc wh...\n",
       "    minSnowDayFrac:      0.75\n",
       "    startShutDays::      Number of previous days over which to consider start...\n",
       "    startShutDays:       2.0\n",
       "    tempThresh::         Temp thresh (C) to define start and end of winter\n",
       "    tempThresh:          6.0\n",
       "    precThresh::         Min precip (mm/day) when determining if last three d...\n",
       "    precThresh:          1.0\n",
       "    DCStart::            DC starting value after wet winter\n",
       "    DCStart:             15.0\n",
       "    DMCStart::           DMC starting value after wet winter\n",
       "    DMCStart:            6.0\n",
       "    FFMCStart::          FFMC starting value after any winter\n",
       "    FFMCStart:           85.0\n",
       "    DCDryStartFactor::   DC number of days since precip mult factor for dry s...\n",
       "    DCDryStartFactor:    5.0\n",
       "    DMCDryStartFactor::  DMC number of days since precip mult factor for dry ...\n",
       "    DMCDryStartFactor:   2.0\n",
       "    nClimSkipYears::     Use this number of years as startup, during which co...\n",
       "    nClimSkipYears:      1.0"
      ]
     },
     "execution_count": 37,
     "metadata": {},
     "output_type": "execute_result"
    }
   ],
   "source": [
    "final"
   ]
  },
  {
   "cell_type": "code",
   "execution_count": 52,
   "metadata": {},
   "outputs": [
    {
     "data": {
      "text/plain": [
       "<matplotlib.collections.QuadMesh at 0x1c3dcc360c8>"
      ]
     },
     "execution_count": 52,
     "metadata": {},
     "output_type": "execute_result"
    },
    {
     "data": {
      "image/png": "[encoded data removed]",
      "text/plain": [
       "<Figure size 432x288 with 2 Axes>"
      ]
     },
     "metadata": {
      "needs_background": "light"
     },
     "output_type": "display_data"
    }
   ],
   "source": [
    "final['_1_km_16_days_NDVI'].plot()"
   ]
  },
  {
   "cell_type": "code",
   "execution_count": 38,
   "metadata": {},
   "outputs": [],
   "source": [
    "final_df = final.to_dataframe()"
   ]
  },
  {
   "cell_type": "code",
   "execution_count": 54,
   "metadata": {},
   "outputs": [],
   "source": [
    "final_df.to_parquet('../../finalproj_data/final_parquet.parquet')"
   ]
  },
  {
   "cell_type": "code",
   "execution_count": 42,
   "metadata": {},
   "outputs": [],
   "source": [
    "# final_df.to_csv('../../finalproj_data/final.csv')"
   ]
  },
  {
   "cell_type": "code",
   "execution_count": 41,
   "metadata": {},
   "outputs": [],
   "source": [
    "# final.to_netcdf('../../finalproj_data/final.nc')"
   ]
  },
  {
   "cell_type": "markdown",
   "metadata": {},
   "source": [
    "### Understand how ndimage zoom actually worked, particularly for active fire data"
   ]
  },
  {
   "cell_type": "code",
   "execution_count": 40,
   "metadata": {},
   "outputs": [],
   "source": [
    "final_df.reset_index(inplace = True)\n",
    "final_df.head()"
   ]
  },
  {
   "cell_type": "code",
   "execution_count": 42,
   "metadata": {},
   "outputs": [
    {
     "data": {
      "text/plain": [
       "3.0    25920\n",
       "5.0     9958\n",
       "4.0     3971\n",
       "Name: FireMask, dtype: int64"
      ]
     },
     "execution_count": 42,
     "metadata": {},
     "output_type": "execute_result"
    }
   ],
   "source": [
    "final_df['FireMask'].value_counts()"
   ]
  },
  {
   "cell_type": "code",
   "execution_count": 46,
   "metadata": {},
   "outputs": [],
   "source": [
    "viirs_df = viirs.to_dataframe()"
   ]
  },
  {
   "cell_type": "code",
   "execution_count": null,
   "metadata": {},
   "outputs": [],
   "source": [
    "viirs_df"
   ]
  }
 ],
 "metadata": {
  "kernelspec": {
   "display_name": "Python (geospatial)",
   "language": "python",
   "name": "merging"
  },
  "language_info": {
   "codemirror_mode": {
    "name": "ipython",
    "version": 3
   },
   "file_extension": ".py",
   "mimetype": "text/x-python",
   "name": "python",
   "nbconvert_exporter": "python",
   "pygments_lexer": "ipython3",
   "version": "3.7.5"
  }
 },
 "nbformat": 4,
 "nbformat_minor": 4
}
