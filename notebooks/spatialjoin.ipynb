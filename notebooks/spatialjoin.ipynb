{
 "cells": [
  {
   "cell_type": "code",
   "execution_count": 1,
   "metadata": {},
   "outputs": [],
   "source": [
    "import pandas as pd\n",
    "import numpy as np\n",
    "import geopandas\n",
    "from shapely.geometry import Point"
   ]
  },
  {
   "cell_type": "code",
   "execution_count": 2,
   "metadata": {},
   "outputs": [],
   "source": [
    "burnt = pd.read_pickle('../../finalproj_data/csv/burnt.pkl')"
   ]
  },
  {
   "cell_type": "code",
   "execution_count": 3,
   "metadata": {},
   "outputs": [
    {
     "data": {
      "text/html": [
       "<div>\n",
       "<style scoped>\n",
       "    .dataframe tbody tr th:only-of-type {\n",
       "        vertical-align: middle;\n",
       "    }\n",
       "\n",
       "    .dataframe tbody tr th {\n",
       "        vertical-align: top;\n",
       "    }\n",
       "\n",
       "    .dataframe thead th {\n",
       "        text-align: right;\n",
       "    }\n",
       "</style>\n",
       "<table border=\"1\" class=\"dataframe\">\n",
       "  <thead>\n",
       "    <tr style=\"text-align: right;\">\n",
       "      <th></th>\n",
       "      <th>lat</th>\n",
       "      <th>lon</th>\n",
       "      <th>Burn_Date</th>\n",
       "    </tr>\n",
       "  </thead>\n",
       "  <tbody>\n",
       "    <tr>\n",
       "      <th>0</th>\n",
       "      <td>4.360417</td>\n",
       "      <td>96.327083</td>\n",
       "      <td>0.0</td>\n",
       "    </tr>\n",
       "    <tr>\n",
       "      <th>1</th>\n",
       "      <td>4.360417</td>\n",
       "      <td>96.331250</td>\n",
       "      <td>0.0</td>\n",
       "    </tr>\n",
       "    <tr>\n",
       "      <th>2</th>\n",
       "      <td>4.360417</td>\n",
       "      <td>96.335417</td>\n",
       "      <td>0.0</td>\n",
       "    </tr>\n",
       "    <tr>\n",
       "      <th>3</th>\n",
       "      <td>4.360417</td>\n",
       "      <td>96.339583</td>\n",
       "      <td>0.0</td>\n",
       "    </tr>\n",
       "    <tr>\n",
       "      <th>4</th>\n",
       "      <td>4.360417</td>\n",
       "      <td>96.343750</td>\n",
       "      <td>0.0</td>\n",
       "    </tr>\n",
       "    <tr>\n",
       "      <th>...</th>\n",
       "      <td>...</td>\n",
       "      <td>...</td>\n",
       "      <td>...</td>\n",
       "    </tr>\n",
       "    <tr>\n",
       "      <th>210892456</th>\n",
       "      <td>-48.231250</td>\n",
       "      <td>165.918750</td>\n",
       "      <td>-2.0</td>\n",
       "    </tr>\n",
       "    <tr>\n",
       "      <th>210892457</th>\n",
       "      <td>-48.231250</td>\n",
       "      <td>165.922917</td>\n",
       "      <td>-2.0</td>\n",
       "    </tr>\n",
       "    <tr>\n",
       "      <th>210892458</th>\n",
       "      <td>-48.231250</td>\n",
       "      <td>165.927083</td>\n",
       "      <td>-2.0</td>\n",
       "    </tr>\n",
       "    <tr>\n",
       "      <th>210892459</th>\n",
       "      <td>-48.231250</td>\n",
       "      <td>165.931250</td>\n",
       "      <td>-2.0</td>\n",
       "    </tr>\n",
       "    <tr>\n",
       "      <th>210892460</th>\n",
       "      <td>-48.231250</td>\n",
       "      <td>165.935417</td>\n",
       "      <td>-2.0</td>\n",
       "    </tr>\n",
       "  </tbody>\n",
       "</table>\n",
       "<p>210892461 rows × 3 columns</p>\n",
       "</div>"
      ],
      "text/plain": [
       "                 lat         lon  Burn_Date\n",
       "0           4.360417   96.327083        0.0\n",
       "1           4.360417   96.331250        0.0\n",
       "2           4.360417   96.335417        0.0\n",
       "3           4.360417   96.339583        0.0\n",
       "4           4.360417   96.343750        0.0\n",
       "...              ...         ...        ...\n",
       "210892456 -48.231250  165.918750       -2.0\n",
       "210892457 -48.231250  165.922917       -2.0\n",
       "210892458 -48.231250  165.927083       -2.0\n",
       "210892459 -48.231250  165.931250       -2.0\n",
       "210892460 -48.231250  165.935417       -2.0\n",
       "\n",
       "[210892461 rows x 3 columns]"
      ]
     },
     "execution_count": 3,
     "metadata": {},
     "output_type": "execute_result"
    }
   ],
   "source": [
    "burnt"
   ]
  },
  {
   "cell_type": "markdown",
   "metadata": {},
   "source": [
    "Unique values:\n",
    "    array([  0.,  nan,  -2., 305., 307., 322., 327., 320., 323., 326., 328.,\n",
    "       324., 321., 319., 329., 313., 316., 306., 308., 309., 317., 312.,\n",
    "       311., 333., 334., 332., 331., 310., 325., 318., 314., 315., 330.] <br>\n",
    "14.6% of 210,892,461 data points are null values. <br>\n",
    "0 is unburned, -2 is water, other values are days"
   ]
  },
  {
   "cell_type": "code",
   "execution_count": 11,
   "metadata": {},
   "outputs": [
    {
     "data": {
      "text/plain": [
       "Index(['lat', 'lon', 'Burn_Date'], dtype='object')"
      ]
     },
     "execution_count": 11,
     "metadata": {},
     "output_type": "execute_result"
    }
   ],
   "source": [
    "burnt.columns"
   ]
  },
  {
   "cell_type": "code",
   "execution_count": null,
   "metadata": {},
   "outputs": [],
   "source": [
    "# Change to geoDataFrame\n",
    "gdf = geopandas.GeoDataFrame(burnt, geometry=geopandas.points_from_xy(burnt.lon, burnt.lat))"
   ]
  },
  {
   "cell_type": "code",
   "execution_count": null,
   "metadata": {},
   "outputs": [],
   "source": [
    "# Check on a plot to see what it looks like\n",
    "\n",
    "world = geopandas.read_file(geopandas.datasets.get_path('naturalearth_lowres'))\n",
    "\n",
    "# We restrict to Australia\n",
    "ax = world[world.continent == 'Australia'].plot(\n",
    "    color='white', edgecolor='black')\n",
    "\n",
    "# We can now plot our ``GeoDataFrame``.\n",
    "gdf.plot(ax=ax, color='red')\n",
    "\n",
    "plt.show()"
   ]
  }
 ],
 "metadata": {
  "kernelspec": {
   "display_name": "Python (geospatial)",
   "language": "python",
   "name": "merging"
  },
  "language_info": {
   "codemirror_mode": {
    "name": "ipython",
    "version": 3
   },
   "file_extension": ".py",
   "mimetype": "text/x-python",
   "name": "python",
   "nbconvert_exporter": "python",
   "pygments_lexer": "ipython3",
   "version": "3.7.5"
  }
 },
 "nbformat": 4,
 "nbformat_minor": 4
}
